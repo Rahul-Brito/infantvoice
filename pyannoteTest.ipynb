{
 "cells": [
  {
   "cell_type": "code",
   "execution_count": 1,
   "id": "animal-optics",
   "metadata": {
    "tags": []
   },
   "outputs": [
    {
     "name": "stderr",
     "output_type": "stream",
     "text": [
      "C:\\Users\\MrBrito\\miniconda3\\lib\\site-packages\\pydub\\utils.py:170: RuntimeWarning: Couldn't find ffmpeg or avconv - defaulting to ffmpeg, but may not work\n",
      "  warn(\"Couldn't find ffmpeg or avconv - defaulting to ffmpeg, but may not work\", RuntimeWarning)\n"
     ]
    }
   ],
   "source": [
    "!pip install -q pyannote.audio pyannote.core\n",
    "\n",
    "import torch\n",
    "import numpy as np\n",
    "import pandas as pd\n",
    "import os\n",
    "from sklearn.manifold import TSNE\n",
    "from sklearn.decomposition import PCA\n",
    "from sklearn.preprocessing import MinMaxScaler, LabelEncoder, StandardScaler\n",
    "import umap\n",
    "import matplotlib.pyplot as plt\n",
    "from matplotlib.lines import Line2D\n",
    "from pyannote.audio.utils.signal import Binarize, Peak\n",
    "from pyannote.core import Segment, notebook, SlidingWindowFeature, timeline, Timeline\n",
    "from IPython.display import clear_output\n",
    "import soundfile as sf\n",
    "import librosa\n",
    "from sklearn.cluster import KMeans, SpectralClustering\n",
    "from skimage.measure import block_reduce\n",
    "import seaborn as sns\n",
    "from pydub import AudioSegment\n",
    "from random import seed, shuffle"
   ]
  },
  {
   "cell_type": "code",
   "execution_count": 2,
   "id": "straight-gossip",
   "metadata": {
    "tags": []
   },
   "outputs": [
    {
     "name": "stderr",
     "output_type": "stream",
     "text": [
      "C:\\Users\\MrBrito\\miniconda3\\lib\\site-packages\\pydub\\utils.py:170: RuntimeWarning: Couldn't find ffmpeg or avconv - defaulting to ffmpeg, but may not work\n",
      "  warn(\"Couldn't find ffmpeg or avconv - defaulting to ffmpeg, but may not work\", RuntimeWarning)\n",
      "Using cache found in C:\\Users\\MrBrito/.cache\\torch\\hub\\pyannote_pyannote-audio_master\n",
      "Using cache found in C:\\Users\\MrBrito/.cache\\torch\\hub\\pyannote_pyannote-audio_master\n",
      "Using cache found in C:\\Users\\MrBrito/.cache\\torch\\hub\\pyannote_pyannote-audio_master\n",
      "C:\\Users\\MrBrito\\miniconda3\\lib\\site-packages\\pyannote\\audio\\embedding\\approaches\\arcface_loss.py:170: FutureWarning: The 's' parameter is deprecated in favor of 'scale', and will be removed in a future release\n",
      "  warnings.warn(msg, FutureWarning)\n"
     ]
    }
   ],
   "source": [
    "###Sentences paths###\n",
    "raw='C:\\\\Users\\\\MrBrito\\\\Documents\\\\_Grad_School\\\\Rotations\\\\Satra\\\\egemaps_analysis\\\\Full_Readings\\\\raw'\n",
    "\n",
    "seedno=1\n",
    "samptype = 'concat hellos'\n",
    "#samptype = 'long recording'\n",
    "#samptype = 'toy'\n",
    "\n",
    "if samptype == 'long recording':\n",
    "    dataloc='C:\\\\Users\\\\MrBrito\\\\Documents\\\\_Grad_School\\\\Rotations\\\\Satra\\\\egemaps_analysis\\\\Full_Readings\\\\downsamp'\n",
    "elif samptype == 'concat hellos':\n",
    "    dataloc=os.path.join('C:\\\\Users\\\\MrBrito\\\\Documents\\\\_Grad_School\\\\Rotations\\\\Satra\\\\egemaps_analysis\\\\Hellos\\\\concat_samp\\\\', str(seedno))\n",
    "elif samptype == 'toy':\n",
    "    dataloc= 'C:\\\\Users\\\\MrBrito\\\\Documents\\\\_Grad_School\\\\Rotations\\\\Satra\\\\egemaps_analysis\\\\Full_Readings\\\\toy_downsamp'\n",
    "\n",
    "#Specify path to codec exe used by pydub\n",
    "AudioSegment.converter='C:\\\\Users\\\\MrBrito\\\\Documents\\\\ffmpeg\\\\ffmpeg-2021-04-20-git-718e03e5f2-full_build\\\\ffmpeg-2021-04-20-git-718e03e5f2-full_build\\\\bin\\\\ffmpeg.exe'\n",
    "\n",
    "\n",
    "# speech activity detection model trained on AMI training set\n",
    "sad = torch.hub.load('pyannote/pyannote-audio', 'sad_ami')\n",
    "# speaker change detection model trained on AMI training set\n",
    "scd = torch.hub.load('pyannote/pyannote-audio', 'scd_ami')\n",
    "# speaker embedding model trained on AMI training set\n",
    "emb = torch.hub.load('pyannote/pyannote-audio', 'emb_ami')"
   ]
  },
  {
   "cell_type": "code",
   "execution_count": null,
   "id": "second-neutral",
   "metadata": {
    "jupyter": {
     "source_hidden": true
    },
    "tags": []
   },
   "outputs": [],
   "source": [
    "#seedno=1\n",
    "#seed(seedno)\n",
    "#samples= []\n",
    "#for filename in os.listdir(directory):\n",
    "#    if filename.endswith(\".wav\"):\n",
    "#        samples.append(filename[0:4])\n",
    "\n",
    "#samples = np.reshape(samples, (17,30))\n",
    "#[shuffle(f) for f in samples[:]]\n",
    "#samples = np.reshape(samples, (17,10,3))\n",
    "\n",
    "#for f in samples[:][:]:\n",
    "#    for i in f:\n",
    "#        clear_output(wait=True)\n",
    "#        first = AudioSegment.from_wav(os.path.join(directory, i[0]+'.wav'))\n",
    "#        second = AudioSegment.from_wav(os.path.join(directory, i[1]+'.wav'))\n",
    "#        third = AudioSegment.from_wav(os.path.join(directory, i[2]+'.wav'))\n",
    "#       concat = first + second + third\n",
    "#        concat.export(os.path.join(dataloc,i[0]+'_'+i[1] + '_' + i[2]+'.wav'), format=\"wav\")\n",
    "#        print(\"Processing\" + i[0]+'_'+i[1] + '_' + i[2])"
   ]
  },
  {
   "cell_type": "code",
   "execution_count": 255,
   "id": "quantitative-powder",
   "metadata": {
    "jupyter": {
     "source_hidden": true
    },
    "tags": []
   },
   "outputs": [],
   "source": [
    "def downsamp_audio(directory):\n",
    "\n",
    "    for filename in os.listdir(directory):\n",
    "        if filename.endswith(\".wav\"):\n",
    "            clear_output(wait=True)\n",
    "            new_rate = 16000\n",
    "            resamp, rate = librosa.load(os.path.join(raw, filename), sr=new_rate)\n",
    "            sf.write(os.path.join(directory, filename), resamp, new_rate)\n",
    "            print(\"processing\" + str(filename))"
   ]
  },
  {
   "cell_type": "code",
   "execution_count": 237,
   "id": "failing-kitchen",
   "metadata": {
    "jupyter": {
     "source_hidden": true
    },
    "tags": []
   },
   "outputs": [],
   "source": [
    "def extract_embeddings(datalocation, samptype, save_dir, save_name, save=False):\n",
    "\n",
    "    #extracts embeddings from wav files in a folder\n",
    "    #does speaker activity and change detection for long sentences, but just embedding extraction for concatenated hellos\n",
    "\n",
    "    X, sid_per_sample, sid, inter = [], [], [], []\n",
    "\n",
    "    print(\"Started\")\n",
    "    for filename in os.listdir(dataloc):\n",
    "        if filename.endswith(\".wav\"): \n",
    "            clear_output(wait=True)\n",
    "            one_file = {'uri': 'filename', 'audio': os.path.join(dataloc, filename)}\n",
    "\n",
    "            # obtain raw embeddings (as `pyannote.core.SlidingWindowFeature` instance)\n",
    "            embeddings = emb(one_file)\n",
    "\n",
    "            if samptype == 'concat hellos':\n",
    "                #X.append(np.mean(embeddings, axis=0))\n",
    "                X.append(embeddings.data)\n",
    "                for i in range(0, embeddings.data.shape[0]):\n",
    "                    sid_per_sample.append(filename[0:2])\n",
    "\n",
    "            elif samptype == 'long recording' or samptype == 'toy':            \n",
    "                # obtain raw SAD scores (as `pyannote.core.SlidingWindowFeature` instance), binarize raw SAD scores\n",
    "                # NOTE: both onset/offset values were tuned on AMI dataset. you might need to use different values for better results\n",
    "                sad_scores = sad(one_file)\n",
    "                binarize = Binarize(offset=0.52, onset=0.52, log_scale=True, min_duration_off=0.1, min_duration_on=0.1)\n",
    "                speech = binarize.apply(sad_scores, dimension=1)\n",
    "\n",
    "                # obtain raw SCD scores (as `pyannote.core.SlidingWindowFeature` instance), detect peaks & return speaker homogeneous segments \n",
    "                # NOTE: both alpha/min_duration values were tuned on AMI dataset. you might need to use different values for better results.\n",
    "                scd_scores = scd(one_file)\n",
    "                peak = Peak(alpha=0.10, min_duration=0.10, log_scale=True)\n",
    "\n",
    "                # speech turns are simply the intersection of SAD and SCD\n",
    "                partition = peak.apply(scd_scores, dimension=1)\n",
    "                speech_turns = partition.crop(speech)\n",
    "\n",
    "                #We only work of long (> ts) speech turns\n",
    "                t = 2\n",
    "                long_turns = Timeline(segments=[s for s in speech_turns if s.duration > t])\n",
    "\n",
    "                for segment in long_turns:\n",
    "                    inter = embeddings.crop(segment, 'strict')\n",
    "                    #X.append(np.mean(inter, axis=0))\n",
    "                    X.append(inter)\n",
    "                    for i in range(0, inter.shape[0]):\n",
    "                        sid_per_sample.append(filename[0:2])\n",
    "\n",
    "\n",
    "            # keep track of speaker label (for later scatter plot)\n",
    "            #sid_per_sample.append(filename[0:2])\n",
    "            sid.append(filename[0:4])\n",
    "            print(\"Processing\" + str(filename))\n",
    "\n",
    "    X = pd.DataFrame(np.vstack(X))\n",
    "    X['part'] = sid_per_sample\n",
    "    print(\"Done\")\n",
    "    \n",
    "    if save:\n",
    "        X.to_csv(os.path.join(save_dir, save_name))\n",
    "\n",
    "    #outputs embeddings in a dataframe with participant labels per row\n",
    "    return X"
   ]
  },
  {
   "cell_type": "code",
   "execution_count": 61,
   "id": "european-southwest",
   "metadata": {
    "jupyter": {
     "source_hidden": true
    },
    "tags": []
   },
   "outputs": [],
   "source": [
    "def resample_data(X, factor, dropNA = True):\n",
    "    if dropNA:\n",
    "        X = X.dropna(inplace = False)\n",
    "    \n",
    "    #shuffle data within participant\n",
    "    X = X.groupby('part').sample(frac=1).reset_index(drop=True)\n",
    "    grp = X.groupby('part')\n",
    "    Xdown = np.zeros(513)\n",
    "    \n",
    "    #mean every FACTOR datapoints per participant, drop the carryover\n",
    "    for name, features in grp:\n",
    "            features = features.to_numpy(dtype = 'float32')\n",
    "            downsamp = block_reduce(features[:,:-1], block_size=(factor, 1), func=np.mean, cval=np.nan)\n",
    "            downsamp = np.concatenate((downsamp, np.full((downsamp.shape[0],1), name, dtype='int32')), axis = 1)\n",
    "            downsamp = np.where(np.isfinite(downsamp), downsamp, pd.NA)\n",
    "            Xdown = np.vstack((Xdown, downsamp)) \n",
    "    Xdown = pd.DataFrame(Xdown[1:], columns = np.append(np.arange(512)+1, 'part')).dropna()\n",
    "    \n",
    "    return Xdown"
   ]
  },
  {
   "cell_type": "code",
   "execution_count": 143,
   "id": "given-poultry",
   "metadata": {
    "tags": []
   },
   "outputs": [],
   "source": [
    "def run_tSNE(Xdown, perplexity = 30, metric=\"euclidean\"):\n",
    "\n",
    "    tsne = TSNE(n_components=2, perplexity=perplexity, metric=metric, init = 'pca', square_distances=True)\n",
    "\n",
    "    X2d = pd.DataFrame(tsne.fit_transform(Xdown.iloc[:, :-1]), columns = ['dim0', 'dim1'])\n",
    "    X2d['part'] = Xdown['part'].to_numpy(dtype = 'int32')\n",
    "    dimreduc = 'tSNE'\n",
    "\n",
    "    return X2d, dimreduc\n",
    "\n",
    "#X2d['first_sample']=sid\n",
    "#gmap = {1:'m', 2:'f', 3:'f', 4:'f', 5:'m', 6:'f', 7:'m', 8:'f', 9:'f', 10:'f', 11:'f', 12:'m', 13:'f', 14:'f', 15:'m', 16:'f', 18:'f'}\n",
    "#X2d['gender'] = X2d.index.map(gmap)\n",
    "#gendercolor = [(0.41568627450980394, 0.23921568627450981, 0.6039215686274509), (0.2, 0.6274509803921569, 0.17254901960784313)]\n",
    "#gcmap = {'m':gendercolor[0], 'f': gendercolor[1]}\n",
    "#X2d['gcol'] = X2d.gender.map(gcmap)\n",
    "#X2d['clusterSC'] = SpectralClustering(n_components=np.size(sid)).fit_predict(X2d)\n",
    "\n",
    "def run_umap(X=None, y=None, method = 'unsupervised', scaler=None, neighbor = 10, dist=0.1, metric='correlation', \n",
    "             color_code = None, annotate_names = None, annotate = False, test_set = True, title=None, \n",
    "             savefig_path = False, X_test=None, y_test=None, color_code_test = None, plot=True, plot_centroid_names = True):\n",
    "    \n",
    "    dimreduc = 'UMAP'\n",
    "    #reducer = umap.UMAP(n_components=dimension, n_neighbors = neighbor, min_dist=dist,metric=metric,random_state=seed_value) #, TSNE(n_components=k, random_state=seed_value), PCA(n_components=k, random_state=seed_value)]\n",
    "    reducer = umap.UMAP()\n",
    "    reducer_name = 'umap' #, 'tsne', 'pca']\n",
    "\n",
    "    #pipeline = Pipeline([\n",
    "    #    ('normalization', scaler),\n",
    "    #    ('reducer', reducer), ])\n",
    "\n",
    "    y_encoded = LabelEncoder().fit_transform(y)\n",
    "    if method == 'supervised':\n",
    "        X_reduced = reducer.fit_transform(X, y_encoded)\n",
    "    elif method == 'metric_learning':\n",
    "        X_reduced = reducer.fit_transform(X, y_encoded)\n",
    "        X_reduced_test = reducer.transform(X_test)\n",
    "        \n",
    "    elif method == 'unsupervised':\n",
    "        X_reduced = reducer.fit_transform(X)\n",
    "\n",
    "    # find centroids and labels\n",
    "    data = pd.DataFrame(X_reduced, columns = ['dim0', 'dim1'])\n",
    "    data['label'] = y\n",
    "\n",
    "    centers = []\n",
    "    centers_labels = list(np.unique(y))\n",
    "    for sr in centers_labels:\n",
    "        data_sr = data[data.label==sr]\n",
    "        sr_centroid = data_sr[['dim0','dim1']].mean(axis=0)\n",
    "        centers.append(sr_centroid)\n",
    "    \n",
    "    centers = np.array(centers)\n",
    "    \n",
    "    data.drop('label', axis=1, inplace = True)\n",
    "    # Plot in 2D\n",
    "    #if plot:\n",
    "    #    assert dimension == 2 \n",
    "    #    if method == 'metric_learning':\n",
    "            # train: first time point\n",
    "            #scatter_plot(X_reduced, y, color_code, method, annotate = annotate, title = 'First time step (train set)', savefig_path = savefig_path )\n",
    "    #        scatter_plot(X_reduced, y, color_code, method, annotate = annotate, title = 'First time step (train set)')\n",
    "            # test: next time points            \n",
    "            #scatter_plot(X_reduced_test, y_test, color_code_test, method, annotate = annotate, title = title, savefig_path = savefig_path)\n",
    "    #        scatter_plot(X_reduced_test, y_test, color_code_test, method, annotate = annotate, title = title)\n",
    "            \n",
    "    #    else:\n",
    "    #        scatter_plot(X_reduced, y, color_code, method, annotate = annotate, title = title, savefig_path = savefig_path, centers=centers, centers_labels = centers_labels,plot_centroid_names = plot_centroid_names )\n",
    "    if method == 'metric_learning':\n",
    "        return data, pd.DataFrame(X_reduced_test, columns = ['dim0', 'dim1']), centers, centers_labels\n",
    "    else:\n",
    "        return data, centers, centers_labels#, dimreduc"
   ]
  },
  {
   "cell_type": "code",
   "execution_count": 89,
   "id": "solved-chair",
   "metadata": {
    "tags": []
   },
   "outputs": [],
   "source": [
    "def gen_color_code(X2d):\n",
    "    colors = sns.color_palette(\"Paired\", len(X2d.part.unique()))\n",
    "    colors[13:]=sns.color_palette(\"hls\")\n",
    "    cmap = {}\n",
    "    [cmap.update({z:colors[z]}) for z in np.array(X2d.part.unique(), dtype = 'int32')]\n",
    "    colors[10] = (0,0,0)\n",
    "\n",
    "    #X2d['c_clust'] = X2d.clusterSC.map(cmap)\n",
    "    X2d['c_part'] = [colors[z-1] for z in X2d['part']]\n",
    "    \n",
    "    return X2d, colors\n",
    "    \n",
    "def plot_2Ddata(X2d, dimreduc, samptype, colors):\n",
    "    fig, ax = plt.subplots(1, figsize=(9,7))\n",
    "    #for x, y, w, t in zip(X2d.dim0, X2d.dim1, X2d.first_sample, X2d.index):\n",
    "    for x, y, t in zip(X2d.dim0, X2d.dim1, X2d.part):\n",
    "        #plt.text(x, y, w, color=colors[t-1], fontsize=10)\n",
    "        plt.text(x, y, str(t), color=colors[t-1], fontsize=10)\n",
    "    plt.scatter(X2d.dim0, X2d.dim1, c='1', alpha = 0.6, s=10)\n",
    "    if dimreduc == 'tSNE':\n",
    "        plt.title(\"Plot of participant using tSNE, perplexity=\" + str(per) + \", with metric=\" + met + \", for \" + samptype)\n",
    "    elif dimreduc == 'UMAP':\n",
    "        plt.title(\"Plot of participant using UMAP for \" + samptype)\n",
    "    plt.show()\n",
    "\n",
    "def plot_haus_heatmap(haus_matrix, samptype):\n",
    "    # Generate a mask for the upper triangle for each\n",
    "    mask = np.triu(np.ones_like(haus_matrix, dtype=bool))\n",
    "\n",
    "    # Set up the matplotlib figure\n",
    "    f, ax = plt.subplots(figsize=(9, 7))\n",
    "    ax.xaxis.set_ticks_position(\"top\")\n",
    "\n",
    "    # Generate a custom diverging colormap\n",
    "    hmapcol = sns.diverging_palette(230, 20, as_cmap=True)\n",
    "\n",
    "    # Draw the heatmap with the mask and correct aspect ratio\n",
    "    sns.heatmap(haus_matrix, mask=mask, cmap=hmapcol, annot=True,\n",
    "                square=True, linewidths=.5, cbar_kws={\"shrink\": .5})\n",
    "    plt.title(\"Hausdorff distances between centroids of participants, for\" + samptype, y = 1.08,fontsize=12)\n",
    "\n",
    "#fig, ax = plt.subplots(1, figsize=(10,8))\n",
    "#for x, y, t, g in zip(X2d.dim0, X2d.dim1, X2d.index, X2d.gcol):\n",
    "#    plt.text(x, y, str(t), color=g, fontsize=10)\n",
    "#plt.scatter(X2d.dim0, X2d.dim1, c='1', alpha = 0.6, s=10)\n",
    "#plt.title(\"Plot of participant by perceived gender\" + str(seedno))\n",
    "#plt.show()"
   ]
  },
  {
   "cell_type": "code",
   "execution_count": 6,
   "id": "finite-adrian",
   "metadata": {
    "tags": []
   },
   "outputs": [],
   "source": [
    "from scipy.spatial.distance import directed_hausdorff, euclidean\n",
    "\n",
    "\n",
    "def hausdorff_distances(X,y, labels):\n",
    "    # directed or assymetric variant     \n",
    "    len_labels = len(labels)\n",
    "    # build empty df\n",
    "    pairwise_distances_hausdorff = pd.DataFrame(np.zeros((len_labels, len_labels)) , columns = labels, index=labels)\n",
    "    # pairwise_distances_euclidean = pd.DataFrame(np.zeros((len_labels, len_labels)) , columns = labels, index=labels)                          \n",
    "\n",
    "    # Build df out of X\n",
    "    df = pd.DataFrame(X)\n",
    "    df.columns = ['x1', 'x2']\n",
    "    df['label'] = y\n",
    "\n",
    "    # Compute pairwise distance between labelled arrays \n",
    "    for row in range(len_labels):\n",
    "        for col in range(len_labels):\n",
    "            clear_output(wait=True)\n",
    "            label_a = labels[row]\n",
    "            label_b = labels[col]\n",
    "            label_a_values = df[df.label==label_a][['x1','x2']].values\n",
    "            label_b_values = df[df.label==label_b][['x1','x2']].values\n",
    "            dist_hausdorff = directed_hausdorff(label_a_values,label_b_values)\n",
    "            pairwise_distances_hausdorff.iloc[row,col]= dist_hausdorff[0]\n",
    "            print(\"Processing row \" + str(row) + \", col \" + str(col))\n",
    "    #         dist_euclidean = euclidean(label_a_values.mean(axis=0),label_b_values.mean(axis=0))\n",
    "    #         pairwise_distances_euclidean.iloc[row,col]= dist_euclidean\n",
    "\n",
    "\n",
    "    return pairwise_distances_hausdorff"
   ]
  },
  {
   "cell_type": "code",
   "execution_count": 112,
   "id": "adaptive-seller",
   "metadata": {
    "tags": []
   },
   "outputs": [],
   "source": [
    "def get_cluster_data(x, datasetname, factor, resample=True, plot=True):\n",
    "    #hellos2D_tsne = run_tSNE(hdown.drop('part', axis=1), perplexity = 30, metric = \"euclidean\")\n",
    "    #sent2D_tsne = run_tSNE(sdown.drop('part', axis=1), perplexity = (len(sentdown.index)//10), metric=\"euclidean\")\n",
    "    \n",
    "    if resample:\n",
    "        xdown = resample_data(x, factor)\n",
    "    else:\n",
    "        xdown = x\n",
    "    \n",
    "    #run UMAP on xdown\n",
    "    x2d, centers, center_labels = run_umap(X=xdown.drop('part', axis=1), y = xdown['part'], method = 'unsupervised', plot=False)\n",
    "    dimreduc = 'UMAP'\n",
    "    x2d['part'] = xdown['part'].to_numpy(dtype = 'int32')\n",
    "    x2d, colors = gen_color_code(x2d)\n",
    "    \n",
    "    if plot:\n",
    "        plot_2Ddata(x2d, dimreduc, 'hellos', colors)\n",
    "    \n",
    "    return {datasetname:{'data_2D': x2d, 'centers':centers, 'center_labels':center_labels, 'colors': colors, 'data_resamp': xdown}}\n"
   ]
  },
  {
   "cell_type": "code",
   "execution_count": 49,
   "id": "vocal-sector",
   "metadata": {},
   "outputs": [],
   "source": [
    "#outdir = 'C:\\\\Users\\\\MrBrito\\\\Documents\\\\_Grad_School\\\\Rotations\\\\Satra\\\\egemaps_analysis'\n",
    "#outfile = 'hellos_emb.csv'\n",
    "#hellos_emb = extract_embeddings()\n",
    "\n",
    "loc = 'C:\\\\Users\\\\MrBrito\\\\Documents\\\\_Grad_School\\\\Rotations\\\\Satra\\\\egemaps_analysis\\\\vowel_identity\\\\embeddings'\n",
    "hellos_emb = 'hellos.csv'\n",
    "long_emb = 'sentences.csv'\n",
    "#samptype = 'concat hellos'\n",
    "#samptype = 'long recording'\n",
    "\n",
    "#load already extracted embeddings as dictionary of dataframes\n",
    "all_data = {os.path.splitext(f)[0]:pd.read_csv(os.path.join(loc, f), index_col=0) for f in os.listdir(loc)}"
   ]
  },
  {
   "cell_type": "code",
   "execution_count": 114,
   "id": "macro-cable",
   "metadata": {},
   "outputs": [],
   "source": [
    "factors = {'hellos': 3, 'sentences': 5}\n",
    "#for dataset in all_data:\n",
    "#    x2d, x_centers, x_labels, x_colors = get_cluster_data(all_data[dataset], dataset, factors[dataset])\n",
    "\n",
    "cluster_data = [get_cluster_data(all_data[dataset], dataset, factors[dataset], plot=False) for dataset in all_data]"
   ]
  },
  {
   "cell_type": "code",
   "execution_count": 145,
   "id": "tracked-processor",
   "metadata": {},
   "outputs": [
    {
     "data": {
      "image/png": "[encoded data removed]",
      "text/plain": [
       "<Figure size 504x504 with 1 Axes>"
      ]
     },
     "metadata": {
      "needs_background": "light"
     },
     "output_type": "display_data"
    },
    {
     "data": {
      "image/png": "[encoded data removed]",
      "text/plain": [
       "<Figure size 504x504 with 1 Axes>"
      ]
     },
     "metadata": {
      "needs_background": "light"
     },
     "output_type": "display_data"
    }
   ],
   "source": [
    "toRemove = 1\n",
    "#X = h_down.iloc[:, :-1][h_down.part != toRemove]\n",
    "#y = h_down['part'][h_down.part != toRemove]\n",
    "\n",
    "#X_test = h_down.iloc[:, :-1][h_down.part == toRemove]\n",
    "#y_test = h2d['part'][h2d.part == toRemove]\n",
    "\n",
    "which = 'sentences'\n",
    "base = cluster_data[1][which]['data_resamp']\n",
    "\n",
    "X = base[base.part != toRemove].drop('part', axis=1)\n",
    "y = base['part'][base.part != toRemove]\n",
    "\n",
    "X_test = base[base.part == toRemove].drop('part', axis=1)\n",
    "y_test = base['part'][base.part == toRemove]\n",
    "\n",
    "\n",
    "#h_reduced, h_test = run_umap(X=X, y=y, method='metric_learning', color_code = h_colors, X_test=X_test, y_test=y_test, color_code_test=h_colors, plot=True)\n",
    "reduced, test, reduced_centers, reduced_centers_labels = run_umap(X=X, y=y, method='metric_learning', X_test=X_test, y_test=y_test, plot=False)\n",
    "reduced['part'] = y.to_numpy(dtype = 'int32')\n",
    "test['part'] = y_test.to_numpy(dtype = 'int32')\n",
    "\n",
    "fig1, ax = plt.subplots(1, figsize=(7,7))\n",
    "\n",
    "for a, b, t in zip(reduced.dim0, reduced.dim1, reduced.part):\n",
    "    plt.text(a, b, str(t), color=cluster_data[1][which]['colors'][t-1], fontsize=10)\n",
    "plt.scatter(reduced.dim0, reduced.dim1, c='1', alpha = 0.6, s=10)\n",
    "plt.show()\n",
    "\n",
    "fig2, ax = plt.subplots(1, figsize=(7,7))\n",
    "for a, b, t in zip(reduced.dim0, reduced.dim1, reduced.part):\n",
    "    plt.text(a, b, str(t), color=cluster_data[1][which]['colors'][t-1], fontsize=10)\n",
    "plt.scatter(reduced.dim0, reduced.dim1, c='1', alpha = 0.6, s=10)\n",
    "for a, b, t in zip(test.dim0, test.dim1, test.part):\n",
    "    plt.text(a, b, str(t), color=cluster_data[1][which]['colors'][t-1], fontsize=10)\n",
    "plt.scatter(test.dim0, test.dim1, c='1', alpha = 0.6, s=10)\n",
    "plt.show()\n"
   ]
  },
  {
   "cell_type": "code",
   "execution_count": null,
   "id": "polyphonic-professor",
   "metadata": {},
   "outputs": [],
   "source": [
    "#haus = hausdorff_distances(X2d.iloc[:, :2], X2d['part'], X2d['part'])\n",
    "#haus_h = hausdorff_distances(h_centers, h_center_labels, h_center_labels)\n",
    "#haus_s = hausdorff_distances(s_centers, s_center_labels, s_center_labels)\n",
    "\n",
    "haus_all = hausdorff_distances(cluster_data[1][which]['centers'][1:,:], cluster_data[1][which]['center_labels'][1:], cluster_data[1][which]['center_labels'][1:])\n",
    "haus_less = hausdorff_distances( reduced_centers, reduced_centers_labels,  reduced_centers_labels)\n",
    "\n",
    "#pd.concat([test, reduced])"
   ]
  },
  {
   "cell_type": "code",
   "execution_count": null,
   "id": "smart-habitat",
   "metadata": {},
   "outputs": [],
   "source": [
    "#plot_haus_heatmap(haus_h, 'hellos')\n",
    "#plot_haus_heatmap(haus_s, 'sentences')\n",
    "\n",
    "plot_haus_heatmap(haus_all, 'all')\n",
    "plot_haus_heatmap(haus_less, 'less')\n",
    "\n",
    "plot_haus_heatmap(haus_all-haus_less, 'diff')"
   ]
  },
  {
   "cell_type": "code",
   "execution_count": 163,
   "id": "known-saying",
   "metadata": {},
   "outputs": [
    {
     "data": {
      "text/plain": [
       "14.0  4.0    -32.857274\n",
       "4.0   14.0   -32.857274\n",
       "      10.0   -31.301168\n",
       "10.0  4.0    -31.301168\n",
       "8.0   14.0   -28.312037\n",
       "                ...    \n",
       "9.0   7.0     18.371638\n",
       "      17.0    19.104653\n",
       "17.0  9.0     19.104653\n",
       "      3.0     20.481941\n",
       "3.0   17.0    20.481941\n",
       "Length: 272, dtype: float64"
      ]
     },
     "execution_count": 163,
     "metadata": {},
     "output_type": "execute_result"
    }
   ],
   "source": [
    "comp = haus_all-haus_less\n",
    "s = comp.unstack()\n",
    "so = s.sort_values(kind=\"quicksort\")\n",
    "so = so[so!=0] #drop rows where samples have 0 distance (comparing the same sample)\n",
    "so"
   ]
  },
  {
   "cell_type": "code",
   "execution_count": null,
   "id": "southern-frank",
   "metadata": {
    "jupyter": {
     "source_hidden": true
    },
    "tags": []
   },
   "outputs": [],
   "source": [
    "#reducer=umap.UMAP()\n",
    "#X2d =pd.DataFrame(reducer.fit_transform(Xdown.iloc[:, :-1]), columns = ['dim0', 'dim1'])\n",
    "#X2d['part'] = Xdown['part'].to_numpy(dtype = 'int32')\n",
    "\n",
    "#fig, ax = plt.subplots(1, figsize=(10,8))\n",
    "#for x, y, w, t in zip(X2d.dim0, X2d.dim1, X2d.first_sample, X2d.index):\n",
    "#for x, y, t in zip(X2d.dim0, X2d.dim1, X2d.part):\n",
    "    #plt.text(x, y, w, color=colors[t-1], fontsize=10)\n",
    "#    plt.text(x, y, str(t), color=colors[t-1], fontsize=10)\n",
    "#plt.scatter(X2d.dim0, X2d.dim1, c='1', alpha = 0.6, s=10)\n",
    "#plt.title(\"Plot of participant using UMAP for \" + samptype)\n",
    "#plt.show()\n",
    "\n",
    "# plot \n",
    "#fig, ax = plt.subplots()\n",
    "#fig.set_figheight(7.5)\n",
    "#fig.set_figwidth(7.5)\n",
    "#plt.legend(y_true[:120], loc='center left', bbox_to_anchor=(1.0, 0.75))\n",
    "#plt.scatter(*X_2dU.T, c=y_true)\n",
    "#plt.scatter(*X_2dU[:n,:].T, c=y_true[:n])\n"
   ]
  },
  {
   "cell_type": "code",
   "execution_count": 145,
   "id": "satellite-hospital",
   "metadata": {
    "tags": []
   },
   "outputs": [],
   "source": [
    "# k means\n",
    "kmeans = KMeans(n_clusters=len(X2d.part.unique()))\n",
    "X2d['cluster'] = kmeans.fit_predict(X2d[['dim0', 'dim1']])\n",
    "\n",
    "# get centroids\n",
    "centroids = kmeans.cluster_centers_\n",
    "cen_x = [i[0] for i in centroids] \n",
    "cen_y = [i[1] for i in centroids]\n",
    "## add to tSNE cluster pd\n",
    "xmap = {}\n",
    "ymap = {}\n",
    "[xmap.update({z:cen_x[z]}) for z in np.arange(len(cen_x))]\n",
    "[ymap.update({z:cen_y[z]}) for z in np.arange(len(cen_y))]\n",
    "X2d['cen_x'] = X2d.cluster.map(xmap)\n",
    "X2d['cen_y'] = X2d.cluster.map(ymap)\n",
    "\n",
    "#define and map colors\n",
    "#based on cluster\n",
    "colors = sns.color_palette(\"Paired\", len(X2d.part.unique())+2)\n",
    "cmap = {}\n",
    "[cmap.update({z:colors[z]}) for z in np.arange(len(cen_x))]\n",
    "X2d['c_clust'] = X2d.cluster.map(cmap)\n",
    "#X2d['c_part'] = [colors[z] for z in X2d.part.unique()]"
   ]
  },
  {
   "cell_type": "code",
   "execution_count": null,
   "id": "governmental-uncle",
   "metadata": {},
   "outputs": [],
   "source": [
    "specclus = SpectralClustering(n_clusters=len(X2d.part.unique()))\n",
    "X2d['cluster'] = specclus.fit_predict(X2d[['dim0', 'dim1']])\n"
   ]
  },
  {
   "cell_type": "code",
   "execution_count": null,
   "id": "nominated-headquarters",
   "metadata": {},
   "outputs": [],
   "source": [
    "# plot \n",
    "fig, ax = plt.subplots(1, figsize=(11,9))\n",
    "\n",
    "#plot data\n",
    "#plt.scatter(X2d.dim0, X2d.dim1, c=X2d.c_part, alpha = 0.6, s=10)\n",
    "legend_elements = [Line2D([0], [0], marker='o', color='w', label='Cluster {}'.format(i+1), \n",
    "               markerfacecolor=mcolor, markersize=5) for i, mcolor in enumerate(colors)]\n",
    "#plt.legend(handles=legend_elements, bbox_to_anchor=(1.2, 1), loc='upper right')\n",
    "#plt.title('tSNE plot of clusters\\n', loc='left', fontsize=22)\n",
    "\n",
    "for x, y, t in zip(X2d.dim0, X2d.dim1, X2d.part):\n",
    "#    plt.text(x, y, str(t), color=colors[t], fontsize=12)\n",
    "    plt.scatter(x, y, color=colors[t-1])\n",
    "\n",
    "#plot centroids\n",
    "plt.scatter(cen_x, cen_y, marker='^', c='k', s=100)\n",
    "\n",
    "#plot distances\n",
    "for idx, val in X2d.iterrows():\n",
    "    x = [val.dim0, val.cen_x,]\n",
    "    y = [val.dim1, val.cen_y]\n",
    "    #plt.plot(x, y, c=val.c_clust, alpha=0.2)\n",
    "    #plt.plot(x, y, c='0.4', alpha=0.2)\n",
    "\n",
    "plt.title(\"Plot of participant using UMAP for \" + samptype + \"with kmeans centroids\")\n",
    "plt.show()"
   ]
  },
  {
   "cell_type": "code",
   "execution_count": null,
   "id": "protected-latest",
   "metadata": {},
   "outputs": [],
   "source": []
  }
 ],
 "metadata": {
  "kernelspec": {
   "display_name": "Python 3",
   "language": "python",
   "name": "python3"
  },
  "language_info": {
   "codemirror_mode": {
    "name": "ipython",
    "version": 3
   },
   "file_extension": ".py",
   "mimetype": "text/x-python",
   "name": "python",
   "nbconvert_exporter": "python",
   "pygments_lexer": "ipython3",
   "version": "3.8.5"
  }
 },
 "nbformat": 4,
 "nbformat_minor": 5
}
