{
 "cells": [
  {
   "cell_type": "code",
   "execution_count": 123,
   "id": "essential-cement",
   "metadata": {},
   "outputs": [],
   "source": [
    "!pip install -q pyannote.audio pyannote.core\n",
    "\n",
    "import torch\n",
    "import numpy as np\n",
    "import pandas as pd\n",
    "import os\n",
    "from sklearn.manifold import TSNE\n",
    "import umap\n",
    "import matplotlib.pyplot as plt\n",
    "from matplotlib.lines import Line2D\n",
    "from pyannote.audio.utils.signal import Binarize, Peak\n",
    "from pyannote.core import Segment, notebook, SlidingWindowFeature, timeline\n",
    "from IPython.display import clear_output\n",
    "import soundfile as sf\n",
    "import librosa\n",
    "from sklearn.cluster import KMeans\n",
    "import seaborn as sns\n",
    "\n",
    "#Removed participant 17 (17XX) because they said hi or had a background noise\n",
    "#See google doc for reference: https://docs.google.com/spreadsheets/d/1-K3pIs9BPLAsvY3_AYHyIfsLdbo0bF9XD1-ohPeZJJk/edit#gid=1936393955\n",
    "raw='C:\\\\Users\\\\MrBrito\\\\Documents\\\\_Grad_School\\\\Rotations\\\\Satra\\\\egemaps_analysis\\\\Hellos\\\\input'\n",
    "directory='C:\\\\Users\\\\MrBrito\\\\Documents\\\\_Grad_School\\\\Rotations\\\\Satra\\\\egemaps_analysis\\\\Hellos\\\\input_downsampled'"
   ]
  },
  {
   "cell_type": "code",
   "execution_count": 3,
   "id": "balanced-pride",
   "metadata": {
    "jupyter": {
     "source_hidden": true
    },
    "tags": []
   },
   "outputs": [],
   "source": [
    "## DONT NEED TO RERUN\n",
    "for filename in os.listdir(raw):\n",
    "    if filename.endswith(\".wav\"):\n",
    "        new_rate = 16000\n",
    "        resamp, rate = librosa.load(os.path.join(raw, filename), sr=new_rate)\n",
    "        sf.write(os.path.join(directory, filename), resamp, new_rate) "
   ]
  },
  {
   "cell_type": "code",
   "execution_count": 4,
   "id": "mineral-grill",
   "metadata": {
    "jupyter": {
     "source_hidden": true
    },
    "tags": []
   },
   "outputs": [
    {
     "name": "stderr",
     "output_type": "stream",
     "text": [
      "Using cache found in C:\\Users\\MrBrito/.cache\\torch\\hub\\pyannote_pyannote-audio_master\n",
      "Using cache found in C:\\Users\\MrBrito/.cache\\torch\\hub\\pyannote_pyannote-audio_master\n",
      "Using cache found in C:\\Users\\MrBrito/.cache\\torch\\hub\\pyannote_pyannote-audio_master\n",
      "C:\\Users\\MrBrito\\miniconda3\\lib\\site-packages\\pyannote\\audio\\embedding\\approaches\\arcface_loss.py:170: FutureWarning: The 's' parameter is deprecated in favor of 'scale', and will be removed in a future release\n",
      "  warnings.warn(msg, FutureWarning)\n"
     ]
    }
   ],
   "source": [
    "# speech activity detection model trained on AMI training set\n",
    "sad = torch.hub.load('pyannote/pyannote-audio', 'sad_ami')\n",
    "# speaker change detection model trained on AMI training set\n",
    "scd = torch.hub.load('pyannote/pyannote-audio', 'scd_ami')\n",
    "# speaker embedding model trained on AMI training set\n",
    "emb = torch.hub.load('pyannote/pyannote-audio', 'emb_ami')"
   ]
  },
  {
   "cell_type": "code",
   "execution_count": 37,
   "id": "centered-education",
   "metadata": {
    "jupyter": {
     "source_hidden": true
    },
    "tags": []
   },
   "outputs": [
    {
     "name": "stdout",
     "output_type": "stream",
     "text": [
      "Processing1830.wav\n"
     ]
    }
   ],
   "source": [
    "X, sid_per_sample = [], []\n",
    "for filename in os.listdir(directory):\n",
    "    if filename.endswith(\".wav\"): \n",
    "        clear_output(wait=True)\n",
    "        one_file = {'uri': 'filename', 'audio': os.path.join(directory, filename)}\n",
    "        \n",
    "        #detect speaker time versus silence in sample\n",
    "        sad_scores = sad(one_file)\n",
    "        binarize = Binarize(offset=0.52, onset=0.52, log_scale=True, min_duration_off=0.1, min_duration_on=0.1)\n",
    "        speech = binarize.apply(sad_scores, dimension=1)\n",
    "        \n",
    "        #extract speaker embeddings and crop only part with speech and remove silence\n",
    "        embeddings = emb(one_file)\n",
    "        for segment in speech:\n",
    "            cropped = embeddings.crop(segment)\n",
    "        \n",
    "        X.append(np.mean(cropped, axis=0))\n",
    "\n",
    "        # keep track of speaker label (for later scatter plot)\n",
    "        sid_per_sample.append(filename[0:2])\n",
    "        \n",
    "        print(\"Processing\" + str(filename))\n",
    "\n",
    "X = pd.DataFrame(np.vstack(X))\n",
    "sid, y_true = np.unique(sid_per_sample, return_inverse=True)\n",
    "y_true=y_true+1\n",
    "X.index=y_true\n",
    "\n",
    "#remove participant 17\n",
    "X=X.drop(17) \n",
    "y_true = np.delete(y_true, np.where(y_true==17))\n",
    "sid = np.delete(sid, np.where(sid=='17'))"
   ]
  },
  {
   "cell_type": "code",
   "execution_count": 191,
   "id": "contemporary-browser",
   "metadata": {},
   "outputs": [
    {
     "name": "stderr",
     "output_type": "stream",
     "text": [
      "C:\\Users\\MrBrito\\miniconda3\\lib\\site-packages\\sklearn\\manifold\\_t_sne.py:691: FutureWarning: 'square_distances' has been introduced in 0.24 to help phase out legacy squaring behavior. The 'legacy' setting will be removed in 1.1 (renaming of 0.26), and the default setting will be changed to True. In 1.3, 'square_distances' will be removed altogether, and distances will be squared by default. Set 'square_distances'=True to silence this warning.\n",
      "  warnings.warn(\n"
     ]
    }
   ],
   "source": [
    "tsne = TSNE(n_components=2, metric=\"cosine\")\n",
    "X2d = pd.DataFrame(tsne.fit_transform(X), index=y_true, columns = ['dim0', 'dim1'])\n",
    "\n",
    "# k means\n",
    "kmeans = KMeans(n_clusters=np.size(sid))\n",
    "X2d['cluster'] = kmeans.fit_predict(X2d)\n",
    "\n",
    "# get centroids\n",
    "centroids = kmeans.cluster_centers_\n",
    "cen_x = [i[0] for i in centroids] \n",
    "cen_y = [i[1] for i in centroids]\n",
    "## add to tSNE cluster pd\n",
    "xmap = {}\n",
    "ymap = {}\n",
    "[xmap.update({z:cen_x[z]}) for z in np.arange(len(cen_x))]\n",
    "[ymap.update({z:cen_y[z]}) for z in np.arange(len(cen_y))]\n",
    "X2d['cen_x'] = X2d.cluster.map(xmap)\n",
    "X2d['cen_y'] = X2d.cluster.map(ymap)\n",
    "\n",
    "#define and map colors\n",
    "#based on cluster\n",
    "colors = sns.color_palette(\"Paired\", len(sid)+2)\n",
    "cmap = {}\n",
    "[cmap.update({z:colors[z]}) for z in np.arange(len(cen_x))]\n",
    "X2d['c_clust'] = X2d.cluster.map(cmap)\n",
    "X2d['c_part'] = [colors[z] for z in X2d.index]"
   ]
  },
  {
   "cell_type": "code",
   "execution_count": null,
   "id": "intelligent-legend",
   "metadata": {},
   "outputs": [],
   "source": [
    "# plot \n",
    "fig, ax = plt.subplots(1, figsize=(15,12))\n",
    "\n",
    "#plot data\n",
    "#plt.scatter(X2d.dim0, X2d.dim1, c=X2d.c_part, alpha = 0.6, s=10)\n",
    "legend_elements = [Line2D([0], [0], marker='o', color='w', label='Cluster {}'.format(i+1), \n",
    "               markerfacecolor=mcolor, markersize=5) for i, mcolor in enumerate(colors)]\n",
    "plt.legend(handles=legend_elements, bbox_to_anchor=(1.2, 1), loc='upper right')\n",
    "plt.title('tSNE plot of clusters\\n', loc='left', fontsize=22)\n",
    "\n",
    "for x, y, t in zip(X2d.dim0, X2d.dim1, X2d.index):\n",
    "    plt.text(x, y, str(t), color=colors[t], fontsize=12)\n",
    "\n",
    "#plot centroids\n",
    "#plt.scatter(cen_x, cen_y, marker='^', c=colors, s=70)\n",
    "plt.scatter(cen_x, cen_y, marker='^', c='k', s=70)\n",
    "\n",
    "#plot distances\n",
    "for idx, val in X2d.iterrows():\n",
    "    x = [val.dim0, val.cen_x,]\n",
    "    y = [val.dim1, val.cen_y]\n",
    "    #plt.plot(x, y, c=val.c_clust, alpha=0.2)\n",
    "    plt.plot(x, y, c='0.8', alpha=0.2)\n",
    "\n",
    "plt.show()"
   ]
  },
  {
   "cell_type": "code",
   "execution_count": 192,
   "id": "graphic-monkey",
   "metadata": {},
   "outputs": [
    {
     "data": {
      "text/plain": [
       "Text(0.5, 1.0, 'UMAP plot of participants')"
      ]
     },
     "execution_count": 192,
     "metadata": {},
     "output_type": "execute_result"
    },
    {
     "data": {
      "image/png": "[encoded data removed]",
      "text/plain": [
       "<Figure size 540x540 with 1 Axes>"
      ]
     },
     "metadata": {
      "needs_background": "light"
     },
     "output_type": "display_data"
    }
   ],
   "source": [
    "reducer=umap.UMAP()\n",
    "X_2dU =reducer.fit_transform(X)\n",
    "\n",
    "# plot \n",
    "fig, ax = plt.subplots()\n",
    "fig.set_figheight(7.5)\n",
    "fig.set_figwidth(7.5)\n",
    "#plt.legend(y_true[:120], loc='center left', bbox_to_anchor=(1.0, 0.75))\n",
    "#plt.scatter(*X_2dU.T, c=y_true)\n",
    "plt.scatter(*X_2dU[:n,:].T, c=y_true[:n])\n",
    "plt.title(\"UMAP plot of participants\")"
   ]
  },
  {
   "cell_type": "code",
   "execution_count": null,
   "id": "central-literacy",
   "metadata": {},
   "outputs": [],
   "source": []
  }
 ],
 "metadata": {
  "kernelspec": {
   "display_name": "Python 3",
   "language": "python",
   "name": "python3"
  },
  "language_info": {
   "codemirror_mode": {
    "name": "ipython",
    "version": 3
   },
   "file_extension": ".py",
   "mimetype": "text/x-python",
   "name": "python",
   "nbconvert_exporter": "python",
   "pygments_lexer": "ipython3",
   "version": "3.8.5"
  }
 },
 "nbformat": 4,
 "nbformat_minor": 5
}
