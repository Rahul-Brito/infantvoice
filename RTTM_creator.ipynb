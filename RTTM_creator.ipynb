{
 "cells": [
  {
   "cell_type": "code",
   "execution_count": 1,
   "id": "presidential-comparative",
   "metadata": {},
   "outputs": [],
   "source": [
    "#this file creates an RTTM metadata file for the pyannote voice diarazation pipeline\n",
    "#github:https://github.com/pyannote/pyannote-audio/tree/master/tutorials/data_preparation\n",
    "#Google Collab: https://colab.research.google.com/github/pyannote/pyannote-audio/blob/master/notebooks/introduction_to_pyannote_audio_speaker_diarization_toolkit.ipynb#scrollTo=numGt3msL39D\n",
    "\n",
    "import os\n",
    "import wave\n",
    "import contextlib\n",
    "directory='C:\\\\Users\\\\MrBrito\\\\Documents\\\\_Grad_School\\\\Rotations\\\\Satra\\\\egemaps_analysis\\\\Hellos\\\\input'\n"
   ]
  },
  {
   "cell_type": "code",
   "execution_count": 2,
   "id": "rental-track",
   "metadata": {},
   "outputs": [],
   "source": [
    "sid = []\n",
    "uri = []\n",
    "duration = []\n",
    "for filename in os.listdir(directory):\n",
    "    if filename.endswith(\".wav\"): \n",
    "        uri.append(os.path.splitext(filename)[0])\n",
    "        sid.append(filename[0:2])\n",
    "        with contextlib.closing(wave.open(os.path.join(directory, filename),'r')) as f:\n",
    "            frames = f.getnframes()\n",
    "            rate = f.getframerate()\n",
    "            duration.append(frames / float(rate))\n",
    "        continue\n",
    "    else:\n",
    "        continue"
   ]
  },
  {
   "cell_type": "code",
   "execution_count": 162,
   "id": "individual-fluid",
   "metadata": {},
   "outputs": [],
   "source": [
    "output = 'C:\\\\Users\\\\MrBrito\\\\Documents\\\\_Grad_School\\\\Rotations\\\\Satra\\\\egemaps_analysis\\\\Hellos\\\\input\\\\Hellos.rttm'\n",
    "\n",
    "with open(output, 'r+') as out:\n",
    "    for s in range(len(files)):\n",
    "        #format: SPEAKER {uri} 1 {start} {duration} <NA> <NA> {identifier} <NA> <NA>. All starts are 0:00\n",
    "        out.write(\"SPEAKER \" + str(uri[s]) + \" 1 0.00 \" + str(duration[s]) + \" <NA> <NA> \" + str(sid[s])  + \" <NA> <NA>\")\n",
    "        out.write('\\r\\n')"
   ]
  },
  {
   "cell_type": "code",
   "execution_count": 8,
   "id": "heated-alloy",
   "metadata": {},
   "outputs": [
    {
     "data": {
      "text/plain": [
       "44100"
      ]
     },
     "execution_count": 8,
     "metadata": {},
     "output_type": "execute_result"
    }
   ],
   "source": [
    "rate"
   ]
  },
  {
   "cell_type": "code",
   "execution_count": null,
   "id": "hollywood-quarterly",
   "metadata": {},
   "outputs": [],
   "source": []
  }
 ],
 "metadata": {
  "kernelspec": {
   "display_name": "Python 3",
   "language": "python",
   "name": "python3"
  },
  "language_info": {
   "codemirror_mode": {
    "name": "ipython",
    "version": 3
   },
   "file_extension": ".py",
   "mimetype": "text/x-python",
   "name": "python",
   "nbconvert_exporter": "python",
   "pygments_lexer": "ipython3",
   "version": "3.8.5"
  }
 },
 "nbformat": 4,
 "nbformat_minor": 5
}
