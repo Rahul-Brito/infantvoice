{
 "cells": [
  {
   "cell_type": "code",
   "execution_count": 1,
   "id": "72e57202-d2e5-4665-9478-bc0eb1ce4903",
   "metadata": {},
   "outputs": [],
   "source": [
    "import numpy as np\n",
    "import string\n",
    "import re\n",
    "import seaborn as sns\n",
    "import os\n",
    "import itertools\n",
    "\n",
    "folder_of_reading_text = '/Users/rahulbrito/Documents/projects/infantvoice/data/phoneme_text_of_readings'"
   ]
  },
  {
   "cell_type": "code",
   "execution_count": 2,
   "id": "3cd1bb72-da6e-43f6-8662-7e9fae4a8581",
   "metadata": {},
   "outputs": [],
   "source": [
    "readings = [open(os.path.join(folder_of_reading_text,f), 'r').read().strip() for f in os.listdir(folder_of_reading_text)]"
   ]
  },
  {
   "cell_type": "code",
   "execution_count": 3,
   "id": "27e044c6-14d2-4725-9e06-b777f368c139",
   "metadata": {},
   "outputs": [
    {
     "data": {
      "text/plain": [
       "['3 The Very Hungry Caterpillar.txt',\n",
       " '2 Owl Babies.txt',\n",
       " '1 Good Night Moon.txt',\n",
       " '5 I Love You Stinky Face.txt',\n",
       " '4 Guess How Much I Love You.txt']"
      ]
     },
     "execution_count": 3,
     "metadata": {},
     "output_type": "execute_result"
    }
   ],
   "source": [
    "os.listdir(folder_of_reading_text)"
   ]
  },
  {
   "cell_type": "code",
   "execution_count": 4,
   "id": "43b175c5-e0ad-430b-a325-588b0a2e3f7a",
   "metadata": {},
   "outputs": [],
   "source": [
    "text = []\n",
    "for text_raw in readings:\n",
    "    text_no_punc = text_raw.translate(str.maketrans('', '', string.punctuation))\n",
    "    text_no_newline = text_no_punc.replace(\"\\n\", \"\")\n",
    "    text_nocomma_apos = text_no_newline.replace(\"ˈ\", \"\").replace(\"ˌ\", \" \")\n",
    "    text_w_space = text_nocomma_apos.replace(\"\\ufeff\",\"\")\n",
    "    text_tight = text_w_space.replace(\" \",\"\").replace('”', \"\").replace(\"“\",\"\")\n",
    "    text_wide = text_tight.replace(\"\", \" \")\n",
    "    text.append(text_wide)\n",
    "    "
   ]
  },
  {
   "cell_type": "code",
   "execution_count": 5,
   "id": "214e322a-5b55-44d8-b42c-aa1aa6d44cca",
   "metadata": {},
   "outputs": [],
   "source": [
    "window_size = 100 * 2 #*2 because I inserted a space between each phoneme\n",
    "n_in_segment = [np.unique(t[i:i+window_size].split(' ')).shape[0] for t in text for i in range(0,len(t))]"
   ]
  },
  {
   "cell_type": "code",
   "execution_count": 6,
   "id": "09a16c0a-d164-449a-ae73-f9b094c5da1b",
   "metadata": {},
   "outputs": [],
   "source": [
    "most_var_index = np.argsort(n_in_segment)[-40:] "
   ]
  },
  {
   "cell_type": "code",
   "execution_count": 7,
   "id": "4b375d6b-6b33-4a59-9d95-967b5026b78b",
   "metadata": {},
   "outputs": [],
   "source": [
    "flat_text = ''\n",
    "\n",
    "for t in text:\n",
    "    flat_text = flat_text + t"
   ]
  },
  {
   "cell_type": "code",
   "execution_count": 8,
   "id": "084d64fb-f174-4bec-81f2-11562461392e",
   "metadata": {},
   "outputs": [
    {
     "data": {
      "text/plain": [
       "[989, 2116, 2719, 4024, 5163]"
      ]
     },
     "execution_count": 8,
     "metadata": {},
     "output_type": "execute_result"
    }
   ],
   "source": [
    "cum_index = 0\n",
    "index_list = []\n",
    "for t in text:\n",
    "    cum_index = cum_index+len(t)\n",
    "    index_list.append(cum_index)\n",
    "index_list"
   ]
  },
  {
   "cell_type": "code",
   "execution_count": 176,
   "id": "3078d379-e488-4d73-9290-83c3d8b4a4e4",
   "metadata": {},
   "outputs": [
    {
     "data": {
      "text/plain": [
       "array([4148, 4149, 2881,  647,  648, 2778,   62, 4449,  657,  656, 2864,\n",
       "         63, 4436, 4448,  650,  649,   58,   59,   60,   61,  651, 2882,\n",
       "       3828, 3827, 3826, 3825, 4433, 2884, 2885, 2886, 3824, 3823, 3822,\n",
       "       4434, 3820, 3819, 4435, 4432, 2883, 3821])"
      ]
     },
     "execution_count": 176,
     "metadata": {},
     "output_type": "execute_result"
    }
   ],
   "source": [
    "most_var_index"
   ]
  },
  {
   "cell_type": "code",
   "execution_count": 178,
   "id": "e87bab09-8422-4fe4-8b56-abfc0d695234",
   "metadata": {},
   "outputs": [],
   "source": [
    "most_var_pass = [flat_text[index:index+window_size] for index in most_var_index]"
   ]
  },
  {
   "cell_type": "code",
   "execution_count": 180,
   "id": "493fd73d-e5ee-48a6-aa29-6d6bbd5f4b6c",
   "metadata": {},
   "outputs": [
    {
     "data": {
      "text/plain": [
       "[' l ɔ ŋ ɪ r z h i w ɑ n t ə d t u b i ʃ ʊ',\n",
       " 'l ɔ ŋ ɪ r z h i w ɑ n t ə d t u b i ʃ ʊ ',\n",
       " ' l l ʌ v m i ð ɛ n ɪ f j u w ɜ r ə b ɪ g',\n",
       " 'h i e ɪ t θ r u w ʌ n p i s ʌ v ʧ ɔ k l ',\n",
       " ' i e ɪ t θ r u w ʌ n p i s ʌ v ʧ ɔ k l ə',\n",
       " 'l d b ʌ t a ɪ h æ d ə k w ɛ s ʧ ə n m ɑ ',\n",
       " ' d – p ɑ p – a ʊ t ʌ v ð i ɛ g k e ɪ m ə',\n",
       " 'ɔ ŋ g ə r ɑ r m z b ʌ t a ɪ l ʌ v j u ð ',\n",
       " 'θ r u w ʌ n p i s ʌ v ʧ ɔ k l ə t k e ɪ ',\n",
       " ' θ r u w ʌ n p i s ʌ v ʧ ɔ k l ə t k e ɪ',\n",
       " 'p w ʊ d j u s t ɪ l l ʌ v m i ð ɛ n ɪ f ',\n",
       " 'd – p ɑ p – a ʊ t ʌ v ð i ɛ g k e ɪ m ə ',\n",
       " ' d i v ɪ n l ɔ ŋ g ə r ɑ r m z b ʌ t a ɪ',\n",
       " ' ɔ ŋ g ə r ɑ r m z b ʌ t a ɪ l ʌ v j u ð',\n",
       " ' e ɪ t θ r u w ʌ n p i s ʌ v ʧ ɔ k l ə t',\n",
       " 'i e ɪ t θ r u w ʌ n p i s ʌ v ʧ ɔ k l ə ',\n",
       " ' æ n d – p ɑ p – a ʊ t ʌ v ð i ɛ g k e ɪ',\n",
       " 'æ n d – p ɑ p – a ʊ t ʌ v ð i ɛ g k e ɪ ',\n",
       " ' n d – p ɑ p – a ʊ t ʌ v ð i ɛ g k e ɪ m',\n",
       " 'n d – p ɑ p – a ʊ t ʌ v ð i ɛ g k e ɪ m ',\n",
       " 'e ɪ t θ r u w ʌ n p i s ʌ v ʧ ɔ k l ə t ',\n",
       " 'l l ʌ v m i ð ɛ n ɪ f j u w ɜ r ə b ɪ g ',\n",
       " 'ɑ m p æ n d t e ɪ k k ɛ r ʌ v j u ɔ l w ',\n",
       " ' ɑ m p æ n d t e ɪ k k ɛ r ʌ v j u ɔ l w',\n",
       " 'w ɑ m p æ n d t e ɪ k k ɛ r ʌ v j u ɔ l ',\n",
       " ' w ɑ m p æ n d t e ɪ k k ɛ r ʌ v j u ɔ l',\n",
       " 'h æ d i v ɪ n l ɔ ŋ g ə r ɑ r m z b ʌ t ',\n",
       " 'l ʌ v m i ð ɛ n ɪ f j u w ɜ r ə b ɪ g s ',\n",
       " ' ʌ v m i ð ɛ n ɪ f j u w ɜ r ə b ɪ g s k',\n",
       " 'ʌ v m i ð ɛ n ɪ f j u w ɜ r ə b ɪ g s k ',\n",
       " 's w ɑ m p æ n d t e ɪ k k ɛ r ʌ v j u ɔ ',\n",
       " ' s w ɑ m p æ n d t e ɪ k k ɛ r ʌ v j u ɔ',\n",
       " 'ə s w ɑ m p æ n d t e ɪ k k ɛ r ʌ v j u ',\n",
       " ' æ d i v ɪ n l ɔ ŋ g ə r ɑ r m z b ʌ t a',\n",
       " 'ð ə s w ɑ m p æ n d t e ɪ k k ɛ r ʌ v j ',\n",
       " ' ð ə s w ɑ m p æ n d t e ɪ k k ɛ r ʌ v j',\n",
       " 'æ d i v ɪ n l ɔ ŋ g ə r ɑ r m z b ʌ t a ',\n",
       " ' h æ d i v ɪ n l ɔ ŋ g ə r ɑ r m z b ʌ t',\n",
       " ' l ʌ v m i ð ɛ n ɪ f j u w ɜ r ə b ɪ g s',\n",
       " ' ə s w ɑ m p æ n d t e ɪ k k ɛ r ʌ v j u']"
      ]
     },
     "execution_count": 180,
     "metadata": {},
     "output_type": "execute_result"
    }
   ],
   "source": [
    "most_var_pass"
   ]
  },
  {
   "cell_type": "code",
   "execution_count": 158,
   "id": "d7dc46e4-d64e-4519-9b28-7d1e5a37d660",
   "metadata": {},
   "outputs": [
    {
     "data": {
      "text/plain": [
       "'g'"
      ]
     },
     "execution_count": 158,
     "metadata": {},
     "output_type": "execute_result"
    }
   ],
   "source": [
    "text[2]"
   ]
  },
  {
   "cell_type": "code",
   "execution_count": null,
   "id": "021ac105-4884-4e76-9031-9b7dc25025d6",
   "metadata": {},
   "outputs": [],
   "source": []
  }
 ],
 "metadata": {
  "kernelspec": {
   "display_name": "infantvoice",
   "language": "python",
   "name": "infantvoice"
  },
  "language_info": {
   "codemirror_mode": {
    "name": "ipython",
    "version": 3
   },
   "file_extension": ".py",
   "mimetype": "text/x-python",
   "name": "python",
   "nbconvert_exporter": "python",
   "pygments_lexer": "ipython3",
   "version": "3.9.7"
  }
 },
 "nbformat": 4,
 "nbformat_minor": 5
}
