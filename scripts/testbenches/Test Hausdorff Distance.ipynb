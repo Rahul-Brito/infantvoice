{
 "cells": [
  {
   "cell_type": "code",
   "execution_count": 1,
   "id": "33d6435f-4419-49e8-a5bb-3689c17a772b",
   "metadata": {},
   "outputs": [],
   "source": [
    "import numpy as np\n",
    "import pandas as pd\n",
    "from scipy.spatial.distance import directed_hausdorff, euclidean, cosine, pdist\n",
    "from IPython.display import clear_output\n",
    "\n",
    "import scipy\n",
    "\n",
    "from scipy import stats\n",
    "\n",
    "from sklearn.neighbors import NearestNeighbors"
   ]
  },
  {
   "cell_type": "code",
   "execution_count": 22,
   "id": "e75728dc-8563-4489-97e7-f27f28a92946",
   "metadata": {},
   "outputs": [],
   "source": [
    "a = np.random.rand(10,2)\n",
    "b = a+5\n",
    "c = a+10"
   ]
  },
  {
   "cell_type": "code",
   "execution_count": 23,
   "id": "0ae69f71-edb2-4711-9ee8-5b8c02356b9e",
   "metadata": {},
   "outputs": [
    {
     "data": {
      "image/png": "[encoded data removed]",
      "text/plain": [
       "<Figure size 432x288 with 1 Axes>"
      ]
     },
     "metadata": {
      "needs_background": "light"
     },
     "output_type": "display_data"
    }
   ],
   "source": [
    "from matplotlib import pyplot as plt, lines\n",
    "import seaborn as sns\n",
    "\n",
    "\n",
    "plt.scatter(a[:,0], a[:,1])\n",
    "plt.scatter(b[:,0], b[:,1])\n",
    "plt.scatter(c[:,0], c[:,1])\n",
    "plt.show()"
   ]
  },
  {
   "cell_type": "code",
   "execution_count": 35,
   "id": "f29fea6b-4396-410d-a4cb-07574a11ed5b",
   "metadata": {},
   "outputs": [],
   "source": [
    "data = pd.DataFrame(np.vstack([a,b,c]))\n",
    "labels = np.hstack([['a']*a.shape[0],['b']*b.shape[0],['c']*c.shape[0]])\n",
    "data['part_id'] = labels"
   ]
  },
  {
   "cell_type": "code",
   "execution_count": 50,
   "id": "c296f5bc-43fe-43e6-8a78-6c5a002921b6",
   "metadata": {},
   "outputs": [
    {
     "data": {
      "text/html": [
       "<div>\n",
       "<style scoped>\n",
       "    .dataframe tbody tr th:only-of-type {\n",
       "        vertical-align: middle;\n",
       "    }\n",
       "\n",
       "    .dataframe tbody tr th {\n",
       "        vertical-align: top;\n",
       "    }\n",
       "\n",
       "    .dataframe thead th {\n",
       "        text-align: right;\n",
       "    }\n",
       "</style>\n",
       "<table border=\"1\" class=\"dataframe\">\n",
       "  <thead>\n",
       "    <tr style=\"text-align: right;\">\n",
       "      <th></th>\n",
       "      <th>0</th>\n",
       "      <th>1</th>\n",
       "      <th>part_id</th>\n",
       "    </tr>\n",
       "  </thead>\n",
       "  <tbody>\n",
       "    <tr>\n",
       "      <th>0</th>\n",
       "      <td>0.719228</td>\n",
       "      <td>0.971232</td>\n",
       "      <td>a</td>\n",
       "    </tr>\n",
       "    <tr>\n",
       "      <th>1</th>\n",
       "      <td>0.665578</td>\n",
       "      <td>0.394134</td>\n",
       "      <td>a</td>\n",
       "    </tr>\n",
       "    <tr>\n",
       "      <th>2</th>\n",
       "      <td>0.755822</td>\n",
       "      <td>0.737712</td>\n",
       "      <td>a</td>\n",
       "    </tr>\n",
       "    <tr>\n",
       "      <th>3</th>\n",
       "      <td>0.746374</td>\n",
       "      <td>0.310558</td>\n",
       "      <td>a</td>\n",
       "    </tr>\n",
       "    <tr>\n",
       "      <th>4</th>\n",
       "      <td>0.926977</td>\n",
       "      <td>0.962195</td>\n",
       "      <td>a</td>\n",
       "    </tr>\n",
       "    <tr>\n",
       "      <th>5</th>\n",
       "      <td>0.844767</td>\n",
       "      <td>0.394304</td>\n",
       "      <td>a</td>\n",
       "    </tr>\n",
       "    <tr>\n",
       "      <th>6</th>\n",
       "      <td>0.403803</td>\n",
       "      <td>0.984046</td>\n",
       "      <td>a</td>\n",
       "    </tr>\n",
       "    <tr>\n",
       "      <th>7</th>\n",
       "      <td>0.640204</td>\n",
       "      <td>0.381426</td>\n",
       "      <td>a</td>\n",
       "    </tr>\n",
       "    <tr>\n",
       "      <th>8</th>\n",
       "      <td>0.796336</td>\n",
       "      <td>0.361362</td>\n",
       "      <td>a</td>\n",
       "    </tr>\n",
       "    <tr>\n",
       "      <th>9</th>\n",
       "      <td>0.315094</td>\n",
       "      <td>0.381806</td>\n",
       "      <td>a</td>\n",
       "    </tr>\n",
       "    <tr>\n",
       "      <th>10</th>\n",
       "      <td>5.719228</td>\n",
       "      <td>5.971232</td>\n",
       "      <td>b</td>\n",
       "    </tr>\n",
       "    <tr>\n",
       "      <th>11</th>\n",
       "      <td>5.665578</td>\n",
       "      <td>5.394134</td>\n",
       "      <td>b</td>\n",
       "    </tr>\n",
       "    <tr>\n",
       "      <th>12</th>\n",
       "      <td>5.755822</td>\n",
       "      <td>5.737712</td>\n",
       "      <td>b</td>\n",
       "    </tr>\n",
       "    <tr>\n",
       "      <th>13</th>\n",
       "      <td>5.746374</td>\n",
       "      <td>5.310558</td>\n",
       "      <td>b</td>\n",
       "    </tr>\n",
       "    <tr>\n",
       "      <th>14</th>\n",
       "      <td>5.926977</td>\n",
       "      <td>5.962195</td>\n",
       "      <td>b</td>\n",
       "    </tr>\n",
       "    <tr>\n",
       "      <th>15</th>\n",
       "      <td>5.844767</td>\n",
       "      <td>5.394304</td>\n",
       "      <td>b</td>\n",
       "    </tr>\n",
       "    <tr>\n",
       "      <th>16</th>\n",
       "      <td>5.403803</td>\n",
       "      <td>5.984046</td>\n",
       "      <td>b</td>\n",
       "    </tr>\n",
       "    <tr>\n",
       "      <th>17</th>\n",
       "      <td>5.640204</td>\n",
       "      <td>5.381426</td>\n",
       "      <td>b</td>\n",
       "    </tr>\n",
       "    <tr>\n",
       "      <th>18</th>\n",
       "      <td>5.796336</td>\n",
       "      <td>5.361362</td>\n",
       "      <td>b</td>\n",
       "    </tr>\n",
       "    <tr>\n",
       "      <th>19</th>\n",
       "      <td>5.315094</td>\n",
       "      <td>5.381806</td>\n",
       "      <td>b</td>\n",
       "    </tr>\n",
       "    <tr>\n",
       "      <th>20</th>\n",
       "      <td>10.719228</td>\n",
       "      <td>10.971232</td>\n",
       "      <td>c</td>\n",
       "    </tr>\n",
       "    <tr>\n",
       "      <th>21</th>\n",
       "      <td>10.665578</td>\n",
       "      <td>10.394134</td>\n",
       "      <td>c</td>\n",
       "    </tr>\n",
       "    <tr>\n",
       "      <th>22</th>\n",
       "      <td>10.755822</td>\n",
       "      <td>10.737712</td>\n",
       "      <td>c</td>\n",
       "    </tr>\n",
       "    <tr>\n",
       "      <th>23</th>\n",
       "      <td>10.746374</td>\n",
       "      <td>10.310558</td>\n",
       "      <td>c</td>\n",
       "    </tr>\n",
       "    <tr>\n",
       "      <th>24</th>\n",
       "      <td>10.926977</td>\n",
       "      <td>10.962195</td>\n",
       "      <td>c</td>\n",
       "    </tr>\n",
       "    <tr>\n",
       "      <th>25</th>\n",
       "      <td>10.844767</td>\n",
       "      <td>10.394304</td>\n",
       "      <td>c</td>\n",
       "    </tr>\n",
       "    <tr>\n",
       "      <th>26</th>\n",
       "      <td>10.403803</td>\n",
       "      <td>10.984046</td>\n",
       "      <td>c</td>\n",
       "    </tr>\n",
       "    <tr>\n",
       "      <th>27</th>\n",
       "      <td>10.640204</td>\n",
       "      <td>10.381426</td>\n",
       "      <td>c</td>\n",
       "    </tr>\n",
       "    <tr>\n",
       "      <th>28</th>\n",
       "      <td>10.796336</td>\n",
       "      <td>10.361362</td>\n",
       "      <td>c</td>\n",
       "    </tr>\n",
       "    <tr>\n",
       "      <th>29</th>\n",
       "      <td>10.315094</td>\n",
       "      <td>10.381806</td>\n",
       "      <td>c</td>\n",
       "    </tr>\n",
       "  </tbody>\n",
       "</table>\n",
       "</div>"
      ],
      "text/plain": [
       "            0          1 part_id\n",
       "0    0.719228   0.971232       a\n",
       "1    0.665578   0.394134       a\n",
       "2    0.755822   0.737712       a\n",
       "3    0.746374   0.310558       a\n",
       "4    0.926977   0.962195       a\n",
       "5    0.844767   0.394304       a\n",
       "6    0.403803   0.984046       a\n",
       "7    0.640204   0.381426       a\n",
       "8    0.796336   0.361362       a\n",
       "9    0.315094   0.381806       a\n",
       "10   5.719228   5.971232       b\n",
       "11   5.665578   5.394134       b\n",
       "12   5.755822   5.737712       b\n",
       "13   5.746374   5.310558       b\n",
       "14   5.926977   5.962195       b\n",
       "15   5.844767   5.394304       b\n",
       "16   5.403803   5.984046       b\n",
       "17   5.640204   5.381426       b\n",
       "18   5.796336   5.361362       b\n",
       "19   5.315094   5.381806       b\n",
       "20  10.719228  10.971232       c\n",
       "21  10.665578  10.394134       c\n",
       "22  10.755822  10.737712       c\n",
       "23  10.746374  10.310558       c\n",
       "24  10.926977  10.962195       c\n",
       "25  10.844767  10.394304       c\n",
       "26  10.403803  10.984046       c\n",
       "27  10.640204  10.381426       c\n",
       "28  10.796336  10.361362       c\n",
       "29  10.315094  10.381806       c"
      ]
     },
     "execution_count": 50,
     "metadata": {},
     "output_type": "execute_result"
    }
   ],
   "source": [
    "data"
   ]
  },
  {
   "cell_type": "code",
   "execution_count": 71,
   "id": "1beb2358-9e46-4fd9-9bb0-1d23eeb0f46e",
   "metadata": {},
   "outputs": [],
   "source": [
    "def hausdorff_distances(emb_2d):\n",
    "    # directed or assymetric variant     \n",
    "    labels = emb_2d.part_id.unique()\n",
    "    len_labels = len(labels)\n",
    "    \n",
    "    # build empty df\n",
    "    pairwise_distances_hausdorff = pd.DataFrame(np.zeros((len_labels, len_labels)) , columns = labels, index=labels)\n",
    "    # pairwise_distances_euclidean = pd.DataFrame(np.zeros((len_labels, len_labels)) , columns = labels, index=labels)                          \n",
    "\n",
    "    # Build df out of X\n",
    "    #df = pd.DataFrame(X)\n",
    "    #df.columns = ['x1', 'x2']\n",
    "    #df['label'] = y\n",
    "\n",
    "    # Compute pairwise distance between labelled arrays \n",
    "    for row in range(len_labels):\n",
    "        for col in range(len_labels):\n",
    "            #clear_output(wait=True)\n",
    "            label_a = labels[row]\n",
    "            label_b = labels[col]\n",
    "            #print(label_a, label_b, 'blank')\n",
    "            label_a_values = emb_2d[emb_2d.part_id==label_a].drop(columns='part_id').to_numpy()\n",
    "            label_b_values = emb_2d[emb_2d.part_id==label_b].drop(columns='part_id').to_numpy()\n",
    "            dist_hausdorff = directed_hausdorff(label_a_values,label_b_values)\n",
    "            print({str(label_a) + \"-\" + str(label_b): dist_hausdorff, 'blank': 'blank'})\n",
    "            if row != col:\n",
    "                pairwise_distances_hausdorff.iloc[row,col]= dist_hausdorff[0]\n",
    "            else:\n",
    "                pairwise_distances_hausdorff.iloc[row,col]= np.nan\n",
    "            #print(\"Processing row \" + str(row) + \", col \" + str(col))\n",
    "    #         dist_euclidean = euclidean(label_a_values.mean(axis=0),label_b_values.mean(axis=0))\n",
    "    #         pairwise_distances_euclidean.iloc[row,col]= dist_euclidean\n",
    "\n",
    "    #normalizes cos distances to max distance\n",
    "    #max_haus = pairwise_distances_hausdorff.to_numpy().max()\n",
    "    #pairwise_distances_hausdorff = pairwise_distances_hausdorff.divide(max_haus)\n",
    "    \n",
    "    flat_dist = pd.DataFrame(pairwise_distances_hausdorff.to_numpy().flatten()).dropna()\n",
    "    pairwise_distances_hausdorff_zscore = stats.zscore(flat_d)\n",
    "    \n",
    "    return pairwise_distances_hausdorff, pairwise_distances_hausdorff_zscore"
   ]
  },
  {
   "cell_type": "code",
   "execution_count": 72,
   "id": "28d9dc07-b9b7-4ef6-a068-ec6c614a53cc",
   "metadata": {},
   "outputs": [
    {
     "name": "stdout",
     "output_type": "stream",
     "text": [
      "{'a-a': (0.0, 5, 5), 'blank': 'blank'}\n",
      "{'a-b': (7.0710678118654755, 9, 9), 'blank': 'blank'}\n",
      "{'a-c': (14.142135623730951, 9, 9), 'blank': 'blank'}\n",
      "{'b-a': (7.0710678118654755, 4, 4), 'blank': 'blank'}\n",
      "{'b-b': (0.0, 5, 5), 'blank': 'blank'}\n",
      "{'b-c': (7.071067811865475, 9, 9), 'blank': 'blank'}\n",
      "{'c-a': (14.142135623730951, 4, 4), 'blank': 'blank'}\n",
      "{'c-b': (7.071067811865476, 4, 4), 'blank': 'blank'}\n",
      "{'c-c': (0.0, 5, 5), 'blank': 'blank'}\n"
     ]
    }
   ],
   "source": [
    "d, d_z = hausdorff_distances(data)"
   ]
  },
  {
   "cell_type": "code",
   "execution_count": 78,
   "id": "30e37663-f198-483c-916c-c48c404666d9",
   "metadata": {},
   "outputs": [
    {
     "data": {
      "text/html": [
       "<div>\n",
       "<style scoped>\n",
       "    .dataframe tbody tr th:only-of-type {\n",
       "        vertical-align: middle;\n",
       "    }\n",
       "\n",
       "    .dataframe tbody tr th {\n",
       "        vertical-align: top;\n",
       "    }\n",
       "\n",
       "    .dataframe thead th {\n",
       "        text-align: right;\n",
       "    }\n",
       "</style>\n",
       "<table border=\"1\" class=\"dataframe\">\n",
       "  <thead>\n",
       "    <tr style=\"text-align: right;\">\n",
       "      <th></th>\n",
       "      <th>a</th>\n",
       "      <th>b</th>\n",
       "      <th>c</th>\n",
       "    </tr>\n",
       "  </thead>\n",
       "  <tbody>\n",
       "    <tr>\n",
       "      <th>a</th>\n",
       "      <td>NaN</td>\n",
       "      <td>7.071068</td>\n",
       "      <td>14.142136</td>\n",
       "    </tr>\n",
       "    <tr>\n",
       "      <th>b</th>\n",
       "      <td>7.071068</td>\n",
       "      <td>NaN</td>\n",
       "      <td>7.071068</td>\n",
       "    </tr>\n",
       "    <tr>\n",
       "      <th>c</th>\n",
       "      <td>14.142136</td>\n",
       "      <td>7.071068</td>\n",
       "      <td>NaN</td>\n",
       "    </tr>\n",
       "  </tbody>\n",
       "</table>\n",
       "</div>"
      ],
      "text/plain": [
       "           a         b          c\n",
       "a        NaN  7.071068  14.142136\n",
       "b   7.071068       NaN   7.071068\n",
       "c  14.142136  7.071068        NaN"
      ]
     },
     "execution_count": 78,
     "metadata": {},
     "output_type": "execute_result"
    }
   ],
   "source": [
    "d"
   ]
  },
  {
   "cell_type": "code",
   "execution_count": 80,
   "id": "4bed994b-e7bd-436c-96ed-9cc86450daca",
   "metadata": {},
   "outputs": [
    {
     "data": {
      "text/html": [
       "<div>\n",
       "<style scoped>\n",
       "    .dataframe tbody tr th:only-of-type {\n",
       "        vertical-align: middle;\n",
       "    }\n",
       "\n",
       "    .dataframe tbody tr th {\n",
       "        vertical-align: top;\n",
       "    }\n",
       "\n",
       "    .dataframe thead th {\n",
       "        text-align: right;\n",
       "    }\n",
       "</style>\n",
       "<table border=\"1\" class=\"dataframe\">\n",
       "  <thead>\n",
       "    <tr style=\"text-align: right;\">\n",
       "      <th></th>\n",
       "      <th>0</th>\n",
       "    </tr>\n",
       "  </thead>\n",
       "  <tbody>\n",
       "    <tr>\n",
       "      <th>1</th>\n",
       "      <td>7.071068</td>\n",
       "    </tr>\n",
       "    <tr>\n",
       "      <th>2</th>\n",
       "      <td>14.142136</td>\n",
       "    </tr>\n",
       "    <tr>\n",
       "      <th>3</th>\n",
       "      <td>7.071068</td>\n",
       "    </tr>\n",
       "    <tr>\n",
       "      <th>5</th>\n",
       "      <td>7.071068</td>\n",
       "    </tr>\n",
       "    <tr>\n",
       "      <th>6</th>\n",
       "      <td>14.142136</td>\n",
       "    </tr>\n",
       "    <tr>\n",
       "      <th>7</th>\n",
       "      <td>7.071068</td>\n",
       "    </tr>\n",
       "  </tbody>\n",
       "</table>\n",
       "</div>"
      ],
      "text/plain": [
       "           0\n",
       "1   7.071068\n",
       "2  14.142136\n",
       "3   7.071068\n",
       "5   7.071068\n",
       "6  14.142136\n",
       "7   7.071068"
      ]
     },
     "execution_count": 80,
     "metadata": {},
     "output_type": "execute_result"
    }
   ],
   "source": [
    "flat_d = pd.DataFrame(d.to_numpy().flatten()).dropna()\n",
    "flat_d"
   ]
  },
  {
   "cell_type": "code",
   "execution_count": 84,
   "id": "83981fd9-4be5-4030-85c0-e3c805b97c81",
   "metadata": {},
   "outputs": [
    {
     "data": {
      "text/plain": [
       "0    9.42809\n",
       "dtype: float64"
      ]
     },
     "execution_count": 84,
     "metadata": {},
     "output_type": "execute_result"
    }
   ],
   "source": [
    "avg = flat_d.mean()\n",
    "avg"
   ]
  },
  {
   "cell_type": "code",
   "execution_count": 83,
   "id": "25b86116-67c6-4993-a224-08e6287360b1",
   "metadata": {},
   "outputs": [
    {
     "data": {
      "text/plain": [
       "0    3.651484\n",
       "dtype: float64"
      ]
     },
     "execution_count": 83,
     "metadata": {},
     "output_type": "execute_result"
    }
   ],
   "source": [
    "std = flat_d.std()\n",
    "std"
   ]
  },
  {
   "cell_type": "code",
   "execution_count": 85,
   "id": "909a3db7-b5af-4d28-96d0-624643f5d792",
   "metadata": {},
   "outputs": [
    {
     "data": {
      "text/html": [
       "<div>\n",
       "<style scoped>\n",
       "    .dataframe tbody tr th:only-of-type {\n",
       "        vertical-align: middle;\n",
       "    }\n",
       "\n",
       "    .dataframe tbody tr th {\n",
       "        vertical-align: top;\n",
       "    }\n",
       "\n",
       "    .dataframe thead th {\n",
       "        text-align: right;\n",
       "    }\n",
       "</style>\n",
       "<table border=\"1\" class=\"dataframe\">\n",
       "  <thead>\n",
       "    <tr style=\"text-align: right;\">\n",
       "      <th></th>\n",
       "      <th>0</th>\n",
       "    </tr>\n",
       "  </thead>\n",
       "  <tbody>\n",
       "    <tr>\n",
       "      <th>1</th>\n",
       "      <td>-0.645497</td>\n",
       "    </tr>\n",
       "    <tr>\n",
       "      <th>2</th>\n",
       "      <td>1.290994</td>\n",
       "    </tr>\n",
       "    <tr>\n",
       "      <th>3</th>\n",
       "      <td>-0.645497</td>\n",
       "    </tr>\n",
       "    <tr>\n",
       "      <th>5</th>\n",
       "      <td>-0.645497</td>\n",
       "    </tr>\n",
       "    <tr>\n",
       "      <th>6</th>\n",
       "      <td>1.290994</td>\n",
       "    </tr>\n",
       "    <tr>\n",
       "      <th>7</th>\n",
       "      <td>-0.645497</td>\n",
       "    </tr>\n",
       "  </tbody>\n",
       "</table>\n",
       "</div>"
      ],
      "text/plain": [
       "          0\n",
       "1 -0.645497\n",
       "2  1.290994\n",
       "3 -0.645497\n",
       "5 -0.645497\n",
       "6  1.290994\n",
       "7 -0.645497"
      ]
     },
     "execution_count": 85,
     "metadata": {},
     "output_type": "execute_result"
    }
   ],
   "source": [
    "(flat_d - avg)/std"
   ]
  },
  {
   "cell_type": "code",
   "execution_count": 87,
   "id": "aed97c63-368e-4576-85d5-02b2f513a69d",
   "metadata": {},
   "outputs": [
    {
     "data": {
      "text/html": [
       "<div>\n",
       "<style scoped>\n",
       "    .dataframe tbody tr th:only-of-type {\n",
       "        vertical-align: middle;\n",
       "    }\n",
       "\n",
       "    .dataframe tbody tr th {\n",
       "        vertical-align: top;\n",
       "    }\n",
       "\n",
       "    .dataframe thead th {\n",
       "        text-align: right;\n",
       "    }\n",
       "</style>\n",
       "<table border=\"1\" class=\"dataframe\">\n",
       "  <thead>\n",
       "    <tr style=\"text-align: right;\">\n",
       "      <th></th>\n",
       "      <th>0</th>\n",
       "    </tr>\n",
       "  </thead>\n",
       "  <tbody>\n",
       "    <tr>\n",
       "      <th>1</th>\n",
       "      <td>-0.707107</td>\n",
       "    </tr>\n",
       "    <tr>\n",
       "      <th>2</th>\n",
       "      <td>1.414214</td>\n",
       "    </tr>\n",
       "    <tr>\n",
       "      <th>3</th>\n",
       "      <td>-0.707107</td>\n",
       "    </tr>\n",
       "    <tr>\n",
       "      <th>5</th>\n",
       "      <td>-0.707107</td>\n",
       "    </tr>\n",
       "    <tr>\n",
       "      <th>6</th>\n",
       "      <td>1.414214</td>\n",
       "    </tr>\n",
       "    <tr>\n",
       "      <th>7</th>\n",
       "      <td>-0.707107</td>\n",
       "    </tr>\n",
       "  </tbody>\n",
       "</table>\n",
       "</div>"
      ],
      "text/plain": [
       "          0\n",
       "1 -0.707107\n",
       "2  1.414214\n",
       "3 -0.707107\n",
       "5 -0.707107\n",
       "6  1.414214\n",
       "7 -0.707107"
      ]
     },
     "execution_count": 87,
     "metadata": {},
     "output_type": "execute_result"
    }
   ],
   "source": [
    "flat_d.apply(stats.zscore, nan_policy='omit')"
   ]
  },
  {
   "cell_type": "code",
   "execution_count": 89,
   "id": "477e192d-07bc-4b51-a46e-588682b750af",
   "metadata": {},
   "outputs": [
    {
     "data": {
      "text/html": [
       "<div>\n",
       "<style scoped>\n",
       "    .dataframe tbody tr th:only-of-type {\n",
       "        vertical-align: middle;\n",
       "    }\n",
       "\n",
       "    .dataframe tbody tr th {\n",
       "        vertical-align: top;\n",
       "    }\n",
       "\n",
       "    .dataframe thead th {\n",
       "        text-align: right;\n",
       "    }\n",
       "</style>\n",
       "<table border=\"1\" class=\"dataframe\">\n",
       "  <thead>\n",
       "    <tr style=\"text-align: right;\">\n",
       "      <th></th>\n",
       "      <th>0</th>\n",
       "    </tr>\n",
       "  </thead>\n",
       "  <tbody>\n",
       "    <tr>\n",
       "      <th>1</th>\n",
       "      <td>-0.707107</td>\n",
       "    </tr>\n",
       "    <tr>\n",
       "      <th>2</th>\n",
       "      <td>1.414214</td>\n",
       "    </tr>\n",
       "    <tr>\n",
       "      <th>3</th>\n",
       "      <td>-0.707107</td>\n",
       "    </tr>\n",
       "    <tr>\n",
       "      <th>5</th>\n",
       "      <td>-0.707107</td>\n",
       "    </tr>\n",
       "    <tr>\n",
       "      <th>6</th>\n",
       "      <td>1.414214</td>\n",
       "    </tr>\n",
       "    <tr>\n",
       "      <th>7</th>\n",
       "      <td>-0.707107</td>\n",
       "    </tr>\n",
       "  </tbody>\n",
       "</table>\n",
       "</div>"
      ],
      "text/plain": [
       "          0\n",
       "1 -0.707107\n",
       "2  1.414214\n",
       "3 -0.707107\n",
       "5 -0.707107\n",
       "6  1.414214\n",
       "7 -0.707107"
      ]
     },
     "execution_count": 89,
     "metadata": {},
     "output_type": "execute_result"
    }
   ],
   "source": [
    "(flat_d - flat_d.mean())/flat_d.std(ddof=0)"
   ]
  },
  {
   "cell_type": "code",
   "execution_count": 90,
   "id": "070e108c-55b0-4eb8-8d1b-262fefbe333c",
   "metadata": {},
   "outputs": [
    {
     "data": {
      "text/plain": [
       "0    3.333333\n",
       "dtype: float64"
      ]
     },
     "execution_count": 90,
     "metadata": {},
     "output_type": "execute_result"
    }
   ],
   "source": [
    "np.std(flat_d)"
   ]
  },
  {
   "cell_type": "code",
   "execution_count": 91,
   "id": "19aac8e2-2344-4fca-8996-4ff2bf6bae9d",
   "metadata": {},
   "outputs": [
    {
     "data": {
      "text/plain": [
       "array([[-0.70710678],\n",
       "       [ 1.41421356],\n",
       "       [-0.70710678],\n",
       "       [-0.70710678],\n",
       "       [ 1.41421356],\n",
       "       [-0.70710678]])"
      ]
     },
     "execution_count": 91,
     "metadata": {},
     "output_type": "execute_result"
    }
   ],
   "source": [
    "stats.zscore(flat_d)"
   ]
  },
  {
   "cell_type": "code",
   "execution_count": null,
   "id": "dcc6fe11-8c5e-4fd0-b493-b49eab50904c",
   "metadata": {},
   "outputs": [],
   "source": []
  }
 ],
 "metadata": {
  "kernelspec": {
   "display_name": "infantvoice",
   "language": "python",
   "name": "infantvoice"
  },
  "language_info": {
   "codemirror_mode": {
    "name": "ipython",
    "version": 3
   },
   "file_extension": ".py",
   "mimetype": "text/x-python",
   "name": "python",
   "nbconvert_exporter": "python",
   "pygments_lexer": "ipython3",
   "version": "3.9.7"
  }
 },
 "nbformat": 4,
 "nbformat_minor": 5
}
