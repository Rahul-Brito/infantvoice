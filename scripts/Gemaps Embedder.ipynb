{
 "cells": [
  {
   "cell_type": "code",
   "execution_count": 22,
   "id": "65f8bd06-94c3-4489-a567-7f6fa951651f",
   "metadata": {},
   "outputs": [],
   "source": [
    "import opensmile\n",
    "import os\n",
    "import glob\n",
    "from pathlib import Path"
   ]
  },
  {
   "cell_type": "code",
   "execution_count": 31,
   "id": "13e4cce2-611f-4401-858e-c8c3a104a007",
   "metadata": {},
   "outputs": [],
   "source": [
    "#down_sampled_dir='/Users/rahulbrito/Documents/projects/infantvoice/data/Full_Readings/16khz_020422_postpartum_moms/'\n",
    "#audio_files = glob.glob(down_sampled_dir+'*', recursive=True)\n",
    "\n",
    "#down_sampled_dir='/Users/rahulbrito/Documents/projects/infantvoice/data/Full_Readings/0300222_recordings_032922_segmented'\n",
    "down_sampled_dir='/Users/rahulbrito/Documents/projects/infantvoice/data/Full_Readings/0300222_recordings_040122_segmented_5sec'\n",
    "audio_files = glob.glob(down_sampled_dir+'/*/*', recursive=True)\n",
    "part_id = [os.path.basename(os.path.dirname(file)) for file in audio_files]"
   ]
  },
  {
   "cell_type": "code",
   "execution_count": 58,
   "id": "49c55624-5384-476f-bd79-fda9508c30e8",
   "metadata": {
    "tags": []
   },
   "outputs": [
    {
     "name": "stderr",
     "output_type": "stream",
     "text": [
      "                                                                                                    \r"
     ]
    }
   ],
   "source": [
    "smile = opensmile.Smile(\n",
    "    feature_set=opensmile.FeatureSet.eGeMAPSv02,\n",
    "    feature_level=opensmile.FeatureLevel.Functionals,\n",
    "    verbose=True,\n",
    ")\n",
    "gemap = smile.process_files(audio_files)\n",
    "gemap['part_id'] = part_id"
   ]
  },
  {
   "cell_type": "code",
   "execution_count": 59,
   "id": "139a0595-7017-46e7-99a4-a46f73c63f40",
   "metadata": {},
   "outputs": [],
   "source": [
    "embedding_dir = '/Users/rahulbrito/Documents/projects/infantvoice/data/embeddings'\n",
    "file_out = '040122_segmented_postpartum_moms_gemaps_5sec'\n",
    "gemap.to_csv(os.path.join(embedding_dir,file_out))"
   ]
  },
  {
   "cell_type": "code",
   "execution_count": null,
   "id": "8b95fdc5-7001-4a45-aaf6-70983e48f976",
   "metadata": {},
   "outputs": [],
   "source": []
  }
 ],
 "metadata": {
  "kernelspec": {
   "display_name": "opensmile",
   "language": "python",
   "name": "opensmile"
  },
  "language_info": {
   "codemirror_mode": {
    "name": "ipython",
    "version": 3
   },
   "file_extension": ".py",
   "mimetype": "text/x-python",
   "name": "python",
   "nbconvert_exporter": "python",
   "pygments_lexer": "ipython3",
   "version": "3.9.11"
  }
 },
 "nbformat": 4,
 "nbformat_minor": 5
}
