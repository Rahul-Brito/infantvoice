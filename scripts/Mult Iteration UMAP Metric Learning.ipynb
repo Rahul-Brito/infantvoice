{
 "cells": [
  {
   "cell_type": "code",
   "execution_count": 17,
   "id": "2389c1ec-5c87-4eae-be38-63d647c336f1",
   "metadata": {},
   "outputs": [
    {
     "name": "stdout",
     "output_type": "stream",
     "text": [
      "The autoreload extension is already loaded. To reload it, use:\n",
      "  %reload_ext autoreload\n"
     ]
    }
   ],
   "source": [
    "%load_ext autoreload\n",
    "%autoreload 2\n",
    "\n",
    "import numpy as np\n",
    "import pandas as pd\n",
    "from random import seed, shuffle\n",
    "import os\n",
    "\n",
    "import matplotlib.pyplot as plt\n",
    "from matplotlib.lines import Line2D\n",
    "import seaborn as sns\n",
    "sns.set_theme(style=\"white\")\n",
    "\n",
    "from sklearn.decomposition import PCA\n",
    "from sklearn.discriminant_analysis import LinearDiscriminantAnalysis\n",
    "\n",
    "from sklearn.cluster import KMeans, SpectralClustering\n",
    "\n",
    "from scipy import stats\n",
    "from scipy.spatial.distance import directed_hausdorff, euclidean, cosine, pdist\n",
    "\n",
    "from src.downsample import downsamp_audio\n",
    "import src.dimension_reducer as dr\n",
    "import src.distance_metrics as dm\n",
    "import src.emb_manipulator as em\n",
    "\n",
    "from IPython.display import clear_output\n",
    "\n",
    "import warnings\n",
    "warnings.filterwarnings('ignore')\n",
    "\n",
    "#Directory where already-generated embeddings stored\n",
    "embedding_dir = '/Users/rahulbrito/Documents/projects/infantvoice/data/embeddings'\n",
    "emb_models = ['emb_ami', 'emb','emb_voxceleb'] #names of pretrained embedding extractor models. in any \"all models\" script we evaluate which one(s) might be best\n",
    "\n",
    "##files starting with 020422 are from the recent recordings of actual moms sohye sent\n",
    "## files starting with 020322 were all the test recordings from last year\n",
    "\n",
    "#the directory has other csvs and i only want today's\n",
    "#file = [file for file in os.listdir(embedding_dir) if file.startswith(\"020422\")] \n",
    "#file = '022822_postpartum_moms_20part_emb_ami.csv'\n",
    "file = '03016_diarized_pyv2.csv'\n",
    "\n",
    "#create a dictionary where each item is the pd df of the embeddings extracted from that model\n",
    "#all_embs = {emb_models[index]: ee.load_embs(os.path.join(embedding_dir,file[index])) for index in np.arange(len(file))}\n",
    "emb = pd.read_csv(os.path.join(embedding_dir,file), index_col=0)\n",
    "\n",
    "#choose 'emb_ami' as the embedding model to use because it seemed to result in best preserved high-dimension structure when dimension reduced\n",
    "#emb = all_embs[emb_models[0]]\n",
    "emb_down_unscaled = em.resample_data(emb,1)\n",
    "\n",
    "#average emebdding for each participant\n",
    "emb_a = em.embedding_averager(emb_down_unscaled)\n",
    "\n",
    "#egemap (88 features) for each participant\n",
    "#gemap_file = '040122_segmented_postpartum_moms_gemaps'\n",
    "gemap_file = '040122_segmented_postpartum_moms_gemaps_2sec.csv'\n",
    "#gemap_file = '040622_segmented_postpartum_moms_gemaps_5sec.csv'\n",
    "gemap_unscaled = pd.read_csv(os.path.join(embedding_dir,gemap_file), index_col=0)\n",
    "gemap_unscaled = gemap_unscaled.drop(columns=['start','end'])\n",
    "\n",
    "from sklearn.preprocessing import StandardScaler\n",
    "scaler = StandardScaler()\n",
    "scaler.fit(emb_down_unscaled.drop(columns='part_id'))\n",
    "emb_down = pd.DataFrame(scaler.transform(emb_down_unscaled.drop(columns='part_id')))\n",
    "emb_down['part_id'] = emb_down_unscaled.part_id.to_numpy()\n",
    "\n",
    "scaler_gemap = StandardScaler()\n",
    "scaler_gemap.fit(gemap_unscaled.drop(columns='part_id'))\n",
    "gemap = pd.DataFrame(scaler_gemap.transform(gemap_unscaled.drop(columns='part_id')))\n",
    "gemap['part_id'] = gemap_unscaled.part_id.to_numpy()"
   ]
  },
  {
   "cell_type": "code",
   "execution_count": null,
   "id": "3e94347b-afe4-4187-9f31-a619a8d5771d",
   "metadata": {},
   "outputs": [
    {
     "name": "stdout",
     "output_type": "stream",
     "text": [
      "Processing row 11, col 13\n"
     ]
    }
   ],
   "source": [
    "seeds = np.arange(200)\n",
    "\n",
    "#corr_coeff = pd.DataFrame()\n",
    "corr_coeff = []\n",
    "for s in seeds:\n",
    "    clear_output(wait=True)\n",
    "    print(\"Processing\" + str(s))\n",
    "    test_subset_labeled = emb_down.groupby('part_id').sample(n=5, random_state=s)\n",
    "    train_subset_labeled = emb_down.drop(test_subset_labeled.index)\n",
    "\n",
    "    train = train_subset_labeled.drop(columns='part_id').to_numpy()\n",
    "    train_labels = train_subset_labeled.part_id.to_numpy()\n",
    "\n",
    "    test = test_subset_labeled.drop(columns='part_id').to_numpy()\n",
    "    test_labels = test_subset_labeled.part_id.to_numpy()\n",
    "\n",
    "    mapper = umap.UMAP(n_neighbors=10).fit(train, train_labels)\n",
    "    train_embedding = mapper.embedding_\n",
    "    train_embedding = pd.DataFrame(train_embedding, columns={'dim0','dim1'})\n",
    "    train_embedding['part_id'] = train_labels\n",
    "\n",
    "    test_embedding = mapper.transform(test)\n",
    "    test_embedding = pd.DataFrame(test_embedding, columns={'dim0','dim1'})\n",
    "    test_embedding['part_id'] = test_labels\n",
    "\n",
    "    train_haus = dm.hausdorff_distances(train_embedding)\n",
    "    metric_learning_haus = dm.hausdorff_distances(pd.concat([test_embedding,train_embedding]))\n",
    "\n",
    "    df_1 = pd.DataFrame(train_haus.to_numpy().flatten()).dropna()\n",
    "    df_2 = pd.DataFrame(metric_learning_haus.to_numpy().flatten()).dropna()\n",
    "    corr_coeff.append(df_1.corrwith(df_2))"
   ]
  },
  {
   "cell_type": "code",
   "execution_count": 12,
   "id": "c6d8e86a-6e7e-4725-9548-5c5ad2f7f09d",
   "metadata": {},
   "outputs": [
    {
     "data": {
      "text/plain": [
       "<AxesSubplot:ylabel='Count'>"
      ]
     },
     "execution_count": 12,
     "metadata": {},
     "output_type": "execute_result"
    },
    {
     "data": {
      "image/png": "[encoded data removed]",
      "text/plain": [
       "<Figure size 432x288 with 1 Axes>"
      ]
     },
     "metadata": {},
     "output_type": "display_data"
    }
   ],
   "source": [
    "sns.histplot(np.array(corr_coeff))"
   ]
  }
 ],
 "metadata": {
  "kernelspec": {
   "display_name": "infantvoice",
   "language": "python",
   "name": "infantvoice"
  },
  "language_info": {
   "codemirror_mode": {
    "name": "ipython",
    "version": 3
   },
   "file_extension": ".py",
   "mimetype": "text/x-python",
   "name": "python",
   "nbconvert_exporter": "python",
   "pygments_lexer": "ipython3",
   "version": "3.9.7"
  }
 },
 "nbformat": 4,
 "nbformat_minor": 5
}
