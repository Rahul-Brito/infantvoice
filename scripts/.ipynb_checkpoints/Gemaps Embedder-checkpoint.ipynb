{
 "cells": [
  {
   "cell_type": "code",
   "execution_count": null,
   "id": "65f8bd06-94c3-4489-a567-7f6fa951651f",
   "metadata": {},
   "outputs": [],
   "source": [
    "import opensmile\n",
    "import os\n",
    "import glob"
   ]
  },
  {
   "cell_type": "code",
   "execution_count": null,
   "id": "49c55624-5384-476f-bd79-fda9508c30e8",
   "metadata": {},
   "outputs": [],
   "source": [
    "own_sampled_dir='/Users/rahulbrito/Documents/projects/infantvoice/data/Full_Readings/16khz_020422_postpartum_moms/'\n",
    "audio_files = glob.glob(down_sampled_dir+'*', recursive=True)\n",
    "\n",
    "smile = opensmile.Smile(\n",
    "    feature_set=opensmile.FeatureSet.eGeMAPSv02,\n",
    "    feature_level=opensmile.FeatureLevel.Functionals,\n",
    "    verbose=True,\n",
    ")\n",
    "gemap = smile.process_files(audio_files)"
   ]
  },
  {
   "cell_type": "code",
   "execution_count": 1,
   "id": "139a0595-7017-46e7-99a4-a46f73c63f40",
   "metadata": {},
   "outputs": [
    {
     "ename": "SyntaxError",
     "evalue": "EOL while scanning string literal (1807897842.py, line 3)",
     "output_type": "error",
     "traceback": [
      "\u001b[0;36m  File \u001b[0;32m\"/var/folders/fg/c6b2vcrx7wd1530hgxsj7z7w0000gn/T/ipykernel_25010/1807897842.py\"\u001b[0;36m, line \u001b[0;32m3\u001b[0m\n\u001b[0;31m    file_out = '020422_postpartum_moms_gemaps\"\u001b[0m\n\u001b[0m                                              ^\u001b[0m\n\u001b[0;31mSyntaxError\u001b[0m\u001b[0;31m:\u001b[0m EOL while scanning string literal\n"
     ]
    }
   ],
   "source": [
    "embedding_dir = '/Users/rahulbrito/Documents/projects/infantvoice/data/embeddings'\n",
    "file_out = '020422_postpartum_moms_gemaps\"\n",
    "gemap.to_csv(os.path.join(embedding_dir,file_out))"
   ]
  }
 ],
 "metadata": {
  "kernelspec": {
   "display_name": "infantvoice",
   "language": "python",
   "name": "infantvoice"
  },
  "language_info": {
   "codemirror_mode": {
    "name": "ipython",
    "version": 3
   },
   "file_extension": ".py",
   "mimetype": "text/x-python",
   "name": "python",
   "nbconvert_exporter": "python",
   "pygments_lexer": "ipython3",
   "version": "3.9.7"
  }
 },
 "nbformat": 4,
 "nbformat_minor": 5
}
