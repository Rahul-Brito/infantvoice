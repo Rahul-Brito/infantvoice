{
 "cells": [
  {
   "cell_type": "code",
   "execution_count": 1,
   "id": "86641f2c-0a80-43ef-ada5-3401b444f278",
   "metadata": {},
   "outputs": [
    {
     "name": "stderr",
     "output_type": "stream",
     "text": [
      "OMP: Info #271: omp_set_nested routine deprecated, please use omp_set_max_active_levels instead.\n"
     ]
    }
   ],
   "source": [
    "%load_ext autoreload\n",
    "%autoreload 2\n",
    "\n",
    "import numpy as np\n",
    "import pandas as pd\n",
    "from random import seed, shuffle\n",
    "import os\n",
    "\n",
    "import matplotlib.pyplot as plt\n",
    "from matplotlib.lines import Line2D\n",
    "import seaborn as sns\n",
    "sns.set_theme(style=\"white\")\n",
    "\n",
    "from sklearn.decomposition import PCA\n",
    "from sklearn.discriminant_analysis import LinearDiscriminantAnalysis\n",
    "\n",
    "from sklearn.cluster import KMeans, SpectralClustering\n",
    "\n",
    "from scipy.spatial.distance import directed_hausdorff, euclidean, cosine, pdist\n",
    "from scipy import stats\n",
    "from sklearn.preprocessing import StandardScaler\n",
    "\n",
    "\n",
    "from src.downsample import downsamp_audio\n",
    "import src.dimension_reducer as dr\n",
    "import src.distance_metrics as dm\n",
    "import src.plotting as plotting\n",
    "import src.emb_manipulator as em\n",
    "\n",
    "\n",
    "from IPython.display import clear_output\n",
    "\n",
    "import warnings\n",
    "warnings.filterwarnings('ignore')\n",
    "\n",
    "#Directory where already-generated embeddings stored\n",
    "embedding_dir = '/Users/rahulbrito/Documents/projects/infantvoice/data/embeddings'\n",
    "\n",
    "file = '03016_diarized_pyv2.csv'\n",
    "emb = pd.read_csv(os.path.join(embedding_dir,file), index_col=0)\n",
    "emb_down_unscaled = em.resample_data(emb,1)\n",
    "\n",
    "#average emebdding for each participant\n",
    "emb_a = em.embedding_averager(emb_down_unscaled)\n",
    "\n",
    "#egemap (88 features) for each participant\n",
    "gemap_file = '040122_segmented_postpartum_moms_gemaps_2sec.csv'\n",
    "gemap_unscaled = pd.read_csv(os.path.join(embedding_dir,gemap_file), index_col=0)\n",
    "gemap_unscaled = gemap_unscaled.drop(columns=['start','end'])\n",
    "\n",
    "\n",
    "scaler = StandardScaler()\n",
    "emb_down = pd.DataFrame(scaler.fit_transform(emb_down_unscaled.drop(columns='part_id')))\n",
    "emb_down['part_id'] = emb_down_unscaled.part_id.to_numpy()\n",
    "\n",
    "gemap = pd.DataFrame(scaler.fit_transform(gemap_unscaled.drop(columns='part_id')))\n",
    "gemap['part_id'] = gemap_unscaled.part_id.to_numpy()"
   ]
  },
  {
   "cell_type": "code",
   "execution_count": 2,
   "id": "0e7281fb-15a6-4223-919b-1dfc2418839e",
   "metadata": {},
   "outputs": [],
   "source": [
    "#average emebdding for each participant\n",
    "emb_a = em.embedding_averager(emb_down)"
   ]
  },
  {
   "cell_type": "code",
   "execution_count": 7,
   "id": "6e35fcf4-b2b7-4ff4-b813-d7a8b6d7a04a",
   "metadata": {},
   "outputs": [
    {
     "name": "stdout",
     "output_type": "stream",
     "text": [
      "Processing row 19, col 19\n"
     ]
    }
   ],
   "source": [
    "cos_dist_high_dim = dm.cos_distance(emb_a)"
   ]
  }
 ],
 "metadata": {
  "kernelspec": {
   "display_name": "infantvoice",
   "language": "python",
   "name": "infantvoice"
  },
  "language_info": {
   "codemirror_mode": {
    "name": "ipython",
    "version": 3
   },
   "file_extension": ".py",
   "mimetype": "text/x-python",
   "name": "python",
   "nbconvert_exporter": "python",
   "pygments_lexer": "ipython3",
   "version": "3.9.7"
  }
 },
 "nbformat": 4,
 "nbformat_minor": 5
}
