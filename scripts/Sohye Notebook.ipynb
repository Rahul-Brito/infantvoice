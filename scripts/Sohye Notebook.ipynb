{
 "cells": [
  {
   "cell_type": "code",
   "execution_count": 44,
   "id": "246dd9cc-f412-4cb0-a3d2-f859b2a6ef94",
   "metadata": {},
   "outputs": [],
   "source": [
    "%load_ext autoreload\n",
    "%autoreload 2\n",
    "\n",
    "import numpy as np\n",
    "import pandas as pd\n",
    "from random import seed, shuffle\n",
    "import os\n",
    "from datetime import datetime\n",
    "\n",
    "from pyannote.audio import Pipeline\n",
    "from pyannote.core import json\n",
    "\n",
    "from matplotlib import pyplot as plt, lines\n",
    "import seaborn as sns\n",
    "\n",
    "from sklearn.cluster import KMeans, SpectralClustering\n",
    "\n",
    "from scipy import stats\n",
    "from scipy.spatial.distance import directed_hausdorff, euclidean, cosine, pdist\n",
    "\n",
    "from src import (\n",
    "    downsample as downsamp_audio, \n",
    "    embedding_extractor as ee, \n",
    "    dimension_reducer as dr, \n",
    "    distance_metrics as dm, \n",
    "    downsample as ds\n",
    ")\n",
    "\n",
    "from IPython.display import clear_output\n",
    "import warnings\n",
    "warnings.filterwarnings('ignore')"
   ]
  },
  {
   "cell_type": "code",
   "execution_count": 3,
   "id": "3f1e344b-2c4e-452a-a0d2-9f4a298080b7",
   "metadata": {},
   "outputs": [],
   "source": [
    "##Downsample audio to 16kHz\n",
    "\n",
    "#audio_files is a directory input\n",
    "audio_files = \n",
    "\n",
    "#make a folder with today's date for the downsampled audio\n",
    "down_sample_folder = datetime.now().strftime('%Y_%m_%d') + '_16kHz'\n",
    "if not os.path.exists(down_sample_folder):\n",
    "    os.mkdir(down_sample_folder)\n",
    "\n",
    "ds.downsamp_audio(audio_files, down_sample_folder)"
   ]
  },
  {
   "cell_type": "code",
   "execution_count": null,
   "id": "967066a6-d341-4fec-8ecb-62ea488ab170",
   "metadata": {},
   "outputs": [],
   "source": [
    "##Diarize audio to find when mother is speaking and visualize it to choose label\n",
    "pipeline = Pipeline.from_pretrained(\"pyannote/speaker-diarization\")\n",
    "\n",
    "diar_folder = datetime.now().strftime('%Y_%m_%d') + '_diarized'\n",
    "if not os.path.exists(diar_folder):\n",
    "    os.mkdir(diar_folder)\n",
    "\n",
    "for file in os.listdir(down_sample_folder):\n",
    "    diar = pipeline(os.path.join(down_sample_folder,file))\n",
    "    json.dump_to(diar, os.path.join(diar_folder, os.path.splitext(file)[0]+'.json'))"
   ]
  },
  {
   "cell_type": "code",
   "execution_count": null,
   "id": "e0c36b2b-7683-4023-9c91-aed435147b81",
   "metadata": {},
   "outputs": [],
   "source": []
  }
 ],
 "metadata": {
  "kernelspec": {
   "display_name": "infantvoice",
   "language": "python",
   "name": "infantvoice"
  },
  "language_info": {
   "codemirror_mode": {
    "name": "ipython",
    "version": 3
   },
   "file_extension": ".py",
   "mimetype": "text/x-python",
   "name": "python",
   "nbconvert_exporter": "python",
   "pygments_lexer": "ipython3",
   "version": "3.9.7"
  }
 },
 "nbformat": 4,
 "nbformat_minor": 5
}
