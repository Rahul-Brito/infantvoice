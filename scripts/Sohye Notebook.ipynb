{
 "cells": [
  {
   "cell_type": "code",
   "execution_count": 1,
   "id": "246dd9cc-f412-4cb0-a3d2-f859b2a6ef94",
   "metadata": {},
   "outputs": [
    {
     "name": "stderr",
     "output_type": "stream",
     "text": [
      "OMP: Info #271: omp_set_nested routine deprecated, please use omp_set_max_active_levels instead.\n"
     ]
    }
   ],
   "source": [
    "%load_ext autoreload\n",
    "%autoreload 2\n",
    "\n",
    "import numpy as np\n",
    "import pandas as pd\n",
    "from random import seed, shuffle\n",
    "import os\n",
    "from datetime import datetime\n",
    "\n",
    "from pyannote.audio import Pipeline\n",
    "from pyannote.core import json\n",
    "\n",
    "from matplotlib import pyplot as plt, lines\n",
    "import seaborn as sns\n",
    "\n",
    "from sklearn.cluster import KMeans, SpectralClustering\n",
    "from sklearn.preprocessing import StandardScaler\n",
    "\n",
    "from scipy import stats\n",
    "from scipy.spatial.distance import directed_hausdorff, euclidean, cosine, pdist\n",
    "\n",
    "from src import (\n",
    "    downsample as downsamp_audio, \n",
    "    embedding_extractor as ee, \n",
    "    dimension_reducer as dr, \n",
    "    distance_metrics as dm, \n",
    "    downsample as ds,\n",
    "    emb_manipulator as em\n",
    ")\n",
    "\n",
    "from IPython.display import clear_output\n",
    "import warnings\n",
    "warnings.filterwarnings('ignore')"
   ]
  },
  {
   "cell_type": "code",
   "execution_count": 3,
   "id": "c6871077-d552-4481-9141-9abeefa00840",
   "metadata": {},
   "outputs": [],
   "source": [
    "##Downsample audio to 16kHz\n",
    "root_dir= \"/Users/rahulbrito/Documents/projects/infantvoice/data/Full_Readings/053122_new_participants/\"\n",
    "audio_files = os.path.join(root_dir,\"audio\")\n",
    "\n",
    "#make a folder with today's date for the downsampled audio\n",
    "down_sample_dir = os.path.join(root_dir,\n",
    "                               datetime.now().strftime('%Y_%m_%d') + '_16kHz')\n",
    "\n",
    "if not os.path.exists(down_sample_dir):\n",
    "    os.mkdir(down_sample_dir)"
   ]
  },
  {
   "cell_type": "code",
   "execution_count": null,
   "id": "c9d06200-eec8-4784-8183-294c249b2adf",
   "metadata": {},
   "outputs": [
    {
     "name": "stdout",
     "output_type": "stream",
     "text": [
      "processing023.wav\n"
     ]
    }
   ],
   "source": [
    "ds.downsamp_audio(audio_files, down_sample_dir)"
   ]
  },
  {
   "cell_type": "code",
   "execution_count": 12,
   "id": "da0aa5e5-4e4d-4185-9bd2-4b1cb87c6592",
   "metadata": {},
   "outputs": [],
   "source": [
    "##Diarize audio to find when mother is speaking and visualize it to choose label\n",
    "pipeline = Pipeline.from_pretrained(\"pyannote/speaker-diarization\")\n",
    "\n",
    "diar_dir = os.path.join(root_dir,'audio',\n",
    "                           datetime.now().strftime('%Y_%m_%d') + '_diarized')\n",
    "if not os.path.exists(diar_dir):\n",
    "    os.mkdir(diar_dir)"
   ]
  },
  {
   "cell_type": "code",
   "execution_count": null,
   "id": "2215b86b-db93-407a-b45b-d6f455bbb147",
   "metadata": {},
   "outputs": [],
   "source": [
    "for file in os.listdir(down_sample_dir):\n",
    "    if file.endswith('wav'):\n",
    "        diar = pipeline(os.path.join(down_sample_dir,file))\n",
    "        json.dump_to(diar, os.path.join(diar_dir, os.path.splitext(file)[0]+'.json'))"
   ]
  },
  {
   "cell_type": "code",
   "execution_count": 16,
   "id": "b9667181-1788-49bf-aa42-00646a6d7300",
   "metadata": {},
   "outputs": [],
   "source": [
    "diar_dir = '/Users/rahulbrito/Documents/projects/infantvoice/data/Full_Readings/053122_new_participants/2022_05_31_diarized'"
   ]
  },
  {
   "cell_type": "code",
   "execution_count": 68,
   "id": "402f3a36-576b-4937-823e-27c70b533563",
   "metadata": {},
   "outputs": [],
   "source": [
    "# Based on output of diarization, manually make speaker map to set which speaker we want\n",
    "speaker_map = {'021':'SPEAKER_01', '022':'SPEAKER_00', 'BB003':'SPEAKER_00'}"
   ]
  },
  {
   "cell_type": "code",
   "execution_count": 73,
   "id": "a7022c61-e2d9-458b-8048-f096a65cc5a5",
   "metadata": {},
   "outputs": [],
   "source": [
    "diarized = {os.path.splitext(file)[0]:\n",
    "            json.load_from(os.path.join(diar_dir,file)).label_timeline(\n",
    "                speaker_map[os.path.splitext(file)[0]]) \n",
    "            for file in os.listdir(diar_dir)}"
   ]
  },
  {
   "cell_type": "code",
   "execution_count": 3,
   "id": "48131c29-6948-4470-a390-eeb80dd6194f",
   "metadata": {},
   "outputs": [],
   "source": [
    "emb_dir = '/Users/rahulbrito/Documents/projects/infantvoice/data/embeddings'\n",
    "save_name = datetime.now().strftime('%Y_%m_%d') + '_emb.csv'"
   ]
  },
  {
   "cell_type": "code",
   "execution_count": 75,
   "id": "e0ccc1ea-c734-4fd0-8b1b-1f1b4c77bcd5",
   "metadata": {},
   "outputs": [
    {
     "name": "stdout",
     "output_type": "stream",
     "text": [
      "Processing022.wav\n",
      "Done\n"
     ]
    }
   ],
   "source": [
    "pyannote_emb = ee.pyannote_extract_directory(down_sample_dir, diarized,emb_dir,save_name,save=True)"
   ]
  },
  {
   "cell_type": "code",
   "execution_count": 4,
   "id": "c5f07d71-7219-4375-bc64-6784d04b7374",
   "metadata": {},
   "outputs": [],
   "source": [
    "files = ['03016_diarized_pyv2.csv','2022_06_01_emb.csv']\n",
    "\n",
    "emb_unscaled = pd.DataFrame()\n",
    "\n",
    "for f in files:\n",
    "    emb_unscaled = pd.concat([emb_unscaled,pd.read_csv(os.path.join(emb_dir,f), index_col=0)], ignore_index=True)\n",
    "\n",
    "#emb_down_unscaled = em.resample_data(emb,1)\n",
    "\n",
    "scaler = StandardScaler()\n",
    "emb = pd.DataFrame(scaler.fit_transform(emb_unscaled.drop(columns='part_id')))\n",
    "emb['part_id'] = emb_unscaled.part_id.astype('string').to_numpy()\n"
   ]
  },
  {
   "cell_type": "code",
   "execution_count": 11,
   "id": "914a59e0-355d-44cd-b210-a838bbe757c9",
   "metadata": {},
   "outputs": [],
   "source": [
    "min_dist=0.1\n",
    "dim = 2\n",
    "n_neighbors = 10\n",
    "\n",
    "#run umap with default parameters\n",
    "emb_umap = dr.run_umap(emb, n_neighbors=n_neighbors, min_dist=min_dist, metric='euclidean')\n",
    "\n",
    "knn=50\n",
    "knn_classes=4\n",
    "subsetsize=700\n",
    "\n",
    "#we are always comparing to emb_down as our high-dimension embedding. \n",
    "high_dim = emb.drop(columns='part_id').to_numpy()\n",
    "classes= emb.part_id.to_numpy() #extract the categories/labels\n",
    "\n",
    "#compare tsne to embeddings\n",
    "#low_dim = emb_tsne.drop(columns='part_id').to_numpy()\n",
    "#dist_tsne = dm.embedding_quality(high_dim, low_dim, classes, knn=knn, knn_classes=knn_classes, subsetsize=subsetsize)\n",
    "\n",
    "#compare umap to embeddings\n",
    "low_dim = emb_umap.drop(columns='part_id').to_numpy()\n",
    "dist_umap = dm.embedding_quality(high_dim, low_dim, classes, knn=knn, knn_classes=knn_classes, subsetsize=subsetsize)\n",
    "\n",
    "\n",
    "#create a dataframe of all distance metrics for each dimension method\n",
    "#dist = pd.DataFrame(np.vstack((dist_tsne, dist_umap)), columns = ['micro', 'meso', 'macro'], index = ['tsne', 'umap'])\n",
    "dist = pd.DataFrame(dist_umap, index = ['micro', 'meso', 'macro'], columns= ['umap'])\n",
    "dist = dist.round(decimals=3)"
   ]
  },
  {
   "cell_type": "code",
   "execution_count": 14,
   "id": "8f6adb76-5076-41b3-84c6-e4cd016ac32e",
   "metadata": {},
   "outputs": [
    {
     "name": "stderr",
     "output_type": "stream",
     "text": [
      "No artists with labels found to put in legend.  Note that artists whose label start with an underscore are ignored when legend() is called with no argument.\n"
     ]
    },
    {
     "data": {
      "text/plain": [
       "[Text(0.5, 1.0, 'micro    0.511\\nmeso     0.413\\nmacro    0.308\\nName: umap, dtype: float64')]"
      ]
     },
     "execution_count": 14,
     "metadata": {},
     "output_type": "execute_result"
    },
    {
     "data": {
      "image/png": "[encoded data removed]",
      "text/plain": [
       "<Figure size 576x432 with 1 Axes>"
      ]
     },
     "metadata": {
      "needs_background": "light"
     },
     "output_type": "display_data"
    }
   ],
   "source": [
    "##plot 2 dimensions from each dimension reduction\n",
    "fig, ax1 = plt.subplots(figsize=(8,6))\n",
    "#fig, (ax1, ax2) = plt.subplots(ncols=2, figsize=(16,6))\n",
    "\n",
    "\n",
    "clust_plt_umap = sns.scatterplot(x=emb_umap.dim0, y=emb_umap.dim1, ax=ax1, palette=\"Paired\", hue=emb_umap.part_id, style=emb_umap.part_id, legend=False)\n",
    "ax1.legend(loc=\"lower center\",bbox_to_anchor=(1.2,  0), ncol=1)\n",
    "clust_plt_umap.set(title = str(dist.umap))\n",
    "\n",
    "#clust_plt_tsne = sns.scatterplot(x=emb_tsne.dim0, y=emb_tsne.dim1, ax=ax2, palette=\"Paired\", hue=emb_tsne.part_id, style=emb_tsne.part_id)\n",
    "#ax2.legend(loc=\"lower center\",bbox_to_anchor=(1.2,  0), ncol=1)\n",
    "#clust_plt_tsne.set(title = str(dist[dist.index=='tsne']))"
   ]
  },
  {
   "cell_type": "code",
   "execution_count": 15,
   "id": "9d69bcc5-4091-4785-b476-bec5d3f0de1c",
   "metadata": {},
   "outputs": [
    {
     "name": "stdout",
     "output_type": "stream",
     "text": [
      "Processing row 22, col 22\n"
     ]
    }
   ],
   "source": [
    "haus_umap = dm.hausdorff_distances(emb_umap)"
   ]
  },
  {
   "cell_type": "code",
   "execution_count": 190,
   "id": "0f6c41c9-5452-44de-b504-a059195f2cc5",
   "metadata": {},
   "outputs": [
    {
     "data": {
      "text/plain": [
       "9     1.950996\n",
       "20    1.718922\n",
       "17    1.643011\n",
       "4     1.370533\n",
       "8     1.341575\n",
       "7     1.195566\n",
       "Name: BB003, dtype: float64"
      ]
     },
     "execution_count": 190,
     "metadata": {},
     "output_type": "execute_result"
    }
   ],
   "source": [
    "target = 'BB003'\n",
    "haus_umap[target].abs().nlargest(n=6)"
   ]
  },
  {
   "cell_type": "code",
   "execution_count": 191,
   "id": "0b9e94c7-2fa3-4314-9305-ace05cd450bd",
   "metadata": {},
   "outputs": [
    {
     "data": {
      "text/plain": [
       "18    2.246877\n",
       "6     1.711038\n",
       "3     1.505112\n",
       "20    1.403984\n",
       "8     1.273288\n",
       "11    1.213728\n",
       "Name: BB003, dtype: float64"
      ]
     },
     "execution_count": 191,
     "metadata": {},
     "output_type": "execute_result"
    }
   ],
   "source": [
    "haus_tsne[target].abs().nlargest(n=6)"
   ]
  },
  {
   "cell_type": "code",
   "execution_count": 16,
   "id": "6d7e31b1-7782-4be2-a324-ab3d58ea027c",
   "metadata": {},
   "outputs": [],
   "source": [
    "import librosa"
   ]
  },
  {
   "cell_type": "code",
   "execution_count": 26,
   "id": "59e35140-5678-4ebe-9256-9d22cfcd96cb",
   "metadata": {},
   "outputs": [],
   "source": [
    "downsamp_dir = r'/Users/rahulbrito/Documents/projects/infantvoice/data/Full_Readings/053122_new_participants/2022_05_31_16kHz'\n",
    "wav_files = [os.path.join(downsamp_dir, file) for file in os.listdir(downsamp_dir)]"
   ]
  },
  {
   "cell_type": "code",
   "execution_count": 30,
   "id": "b5fa1922-7565-456e-a3a4-ceab3bc563b4",
   "metadata": {},
   "outputs": [],
   "source": [
    "wav_data = [librosa.load(wav, sr=16000, mono=True) for wav in wav_files]"
   ]
  },
  {
   "cell_type": "code",
   "execution_count": 41,
   "id": "f56ed4b0-40e7-45e9-9dd6-97a4f8bd9c87",
   "metadata": {},
   "outputs": [],
   "source": [
    "f0 = [librosa.yin(wav[0], \n",
    "                  sr=16000,\n",
    "                  fmin = librosa.note_to_hz('C2'), \n",
    "                  fmax= librosa.note_to_hz('C7')) \n",
    "      for wav in wav_data]"
   ]
  },
  {
   "cell_type": "code",
   "execution_count": 42,
   "id": "5dd88a62-fa17-4142-8d1b-e3004fc23315",
   "metadata": {},
   "outputs": [
    {
     "data": {
      "text/plain": [
       "(15072,)"
      ]
     },
     "execution_count": 42,
     "metadata": {},
     "output_type": "execute_result"
    }
   ],
   "source": [
    "f0[0].shape"
   ]
  },
  {
   "cell_type": "code",
   "execution_count": 45,
   "id": "46b7219a-56d5-4717-8c6f-270c79f98fbe",
   "metadata": {},
   "outputs": [
    {
     "data": {
      "text/plain": [
       "4.5351473922902495e-05"
      ]
     },
     "execution_count": 45,
     "metadata": {},
     "output_type": "execute_result"
    }
   ],
   "source": [
    "1/22050 "
   ]
  },
  {
   "cell_type": "code",
   "execution_count": null,
   "id": "544f2489-305b-4386-ae53-871cd4dcc6e4",
   "metadata": {},
   "outputs": [],
   "source": []
  }
 ],
 "metadata": {
  "kernelspec": {
   "display_name": "infantvoice",
   "language": "python",
   "name": "infantvoice"
  },
  "language_info": {
   "codemirror_mode": {
    "name": "ipython",
    "version": 3
   },
   "file_extension": ".py",
   "mimetype": "text/x-python",
   "name": "python",
   "nbconvert_exporter": "python",
   "pygments_lexer": "ipython3",
   "version": "3.9.7"
  }
 },
 "nbformat": 4,
 "nbformat_minor": 5
}
