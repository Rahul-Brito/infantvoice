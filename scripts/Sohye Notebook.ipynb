{
 "cells": [
  {
   "cell_type": "code",
   "execution_count": 1,
   "id": "246dd9cc-f412-4cb0-a3d2-f859b2a6ef94",
   "metadata": {},
   "outputs": [
    {
     "name": "stderr",
     "output_type": "stream",
     "text": [
      "OMP: Info #271: omp_set_nested routine deprecated, please use omp_set_max_active_levels instead.\n"
     ]
    }
   ],
   "source": [
    "%load_ext autoreload\n",
    "%autoreload 2\n",
    "\n",
    "import numpy as np\n",
    "import pandas as pd\n",
    "from random import seed, shuffle\n",
    "import os\n",
    "from datetime import datetime\n",
    "\n",
    "from pyannote.audio import Pipeline\n",
    "from pyannote.core import json\n",
    "\n",
    "from matplotlib import pyplot as plt, lines\n",
    "import seaborn as sns\n",
    "\n",
    "from sklearn.cluster import KMeans, SpectralClustering\n",
    "\n",
    "from scipy import stats\n",
    "from scipy.spatial.distance import directed_hausdorff, euclidean, cosine, pdist\n",
    "\n",
    "from src import (\n",
    "    downsample as downsamp_audio, \n",
    "    embedding_extractor as ee, \n",
    "    dimension_reducer as dr, \n",
    "    distance_metrics as dm, \n",
    "    downsample as ds\n",
    ")\n",
    "\n",
    "from IPython.display import clear_output\n",
    "import warnings\n",
    "warnings.filterwarnings('ignore')"
   ]
  },
  {
   "cell_type": "code",
   "execution_count": 3,
   "id": "c6871077-d552-4481-9141-9abeefa00840",
   "metadata": {},
   "outputs": [],
   "source": [
    "##Downsample audio to 16kHz\n",
    "root_dir= \"/Users/rahulbrito/Documents/projects/infantvoice/data/Full_Readings/053122_new_participants/\"\n",
    "audio_files = os.path.join(root_dir,\"audio\")\n",
    "\n",
    "#make a folder with today's date for the downsampled audio\n",
    "down_sample_dir = os.path.join(root_dir,\n",
    "                               datetime.now().strftime('%Y_%m_%d') + '_16kHz')\n",
    "\n",
    "if not os.path.exists(down_sample_dir):\n",
    "    os.mkdir(down_sample_dir)"
   ]
  },
  {
   "cell_type": "code",
   "execution_count": 4,
   "id": "d4d1b341-16ef-41c6-885c-763b890cf5ed",
   "metadata": {},
   "outputs": [
    {
     "data": {
      "text/plain": [
       "'/Users/rahulbrito/Documents/projects/infantvoice/data/Full_Readings/053122_new_participants/'"
      ]
     },
     "execution_count": 4,
     "metadata": {},
     "output_type": "execute_result"
    }
   ],
   "source": [
    "root_dir"
   ]
  },
  {
   "cell_type": "code",
   "execution_count": null,
   "id": "c9d06200-eec8-4784-8183-294c249b2adf",
   "metadata": {},
   "outputs": [
    {
     "name": "stdout",
     "output_type": "stream",
     "text": [
      "processing023.wav\n"
     ]
    }
   ],
   "source": [
    "ds.downsamp_audio(audio_files, down_sample_dir)"
   ]
  },
  {
   "cell_type": "code",
   "execution_count": 6,
   "id": "da0aa5e5-4e4d-4185-9bd2-4b1cb87c6592",
   "metadata": {},
   "outputs": [],
   "source": [
    "##Diarize audio to find when mother is speaking and visualize it to choose label\n",
    "pipeline = Pipeline.from_pretrained(\"pyannote/speaker-diarization\")\n",
    "\n",
    "diar_dir = os.path.join(root_dir,\n",
    "                           datetime.now().strftime('%Y_%m_%d') + '_diarized')\n",
    "if not os.path.exists(diar_dir):\n",
    "    os.mkdir(diar_dir)"
   ]
  },
  {
   "cell_type": "code",
   "execution_count": null,
   "id": "2215b86b-db93-407a-b45b-d6f455bbb147",
   "metadata": {},
   "outputs": [],
   "source": [
    "for file in os.listdir(down_sample_dir):\n",
    "    if file.endswith('wav'):\n",
    "        diar = pipeline(os.path.join(down_sample_dir,file))\n",
    "        json.dump_to(diar, os.path.join(diar_dir, os.path.splitext(file)[0]+'.json'))"
   ]
  },
  {
   "cell_type": "code",
   "execution_count": null,
   "id": "967ae8ac-1c04-445a-9364-0994594089ca",
   "metadata": {},
   "outputs": [],
   "source": []
  }
 ],
 "metadata": {
  "kernelspec": {
   "display_name": "infantvoice",
   "language": "python",
   "name": "infantvoice"
  },
  "language_info": {
   "codemirror_mode": {
    "name": "ipython",
    "version": 3
   },
   "file_extension": ".py",
   "mimetype": "text/x-python",
   "name": "python",
   "nbconvert_exporter": "python",
   "pygments_lexer": "ipython3",
   "version": "3.9.7"
  }
 },
 "nbformat": 4,
 "nbformat_minor": 5
}
