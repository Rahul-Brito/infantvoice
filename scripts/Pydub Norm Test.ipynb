{
 "cells": [
  {
   "cell_type": "code",
   "execution_count": 31,
   "id": "abd90528-d932-40d6-9f1c-8799042f9fb8",
   "metadata": {},
   "outputs": [],
   "source": [
    "import os\n",
    "import glob\n",
    "from pathlib import Path\n",
    "\n",
    "data_loc = '/Users/rahulbrito/Documents/projects/infantvoice/data/Full_Readings/rematchforbb003'\n",
    "out_dir = '/Users/rahulbrito/Documents/projects/infantvoice/data/Full_Readings/rematchforbb003/normalized'\n",
    "test = os.path.join(data_loc, 'control6.wav')\n",
    "test_out = os.path.join(data_loc, 'control6_test.wav')\n",
    "\n",
    "file_list = glob.glob(data_loc + '/*.wav', recursive=True)\n"
   ]
  },
  {
   "cell_type": "code",
   "execution_count": 6,
   "id": "5c76b9ac-a8b2-4716-8f08-eb80ac739a06",
   "metadata": {},
   "outputs": [],
   "source": [
    "from pydub import AudioSegment, effects  \n",
    "\n",
    "def match_target_amplitude(sound, target_dBFS):\n",
    "    change_in_dBFS = target_dBFS - sound.dBFS\n",
    "    return sound.apply_gain(change_in_dBFS)"
   ]
  },
  {
   "cell_type": "code",
   "execution_count": 4,
   "id": "c81232da-bda7-4a75-94ea-effc7386c837",
   "metadata": {},
   "outputs": [
    {
     "data": {
      "text/plain": [
       "<_io.BufferedRandom name='/Users/rahulbrito/Documents/projects/infantvoice/data/Full_Readings/rematchforbb003/control15_normalized.wav'>"
      ]
     },
     "execution_count": 4,
     "metadata": {},
     "output_type": "execute_result"
    }
   ],
   "source": [
    "normalized_sound = match_target_amplitude(sound, -20.0)\n",
    "normalized_sound.export(output, format=\"wav\")"
   ]
  },
  {
   "cell_type": "code",
   "execution_count": 29,
   "id": "f9ea42ef-276e-445f-95b5-4e1a9272c1b5",
   "metadata": {},
   "outputs": [],
   "source": [
    "for file in file_list:\n",
    "    sound = AudioSegment.from_file(file, \"wav\")\n",
    "    normalizedsound = effects.normalize(sound)  \n",
    "    normalizedsound.export(os.path.join(out_dir, Path(file).stem + '.wav'), format=\"wav\")"
   ]
  },
  {
   "cell_type": "code",
   "execution_count": 32,
   "id": "f695c364-031b-4faf-b32d-ab5177950b54",
   "metadata": {},
   "outputs": [],
   "source": [
    "import soundfile as sf\n",
    "import pyloudnorm as pyln\n",
    "\n",
    "meter = pyln.Meter(rate) # create BS.1770 meter\n",
    "loudness = meter.integrated_loudness(data) # measure loudness"
   ]
  },
  {
   "cell_type": "code",
   "execution_count": 35,
   "id": "93af3099-960b-48cc-988b-9357b90faa43",
   "metadata": {},
   "outputs": [
    {
     "data": {
      "text/plain": [
       "-12.492827467410654"
      ]
     },
     "execution_count": 35,
     "metadata": {},
     "output_type": "execute_result"
    }
   ],
   "source": [
    "loudness"
   ]
  },
  {
   "cell_type": "code",
   "execution_count": 52,
   "id": "51f217f8-0494-4b38-82fd-f23bd31dc24a",
   "metadata": {},
   "outputs": [
    {
     "name": "stderr",
     "output_type": "stream",
     "text": [
      "/Users/rahulbrito/opt/miniconda3/envs/infantvoice/lib/python3.9/site-packages/pyloudnorm/normalize.py:62: UserWarning: Possible clipped samples in output.\n",
      "  warnings.warn(\"Possible clipped samples in output.\")\n",
      "/Users/rahulbrito/opt/miniconda3/envs/infantvoice/lib/python3.9/site-packages/pyloudnorm/normalize.py:62: UserWarning: Possible clipped samples in output.\n",
      "  warnings.warn(\"Possible clipped samples in output.\")\n",
      "/Users/rahulbrito/opt/miniconda3/envs/infantvoice/lib/python3.9/site-packages/pyloudnorm/normalize.py:62: UserWarning: Possible clipped samples in output.\n",
      "  warnings.warn(\"Possible clipped samples in output.\")\n",
      "/Users/rahulbrito/opt/miniconda3/envs/infantvoice/lib/python3.9/site-packages/pyloudnorm/normalize.py:62: UserWarning: Possible clipped samples in output.\n",
      "  warnings.warn(\"Possible clipped samples in output.\")\n",
      "/Users/rahulbrito/opt/miniconda3/envs/infantvoice/lib/python3.9/site-packages/pyloudnorm/normalize.py:62: UserWarning: Possible clipped samples in output.\n",
      "  warnings.warn(\"Possible clipped samples in output.\")\n",
      "/Users/rahulbrito/opt/miniconda3/envs/infantvoice/lib/python3.9/site-packages/pyloudnorm/normalize.py:62: UserWarning: Possible clipped samples in output.\n",
      "  warnings.warn(\"Possible clipped samples in output.\")\n"
     ]
    }
   ],
   "source": [
    "samplerate = 44100; fs = 100\n",
    "\n",
    "for file in file_list:\n",
    "    data, rate = sf.read(file) # load audio (with shape (samples, channels))\n",
    "    \n",
    "    # peak normalize audio to -1 dB\n",
    "    peak_normalized_audio = pyln.normalize.peak(data, -1.0)\n",
    "\n",
    "    # measure the loudness first \n",
    "    meter = pyln.Meter(rate, filter_class=\"Fenton/Lee 1\") # create BS.1770 meter\n",
    "    loudness = meter.integrated_loudness(data)\n",
    "\n",
    "    # loudness normalize audio to -12 dB LUFS\n",
    "    loudness_normalized_audio = pyln.normalize.loudness(data, loudness, 10.0)\n",
    "    \n",
    "    write(os.path.join(out_dir, Path(file).stem + '.wav'), samplerate, data.astype(np.float64))"
   ]
  },
  {
   "cell_type": "code",
   "execution_count": 43,
   "id": "7f164866-57c0-46ee-90a1-598e143007de",
   "metadata": {},
   "outputs": [],
   "source": [
    "from scipy.io.wavfile import write\n",
    "import numpy as np\n",
    "\n",
    "#t = np.linspace(0., 1., samplerate)\n",
    "#amplitude = np.iinfo(np.int16).max\n",
    "#data = amplitude * np.sin(2. * np.pi * fs * t)\n"
   ]
  },
  {
   "cell_type": "code",
   "execution_count": null,
   "id": "7ad04537-26cc-4d0e-b68d-c4ba42775083",
   "metadata": {},
   "outputs": [],
   "source": []
  }
 ],
 "metadata": {
  "kernelspec": {
   "display_name": "infantvoice",
   "language": "python",
   "name": "infantvoice"
  },
  "language_info": {
   "codemirror_mode": {
    "name": "ipython",
    "version": 3
   },
   "file_extension": ".py",
   "mimetype": "text/x-python",
   "name": "python",
   "nbconvert_exporter": "python",
   "pygments_lexer": "ipython3",
   "version": "3.9.7"
  }
 },
 "nbformat": 4,
 "nbformat_minor": 5
}
