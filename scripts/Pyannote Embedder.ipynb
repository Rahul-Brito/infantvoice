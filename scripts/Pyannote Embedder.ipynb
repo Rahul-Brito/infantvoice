{
 "cells": [
  {
   "cell_type": "code",
   "execution_count": 6,
   "id": "15b23959-5024-464e-8c66-739a1469ede9",
   "metadata": {
    "tags": []
   },
   "outputs": [
    {
     "name": "stdout",
     "output_type": "stream",
     "text": [
      "The autoreload extension is already loaded. To reload it, use:\n",
      "  %reload_ext autoreload\n"
     ]
    }
   ],
   "source": [
    "%load_ext autoreload\n",
    "%autoreload 2\n",
    "\n",
    "import numpy as np\n",
    "import pandas as pd\n",
    "from random import seed, shuffle\n",
    "import os\n",
    "\n",
    "import matplotlib.pyplot as plt\n",
    "from matplotlib.lines import Line2D\n",
    "import seaborn as sns\n",
    "\n",
    "from sklearn.cluster import KMeans, SpectralClustering\n",
    "\n",
    "from scipy import stats\n",
    "from scipy.spatial.distance import directed_hausdorff, euclidean, cosine, pdist\n",
    "\n",
    "from src.downsample import downsamp_audio\n",
    "import src.embedding_extractor as ee\n",
    "import src.dimension_reducer as dr\n",
    "import src.distance_metrics as dm\n",
    "\n",
    "from IPython.display import clear_output\n",
    "\n",
    "import warnings\n",
    "warnings.filterwarnings('ignore')\n",
    "\n",
    "down_sampled_dir='/Users/rahulbrito/Documents/projects/infantvoice/data/Full_Readings/16khz_020422_postpartum_moms'\n",
    "#toy_postpartum = '/Users/rahulbrito/Documents/projects/infantvoice/data/Full_Readings/16khz_missed'\n",
    "\n",
    "embedding_dir = '/Users/rahulbrito/Documents/projects/infantvoice/data/embeddings' #location of embeddings save new embeddings load pre-generated ones from here\n",
    "emb_models = ['emb_ami', 'emb','emb_voxceleb'] #names of pretrained embedding extractor models"
   ]
  },
  {
   "cell_type": "code",
   "execution_count": 7,
   "id": "a114150c-ba21-47e6-9ffc-a049075957c6",
   "metadata": {},
   "outputs": [
    {
     "name": "stdout",
     "output_type": "stream",
     "text": [
      "Processing019.wav\n",
      "Done\n"
     ]
    }
   ],
   "source": [
    "## Extracts embeddings from a directory of wav files. Can choose to save those embeddings to a .csv file (recommended because this can take a few hours on a laptop)\n",
    "\n",
    "#[ee.pyannote_extract_directory(model,down_sampled_dir,embedding_dir,'020322_embeddings_testreadings', save=True) for model in emb_models]\n",
    "\n",
    "#test = [ee.pyannote_extract_directory(model,down_sampled_dir,embedding_dir,'022822_postpartum_moms_20part', save=True) for model in emb_models]\n",
    "\n",
    "#just for emb_ami model\n",
    "test = ee.pyannote_extract_directory(emb_models[0],down_sampled_dir,embedding_dir,'022822_postpartum_moms_20part', save=True)\n"
   ]
  },
  {
   "cell_type": "code",
   "execution_count": 10,
   "id": "2c79e3e7-473a-47ec-9dba-4653ad1870b4",
   "metadata": {},
   "outputs": [
    {
     "data": {
      "text/plain": [
       "(20,)"
      ]
     },
     "execution_count": 10,
     "metadata": {},
     "output_type": "execute_result"
    }
   ],
   "source": [
    "test.part_id.unique().shape"
   ]
  },
  {
   "cell_type": "code",
   "execution_count": null,
   "id": "46c6888a-da6d-4728-8e46-1c039e628a86",
   "metadata": {},
   "outputs": [],
   "source": []
  }
 ],
 "metadata": {
  "kernelspec": {
   "display_name": "infantvoice",
   "language": "python",
   "name": "infantvoice"
  },
  "language_info": {
   "codemirror_mode": {
    "name": "ipython",
    "version": 3
   },
   "file_extension": ".py",
   "mimetype": "text/x-python",
   "name": "python",
   "nbconvert_exporter": "python",
   "pygments_lexer": "ipython3",
   "version": "3.9.7"
  }
 },
 "nbformat": 4,
 "nbformat_minor": 5
}
