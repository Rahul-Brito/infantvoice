{
 "cells": [
  {
   "cell_type": "code",
   "execution_count": 1,
   "id": "15b23959-5024-464e-8c66-739a1469ede9",
   "metadata": {
    "tags": []
   },
   "outputs": [
    {
     "ename": "ModuleNotFoundError",
     "evalue": "No module named 'seaborn'",
     "output_type": "error",
     "traceback": [
      "\u001b[0;31m---------------------------------------------------------------------------\u001b[0m",
      "\u001b[0;31mModuleNotFoundError\u001b[0m                       Traceback (most recent call last)",
      "\u001b[0;32m/var/folders/fg/c6b2vcrx7wd1530hgxsj7z7w0000gn/T/ipykernel_1947/1362717646.py\u001b[0m in \u001b[0;36m<module>\u001b[0;34m\u001b[0m\n\u001b[1;32m      9\u001b[0m \u001b[0;32mimport\u001b[0m \u001b[0mmatplotlib\u001b[0m\u001b[0;34m.\u001b[0m\u001b[0mpyplot\u001b[0m \u001b[0;32mas\u001b[0m \u001b[0mplt\u001b[0m\u001b[0;34m\u001b[0m\u001b[0;34m\u001b[0m\u001b[0m\n\u001b[1;32m     10\u001b[0m \u001b[0;32mfrom\u001b[0m \u001b[0mmatplotlib\u001b[0m\u001b[0;34m.\u001b[0m\u001b[0mlines\u001b[0m \u001b[0;32mimport\u001b[0m \u001b[0mLine2D\u001b[0m\u001b[0;34m\u001b[0m\u001b[0;34m\u001b[0m\u001b[0m\n\u001b[0;32m---> 11\u001b[0;31m \u001b[0;32mimport\u001b[0m \u001b[0mseaborn\u001b[0m \u001b[0;32mas\u001b[0m \u001b[0msns\u001b[0m\u001b[0;34m\u001b[0m\u001b[0;34m\u001b[0m\u001b[0m\n\u001b[0m\u001b[1;32m     12\u001b[0m \u001b[0;34m\u001b[0m\u001b[0m\n\u001b[1;32m     13\u001b[0m \u001b[0;32mfrom\u001b[0m \u001b[0msklearn\u001b[0m\u001b[0;34m.\u001b[0m\u001b[0mcluster\u001b[0m \u001b[0;32mimport\u001b[0m \u001b[0mKMeans\u001b[0m\u001b[0;34m,\u001b[0m \u001b[0mSpectralClustering\u001b[0m\u001b[0;34m\u001b[0m\u001b[0;34m\u001b[0m\u001b[0m\n",
      "\u001b[0;31mModuleNotFoundError\u001b[0m: No module named 'seaborn'"
     ]
    }
   ],
   "source": [
    "%load_ext autoreload\n",
    "%autoreload 2\n",
    "\n",
    "import numpy as np\n",
    "import pandas as pd\n",
    "from random import seed, shuffle\n",
    "import os\n",
    "\n",
    "import matplotlib.pyplot as plt\n",
    "from matplotlib.lines import Line2D\n",
    "import seaborn as sns\n",
    "\n",
    "from sklearn.cluster import KMeans, SpectralClustering\n",
    "\n",
    "from scipy import stats\n",
    "from scipy.spatial.distance import directed_hausdorff, euclidean, cosine, pdist\n",
    "\n",
    "from src.downsample import downsamp_audio\n",
    "import src.embedding_extractor as ee\n",
    "import src.dimension_reducer as dr\n",
    "import src.distance_metrics as dm\n",
    "\n",
    "from IPython.display import clear_output\n",
    "\n",
    "import warnings\n",
    "warnings.filterwarnings('ignore')\n",
    "\n",
    "down_sampled_dir='/Users/rahulbrito/Documents/projects/infantvoice/data/Full_Readings/16khz_020422_postpartum_moms'\n",
    "#toy_postpartum = '/Users/rahulbrito/Documents/projects/infantvoice/data/Full_Readings/16khz_missed'\n",
    "\n",
    "embedding_dir = '/Users/rahulbrito/Documents/projects/infantvoice/data/embeddings' #location of embeddings save new embeddings load pre-generated ones from here\n",
    "emb_models = ['emb_ami', 'emb','emb_voxceleb'] #names of pretrained embedding extractor models"
   ]
  },
  {
   "cell_type": "code",
   "execution_count": 7,
   "id": "a114150c-ba21-47e6-9ffc-a049075957c6",
   "metadata": {},
   "outputs": [
    {
     "name": "stdout",
     "output_type": "stream",
     "text": [
      "Processing019.wav\n",
      "Done\n"
     ]
    }
   ],
   "source": [
    "## Extracts embeddings from a directory of wav files. Can choose to save those embeddings to a .csv file (recommended because this can take a few hours on a laptop)\n",
    "\n",
    "#[ee.pyannote_extract_directory(model,down_sampled_dir,embedding_dir,'020322_embeddings_testreadings', save=True) for model in emb_models]\n",
    "\n",
    "#test = [ee.pyannote_extract_directory(model,down_sampled_dir,embedding_dir,'022822_postpartum_moms_20part', save=True) for model in emb_models]\n",
    "\n",
    "#just for emb_ami model\n",
    "test = ee.pyannote_extract_directory(emb_models[0],down_sampled_dir,embedding_dir,'022822_postpartum_moms_20part', save=True)\n"
   ]
  },
  {
   "cell_type": "code",
   "execution_count": 10,
   "id": "2c79e3e7-473a-47ec-9dba-4653ad1870b4",
   "metadata": {},
   "outputs": [
    {
     "data": {
      "text/plain": [
       "(20,)"
      ]
     },
     "execution_count": 10,
     "metadata": {},
     "output_type": "execute_result"
    }
   ],
   "source": [
    "test.part_id.unique().shape"
   ]
  },
  {
   "cell_type": "code",
   "execution_count": null,
   "id": "46c6888a-da6d-4728-8e46-1c039e628a86",
   "metadata": {},
   "outputs": [],
   "source": []
  }
 ],
 "metadata": {
  "kernelspec": {
   "display_name": "infantvoicev2",
   "language": "python",
   "name": "infantvoicev2"
  },
  "language_info": {
   "codemirror_mode": {
    "name": "ipython",
    "version": 3
   },
   "file_extension": ".py",
   "mimetype": "text/x-python",
   "name": "python",
   "nbconvert_exporter": "python",
   "pygments_lexer": "ipython3",
   "version": "3.9.7"
  }
 },
 "nbformat": 4,
 "nbformat_minor": 5
}
