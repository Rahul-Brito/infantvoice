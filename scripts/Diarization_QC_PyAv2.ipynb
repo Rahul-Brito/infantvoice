{
 "cells": [
  {
   "cell_type": "code",
   "execution_count": 1,
   "id": "ad52c3dc-2f34-4e73-8a24-1ecc0909abed",
   "metadata": {},
   "outputs": [],
   "source": [
    "import os\n",
    "from pyannote.core import json\n",
    "\n",
    "diarized_dir = '/Users/rahulbrito/Documents/projects/infantvoice/data/Full_Readings/031622_diarized'"
   ]
  },
  {
   "cell_type": "code",
   "execution_count": 2,
   "id": "ea572d7b-ca1a-4e0a-ae2d-251c61da105d",
   "metadata": {},
   "outputs": [],
   "source": [
    "diarized = [(json.load_from(os.path.join(diarized_dir,file)), file) for file in os.listdir(diarized_dir)]"
   ]
  },
  {
   "cell_type": "code",
   "execution_count": 3,
   "id": "de933fc9-b159-47e8-8152-9852844962af",
   "metadata": {},
   "outputs": [
    {
     "data": {
      "text/plain": [
       "[(<pyannote.core.annotation.Annotation at 0x7fece84946d0>, '007.json'),\n",
       " (<pyannote.core.annotation.Annotation at 0x7fecc04acb50>, '011.json'),\n",
       " (<pyannote.core.annotation.Annotation at 0x7fecc04c5190>, '010.json'),\n",
       " (<pyannote.core.annotation.Annotation at 0x7fecc04d6250>, '006.json'),\n",
       " (<pyannote.core.annotation.Annotation at 0x7fecc04e3a90>, '001.json'),\n",
       " (<pyannote.core.annotation.Annotation at 0x7fecc03fe7f0>, '017.json'),\n",
       " (<pyannote.core.annotation.Annotation at 0x7fecc040af10>, '016.json'),\n",
       " (<pyannote.core.annotation.Annotation at 0x7fecc041ef70>, '020.json'),\n",
       " (<pyannote.core.annotation.Annotation at 0x7fecc87dd250>, '019.json'),\n",
       " (<pyannote.core.annotation.Annotation at 0x7fecc87f17c0>, '015.json'),\n",
       " (<pyannote.core.annotation.Annotation at 0x7fecc8809160>, '003.json'),\n",
       " (<pyannote.core.annotation.Annotation at 0x7feca8928fa0>, '002.json'),\n",
       " (<pyannote.core.annotation.Annotation at 0x7feca8945640>, '014.json'),\n",
       " (<pyannote.core.annotation.Annotation at 0x7feca8958b80>, '018.json'),\n",
       " (<pyannote.core.annotation.Annotation at 0x7feca02fbf40>, '013.json'),\n",
       " (<pyannote.core.annotation.Annotation at 0x7feca03081c0>, '005.json'),\n",
       " (<pyannote.core.annotation.Annotation at 0x7feca031bee0>, '009.json'),\n",
       " (<pyannote.core.annotation.Annotation at 0x7feca032a520>, '008.json'),\n",
       " (<pyannote.core.annotation.Annotation at 0x7fecc042c280>, '004.json'),\n",
       " (<pyannote.core.annotation.Annotation at 0x7fecc04470a0>, '012.json')]"
      ]
     },
     "execution_count": 3,
     "metadata": {},
     "output_type": "execute_result"
    }
   ],
   "source": [
    "# don't record Victoria\n",
    "# make sure background noise is off (e.g. TV, radio)\n",
    "# can we somehow not record the baby?\n",
    "# can we control for microphone? \n",
    "\n",
    "no = 0\n",
    "diarized[:][:]"
   ]
  },
  {
   "cell_type": "code",
   "execution_count": 4,
   "id": "f6fa935d-b4ef-451e-a8be-30c7e336bb00",
   "metadata": {},
   "outputs": [
    {
     "data": {
      "image/png": "[encoded data removed]",
      "text/plain": [
       "<pyannote.core.annotation.Annotation at 0x7fece84946d0>"
      ]
     },
     "execution_count": 4,
     "metadata": {},
     "output_type": "execute_result"
    }
   ],
   "source": [
    "diarized[no][0]"
   ]
  },
  {
   "cell_type": "code",
   "execution_count": 6,
   "id": "188ba141-6b86-460a-b30a-51b6a05592ea",
   "metadata": {},
   "outputs": [],
   "source": [
    "data_clean_lower = [(data.label_timeline('SPEAKER_01'),part) for data,part in diarized if int(os.path.splitext(part)[0])<10]\n",
    "data_clean_upper = [(data,part) for data,part in diarized if int(os.path.splitext(part)[0])>=10]\n",
    "data_clean = data_clean_lower+data_clean_upper"
   ]
  },
  {
   "cell_type": "code",
   "execution_count": 7,
   "id": "0eca3ea5-3e25-4758-8c2c-161807e1a710",
   "metadata": {},
   "outputs": [],
   "source": [
    "from pyannote.audio import Inference\n",
    "inference = Inference(\"pyannote/embedding\", \n",
    "                      window=\"sliding\",\n",
    "                      duration=3.0, step=1.0)\n"
   ]
  },
  {
   "cell_type": "code",
   "execution_count": 8,
   "id": "903743e8-0c9d-4e38-88be-2d00e59d2457",
   "metadata": {},
   "outputs": [],
   "source": [
    "test = data_clean[0][0]\n",
    "\n",
    "wav_files = '/Users/rahulbrito/Documents/projects/infantvoice/data/Full_Readings/0300222_recordings_16khz'\n",
    "wav = '/Users/rahulbrito/Documents/projects/infantvoice/data/Full_Readings/0300222_recordings_16khz/007.wav'"
   ]
  },
  {
   "cell_type": "code",
   "execution_count": 10,
   "id": "074a0d49-9d61-4592-90e6-a6e1d1849064",
   "metadata": {},
   "outputs": [
    {
     "data": {
      "text/plain": [
       "175616"
      ]
     },
     "execution_count": 10,
     "metadata": {},
     "output_type": "execute_result"
    }
   ],
   "source": [
    "embeddings = inference(wav)\n",
    "a = embeddings.crop(test)\n",
    "a.size"
   ]
  },
  {
   "cell_type": "code",
   "execution_count": 13,
   "id": "9d4ff45f-732e-47d7-9b2b-78485c9a643d",
   "metadata": {},
   "outputs": [],
   "source": [
    "embs = []\n",
    "for segment in test:\n",
    "    inter = embeddings.crop(segment, 'strict')\n",
    "    embs.append(inter)"
   ]
  },
  {
   "cell_type": "code",
   "execution_count": 18,
   "id": "662f60e4-035a-4460-bab2-7855f631789a",
   "metadata": {},
   "outputs": [
    {
     "data": {
      "text/plain": [
       "(40, 512)"
      ]
     },
     "execution_count": 18,
     "metadata": {},
     "output_type": "execute_result"
    }
   ],
   "source": [
    "import numpy as np\n",
    "embs = np.vstack(embs)\n",
    "embs.shape"
   ]
  },
  {
   "cell_type": "code",
   "execution_count": null,
   "id": "4887d1ef-d774-4fb1-a0f2-f9fc2b365a12",
   "metadata": {},
   "outputs": [],
   "source": []
  }
 ],
 "metadata": {
  "kernelspec": {
   "display_name": "infantvoicev2",
   "language": "python",
   "name": "infantvoicev2"
  },
  "language_info": {
   "codemirror_mode": {
    "name": "ipython",
    "version": 3
   },
   "file_extension": ".py",
   "mimetype": "text/x-python",
   "name": "python",
   "nbconvert_exporter": "python",
   "pygments_lexer": "ipython3",
   "version": "3.9.7"
  }
 },
 "nbformat": 4,
 "nbformat_minor": 5
}
