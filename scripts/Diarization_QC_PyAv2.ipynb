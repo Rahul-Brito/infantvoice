{
 "cells": [
  {
   "cell_type": "code",
   "execution_count": 4,
   "id": "ad52c3dc-2f34-4e73-8a24-1ecc0909abed",
   "metadata": {},
   "outputs": [],
   "source": [
    "toy = '/Users/rahulbrito/Documents/projects/infantvoice/data/Full_Readings/0300222_recordings_16khz/002.wav'"
   ]
  },
  {
   "cell_type": "code",
   "execution_count": null,
   "id": "80c9c027-743b-477e-9f55-5a7d8b4c7088",
   "metadata": {},
   "outputs": [],
   "source": [
    "from pyannote.audio.pipelines import VoiceActivityDetection\n",
    "pipeline = VoiceActivityDetection(segmentation=\"pyannote/segmentation\")\n",
    "HYPER_PARAMETERS = {\n",
    "  # onset/offset activation thresholds\n",
    "  \"onset\": 0.5, \"offset\": 0.5,\n",
    "  # remove speech regions shorter than that many seconds.\n",
    "  \"min_duration_on\": 0.0,\n",
    "  # fill non-speech regions shorter than that many seconds.\n",
    "  \"min_duration_off\": 0.0\n",
    "}\n",
    "pipeline.instantiate(HYPER_PARAMETERS)\n",
    "vad = pipeline(toy)\n",
    "# `vad` is a pyannote.core.Annotation instance containing speech regions"
   ]
  },
  {
   "cell_type": "code",
   "execution_count": null,
   "id": "aec38ce8-8ccb-4a6f-bca9-de0c576a99d7",
   "metadata": {},
   "outputs": [],
   "source": [
    "from pyannote.audio.pipelines import OverlappedSpeechDetection\n",
    "pipeline = OverlappedSpeechDetection(segmentation=\"pyannote/segmentation\")\n",
    "pipeline.instantiate(HYPER_PARAMETERS)\n",
    "osd = pipeline(toy)\n",
    "# `osd` is a pyannote.core.Annotation instance containing overlapped speech regions"
   ]
  },
  {
   "cell_type": "code",
   "execution_count": null,
   "id": "c67ab374-2b44-40e1-abbd-9195280efa9c",
   "metadata": {},
   "outputs": [],
   "source": [
    "from pyannote.audio import Inference\n",
    "inference = Inference(\"pyannote/segmentation\")\n",
    "segmentation = inference(toy)\n",
    "# `segmentation` is a pyannote.core.SlidingWindowFeature\n",
    "# instance containing raw segmentation scores like the \n",
    "# one pictured above (output)"
   ]
  },
  {
   "cell_type": "code",
   "execution_count": 5,
   "id": "ea572d7b-ca1a-4e0a-ae2d-251c61da105d",
   "metadata": {},
   "outputs": [],
   "source": [
    "from pyannote.audio import Pipeline\n",
    "pipeline = Pipeline.from_pretrained(\"pyannote/speaker-diarization\")\n",
    "output = pipeline(toy)\n",
    "\n",
    "#for turn, _, speaker in output.itertracks(yield_label=True):\n",
    "# speaker speaks between turn.start and turn.end"
   ]
  },
  {
   "cell_type": "code",
   "execution_count": 6,
   "id": "27c4310c-a3dd-42ea-9497-712fc27339af",
   "metadata": {},
   "outputs": [
    {
     "data": {
      "image/png": "[encoded data removed]",
      "text/plain": [
       "<pyannote.core.annotation.Annotation at 0x7fd909e8d670>"
      ]
     },
     "execution_count": 6,
     "metadata": {},
     "output_type": "execute_result"
    }
   ],
   "source": [
    "output"
   ]
  },
  {
   "cell_type": "code",
   "execution_count": 74,
   "id": "f657ee76-b9a3-4f52-b438-af0f62d0582d",
   "metadata": {},
   "outputs": [
    {
     "data": {
      "text/plain": [
       "(165, 184)"
      ]
     },
     "execution_count": 74,
     "metadata": {},
     "output_type": "execute_result"
    }
   ],
   "source": [
    "test1 = [output for segment, track, label in output.itertracks(yield_label=True) if label=='SPEAKER_01']\n",
    "len(test1), len(output)"
   ]
  },
  {
   "cell_type": "code",
   "execution_count": 81,
   "id": "ac610ca1-bfa6-4b01-a95f-00f709ab9e75",
   "metadata": {},
   "outputs": [
    {
     "data": {
      "image/png": "[encoded data removed]",
      "text/plain": [
       "<Timeline(uri=002, segments=[<Segment(0.257813, 0.966563)>, <Segment(1.38844, 2.29969)>, <Segment(3.76781, 4.27406)>, <Segment(4.83094, 6.02906)>, <Segment(19.1241, 19.5122)>, <Segment(21.5541, 22.8703)>, <Segment(24.0684, 24.7097)>, <Segment(25.6716, 26.3803)>, <Segment(28.2872, 29.2828)>, <Segment(30.9703, 32.4047)>, <Segment(34.3284, 35.4759)>, <Segment(35.8641, 38.6991)>, <Segment(39.1884, 40.0322)>, <Segment(41.3991, 44.3522)>, <Segment(45.2972, 45.7697)>, <Segment(47.1534, 50.7647)>, <Segment(52.3172, 54.3253)>, <Segment(54.5447, 54.6628)>, <Segment(55.8778, 57.9703)>, <Segment(60.3497, 61.7841)>, <Segment(62.5772, 64.3153)>, <Segment(68.1966, 72.2128)>, <Segment(73.0059, 74.9297)>, <Segment(75.4866, 78.0684)>, <Segment(80.0428, 82.0509)>, <Segment(83.3334, 84.6159)>, <Segment(87.6872, 89.8809)>, <Segment(92.0747, 93.4753)>, <Segment(94.0659, 97.5253)>, <Segment(99.9553, 102.487)>, <Segment(102.757, 103.617)>, <Segment(106.418, 107.92)>, <Segment(108.95, 112.072)>, <Segment(112.831, 115.244)>, <Segment(116.071, 118.838)>, <Segment(119.362, 121.015)>, <Segment(122.163, 122.737)>, <Segment(124.053, 126.432)>, <Segment(126.702, 127.698)>, <Segment(128.17, 129.52)>, <Segment(130.887, 131.95)>, <Segment(132.119, 133.469)>, <Segment(134.11, 135.292)>, <Segment(136.237, 140.995)>, <Segment(141.873, 142.987)>, <Segment(143.324, 144.185)>, <Segment(144.32, 145.872)>, <Segment(146.092, 148.083)>, <Segment(148.977, 150.158)>, <Segment(151.559, 152.774)>, <Segment(152.993, 154.057)>, <Segment(154.732, 156.925)>, <Segment(158.056, 160.402)>, <Segment(160.672, 162.19)>, <Segment(163.743, 165.886)>, <Segment(166.544, 174.374)>, <Segment(175.218, 177.952)>, <Segment(178.745, 180.112)>, <Segment(181.208, 182.288)>, <Segment(182.558, 186.187)>, <Segment(190.928, 199.653)>, <Segment(202.42, 205.188)>, <Segment(206.2, 207.601)>, <Segment(207.922, 208.833)>, <Segment(209.626, 215.853)>, <Segment(216.477, 218.452)>, <Segment(218.975, 220.207)>, <Segment(222.063, 223.345)>, <Segment(223.683, 224.037)>, <Segment(224.324, 227.75)>, <Segment(228.627, 231.952)>, <Segment(233.116, 234.027)>, <Segment(234.635, 236.997)>, <Segment(238.111, 239.933)>, <Segment(240.22, 242.92)>, <Segment(243.308, 243.815)>, <Segment(244.777, 245.84)>, <Segment(247.561, 249.788)>, <Segment(250.126, 250.447)>, <Segment(251.189, 251.425)>, <Segment(251.864, 252.877)>, <Segment(255.07, 258.04)>, <Segment(258.547, 258.817)>, <Segment(259.373, 259.559)>, <Segment(259.947, 260.167)>, <Segment(260.977, 262.276)>, <Segment(264.622, 267.355)>, <Segment(268.385, 268.705)>, <Segment(269.178, 269.498)>, <Segment(270.072, 270.342)>, <Segment(270.798, 276.603)>, <Segment(276.721, 279.573)>, <Segment(279.927, 280.298)>, <Segment(280.822, 281.108)>, <Segment(281.547, 281.834)>, <Segment(282.34, 282.593)>, <Segment(283.859, 285.614)>, <Segment(288.095, 290.238)>, <Segment(290.491, 291.082)>, <Segment(291.959, 293.09)>, <Segment(294.423, 295.638)>, <Segment(295.773, 296.279)>, <Segment(296.6, 296.836)>, <Segment(297.224, 298.034)>, <Segment(298.81, 299.62)>, <Segment(300.447, 302.725)>, <Segment(303.282, 305.493)>, <Segment(306.252, 307.282)>, <Segment(307.568, 312.563)>, <Segment(312.833, 318.082)>, <Segment(318.436, 320.09)>, <Segment(320.917, 321.541)>, <Segment(323.498, 325.675)>, <Segment(326.317, 331.531)>, <Segment(331.902, 334.045)>, <Segment(334.822, 335.412)>, <Segment(335.817, 337.201)>, <Segment(338.551, 341.521)>, <Segment(342.027, 344.153)>, <Segment(344.491, 345.689)>, <Segment(347.107, 350.161)>, <Segment(350.752, 352.321)>, <Segment(353.249, 356.692)>, <Segment(357.046, 359.83)>, <Segment(360.961, 363.425)>, <Segment(363.998, 365.163)>, <Segment(365.348, 366.31)>, <Segment(368.015, 369.955)>, <Segment(375.524, 380.232)>, <Segment(381.937, 383.86)>, <Segment(384.08, 388.433)>, <Segment(389.952, 390.408)>, <Segment(390.56, 394.525)>, <Segment(394.812, 395.302)>, <Segment(397.259, 401.68)>, <Segment(403.553, 405.359)>, <Segment(407.89, 411.029)>, <Segment(411.873, 415.636)>, <Segment(418.758, 420.648)>, <Segment(422.065, 425.896)>, <Segment(428.36, 430.925)>, <Segment(431.718, 432.815)>, <Segment(434.992, 436.274)>, <Segment(437.118, 441.623)>, <Segment(441.826, 443.598)>, <Segment(444.914, 445.741)>, <Segment(446.838, 452.896)>, <Segment(454.33, 456.676)>, <Segment(456.811, 458.718)>, <Segment(458.87, 460.49)>, <Segment(462.008, 468.353)>, <Segment(470.75, 474.057)>, <Segment(474.428, 479.778)>, <Segment(480.301, 482.326)>, <Segment(482.63, 485.313)>, <Segment(485.752, 486.511)>, <Segment(487.726, 488.333)>, <Segment(488.553, 492.299)>, <Segment(494.257, 500.45)>, <Segment(502.39, 508.786)>, <Segment(510.085, 511.25)>, <Segment(511.621, 513.46)>, <Segment(524.429, 525.577)>, <Segment(531.162, 533.508)>, <Segment(534.031, 537.625)>])>"
      ]
     },
     "execution_count": 81,
     "metadata": {},
     "output_type": "execute_result"
    }
   ],
   "source": [
    "sub = output.label_timeline('SPEAKER_01')\n",
    "sub"
   ]
  },
  {
   "cell_type": "code",
   "execution_count": 85,
   "id": "84504e58-59f0-419e-af74-0a17b76f1047",
   "metadata": {},
   "outputs": [],
   "source": [
    "from pyannote.audio import Inference\n",
    "inference = Inference(\"pyannote/embedding\", window=\"whole\")\n",
    "embedding1 = inference(toy)"
   ]
  },
  {
   "cell_type": "code",
   "execution_count": 86,
   "id": "af9e337e-0990-4b30-8f30-ea81466a2882",
   "metadata": {},
   "outputs": [
    {
     "data": {
      "text/plain": [
       "array([ 1.98652382e+01,  6.09728909e+00,  1.71480961e+01,  6.31041431e+00,\n",
       "       -9.16975617e-01, -1.94022160e+01, -3.70599022e+01,  1.72384701e+01,\n",
       "        1.18982105e+01,  6.92636251e+00,  5.81140804e+00, -3.39967957e+01,\n",
       "       -1.57056646e+01,  7.66986179e+00,  3.57440987e+01,  1.95193462e+01,\n",
       "        1.48947334e+01,  8.30985832e+00,  4.89178085e+00,  8.19711494e+00,\n",
       "       -1.28250980e+01,  6.29426289e+00, -6.42460775e+00,  5.50431442e+00,\n",
       "        6.61477041e+00,  4.25683174e+01,  7.14360285e+00,  3.81135216e+01,\n",
       "        1.17316780e+01,  2.27864575e+00,  2.01429729e+01, -3.65708923e+01,\n",
       "       -1.48431034e+01,  2.60720940e+01, -1.75140119e+00,  1.25934486e+01,\n",
       "       -2.39351616e+01,  3.85435448e+01, -2.92460155e+01,  1.09747810e+01,\n",
       "        1.63118515e+01, -1.13591957e+01,  7.59707928e+00,  2.07738280e-02,\n",
       "       -3.09734011e+00, -2.06832695e+01,  2.24132004e+01,  4.42292404e+01,\n",
       "       -2.35352230e+01, -1.21980896e+01,  1.61843643e+01,  3.58614326e+00,\n",
       "        3.20562325e+01,  4.42625999e+00, -5.79670072e-01, -1.02773104e+01,\n",
       "       -1.70434856e+01,  5.18738890e+00,  1.99596729e+01,  1.97754688e+01,\n",
       "        3.48981514e+01, -5.82822752e+00,  6.01377964e+00, -7.13274050e+00,\n",
       "       -1.06976881e+01,  6.28232050e+00,  2.50289593e+01, -4.58060312e+00,\n",
       "       -1.02353249e+01, -9.24871254e+00, -4.38019333e+01,  2.55600815e+01,\n",
       "       -8.64786804e-02, -8.54068851e+00,  1.85264230e+00, -6.43414402e+00,\n",
       "        1.42434578e+01, -3.55101547e+01,  2.43897991e+01,  2.52616901e+01,\n",
       "       -1.97849541e+01,  1.35986595e+01,  2.27052832e+00, -1.95583725e+01,\n",
       "       -2.97873878e+01, -4.69543219e+00,  4.36229420e+00, -1.87760601e+01,\n",
       "        2.56395359e+01,  5.07718027e-01,  1.32655964e+01,  2.35336552e+01,\n",
       "        1.55569148e+00,  8.63148880e+00,  4.11665726e+01, -6.13856649e+00,\n",
       "        2.35022354e+01, -3.63794212e+01, -6.77839899e+00, -2.15350742e+01,\n",
       "       -1.45607634e+01,  1.95518436e+01,  1.95068054e+01,  3.83703575e+01,\n",
       "       -1.14214344e+01, -9.39254189e+00,  1.00835962e+01, -2.24704475e+01,\n",
       "        3.95302086e+01,  2.07684956e+01,  1.63981056e+01,  2.12193642e+01,\n",
       "       -5.34541416e+00, -2.13202906e+00,  7.39607143e+00,  9.27431774e+00,\n",
       "       -5.04400492e+00,  1.48454504e+01, -2.44635296e+00,  4.42835188e+00,\n",
       "        5.22055588e+01,  1.88191166e+01,  3.78931737e+00,  1.02786369e+01,\n",
       "        4.23193283e+01, -4.07929230e+00, -1.43488169e+01, -1.19496703e+00,\n",
       "       -1.39683208e+01,  1.47703705e+01, -4.31089287e+01,  1.92274895e+01,\n",
       "       -2.99542198e+01,  6.74288368e+00,  1.23738689e+01,  9.75503826e+00,\n",
       "        6.31985617e+00, -1.10152283e+01, -1.76018467e+01, -2.71836605e+01,\n",
       "        1.52446594e+01,  1.18606081e+01,  2.83773482e-01, -1.28120699e+01,\n",
       "       -1.25342150e+01,  1.36390715e+01, -3.84307575e+00, -1.73184741e+00,\n",
       "        4.32988434e+01, -2.12857628e+01,  4.91871357e+00, -3.79307461e+00,\n",
       "       -2.92048049e+00,  1.99116879e+01,  1.34467754e+01,  2.15404720e+01,\n",
       "       -2.88338923e+00,  1.23105726e+01, -4.91148453e+01, -2.86083722e+00,\n",
       "       -1.28029776e+01, -2.44766617e+01,  1.31241875e+01, -1.48743019e+01,\n",
       "       -2.15767708e+01,  1.80789642e+01, -3.10177307e+01, -7.66131783e+00,\n",
       "       -2.54273129e+00, -7.35440540e+00,  1.44281473e+01,  2.31318512e+01,\n",
       "        2.00217266e+01, -1.59894943e+01, -1.62234917e+01, -7.49198675e+00,\n",
       "       -1.88380585e+01,  4.12167740e+00, -7.08379698e+00, -1.30385005e+00,\n",
       "       -2.59506607e+01, -7.70481396e+00, -5.50980854e+00, -2.11465302e+01,\n",
       "        1.87809486e+01, -1.45670347e+01, -3.21932602e+00, -4.32825136e+00,\n",
       "        5.60795486e-01,  1.40934873e+00,  1.27804585e+01, -1.43974190e+01,\n",
       "       -1.73817635e+01, -3.84094000e+00, -8.88619995e+00, -1.57263956e+01,\n",
       "       -1.29281788e+01, -1.06578598e+01, -1.40912313e+01, -4.25905943e+00,\n",
       "       -2.02012463e+01,  2.19750595e+01, -1.27269297e+01,  5.38794088e+00,\n",
       "        1.50031986e+01,  3.22477746e+00, -2.59978218e+01, -2.76839523e+01,\n",
       "        1.86984787e+01,  3.24263358e+00,  1.78333986e+00,  2.61822109e+01,\n",
       "        4.83742332e+00,  2.99580269e+01, -2.56168957e+01, -1.57836843e+00,\n",
       "       -1.03221331e+01,  3.59240265e+01,  3.17086277e+01, -1.39260709e+00,\n",
       "       -1.10469608e+01, -1.19614220e+01, -1.61091137e+00,  2.69265900e+01,\n",
       "       -1.73432884e+01, -4.71237993e+00, -5.78376865e+00, -4.58818779e+01,\n",
       "        5.58308268e+00, -1.70686131e+01, -4.31195402e+00,  2.61258640e+01,\n",
       "        1.82764187e+01,  1.26770878e+01,  1.49006386e+01, -1.15946398e+01,\n",
       "        4.69048786e+00,  3.39655328e+00,  3.26713715e+01,  1.55547781e+01,\n",
       "        3.33634224e+01, -1.13221273e+01, -5.92570448e+00, -2.45341549e+01,\n",
       "        5.03098679e+00, -1.95746059e+01, -4.05468216e+01, -1.16907129e+01,\n",
       "       -2.11499233e+01, -1.01001215e+01,  1.92498856e+01,  2.05810394e+01,\n",
       "       -3.07053509e+01,  2.77915535e+01, -1.81627810e+00,  4.39923906e+00,\n",
       "        3.09793968e+01, -8.18325329e+00, -4.12022018e+00,  4.05819845e+00,\n",
       "       -5.02366257e+01, -2.66965065e+01,  2.21131306e+01,  2.08930016e+01,\n",
       "        4.73554277e+00,  2.82816601e+01, -9.65445709e+00,  2.40427113e+01,\n",
       "        2.29874706e+01, -2.28938694e+01,  3.55839157e+01, -1.97372704e+01,\n",
       "       -1.42559633e+01, -3.25486374e+01,  1.69849205e+01,  1.24127436e+01,\n",
       "        1.58410902e+01, -1.31087971e+01,  3.51357765e+01,  1.82495880e+01,\n",
       "       -2.34066448e+01, -1.28133287e+01, -1.71926272e+00,  5.41947174e+00,\n",
       "        3.18003559e+01, -1.35037451e+01,  2.13030987e+01, -2.29016762e+01,\n",
       "       -9.94444942e+00,  4.06153030e+01,  1.12641802e+01,  1.11878757e+01,\n",
       "       -3.84073257e+01, -5.85254002e+00,  1.20765791e+01, -1.16571722e+01,\n",
       "       -4.45380545e+00, -1.83987370e+01,  1.70767345e+01, -1.05446663e+01,\n",
       "        3.99767327e+00,  1.76683502e+01, -1.00475311e+01, -8.54276180e+00,\n",
       "       -1.70143661e+01, -9.28193188e+00, -1.98537273e+01,  5.40683842e+00,\n",
       "        1.95134621e+01, -4.82449472e-01,  1.84816513e+01,  3.52130580e+00,\n",
       "       -1.21470094e+00, -7.56663609e+00, -1.19742508e+01,  2.60099983e+01,\n",
       "        1.48010302e+00, -2.96681786e+01,  3.15284920e+01,  5.64139891e+00,\n",
       "       -7.11596012e+00,  1.61692028e+01, -1.74425812e+01, -3.54015660e+00,\n",
       "        8.83501244e+00, -1.04229012e+01,  3.35420723e+01,  1.24919987e+01,\n",
       "        2.43776531e+01,  1.40733995e+01, -5.27322884e+01, -1.04316502e+01,\n",
       "        1.61254692e+01, -3.79839015e+00,  2.43087502e+01, -3.56944275e+01,\n",
       "       -2.88742886e+01, -2.10018425e+01, -2.96949940e+01, -7.78129625e+00,\n",
       "       -7.77016735e+00, -3.21421242e+01,  1.61972542e+01, -1.29884901e+01,\n",
       "       -5.65873098e+00, -3.60720558e+01, -1.86519766e+00, -2.25974712e+01,\n",
       "       -2.17915096e+01,  1.70517597e+01,  8.90034866e+00, -8.79836845e+00,\n",
       "        1.20024338e+01,  2.71086292e+01,  3.63140335e+01, -2.62885494e+01,\n",
       "        6.61322308e+00,  1.16105347e+01,  1.69419613e+01, -2.61222744e+01,\n",
       "       -1.07646971e+01, -3.56298733e+00, -1.54257717e+01,  2.76416278e+00,\n",
       "       -2.30309830e+01, -8.15607452e+00, -1.27469988e+01,  1.64308023e+00,\n",
       "        1.76665020e+01,  1.61582966e+01,  4.81501150e+00, -2.24834862e+01,\n",
       "        4.00033236e+00, -4.69544258e+01,  1.57319412e+01, -1.02591372e+01,\n",
       "       -3.34525757e+01,  3.08896523e+01, -1.23677039e+00, -1.84551029e+01,\n",
       "       -2.10952969e+01, -5.45360136e+00,  9.94357109e+00, -2.33958492e+01,\n",
       "       -5.98397923e+00, -1.70809669e+01,  6.44789553e+00, -3.12261887e+01,\n",
       "        1.89236283e+00,  2.42289562e+01,  3.48685884e+00, -6.25746727e-01,\n",
       "       -3.87402191e+01, -1.52564859e+01, -7.30674410e+00, -1.33406315e+01,\n",
       "       -4.43559456e+00, -4.64348984e+00,  2.80902481e+01,  3.77154999e+01,\n",
       "        7.13420248e+00, -2.23355618e+01, -1.34684248e+01,  1.74543571e+01,\n",
       "        2.94561729e+01,  1.31682611e+00, -9.14461517e+00,  2.62390423e+01,\n",
       "        1.52762966e+01,  1.09620695e+01,  1.13860302e+01, -2.86437035e+00,\n",
       "       -1.60119839e+01,  1.08227520e+01,  7.89259815e+00,  1.44674082e+01,\n",
       "       -2.81760240e+00,  3.26884041e+01, -4.27004166e+01, -9.45360565e+00,\n",
       "       -1.50819826e+01, -4.79288626e+00,  1.97148342e+01,  1.35381832e+01,\n",
       "        2.78496981e-01, -1.87969284e+01,  1.06328506e+01,  7.06855726e+00,\n",
       "       -2.58572698e+00,  2.45728636e+00, -4.55998993e+01, -1.31000834e+01,\n",
       "        4.85280266e+01,  1.15540304e+01,  2.47870674e+01, -4.12913017e+01,\n",
       "        2.17908740e+00,  2.55551033e+01,  2.59076271e+01, -3.11603794e+01,\n",
       "        1.35364223e+00,  2.43104916e+01, -2.03494892e+01,  9.21614838e+00,\n",
       "        1.75060902e+01,  2.93343008e-01, -1.52297649e+01, -2.13621197e+01,\n",
       "        7.03732824e+00,  1.04538574e+01,  1.55809164e+01,  4.02763009e-01,\n",
       "        1.28116913e+01,  2.52355709e+01, -1.80541515e+01, -1.84624805e+01,\n",
       "        2.07630196e+01, -6.76884556e+00, -1.91376152e+01, -1.40518341e+01,\n",
       "        3.72477036e+01, -2.62243891e+00, -2.17874451e+01, -9.89315629e-01,\n",
       "       -6.34475994e+00,  2.51968694e+00,  2.47284145e+01, -6.55120516e+00,\n",
       "        1.04542599e+01,  3.90158510e+00, -2.75242829e+00, -3.73079185e+01,\n",
       "       -2.50501931e-02, -8.32858980e-02, -1.39705486e+01,  1.20716248e+01,\n",
       "       -1.58983803e+01,  5.08357000e+00,  1.06190071e+01, -3.57486267e+01,\n",
       "        7.42686844e+00, -7.59208345e+00, -2.51460195e+00,  2.40231991e-01,\n",
       "       -3.89909363e+01,  3.39728165e+01, -2.42026501e+01, -3.06061211e+01,\n",
       "        1.54650583e+01,  1.29498444e+01, -7.19015503e+00,  2.66278982e-01,\n",
       "       -1.62244930e+01,  5.66793966e+00, -2.61754692e-01,  1.30742016e+01,\n",
       "       -1.32255754e+01, -2.28734646e+01,  1.18115301e+01,  1.03904266e+01,\n",
       "       -4.18735504e+00,  3.34007144e+00, -2.55145378e+01, -2.85271645e+01,\n",
       "        1.75518684e+01, -4.03440552e+01, -1.58415508e+01, -1.59061356e+01,\n",
       "        8.31479168e+00,  2.74115429e+01, -2.16824780e+01, -3.16779823e+01],\n",
       "      dtype=float32)"
      ]
     },
     "execution_count": 86,
     "metadata": {},
     "output_type": "execute_result"
    }
   ],
   "source": [
    "pd.DataFrameIembedding1"
   ]
  },
  {
   "cell_type": "code",
   "execution_count": null,
   "id": "9471debb-2be3-4a26-8121-fa3e2d03c211",
   "metadata": {},
   "outputs": [],
   "source": []
  }
 ],
 "metadata": {
  "kernelspec": {
   "display_name": "infantvoicev2",
   "language": "python",
   "name": "infantvoicev2"
  },
  "language_info": {
   "codemirror_mode": {
    "name": "ipython",
    "version": 3
   },
   "file_extension": ".py",
   "mimetype": "text/x-python",
   "name": "python",
   "nbconvert_exporter": "python",
   "pygments_lexer": "ipython3",
   "version": "3.9.7"
  }
 },
 "nbformat": 4,
 "nbformat_minor": 5
}
