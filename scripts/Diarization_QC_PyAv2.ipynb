{
 "cells": [
  {
   "cell_type": "code",
   "execution_count": 1,
   "id": "ad52c3dc-2f34-4e73-8a24-1ecc0909abed",
   "metadata": {},
   "outputs": [],
   "source": [
    "%load_ext autoreload\n",
    "%autoreload 2\n",
    "import os\n",
    "from pyannote.core import json\n",
    "import src.embedding_extractor as ee\n",
    "import pandas as pd\n",
    "from pathlib import Path\n",
    "\n",
    "diarized_dir = '/Users/rahulbrito/Documents/projects/infantvoice/data/Full_Readings/031622_diarized'"
   ]
  },
  {
   "cell_type": "code",
   "execution_count": 2,
   "id": "ea572d7b-ca1a-4e0a-ae2d-251c61da105d",
   "metadata": {},
   "outputs": [
    {
     "data": {
      "text/plain": [
       "[(<pyannote.core.annotation.Annotation at 0x7fd1313487f0>, '007.json'),\n",
       " (<pyannote.core.annotation.Annotation at 0x7fd1515a8d00>, '011.json'),\n",
       " (<pyannote.core.annotation.Annotation at 0x7fd1354cd2e0>, '010.json'),\n",
       " (<pyannote.core.annotation.Annotation at 0x7fd1354df3a0>, '006.json'),\n",
       " (<pyannote.core.annotation.Annotation at 0x7fd1354edbe0>, '001.json'),\n",
       " (<pyannote.core.annotation.Annotation at 0x7fd135507940>, '017.json'),\n",
       " (<pyannote.core.annotation.Annotation at 0x7fd1355140a0>, '016.json'),\n",
       " (<pyannote.core.annotation.Annotation at 0x7fd135528100>, '020.json'),\n",
       " (<pyannote.core.annotation.Annotation at 0x7fd1355353a0>, '019.json'),\n",
       " (<pyannote.core.annotation.Annotation at 0x7fd161ec3910>, '015.json'),\n",
       " (<pyannote.core.annotation.Annotation at 0x7fd161ed92b0>, '003.json'),\n",
       " (<pyannote.core.annotation.Annotation at 0x7fd1389b3130>, '002.json'),\n",
       " (<pyannote.core.annotation.Annotation at 0x7fd1389d0790>, '014.json'),\n",
       " (<pyannote.core.annotation.Annotation at 0x7fd1389e1cd0>, '018.json'),\n",
       " (<pyannote.core.annotation.Annotation at 0x7fd1389ee0d0>, '013.json'),\n",
       " (<pyannote.core.annotation.Annotation at 0x7fd135542310>, '005.json'),\n",
       " (<pyannote.core.annotation.Annotation at 0x7fd135555070>, '009.json'),\n",
       " (<pyannote.core.annotation.Annotation at 0x7fd135564670>, '008.json'),\n",
       " (<pyannote.core.annotation.Annotation at 0x7fd1355753d0>, '004.json'),\n",
       " (<pyannote.core.annotation.Annotation at 0x7fd1200f81f0>, '012.json')]"
      ]
     },
     "execution_count": 2,
     "metadata": {},
     "output_type": "execute_result"
    }
   ],
   "source": [
    "diarized = [(json.load_from(os.path.join(diarized_dir,file)),file) for file in os.listdir(diarized_dir)]\n",
    "diarized"
   ]
  },
  {
   "cell_type": "code",
   "execution_count": 4,
   "id": "de933fc9-b159-47e8-8152-9852844962af",
   "metadata": {},
   "outputs": [],
   "source": [
    "# don't record Victoria\n",
    "# make sure background noise is off (e.g. TV, radio)\n",
    "# can we somehow not record the baby?\n",
    "# can we control for microphone? "
   ]
  },
  {
   "cell_type": "code",
   "execution_count": 3,
   "id": "188ba141-6b86-460a-b30a-51b6a05592ea",
   "metadata": {},
   "outputs": [],
   "source": [
    "data_clean_lower = {int(Path(part).stem):data.label_timeline('SPEAKER_01') for data,part in diarized if int(Path(part).stem)<11}\n",
    "data_clean_upper = {int(Path(part).stem):data.label_timeline('SPEAKER_00') for data,part in diarized if int(Path(part).stem)>=11}\n",
    "data_clean = data_clean_lower|data_clean_upper\n"
   ]
  },
  {
   "cell_type": "code",
   "execution_count": null,
   "id": "53a4a200-b472-4d0f-b480-8bf93fc4b029",
   "metadata": {},
   "outputs": [],
   "source": [
    "data_clean"
   ]
  },
  {
   "cell_type": "code",
   "execution_count": 11,
   "id": "55251334-1280-460d-afc1-3b8ab210782f",
   "metadata": {},
   "outputs": [
    {
     "data": {
      "text/plain": [
       "[None,\n",
       " None,\n",
       " None,\n",
       " None,\n",
       " None,\n",
       " None,\n",
       " None,\n",
       " None,\n",
       " None,\n",
       " None,\n",
       " None,\n",
       " None,\n",
       " None,\n",
       " None,\n",
       " None,\n",
       " None,\n",
       " None,\n",
       " None,\n",
       " None,\n",
       " None]"
      ]
     },
     "execution_count": 11,
     "metadata": {},
     "output_type": "execute_result"
    }
   ],
   "source": [
    "timestamp_dir = '/Users/rahulbrito/Documents/projects/infantvoice/data/Full_Readings/032922_speaker_timestamps_diarized'\n",
    "\n",
    "[json.dump_to(d, os.path.join(timestamp_dir,str(rm) + '.json')) for rm,d in data_clean.items()]"
   ]
  },
  {
   "cell_type": "code",
   "execution_count": 8,
   "id": "00535099-5002-45e6-a802-bb60fd25e086",
   "metadata": {},
   "outputs": [
    {
     "data": {
      "image/png": "[encoded data removed]",
      "text/plain": [
       "<pyannote.core.annotation.Annotation at 0x7fd135542310>"
      ]
     },
     "execution_count": 8,
     "metadata": {},
     "output_type": "execute_result"
    }
   ],
   "source": [
    "diarized[15][0]"
   ]
  },
  {
   "cell_type": "code",
   "execution_count": 5,
   "id": "e80a181e-0088-4ca1-96a6-19c7da00c6a9",
   "metadata": {},
   "outputs": [
    {
     "data": {
      "image/png": "[encoded data removed]",
      "text/plain": [
       "<Timeline(uri=018, segments=[<Segment(2.73844, 4.37531)>, <Segment(5.99531, 6.73781)>, <Segment(10.9228, 11.5134)>, <Segment(16.3397, 18.2466)>, <Segment(19.2928, 20.0522)>, <Segment(28.9284, 29.1309)>, <Segment(34.7334, 35.0878)>, <Segment(64.1128, 65.3278)>, <Segment(85.6284, 88.4803)>, <Segment(92.7666, 93.9141)>, <Segment(94.4709, 96.9178)>, <Segment(102.318, 104.95)>, <Segment(105.338, 107.836)>, <Segment(111.11, 113.776)>, <Segment(118.467, 120.593)>, <Segment(124.508, 126.179)>, <Segment(126.432, 128.035)>, <Segment(130.837, 133.57)>, <Segment(135.798, 136.878)>, <Segment(137.418, 138.548)>, <Segment(141.94, 144.1)>, <Segment(147.779, 150.226)>, <Segment(153.027, 155.339)>, <Segment(160.992, 168.552)>, <Segment(168.822, 169.987)>, <Segment(170.594, 175.842)>, <Segment(179.673, 180.179)>, <Segment(180.365, 184.28)>, <Segment(184.415, 187.857)>, <Segment(188.279, 190.186)>, <Segment(195.569, 197.932)>, <Segment(198.185, 198.64)>, <Segment(199.012, 200.632)>, <Segment(201.155, 202.454)>, <Segment(202.623, 203.095)>, <Segment(204.057, 208.917)>, <Segment(212.275, 213.068)>, <Segment(219.599, 222.299)>, <Segment(223.278, 224.948)>, <Segment(229.049, 230.095)>, <Segment(231.142, 234.972)>, <Segment(239.663, 241.52)>, <Segment(241.958, 242.515)>, <Segment(242.785, 245.502)>, <Segment(245.975, 247.088)>, <Segment(247.223, 253.045)>, <Segment(257.602, 260.099)>, <Segment(260.909, 261.601)>, <Segment(262.293, 264.453)>, <Segment(266.663, 268.553)>, <Segment(271.473, 273.616)>, <Segment(274.679, 275.472)>, <Segment(277.565, 281.598)>, <Segment(283.792, 288.095)>, <Segment(290.677, 294.878)>, <Segment(297.393, 299.789)>, <Segment(300.11, 301.409)>, <Segment(303.502, 306.758)>, <Segment(308.615, 310.488)>, <Segment(312.361, 317.086)>, <Segment(317.626, 319.465)>, <Segment(324.342, 326.452)>, <Segment(326.907, 335.868)>, <Segment(338.534, 341.723)>, <Segment(344.508, 347.208)>, <Segment(347.714, 348.052)>, <Segment(348.22, 349.621)>, <Segment(350.279, 352.49)>, <Segment(353.148, 355.443)>, <Segment(359.459, 362.834)>, <Segment(364.96, 371.12)>, <Segment(373.516, 375.862)>, <Segment(376.351, 377.903)>, <Segment(380.182, 381.38)>, <Segment(383.084, 384.316)>, <Segment(386.493, 388.045)>, <Segment(390.458, 396.112)>, <Segment(400.685, 403.57)>, <Segment(403.942, 404.684)>, <Segment(407.671, 410.759)>, <Segment(411.417, 412.548)>, <Segment(415.383, 423.382)>, <Segment(425.035, 433.355)>, <Segment(436.628, 441.809)>, <Segment(441.978, 444.56)>, <Segment(448.542, 449.133)>, <Segment(449.386, 453.132)>, <Segment(456.085, 459.173)>, <Segment(459.477, 462.177)>, <Segment(464.945, 469.248)>, <Segment(471.222, 471.29)>, <Segment(474.428, 481.972)>, <Segment(486.241, 489.599)>])>"
      ]
     },
     "execution_count": 5,
     "metadata": {},
     "output_type": "execute_result"
    }
   ],
   "source": [
    "data_clean[18]"
   ]
  },
  {
   "cell_type": "code",
   "execution_count": 108,
   "id": "4887d1ef-d774-4fb1-a0f2-f9fc2b365a12",
   "metadata": {
    "tags": []
   },
   "outputs": [
    {
     "name": "stdout",
     "output_type": "stream",
     "text": [
      "Processing019.wav\n",
      "Done\n"
     ]
    }
   ],
   "source": [
    "wav_files='/Users/rahulbrito/Documents/projects/infantvoice/data/Full_Readings/0300222_recordings_16khz'\n",
    "save_dir = '/Users/rahulbrito/Documents/projects/infantvoice/data/embeddings'\n",
    "save_name = '03016_diarized_pyv2.csv'\n",
    "emb = ee.pyannote_extract_directory(wav_files, data_clean,save_dir,save_name,save=True)"
   ]
  },
  {
   "cell_type": "code",
   "execution_count": 107,
   "id": "28412d92-263f-4277-afc3-8f6a7d4fed91",
   "metadata": {},
   "outputs": [],
   "source": [
    "from pyannote.core import Segment, notebook, SlidingWindowFeature, timeline, Timeline\n",
    "\n",
    "t = 2\n",
    "long_turns = Timeline(segments=[s for s in data_clean[12] if s.duration > t])"
   ]
  },
  {
   "cell_type": "code",
   "execution_count": 78,
   "id": "ce2a847b-d02d-41c2-9215-411414b65a9d",
   "metadata": {},
   "outputs": [
    {
     "data": {
      "image/png": "[encoded data removed]",
      "text/plain": [
       "<Timeline(uri=None, segments=[<Segment(67.0153, 69.3609)>, <Segment(70.8291, 74.4066)>, <Segment(77.1234, 79.6547)>, <Segment(81.2916, 83.5022)>, <Segment(89.6616, 92.7328)>, <Segment(94.4034, 96.6141)>, <Segment(104.647, 108.443)>, <Segment(108.983, 112.223)>, <Segment(112.73, 115.767)>, <Segment(119.243, 122.095)>, <Segment(122.213, 126.01)>, <Segment(126.247, 128.373)>, <Segment(132.119, 136.22)>, <Segment(138.818, 142.75)>, <Segment(148.758, 152.723)>, <Segment(154.917, 160.115)>, <Segment(162.595, 164.924)>, <Segment(169.042, 174.644)>, <Segment(178.357, 185.275)>, <Segment(189.764, 192.076)>, <Segment(195.383, 197.577)>, <Segment(200.902, 203.618)>, <Segment(206.926, 210.841)>, <Segment(212.478, 215.093)>, <Segment(220.865, 224.999)>, <Segment(225.404, 228.155)>, <Segment(229.842, 234.955)>, <Segment(241.79, 247.19)>, <Segment(247.73, 249.957)>, <Segment(254.986, 257.821)>, <Segment(260.487, 263.052)>, <Segment(263.761, 265.82)>, <Segment(266.258, 268.351)>, <Segment(268.874, 271.608)>, <Segment(274.645, 278.105)>, <Segment(282.863, 286.12)>, <Segment(287.926, 290.457)>, <Segment(294.659, 298.152)>, <Segment(303.434, 306.505)>, <Segment(313.272, 315.5)>, <Segment(319.55, 321.862)>, <Segment(325.895, 330.434)>, <Segment(336.29, 341.808)>, <Segment(343.681, 349.469)>, <Segment(355.291, 358.868)>, <Segment(360.657, 366.884)>, <Segment(369.837, 375.592)>, <Segment(377.988, 381.43)>, <Segment(381.802, 383.877)>, <Segment(387.623, 389.632)>])>"
      ]
     },
     "execution_count": 78,
     "metadata": {},
     "output_type": "execute_result"
    }
   ],
   "source": [
    "long_turns"
   ]
  },
  {
   "cell_type": "code",
   "execution_count": 117,
   "id": "1d3c34dd-cdd4-4a09-9c1a-20922aff56ee",
   "metadata": {},
   "outputs": [
    {
     "data": {
      "image/png": "[encoded data removed]",
      "text/plain": [
       "<Timeline(uri=011, segments=[<Segment(1.18594, 2.01281)>, <Segment(2.58656, 3.41344)>, <Segment(9.30281, 9.94406)>, <Segment(18.9216, 19.3434)>, <Segment(22.7016, 23.3091)>, <Segment(36.1003, 37.9397)>, <Segment(43.7784, 44.8247)>, <Segment(49.3641, 50.0728)>, <Segment(52.7559, 56.2828)>, <Segment(60.7378, 62.7122)>, <Segment(64.4334, 65.6147)>, <Segment(66.0703, 66.5597)>, <Segment(66.7116, 67.9097)>, <Segment(68.6353, 68.8209)>, <Segment(71.4534, 72.0441)>, <Segment(72.7191, 74.5078)>, <Segment(75.7734, 76.1616)>, <Segment(76.7016, 78.4228)>, <Segment(78.9459, 79.4184)>, <Segment(82.0003, 83.2322)>, <Segment(83.7722, 84.0759)>, <Segment(84.6159, 87.7884)>, <Segment(88.1091, 90.6572)>, <Segment(92.2266, 93.4416)>, <Segment(94.2853, 95.4159)>, <Segment(96.1416, 98.2847)>, <Segment(105.17, 106.655)>, <Segment(107.532, 108.983)>, <Segment(112.561, 113.506)>, <Segment(113.978, 115.177)>, <Segment(115.868, 116.813)>, <Segment(119.395, 120.779)>, <Segment(121.302, 122.787)>, <Segment(124.087, 125.268)>, <Segment(125.875, 126.702)>, <Segment(127.107, 128.069)>, <Segment(129.25, 129.571)>, <Segment(131.714, 134.077)>, <Segment(138.447, 141.063)>, <Segment(142.75, 144.202)>, <Segment(144.64, 146.024)>, <Segment(146.834, 154.343)>, <Segment(154.58, 156.672)>, <Segment(157.077, 159.457)>, <Segment(159.608, 160.317)>, <Segment(160.79, 164.047)>, <Segment(164.553, 166.038)>, <Segment(168.468, 169.835)>, <Segment(170.898, 171.455)>, <Segment(171.758, 172.838)>, <Segment(174.087, 175.724)>, <Segment(176.315, 177.918)>, <Segment(178.357, 181.107)>, <Segment(185.107, 187.283)>, <Segment(187.84, 190.186)>, <Segment(190.709, 193.865)>, <Segment(194.337, 199.535)>, <Segment(201.323, 201.593)>, <Segment(202.117, 204.749)>, <Segment(204.884, 205.019)>, <Segment(207.719, 212.208)>, <Segment(217.557, 223.801)>, <Segment(225.843, 227.935)>, <Segment(228.745, 229.96)>, <Segment(230.467, 231.58)>, <Segment(231.715, 234.955)>, <Segment(235.647, 238.162)>, <Segment(240.018, 241.553)>, <Segment(243.427, 245.553)>, <Segment(245.992, 246.295)>, <Segment(247.392, 247.949)>, <Segment(248.624, 249.164)>, <Segment(250.43, 250.615)>, <Segment(252.455, 254.075)>, <Segment(254.8, 256.167)>, <Segment(256.775, 257.045)>, <Segment(257.737, 259.542)>, <Segment(259.677, 262.445)>, <Segment(263.626, 266.225)>, <Segment(267.592, 270.427)>, <Segment(270.764, 273.38)>, <Segment(274.814, 276.788)>, <Segment(276.907, 277.733)>, <Segment(278.307, 278.982)>, <Segment(279.472, 281.716)>, <Segment(283.488, 287.015)>, <Segment(288.837, 290.12)>, <Segment(290.592, 291.149)>, <Segment(291.672, 292.465)>, <Segment(293.073, 294.254)>, <Segment(294.693, 295.604)>, <Segment(296.161, 297.038)>, <Segment(299.215, 300.515)>, <Segment(300.633, 303.012)>, <Segment(304.902, 306.573)>, <Segment(306.826, 308.21)>, <Segment(308.497, 315.82)>, <Segment(316.597, 317.963)>, <Segment(318.233, 319.448)>, <Segment(319.634, 319.87)>, <Segment(320.208, 324.19)>, <Segment(324.747, 325.591)>, <Segment(326.063, 326.671)>, <Segment(334.13, 334.973)>, <Segment(335.952, 343.36)>, <Segment(343.833, 346.381)>, <Segment(346.955, 349.418)>, <Segment(351.055, 356.27)>, <Segment(358.345, 361.653)>, <Segment(362.48, 367.492)>, <Segment(369.078, 371.997)>, <Segment(372.419, 378.443)>, <Segment(382.055, 386.054)>, <Segment(388.231, 390.374)>, <Segment(390.931, 393.817)>, <Segment(396.179, 399.841)>, <Segment(400.482, 401.697)>, <Segment(404.212, 408.346)>, <Segment(409.915, 411.637)>, <Segment(413.881, 416.395)>, <Segment(416.699, 419.686)>, <Segment(425.255, 425.947)>, <Segment(426.385, 428.545)>, <Segment(429.068, 430.368)>, <Segment(432.697, 435.903)>, <Segment(436.595, 437.641)>, <Segment(440.594, 446.551)>, <Segment(447.31, 447.462)>, <Segment(449.673, 451.327)>, <Segment(451.816, 456.946)>, <Segment(459.106, 465.485)>, <Segment(469.45, 470.277)>, <Segment(470.665, 473.77)>, <Segment(476.318, 481.6)>, <Segment(484.081, 490.882)>, <Segment(493.48, 498.948)>, <Segment(501.496, 504.483)>, <Segment(506.643, 507.672)>, <Segment(513.663, 514.507)>, <Segment(514.81, 515.249)>, <Segment(522.269, 522.539)>])>"
      ]
     },
     "execution_count": 117,
     "metadata": {},
     "output_type": "execute_result"
    }
   ],
   "source": [
    "data_clean[11]"
   ]
  },
  {
   "cell_type": "code",
   "execution_count": 76,
   "id": "7f730fef-6594-4ddb-8a64-08b8ce16e043",
   "metadata": {},
   "outputs": [
    {
     "data": {
      "image/png": "[encoded data removed]",
      "text/plain": [
       "<Timeline(uri=007, segments=[<Segment(39.5428, 39.9647)>, <Segment(52.4016, 53.4309)>, <Segment(55.2872, 56.1309)>, <Segment(56.6709, 58.5609)>, <Segment(60.5691, 61.3116)>, <Segment(61.5647, 62.5772)>, <Segment(63.0328, 64.1128)>, <Segment(64.4166, 65.5472)>, <Segment(67.0153, 69.3609)>, <Segment(70.8291, 74.4066)>, <Segment(77.1234, 79.6547)>, <Segment(81.2916, 83.5022)>, <Segment(85.0716, 86.0166)>, <Segment(86.6578, 87.7378)>, <Segment(89.6616, 92.7328)>, <Segment(94.4034, 96.6141)>, <Segment(98.4197, 100.175)>, <Segment(104.647, 108.443)>, <Segment(108.983, 112.223)>, <Segment(112.73, 115.767)>, <Segment(116.003, 117.016)>, <Segment(119.243, 122.095)>, <Segment(122.213, 126.01)>, <Segment(126.247, 128.373)>, <Segment(132.119, 136.22)>, <Segment(136.507, 138.329)>, <Segment(138.818, 142.75)>, <Segment(144.893, 145.94)>, <Segment(148.758, 152.723)>, <Segment(154.917, 160.115)>, <Segment(162.595, 164.924)>, <Segment(165.38, 166.713)>, <Segment(167.202, 168.535)>, <Segment(169.042, 174.644)>, <Segment(178.357, 185.275)>, <Segment(187.115, 188.515)>, <Segment(189.764, 192.076)>, <Segment(192.734, 193.747)>, <Segment(195.383, 197.577)>, <Segment(198.05, 199.366)>, <Segment(200.902, 203.618)>, <Segment(203.973, 205.357)>, <Segment(206.926, 210.841)>, <Segment(212.478, 215.093)>, <Segment(215.566, 217.102)>, <Segment(219.008, 220.51)>, <Segment(220.865, 224.999)>, <Segment(225.404, 228.155)>, <Segment(229.842, 234.955)>, <Segment(235.512, 237.233)>, <Segment(238.87, 239.36)>, <Segment(241.79, 247.19)>, <Segment(247.73, 249.957)>, <Segment(251.054, 252.573)>, <Segment(254.986, 257.821)>, <Segment(258.226, 259.998)>, <Segment(260.487, 263.052)>, <Segment(263.761, 265.82)>, <Segment(266.258, 268.351)>, <Segment(268.874, 271.608)>, <Segment(274.645, 278.105)>, <Segment(279.978, 280.518)>, <Segment(280.889, 282.712)>, <Segment(282.863, 286.12)>, <Segment(287.926, 290.457)>, <Segment(290.98, 292.651)>, <Segment(294.659, 298.152)>, <Segment(299.941, 301.713)>, <Segment(303.434, 306.505)>, <Segment(306.843, 308.328)>, <Segment(308.632, 309.121)>, <Segment(313.272, 315.5)>, <Segment(316.107, 317.17)>, <Segment(319.55, 321.862)>, <Segment(322.317, 323.617)>, <Segment(325.895, 330.434)>, <Segment(330.704, 332.324)>, <Segment(334.687, 335.362)>, <Segment(336.29, 341.808)>, <Segment(343.681, 349.469)>, <Segment(349.84, 351.342)>, <Segment(355.291, 358.868)>, <Segment(360.657, 366.884)>, <Segment(369.837, 375.592)>, <Segment(377.988, 381.43)>, <Segment(381.802, 383.877)>, <Segment(386.138, 387.134)>, <Segment(387.623, 389.632)>, <Segment(398.221, 400.178)>])>"
      ]
     },
     "execution_count": 76,
     "metadata": {},
     "output_type": "execute_result"
    }
   ],
   "source": [
    "filename = '007.wav'\n",
    "data_clean[int(os.path.splitext(filename)[0])]"
   ]
  },
  {
   "cell_type": "code",
   "execution_count": 118,
   "id": "bd82ce74-9c24-43a2-bae3-161f88519bd6",
   "metadata": {},
   "outputs": [
    {
     "name": "stdout",
     "output_type": "stream",
     "text": [
      "[[ 00:00:01.185 -->  00:00:02.012]\n",
      " [ 00:00:02.586 -->  00:00:03.413]\n",
      " [ 00:00:09.302 -->  00:00:09.944]\n",
      " [ 00:00:18.921 -->  00:00:19.343]\n",
      " [ 00:00:22.701 -->  00:00:23.309]\n",
      " [ 00:00:36.100 -->  00:00:37.939]\n",
      " [ 00:00:43.778 -->  00:00:44.824]\n",
      " [ 00:00:49.364 -->  00:00:50.072]\n",
      " [ 00:00:52.755 -->  00:00:56.282]\n",
      " [ 00:01:00.737 -->  00:01:02.712]\n",
      " [ 00:01:04.433 -->  00:01:05.614]\n",
      " [ 00:01:06.070 -->  00:01:06.559]\n",
      " [ 00:01:06.711 -->  00:01:07.909]\n",
      " [ 00:01:08.635 -->  00:01:08.820]\n",
      " [ 00:01:11.453 -->  00:01:12.044]\n",
      " [ 00:01:12.719 -->  00:01:14.507]\n",
      " [ 00:01:15.773 -->  00:01:16.161]\n",
      " [ 00:01:16.701 -->  00:01:18.422]\n",
      " [ 00:01:18.945 -->  00:01:19.418]\n",
      " [ 00:01:22.000 -->  00:01:23.232]\n",
      " [ 00:01:23.772 -->  00:01:24.075]\n",
      " [ 00:01:24.615 -->  00:01:27.788]\n",
      " [ 00:01:28.109 -->  00:01:30.657]\n",
      " [ 00:01:32.226 -->  00:01:33.441]\n",
      " [ 00:01:34.285 -->  00:01:35.415]\n",
      " [ 00:01:36.141 -->  00:01:38.284]\n",
      " [ 00:01:45.169 -->  00:01:46.654]\n",
      " [ 00:01:47.532 -->  00:01:48.983]\n",
      " [ 00:01:52.560 -->  00:01:53.505]\n",
      " [ 00:01:53.978 -->  00:01:55.176]\n",
      " [ 00:01:55.868 -->  00:01:56.813]\n",
      " [ 00:01:59.395 -->  00:02:00.779]\n",
      " [ 00:02:01.302 -->  00:02:02.787]\n",
      " [ 00:02:04.086 -->  00:02:05.267]\n",
      " [ 00:02:05.875 -->  00:02:06.702]\n",
      " [ 00:02:07.107 -->  00:02:08.069]\n",
      " [ 00:02:09.250 -->  00:02:09.570]\n",
      " [ 00:02:11.714 -->  00:02:14.076]\n",
      " [ 00:02:18.447 -->  00:02:21.062]\n",
      " [ 00:02:22.750 -->  00:02:24.201]\n",
      " [ 00:02:24.640 -->  00:02:26.024]\n",
      " [ 00:02:26.834 -->  00:02:34.343]\n",
      " [ 00:02:34.579 -->  00:02:36.672]\n",
      " [ 00:02:37.077 -->  00:02:39.456]\n",
      " [ 00:02:39.608 -->  00:02:40.317]\n",
      " [ 00:02:40.789 -->  00:02:44.046]\n",
      " [ 00:02:44.552 -->  00:02:46.037]\n",
      " [ 00:02:48.467 -->  00:02:49.834]\n",
      " [ 00:02:50.897 -->  00:02:51.454]\n",
      " [ 00:02:51.758 -->  00:02:52.838]\n",
      " [ 00:02:54.087 -->  00:02:55.724]\n",
      " [ 00:02:56.314 -->  00:02:57.917]\n",
      " [ 00:02:58.356 -->  00:03:01.107]\n",
      " [ 00:03:05.106 -->  00:03:07.283]\n",
      " [ 00:03:07.840 -->  00:03:10.185]\n",
      " [ 00:03:10.709 -->  00:03:13.864]\n",
      " [ 00:03:14.337 -->  00:03:19.534]\n",
      " [ 00:03:21.323 -->  00:03:21.593]\n",
      " [ 00:03:22.116 -->  00:03:24.749]\n",
      " [ 00:03:24.884 -->  00:03:25.019]\n",
      " [ 00:03:27.719 -->  00:03:32.207]\n",
      " [ 00:03:37.557 -->  00:03:43.800]\n",
      " [ 00:03:45.842 -->  00:03:47.935]\n",
      " [ 00:03:48.745 -->  00:03:49.960]\n",
      " [ 00:03:50.466 -->  00:03:51.580]\n",
      " [ 00:03:51.715 -->  00:03:54.955]\n",
      " [ 00:03:55.647 -->  00:03:58.161]\n",
      " [ 00:04:00.017 -->  00:04:01.553]\n",
      " [ 00:04:03.426 -->  00:04:05.552]\n",
      " [ 00:04:05.991 -->  00:04:06.295]\n",
      " [ 00:04:07.392 -->  00:04:07.949]\n",
      " [ 00:04:08.624 -->  00:04:09.164]\n",
      " [ 00:04:10.429 -->  00:04:10.615]\n",
      " [ 00:04:12.454 -->  00:04:14.074]\n",
      " [ 00:04:14.800 -->  00:04:16.167]\n",
      " [ 00:04:16.774 -->  00:04:17.044]\n",
      " [ 00:04:17.736 -->  00:04:19.542]\n",
      " [ 00:04:19.677 -->  00:04:22.444]\n",
      " [ 00:04:23.625 -->  00:04:26.224]\n",
      " [ 00:04:27.591 -->  00:04:30.426]\n",
      " [ 00:04:30.764 -->  00:04:33.379]\n",
      " [ 00:04:34.814 -->  00:04:36.788]\n",
      " [ 00:04:36.906 -->  00:04:37.733]\n",
      " [ 00:04:38.307 -->  00:04:38.982]\n",
      " [ 00:04:39.471 -->  00:04:41.715]\n",
      " [ 00:04:43.487 -->  00:04:47.014]\n",
      " [ 00:04:48.837 -->  00:04:50.119]\n",
      " [ 00:04:50.592 -->  00:04:51.149]\n",
      " [ 00:04:51.672 -->  00:04:52.465]\n",
      " [ 00:04:53.072 -->  00:04:54.254]\n",
      " [ 00:04:54.692 -->  00:04:55.604]\n",
      " [ 00:04:56.160 -->  00:04:57.038]\n",
      " [ 00:04:59.215 -->  00:05:00.514]\n",
      " [ 00:05:00.632 -->  00:05:03.012]\n",
      " [ 00:05:04.902 -->  00:05:06.572]\n",
      " [ 00:05:06.825 -->  00:05:08.209]\n",
      " [ 00:05:08.496 -->  00:05:15.820]\n",
      " [ 00:05:16.596 -->  00:05:17.963]\n",
      " [ 00:05:18.233 -->  00:05:19.448]\n",
      " [ 00:05:19.634 -->  00:05:19.870]\n",
      " [ 00:05:20.207 -->  00:05:24.190]\n",
      " [ 00:05:24.747 -->  00:05:25.590]\n",
      " [ 00:05:26.063 -->  00:05:26.670]\n",
      " [ 00:05:34.129 -->  00:05:34.973]\n",
      " [ 00:05:35.952 -->  00:05:43.360]\n",
      " [ 00:05:43.832 -->  00:05:46.380]\n",
      " [ 00:05:46.954 -->  00:05:49.418]\n",
      " [ 00:05:51.055 -->  00:05:56.269]\n",
      " [ 00:05:58.345 -->  00:06:01.652]\n",
      " [ 00:06:02.479 -->  00:06:07.491]\n",
      " [ 00:06:09.077 -->  00:06:11.997]\n",
      " [ 00:06:12.419 -->  00:06:18.443]\n",
      " [ 00:06:22.054 -->  00:06:26.054]\n",
      " [ 00:06:28.230 -->  00:06:30.374]\n",
      " [ 00:06:30.930 -->  00:06:33.816]\n",
      " [ 00:06:36.179 -->  00:06:39.840]\n",
      " [ 00:06:40.482 -->  00:06:41.697]\n",
      " [ 00:06:44.211 -->  00:06:48.345]\n",
      " [ 00:06:49.915 -->  00:06:51.636]\n",
      " [ 00:06:53.880 -->  00:06:56.395]\n",
      " [ 00:06:56.699 -->  00:06:59.685]\n",
      " [ 00:07:05.254 -->  00:07:05.946]\n",
      " [ 00:07:06.385 -->  00:07:08.545]\n",
      " [ 00:07:09.068 -->  00:07:10.367]\n",
      " [ 00:07:12.696 -->  00:07:15.902]\n",
      " [ 00:07:16.594 -->  00:07:17.640]\n",
      " [ 00:07:20.594 -->  00:07:26.550]\n",
      " [ 00:07:27.310 -->  00:07:27.462]\n",
      " [ 00:07:29.672 -->  00:07:31.326]\n",
      " [ 00:07:31.815 -->  00:07:36.945]\n",
      " [ 00:07:39.105 -->  00:07:45.484]\n",
      " [ 00:07:49.450 -->  00:07:50.277]\n",
      " [ 00:07:50.665 -->  00:07:53.770]\n",
      " [ 00:07:56.318 -->  00:08:01.600]\n",
      " [ 00:08:04.080 -->  00:08:10.881]\n",
      " [ 00:08:13.480 -->  00:08:18.947]\n",
      " [ 00:08:21.495 -->  00:08:24.482]\n",
      " [ 00:08:26.642 -->  00:08:27.672]\n",
      " [ 00:08:33.662 -->  00:08:34.506]\n",
      " [ 00:08:34.810 -->  00:08:35.249]\n",
      " [ 00:08:42.269 -->  00:08:42.539]]\n"
     ]
    }
   ],
   "source": [
    "print(data_clean[11])"
   ]
  },
  {
   "cell_type": "code",
   "execution_count": null,
   "id": "861a15fb-f963-45e6-8f89-92ad6b24a875",
   "metadata": {},
   "outputs": [],
   "source": []
  }
 ],
 "metadata": {
  "kernelspec": {
   "display_name": "infantvoicev2",
   "language": "python",
   "name": "infantvoicev2"
  },
  "language_info": {
   "codemirror_mode": {
    "name": "ipython",
    "version": 3
   },
   "file_extension": ".py",
   "mimetype": "text/x-python",
   "name": "python",
   "nbconvert_exporter": "python",
   "pygments_lexer": "ipython3",
   "version": "3.9.7"
  }
 },
 "nbformat": 4,
 "nbformat_minor": 5
}
