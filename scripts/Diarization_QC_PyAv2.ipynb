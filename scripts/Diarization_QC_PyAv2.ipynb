{
 "cells": [
  {
   "cell_type": "code",
   "execution_count": 11,
   "id": "ad52c3dc-2f34-4e73-8a24-1ecc0909abed",
   "metadata": {},
   "outputs": [],
   "source": [
    "import os\n",
    "from pyannote.core import json\n",
    "\n",
    "diarized_dir = '/Users/rahulbrito/Documents/projects/infantvoice/data/Full_Readings/031622_diarized'"
   ]
  },
  {
   "cell_type": "code",
   "execution_count": 28,
   "id": "ea572d7b-ca1a-4e0a-ae2d-251c61da105d",
   "metadata": {},
   "outputs": [],
   "source": [
    "diarized = [(json.load_from(os.path.join(diarized_dir,file)), file) for file in os.listdir(diarized_dir)]"
   ]
  },
  {
   "cell_type": "code",
   "execution_count": 156,
   "id": "de933fc9-b159-47e8-8152-9852844962af",
   "metadata": {},
   "outputs": [
    {
     "data": {
      "text/plain": [
       "[(<pyannote.core.annotation.Annotation at 0x7f924141aa00>, '007.json'),\n",
       " (<pyannote.core.annotation.Annotation at 0x7f924141aa60>, '011.json'),\n",
       " (<pyannote.core.annotation.Annotation at 0x7f91e8f07790>, '010.json'),\n",
       " (<pyannote.core.annotation.Annotation at 0x7f92314f47c0>, '006.json'),\n",
       " (<pyannote.core.annotation.Annotation at 0x7f92314c7040>, '001.json'),\n",
       " (<pyannote.core.annotation.Annotation at 0x7f92314ead60>, '017.json'),\n",
       " (<pyannote.core.annotation.Annotation at 0x7f921216a4c0>, '016.json'),\n",
       " (<pyannote.core.annotation.Annotation at 0x7f9212160520>, '020.json'),\n",
       " (<pyannote.core.annotation.Annotation at 0x7f92121617c0>, '019.json'),\n",
       " (<pyannote.core.annotation.Annotation at 0x7f921216cd00>, '015.json'),\n",
       " (<pyannote.core.annotation.Annotation at 0x7f92318ff6a0>, '003.json'),\n",
       " (<pyannote.core.annotation.Annotation at 0x7f92318d2520>, '002.json'),\n",
       " (<pyannote.core.annotation.Annotation at 0x7f92317ddb80>, '014.json'),\n",
       " (<pyannote.core.annotation.Annotation at 0x7f92317ec100>, '018.json'),\n",
       " (<pyannote.core.annotation.Annotation at 0x7f92317f81c0>, '013.json'),\n",
       " (<pyannote.core.annotation.Annotation at 0x7f92317c4700>, '005.json'),\n",
       " (<pyannote.core.annotation.Annotation at 0x7f921268e460>, '009.json'),\n",
       " (<pyannote.core.annotation.Annotation at 0x7f9212691a60>, '008.json'),\n",
       " (<pyannote.core.annotation.Annotation at 0x7f921267d7c0>, '004.json'),\n",
       " (<pyannote.core.annotation.Annotation at 0x7f92418e65e0>, '012.json')]"
      ]
     },
     "execution_count": 156,
     "metadata": {},
     "output_type": "execute_result"
    }
   ],
   "source": [
    "# don't record Victoria\n",
    "# make sure background noise is off (e.g. TV, radio)\n",
    "# can we somehow not record the baby?\n",
    "# can we control for microphone? \n",
    "\n",
    "no = 0\n",
    "diarized[:][:]"
   ]
  },
  {
   "cell_type": "code",
   "execution_count": 123,
   "id": "f6fa935d-b4ef-451e-a8be-30c7e336bb00",
   "metadata": {},
   "outputs": [
    {
     "data": {
      "image/png": "[encoded data removed]",
      "text/plain": [
       "<pyannote.core.annotation.Annotation at 0x7f924141aa00>"
      ]
     },
     "execution_count": 123,
     "metadata": {},
     "output_type": "execute_result"
    }
   ],
   "source": [
    "diarized[no][0]"
   ]
  },
  {
   "cell_type": "code",
   "execution_count": null,
   "id": "e6a3e389-dc40-4a99-969d-5829ec3c17e6",
   "metadata": {},
   "outputs": [
    {
     "data": {
      "text/plain": [
       "[7, 11, 10, 6, 1, 17, 16, 20, 19, 15, 3, 2, 14, 18, 13, 5, 9, 8, 4, 12]"
      ]
     },
     "execution_count": 113,
     "metadata": {},
     "output_type": "execute_result"
    }
   ],
   "source": [
    "test.label_timeline('SPEAKER_01')"
   ]
  },
  {
   "cell_type": "code",
   "execution_count": 145,
   "id": "188ba141-6b86-460a-b30a-51b6a05592ea",
   "metadata": {},
   "outputs": [],
   "source": [
    "data_clean_lower = [(data.label_timeline('SPEAKER_01'),part) for data,part in diarized if int(os.path.splitext(part)[0])<10]\n",
    "data_clean_upper = [(data,part) for data,part in diarized if int(os.path.splitext(part)[0])>=10]\n",
    "data_clean = data_clean_lower+data_clean_upper"
   ]
  },
  {
   "cell_type": "code",
   "execution_count": 147,
   "id": "0eca3ea5-3e25-4758-8c2c-161807e1a710",
   "metadata": {},
   "outputs": [],
   "source": [
    "from pyannote.audio import Inference\n",
    "inference = Inference(\"pyannote/embedding\", \n",
    "                      window=\"sliding\",\n",
    "                      duration=3.0, step=1.0)\n"
   ]
  },
  {
   "cell_type": "code",
   "execution_count": 161,
   "id": "903743e8-0c9d-4e38-88be-2d00e59d2457",
   "metadata": {},
   "outputs": [],
   "source": [
    "test = data_clean[0][0]\n",
    "\n",
    "wav_files = '/Users/rahulbrito/Documents/projects/infantvoice/data/Full_Readings/0300222_recordings_16khz'\n",
    "wav = '/Users/rahulbrito/Documents/projects/infantvoice/data/Full_Readings/0300222_recordings_16khz/007.wav'"
   ]
  },
  {
   "cell_type": "code",
   "execution_count": 162,
   "id": "074a0d49-9d61-4592-90e6-a6e1d1849064",
   "metadata": {},
   "outputs": [
    {
     "data": {
      "text/plain": [
       "array([[-24.932827 , -60.431786 ,  29.537624 , ...,  10.035393 ,\n",
       "        -46.832077 , -28.047123 ],\n",
       "       [ 29.219528 , -49.426956 ,  -0.6205292, ..., -18.675556 ,\n",
       "         -4.2459526,  14.427252 ],\n",
       "       [  6.378916 , -41.85813  ,  46.790756 , ..., -11.529085 ,\n",
       "        -11.89146  , -20.140594 ],\n",
       "       ...,\n",
       "       [-43.197067 ,  -9.796235 ,  19.958652 , ..., -69.9541   ,\n",
       "         28.94685  , -16.15511  ],\n",
       "       [-52.5028   ,  -7.3465223, -16.575596 , ..., -53.196014 ,\n",
       "        -29.388504 , -26.95376  ],\n",
       "       [-27.408895 ,  -4.6837378,  24.107826 , ..., -28.706863 ,\n",
       "          7.8609123,  36.099342 ]], dtype=float32)"
      ]
     },
     "execution_count": 162,
     "metadata": {},
     "output_type": "execute_result"
    }
   ],
   "source": [
    "embeddings = inference(wav)\n",
    "embeddings.crop(test)"
   ]
  },
  {
   "cell_type": "code",
   "execution_count": null,
   "id": "625fc79c-ea14-4b84-85fd-9f52794c7482",
   "metadata": {},
   "outputs": [],
   "source": []
  }
 ],
 "metadata": {
  "kernelspec": {
   "display_name": "infantvoicev2",
   "language": "python",
   "name": "infantvoicev2"
  },
  "language_info": {
   "codemirror_mode": {
    "name": "ipython",
    "version": 3
   },
   "file_extension": ".py",
   "mimetype": "text/x-python",
   "name": "python",
   "nbconvert_exporter": "python",
   "pygments_lexer": "ipython3",
   "version": "3.9.7"
  }
 },
 "nbformat": 4,
 "nbformat_minor": 5
}
