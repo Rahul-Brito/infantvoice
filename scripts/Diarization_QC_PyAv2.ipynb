{
 "cells": [
  {
   "cell_type": "code",
   "execution_count": 3,
   "id": "ad52c3dc-2f34-4e73-8a24-1ecc0909abed",
   "metadata": {},
   "outputs": [],
   "source": [
    "import os\n",
    "from pyannote.audio import Pipeline\n",
    "\n",
    "directory = '/Users/rahulbrito/Documents/projects/infantvoice/data/Full_Readings/0300222_recordings_16khz'\n",
    "pipeline = Pipeline.from_pretrained(\"pyannote/speaker-diarization\")"
   ]
  },
  {
   "cell_type": "code",
   "execution_count": null,
   "id": "ea572d7b-ca1a-4e0a-ae2d-251c61da105d",
   "metadata": {},
   "outputs": [],
   "source": [
    "diarized = [pipeline(os.path.join(directory,file)) for file in os.listdir(directory)]"
   ]
  },
  {
   "cell_type": "code",
   "execution_count": 103,
   "id": "ac610ca1-bfa6-4b01-a95f-00f709ab9e75",
   "metadata": {},
   "outputs": [
    {
     "data": {
      "image/png": "[encoded data removed]",
      "text/plain": [
       "<Timeline(uri=002, segments=[<Segment(0.257813, 0.966563)>, <Segment(1.38844, 2.29969)>, <Segment(3.76781, 4.27406)>, <Segment(4.83094, 6.02906)>, <Segment(19.1241, 19.5122)>, <Segment(21.5541, 22.8703)>, <Segment(24.0684, 24.7097)>, <Segment(25.6716, 26.3803)>, <Segment(28.2872, 29.2828)>, <Segment(30.9703, 32.4047)>, <Segment(34.3284, 35.4759)>, <Segment(35.8641, 38.6991)>, <Segment(39.1884, 40.0322)>, <Segment(41.3991, 44.3522)>, <Segment(45.2972, 45.7697)>, <Segment(47.1534, 50.7647)>, <Segment(52.3172, 54.3253)>, <Segment(54.5447, 54.6628)>, <Segment(55.8778, 57.9703)>, <Segment(60.3497, 61.7841)>, <Segment(62.5772, 64.3153)>, <Segment(68.1966, 72.2128)>, <Segment(73.0059, 74.9297)>, <Segment(75.4866, 78.0684)>, <Segment(80.0428, 82.0509)>, <Segment(83.3334, 84.6159)>, <Segment(87.6872, 89.8809)>, <Segment(92.0747, 93.4753)>, <Segment(94.0659, 97.5253)>, <Segment(99.9553, 102.487)>, <Segment(102.757, 103.617)>, <Segment(106.418, 107.92)>, <Segment(108.95, 112.072)>, <Segment(112.831, 115.244)>, <Segment(116.071, 118.838)>, <Segment(119.362, 121.015)>, <Segment(122.163, 122.737)>, <Segment(124.053, 126.432)>, <Segment(126.702, 127.698)>, <Segment(128.17, 129.52)>, <Segment(130.887, 131.95)>, <Segment(132.119, 133.469)>, <Segment(134.11, 135.292)>, <Segment(136.237, 140.995)>, <Segment(141.873, 142.987)>, <Segment(143.324, 144.185)>, <Segment(144.32, 145.872)>, <Segment(146.092, 148.083)>, <Segment(148.977, 150.158)>, <Segment(151.559, 152.774)>, <Segment(152.993, 154.057)>, <Segment(154.732, 156.925)>, <Segment(158.056, 160.402)>, <Segment(160.672, 162.19)>, <Segment(163.743, 165.886)>, <Segment(166.544, 174.374)>, <Segment(175.218, 177.952)>, <Segment(178.745, 180.112)>, <Segment(181.208, 182.288)>, <Segment(182.558, 186.187)>, <Segment(190.928, 199.653)>, <Segment(202.42, 205.188)>, <Segment(206.2, 207.601)>, <Segment(207.922, 208.833)>, <Segment(209.626, 215.853)>, <Segment(216.477, 218.452)>, <Segment(218.975, 220.207)>, <Segment(222.063, 223.345)>, <Segment(223.683, 224.037)>, <Segment(224.324, 227.75)>, <Segment(228.627, 231.952)>, <Segment(233.116, 234.027)>, <Segment(234.635, 236.997)>, <Segment(238.111, 239.933)>, <Segment(240.22, 242.92)>, <Segment(243.308, 243.815)>, <Segment(244.777, 245.84)>, <Segment(247.561, 249.788)>, <Segment(250.126, 250.447)>, <Segment(251.189, 251.425)>, <Segment(251.864, 252.877)>, <Segment(255.07, 258.04)>, <Segment(258.547, 258.817)>, <Segment(259.373, 259.559)>, <Segment(259.947, 260.167)>, <Segment(260.977, 262.276)>, <Segment(264.622, 267.355)>, <Segment(268.385, 268.705)>, <Segment(269.178, 269.498)>, <Segment(270.072, 270.342)>, <Segment(270.798, 276.603)>, <Segment(276.721, 279.573)>, <Segment(279.927, 280.298)>, <Segment(280.822, 281.108)>, <Segment(281.547, 281.834)>, <Segment(282.34, 282.593)>, <Segment(283.859, 285.614)>, <Segment(288.095, 290.238)>, <Segment(290.491, 291.082)>, <Segment(291.959, 293.09)>, <Segment(294.423, 295.638)>, <Segment(295.773, 296.279)>, <Segment(296.6, 296.836)>, <Segment(297.224, 298.034)>, <Segment(298.81, 299.62)>, <Segment(300.447, 302.725)>, <Segment(303.282, 305.493)>, <Segment(306.252, 307.282)>, <Segment(307.568, 312.563)>, <Segment(312.833, 318.082)>, <Segment(318.436, 320.09)>, <Segment(320.917, 321.541)>, <Segment(323.498, 325.675)>, <Segment(326.317, 331.531)>, <Segment(331.902, 334.045)>, <Segment(334.822, 335.412)>, <Segment(335.817, 337.201)>, <Segment(338.551, 341.521)>, <Segment(342.027, 344.153)>, <Segment(344.491, 345.689)>, <Segment(347.107, 350.161)>, <Segment(350.752, 352.321)>, <Segment(353.249, 356.692)>, <Segment(357.046, 359.83)>, <Segment(360.961, 363.425)>, <Segment(363.998, 365.163)>, <Segment(365.348, 366.31)>, <Segment(368.015, 369.955)>, <Segment(375.524, 380.232)>, <Segment(381.937, 383.86)>, <Segment(384.08, 388.433)>, <Segment(389.952, 390.408)>, <Segment(390.56, 394.525)>, <Segment(394.812, 395.302)>, <Segment(397.259, 401.68)>, <Segment(403.553, 405.359)>, <Segment(407.89, 411.029)>, <Segment(411.873, 415.636)>, <Segment(418.758, 420.648)>, <Segment(422.065, 425.896)>, <Segment(428.36, 430.925)>, <Segment(431.718, 432.815)>, <Segment(434.992, 436.274)>, <Segment(437.118, 441.623)>, <Segment(441.826, 443.598)>, <Segment(444.914, 445.741)>, <Segment(446.838, 452.896)>, <Segment(454.33, 456.676)>, <Segment(456.811, 458.718)>, <Segment(458.87, 460.49)>, <Segment(462.008, 468.353)>, <Segment(470.75, 474.057)>, <Segment(474.428, 479.778)>, <Segment(480.301, 482.326)>, <Segment(482.63, 485.313)>, <Segment(485.752, 486.511)>, <Segment(487.726, 488.333)>, <Segment(488.553, 492.299)>, <Segment(494.257, 500.45)>, <Segment(502.39, 508.786)>, <Segment(510.085, 511.25)>, <Segment(511.621, 513.46)>, <Segment(524.429, 525.577)>, <Segment(531.162, 533.508)>, <Segment(534.031, 537.625)>])>"
      ]
     },
     "execution_count": 103,
     "metadata": {},
     "output_type": "execute_result"
    }
   ],
   "source": [
    "sub = output.label_timeline('SPEAKER_01')\n",
    "sub"
   ]
  },
  {
   "cell_type": "code",
   "execution_count": null,
   "id": "f6fa935d-b4ef-451e-a8be-30c7e336bb00",
   "metadata": {},
   "outputs": [],
   "source": [
    "diarized"
   ]
  },
  {
   "cell_type": "code",
   "execution_count": 104,
   "id": "80c2efdb-d06f-4d4a-a3d2-10bc807f755b",
   "metadata": {},
   "outputs": [],
   "source": [
    "json.dump_to(output, '/Users/rahulbrito/Documents/projects/infantvoice/data/002.json')"
   ]
  },
  {
   "cell_type": "code",
   "execution_count": 9,
   "id": "59c6c41f-2a34-48fc-bcfa-acbd3b6b2674",
   "metadata": {},
   "outputs": [
    {
     "data": {
      "text/plain": [
       "True"
      ]
     },
     "execution_count": 9,
     "metadata": {},
     "output_type": "execute_result"
    }
   ],
   "source": [
    "from pyannote.core import json\n",
    "\n",
    "test = json.load_from('/Users/rahulbrito/Documents/projects/infantvoice/data/002.json')\n",
    "test2 = json.load_from('/Users/rahulbrito/Desktop/test.json')\n",
    "test == test2"
   ]
  },
  {
   "cell_type": "code",
   "execution_count": 7,
   "id": "cd04793c-f422-4d5d-9924-72417b636ecc",
   "metadata": {},
   "outputs": [],
   "source": [
    "out_dir = '/Users/rahulbrito/Desktop'\n",
    "file = 'test.wav'\n",
    "\n",
    "json.dump_to(test, os.path.join(out_dir, os.path.splitext(file)[0]+'.json'))"
   ]
  },
  {
   "cell_type": "code",
   "execution_count": 6,
   "id": "e6a3e389-dc40-4a99-969d-5829ec3c17e6",
   "metadata": {},
   "outputs": [
    {
     "data": {
      "image/png": "[encoded data removed]",
      "text/plain": [
       "<Timeline(uri=002, segments=[<Segment(0.257813, 0.966563)>, <Segment(1.38844, 2.29969)>, <Segment(3.76781, 4.27406)>, <Segment(4.83094, 6.02906)>, <Segment(19.1241, 19.5122)>, <Segment(21.5541, 22.8703)>, <Segment(24.0684, 24.7097)>, <Segment(25.6716, 26.3803)>, <Segment(28.2872, 29.2828)>, <Segment(30.9703, 32.4047)>, <Segment(34.3284, 35.4759)>, <Segment(35.8641, 38.6991)>, <Segment(39.1884, 40.0322)>, <Segment(41.3991, 44.3522)>, <Segment(45.2972, 45.7697)>, <Segment(47.1534, 50.7647)>, <Segment(52.3172, 54.3253)>, <Segment(54.5447, 54.6628)>, <Segment(55.8778, 57.9703)>, <Segment(60.3497, 61.7841)>, <Segment(62.5772, 64.3153)>, <Segment(68.1966, 72.2128)>, <Segment(73.0059, 74.9297)>, <Segment(75.4866, 78.0684)>, <Segment(80.0428, 82.0509)>, <Segment(83.3334, 84.6159)>, <Segment(87.6872, 89.8809)>, <Segment(92.0747, 93.4753)>, <Segment(94.0659, 97.5253)>, <Segment(99.9553, 102.487)>, <Segment(102.757, 103.617)>, <Segment(106.418, 107.92)>, <Segment(108.95, 112.072)>, <Segment(112.831, 115.244)>, <Segment(116.071, 118.838)>, <Segment(119.362, 121.015)>, <Segment(122.163, 122.737)>, <Segment(124.053, 126.432)>, <Segment(126.702, 127.698)>, <Segment(128.17, 129.52)>, <Segment(130.887, 131.95)>, <Segment(132.119, 133.469)>, <Segment(134.11, 135.292)>, <Segment(136.237, 140.995)>, <Segment(141.873, 142.987)>, <Segment(143.324, 144.185)>, <Segment(144.32, 145.872)>, <Segment(146.092, 148.083)>, <Segment(148.977, 150.158)>, <Segment(151.559, 152.774)>, <Segment(152.993, 154.057)>, <Segment(154.732, 156.925)>, <Segment(158.056, 160.402)>, <Segment(160.672, 162.19)>, <Segment(163.743, 165.886)>, <Segment(166.544, 174.374)>, <Segment(175.218, 177.952)>, <Segment(178.745, 180.112)>, <Segment(181.208, 182.288)>, <Segment(182.558, 186.187)>, <Segment(190.928, 199.653)>, <Segment(202.42, 205.188)>, <Segment(206.2, 207.601)>, <Segment(207.922, 208.833)>, <Segment(209.626, 215.853)>, <Segment(216.477, 218.452)>, <Segment(218.975, 220.207)>, <Segment(222.063, 223.345)>, <Segment(223.683, 224.037)>, <Segment(224.324, 227.75)>, <Segment(228.627, 231.952)>, <Segment(233.116, 234.027)>, <Segment(234.635, 236.997)>, <Segment(238.111, 239.933)>, <Segment(240.22, 242.92)>, <Segment(243.308, 243.815)>, <Segment(244.777, 245.84)>, <Segment(247.561, 249.788)>, <Segment(250.126, 250.447)>, <Segment(251.189, 251.425)>, <Segment(251.864, 252.877)>, <Segment(255.07, 258.04)>, <Segment(258.547, 258.817)>, <Segment(259.373, 259.559)>, <Segment(259.947, 260.167)>, <Segment(260.977, 262.276)>, <Segment(264.622, 267.355)>, <Segment(268.385, 268.705)>, <Segment(269.178, 269.498)>, <Segment(270.072, 270.342)>, <Segment(270.798, 276.603)>, <Segment(276.721, 279.573)>, <Segment(279.927, 280.298)>, <Segment(280.822, 281.108)>, <Segment(281.547, 281.834)>, <Segment(282.34, 282.593)>, <Segment(283.859, 285.614)>, <Segment(288.095, 290.238)>, <Segment(290.491, 291.082)>, <Segment(291.959, 293.09)>, <Segment(294.423, 295.638)>, <Segment(295.773, 296.279)>, <Segment(296.6, 296.836)>, <Segment(297.224, 298.034)>, <Segment(298.81, 299.62)>, <Segment(300.447, 302.725)>, <Segment(303.282, 305.493)>, <Segment(306.252, 307.282)>, <Segment(307.568, 312.563)>, <Segment(312.833, 318.082)>, <Segment(318.436, 320.09)>, <Segment(320.917, 321.541)>, <Segment(323.498, 325.675)>, <Segment(326.317, 331.531)>, <Segment(331.902, 334.045)>, <Segment(334.822, 335.412)>, <Segment(335.817, 337.201)>, <Segment(338.551, 341.521)>, <Segment(342.027, 344.153)>, <Segment(344.491, 345.689)>, <Segment(347.107, 350.161)>, <Segment(350.752, 352.321)>, <Segment(353.249, 356.692)>, <Segment(357.046, 359.83)>, <Segment(360.961, 363.425)>, <Segment(363.998, 365.163)>, <Segment(365.348, 366.31)>, <Segment(368.015, 369.955)>, <Segment(375.524, 380.232)>, <Segment(381.937, 383.86)>, <Segment(384.08, 388.433)>, <Segment(389.952, 390.408)>, <Segment(390.56, 394.525)>, <Segment(394.812, 395.302)>, <Segment(397.259, 401.68)>, <Segment(403.553, 405.359)>, <Segment(407.89, 411.029)>, <Segment(411.873, 415.636)>, <Segment(418.758, 420.648)>, <Segment(422.065, 425.896)>, <Segment(428.36, 430.925)>, <Segment(431.718, 432.815)>, <Segment(434.992, 436.274)>, <Segment(437.118, 441.623)>, <Segment(441.826, 443.598)>, <Segment(444.914, 445.741)>, <Segment(446.838, 452.896)>, <Segment(454.33, 456.676)>, <Segment(456.811, 458.718)>, <Segment(458.87, 460.49)>, <Segment(462.008, 468.353)>, <Segment(470.75, 474.057)>, <Segment(474.428, 479.778)>, <Segment(480.301, 482.326)>, <Segment(482.63, 485.313)>, <Segment(485.752, 486.511)>, <Segment(487.726, 488.333)>, <Segment(488.553, 492.299)>, <Segment(494.257, 500.45)>, <Segment(502.39, 508.786)>, <Segment(510.085, 511.25)>, <Segment(511.621, 513.46)>, <Segment(524.429, 525.577)>, <Segment(531.162, 533.508)>, <Segment(534.031, 537.625)>])>"
      ]
     },
     "execution_count": 6,
     "metadata": {},
     "output_type": "execute_result"
    }
   ],
   "source": [
    "test.label_timeline('SPEAKER_01')"
   ]
  },
  {
   "cell_type": "code",
   "execution_count": 10,
   "id": "b5ca2de1-0738-446a-bf42-45d70b0287ad",
   "metadata": {},
   "outputs": [
    {
     "name": "stdout",
     "output_type": "stream",
     "text": [
      "014.wav\n",
      "001.wav\n",
      "015.wav\n",
      "003.wav\n",
      "017.wav\n",
      "016.wav\n",
      "002.wav\n",
      "006.wav\n",
      "012.wav\n",
      "013.wav\n",
      "007.wav\n",
      "011.wav\n",
      "005.wav\n",
      "004.wav\n",
      "010.wav\n",
      "009.wav\n",
      "020.wav\n",
      "008.wav\n",
      "018.wav\n",
      "019.wav\n"
     ]
    }
   ],
   "source": [
    "for file in os.listdir(directory):\n",
    "    print(file)"
   ]
  },
  {
   "cell_type": "code",
   "execution_count": null,
   "id": "a360b968-227b-4b0d-b31a-91b344f8b3f9",
   "metadata": {},
   "outputs": [],
   "source": []
  }
 ],
 "metadata": {
  "kernelspec": {
   "display_name": "infantvoicev2",
   "language": "python",
   "name": "infantvoicev2"
  },
  "language_info": {
   "codemirror_mode": {
    "name": "ipython",
    "version": 3
   },
   "file_extension": ".py",
   "mimetype": "text/x-python",
   "name": "python",
   "nbconvert_exporter": "python",
   "pygments_lexer": "ipython3",
   "version": "3.9.7"
  }
 },
 "nbformat": 4,
 "nbformat_minor": 5
}
