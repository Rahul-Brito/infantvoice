{
 "cells": [
  {
   "cell_type": "code",
   "execution_count": 4,
   "id": "ad52c3dc-2f34-4e73-8a24-1ecc0909abed",
   "metadata": {},
   "outputs": [],
   "source": [
    "toy = '/Users/rahulbrito/Documents/projects/infantvoice/data/Full_Readings/0300222_recordings_16khz/002.wav'"
   ]
  },
  {
   "cell_type": "code",
   "execution_count": null,
   "id": "80c9c027-743b-477e-9f55-5a7d8b4c7088",
   "metadata": {},
   "outputs": [],
   "source": [
    "from pyannote.audio.pipelines import VoiceActivityDetection\n",
    "pipeline = VoiceActivityDetection(segmentation=\"pyannote/segmentation\")\n",
    "HYPER_PARAMETERS = {\n",
    "  # onset/offset activation thresholds\n",
    "  \"onset\": 0.5, \"offset\": 0.5,\n",
    "  # remove speech regions shorter than that many seconds.\n",
    "  \"min_duration_on\": 0.0,\n",
    "  # fill non-speech regions shorter than that many seconds.\n",
    "  \"min_duration_off\": 0.0\n",
    "}\n",
    "pipeline.instantiate(HYPER_PARAMETERS)\n",
    "vad = pipeline(toy)\n",
    "# `vad` is a pyannote.core.Annotation instance containing speech regions"
   ]
  },
  {
   "cell_type": "code",
   "execution_count": null,
   "id": "aec38ce8-8ccb-4a6f-bca9-de0c576a99d7",
   "metadata": {},
   "outputs": [],
   "source": [
    "from pyannote.audio.pipelines import OverlappedSpeechDetection\n",
    "pipeline = OverlappedSpeechDetection(segmentation=\"pyannote/segmentation\")\n",
    "pipeline.instantiate(HYPER_PARAMETERS)\n",
    "osd = pipeline(toy)\n",
    "# `osd` is a pyannote.core.Annotation instance containing overlapped speech regions"
   ]
  },
  {
   "cell_type": "code",
   "execution_count": null,
   "id": "c67ab374-2b44-40e1-abbd-9195280efa9c",
   "metadata": {},
   "outputs": [],
   "source": [
    "from pyannote.audio import Inference\n",
    "inference = Inference(\"pyannote/segmentation\")\n",
    "segmentation = inference(toy)\n",
    "# `segmentation` is a pyannote.core.SlidingWindowFeature\n",
    "# instance containing raw segmentation scores like the \n",
    "# one pictured above (output)"
   ]
  },
  {
   "cell_type": "code",
   "execution_count": 5,
   "id": "ea572d7b-ca1a-4e0a-ae2d-251c61da105d",
   "metadata": {},
   "outputs": [],
   "source": [
    "from pyannote.audio import Pipeline\n",
    "pipeline = Pipeline.from_pretrained(\"pyannote/speaker-diarization\")\n",
    "output = pipeline(toy)\n",
    "\n",
    "#for turn, _, speaker in output.itertracks(yield_label=True):\n",
    "# speaker speaks between turn.start and turn.end"
   ]
  },
  {
   "cell_type": "code",
   "execution_count": 6,
   "id": "27c4310c-a3dd-42ea-9497-712fc27339af",
   "metadata": {},
   "outputs": [
    {
     "data": {
      "image/png": "[encoded data removed]",
      "text/plain": [
       "<pyannote.core.annotation.Annotation at 0x7fd909e8d670>"
      ]
     },
     "execution_count": 6,
     "metadata": {},
     "output_type": "execute_result"
    }
   ],
   "source": [
    "output"
   ]
  },
  {
   "cell_type": "code",
   "execution_count": 74,
   "id": "f657ee76-b9a3-4f52-b438-af0f62d0582d",
   "metadata": {},
   "outputs": [
    {
     "data": {
      "text/plain": [
       "(165, 184)"
      ]
     },
     "execution_count": 74,
     "metadata": {},
     "output_type": "execute_result"
    }
   ],
   "source": [
    "test1 = [output for segment, track, label in output.itertracks(yield_label=True) if label=='SPEAKER_01']\n",
    "len(test1), len(output)"
   ]
  },
  {
   "cell_type": "code",
   "execution_count": 81,
   "id": "ac610ca1-bfa6-4b01-a95f-00f709ab9e75",
   "metadata": {},
   "outputs": [
    {
     "data": {
      "image/png": "[encoded data removed]",
      "text/plain": [
       "<Timeline(uri=002, segments=[<Segment(0.257813, 0.966563)>, <Segment(1.38844, 2.29969)>, <Segment(3.76781, 4.27406)>, <Segment(4.83094, 6.02906)>, <Segment(19.1241, 19.5122)>, <Segment(21.5541, 22.8703)>, <Segment(24.0684, 24.7097)>, <Segment(25.6716, 26.3803)>, <Segment(28.2872, 29.2828)>, <Segment(30.9703, 32.4047)>, <Segment(34.3284, 35.4759)>, <Segment(35.8641, 38.6991)>, <Segment(39.1884, 40.0322)>, <Segment(41.3991, 44.3522)>, <Segment(45.2972, 45.7697)>, <Segment(47.1534, 50.7647)>, <Segment(52.3172, 54.3253)>, <Segment(54.5447, 54.6628)>, <Segment(55.8778, 57.9703)>, <Segment(60.3497, 61.7841)>, <Segment(62.5772, 64.3153)>, <Segment(68.1966, 72.2128)>, <Segment(73.0059, 74.9297)>, <Segment(75.4866, 78.0684)>, <Segment(80.0428, 82.0509)>, <Segment(83.3334, 84.6159)>, <Segment(87.6872, 89.8809)>, <Segment(92.0747, 93.4753)>, <Segment(94.0659, 97.5253)>, <Segment(99.9553, 102.487)>, <Segment(102.757, 103.617)>, <Segment(106.418, 107.92)>, <Segment(108.95, 112.072)>, <Segment(112.831, 115.244)>, <Segment(116.071, 118.838)>, <Segment(119.362, 121.015)>, <Segment(122.163, 122.737)>, <Segment(124.053, 126.432)>, <Segment(126.702, 127.698)>, <Segment(128.17, 129.52)>, <Segment(130.887, 131.95)>, <Segment(132.119, 133.469)>, <Segment(134.11, 135.292)>, <Segment(136.237, 140.995)>, <Segment(141.873, 142.987)>, <Segment(143.324, 144.185)>, <Segment(144.32, 145.872)>, <Segment(146.092, 148.083)>, <Segment(148.977, 150.158)>, <Segment(151.559, 152.774)>, <Segment(152.993, 154.057)>, <Segment(154.732, 156.925)>, <Segment(158.056, 160.402)>, <Segment(160.672, 162.19)>, <Segment(163.743, 165.886)>, <Segment(166.544, 174.374)>, <Segment(175.218, 177.952)>, <Segment(178.745, 180.112)>, <Segment(181.208, 182.288)>, <Segment(182.558, 186.187)>, <Segment(190.928, 199.653)>, <Segment(202.42, 205.188)>, <Segment(206.2, 207.601)>, <Segment(207.922, 208.833)>, <Segment(209.626, 215.853)>, <Segment(216.477, 218.452)>, <Segment(218.975, 220.207)>, <Segment(222.063, 223.345)>, <Segment(223.683, 224.037)>, <Segment(224.324, 227.75)>, <Segment(228.627, 231.952)>, <Segment(233.116, 234.027)>, <Segment(234.635, 236.997)>, <Segment(238.111, 239.933)>, <Segment(240.22, 242.92)>, <Segment(243.308, 243.815)>, <Segment(244.777, 245.84)>, <Segment(247.561, 249.788)>, <Segment(250.126, 250.447)>, <Segment(251.189, 251.425)>, <Segment(251.864, 252.877)>, <Segment(255.07, 258.04)>, <Segment(258.547, 258.817)>, <Segment(259.373, 259.559)>, <Segment(259.947, 260.167)>, <Segment(260.977, 262.276)>, <Segment(264.622, 267.355)>, <Segment(268.385, 268.705)>, <Segment(269.178, 269.498)>, <Segment(270.072, 270.342)>, <Segment(270.798, 276.603)>, <Segment(276.721, 279.573)>, <Segment(279.927, 280.298)>, <Segment(280.822, 281.108)>, <Segment(281.547, 281.834)>, <Segment(282.34, 282.593)>, <Segment(283.859, 285.614)>, <Segment(288.095, 290.238)>, <Segment(290.491, 291.082)>, <Segment(291.959, 293.09)>, <Segment(294.423, 295.638)>, <Segment(295.773, 296.279)>, <Segment(296.6, 296.836)>, <Segment(297.224, 298.034)>, <Segment(298.81, 299.62)>, <Segment(300.447, 302.725)>, <Segment(303.282, 305.493)>, <Segment(306.252, 307.282)>, <Segment(307.568, 312.563)>, <Segment(312.833, 318.082)>, <Segment(318.436, 320.09)>, <Segment(320.917, 321.541)>, <Segment(323.498, 325.675)>, <Segment(326.317, 331.531)>, <Segment(331.902, 334.045)>, <Segment(334.822, 335.412)>, <Segment(335.817, 337.201)>, <Segment(338.551, 341.521)>, <Segment(342.027, 344.153)>, <Segment(344.491, 345.689)>, <Segment(347.107, 350.161)>, <Segment(350.752, 352.321)>, <Segment(353.249, 356.692)>, <Segment(357.046, 359.83)>, <Segment(360.961, 363.425)>, <Segment(363.998, 365.163)>, <Segment(365.348, 366.31)>, <Segment(368.015, 369.955)>, <Segment(375.524, 380.232)>, <Segment(381.937, 383.86)>, <Segment(384.08, 388.433)>, <Segment(389.952, 390.408)>, <Segment(390.56, 394.525)>, <Segment(394.812, 395.302)>, <Segment(397.259, 401.68)>, <Segment(403.553, 405.359)>, <Segment(407.89, 411.029)>, <Segment(411.873, 415.636)>, <Segment(418.758, 420.648)>, <Segment(422.065, 425.896)>, <Segment(428.36, 430.925)>, <Segment(431.718, 432.815)>, <Segment(434.992, 436.274)>, <Segment(437.118, 441.623)>, <Segment(441.826, 443.598)>, <Segment(444.914, 445.741)>, <Segment(446.838, 452.896)>, <Segment(454.33, 456.676)>, <Segment(456.811, 458.718)>, <Segment(458.87, 460.49)>, <Segment(462.008, 468.353)>, <Segment(470.75, 474.057)>, <Segment(474.428, 479.778)>, <Segment(480.301, 482.326)>, <Segment(482.63, 485.313)>, <Segment(485.752, 486.511)>, <Segment(487.726, 488.333)>, <Segment(488.553, 492.299)>, <Segment(494.257, 500.45)>, <Segment(502.39, 508.786)>, <Segment(510.085, 511.25)>, <Segment(511.621, 513.46)>, <Segment(524.429, 525.577)>, <Segment(531.162, 533.508)>, <Segment(534.031, 537.625)>])>"
      ]
     },
     "execution_count": 81,
     "metadata": {},
     "output_type": "execute_result"
    }
   ],
   "source": [
    "sub = output.label_timeline('SPEAKER_01')\n",
    "sub"
   ]
  },
  {
   "cell_type": "code",
   "execution_count": 82,
   "id": "84504e58-59f0-419e-af74-0a17b76f1047",
   "metadata": {},
   "outputs": [
    {
     "data": {
      "application/vnd.jupyter.widget-view+json": {
       "model_id": "35594f36decf4974897a3a907bfd5805",
       "version_major": 2,
       "version_minor": 0
      },
      "text/plain": [
       "Downloading:   0%|          | 0.00/96.4M [00:00<?, ?B/s]"
      ]
     },
     "metadata": {},
     "output_type": "display_data"
    },
    {
     "data": {
      "application/vnd.jupyter.widget-view+json": {
       "model_id": "1c1e561dc13e4e03bd6778a45ac316d6",
       "version_major": 2,
       "version_minor": 0
      },
      "text/plain": [
       "Downloading:   0%|          | 0.00/2.00k [00:00<?, ?B/s]"
      ]
     },
     "metadata": {},
     "output_type": "display_data"
    },
    {
     "ename": "ValueError",
     "evalue": "\nAudio files can be provided to the Audio class using different types:\n    - a \"str\" or \"Path\" instance: \"audio.wav\" or Path(\"audio.wav\")\n    - a \"IOBase\" instance with \"read\" and \"seek\" support: open(\"audio.wav\", \"rb\")\n    - a \"Mapping\" with any of the above as \"audio\" key: {\"audio\": ...}\n    - a \"Mapping\" with both \"waveform\" and \"sample_rate\" key:\n        {\"waveform\": (channel, time) numpy.ndarray or torch.Tensor, \"sample_rate\": 44100}\n\nFor last two options, an additional \"channel\" key can be provided as a zero-indexed\ninteger to load a specific channel: {\"audio\": \"stereo.wav\", \"channel\": 0}\n",
     "output_type": "error",
     "traceback": [
      "\u001b[0;31m---------------------------------------------------------------------------\u001b[0m",
      "\u001b[0;31mValueError\u001b[0m                                Traceback (most recent call last)",
      "\u001b[0;32m/var/folders/fg/c6b2vcrx7wd1530hgxsj7z7w0000gn/T/ipykernel_18342/1544694659.py\u001b[0m in \u001b[0;36m<module>\u001b[0;34m\u001b[0m\n\u001b[1;32m      1\u001b[0m \u001b[0;32mfrom\u001b[0m \u001b[0mpyannote\u001b[0m\u001b[0;34m.\u001b[0m\u001b[0maudio\u001b[0m \u001b[0;32mimport\u001b[0m \u001b[0mInference\u001b[0m\u001b[0;34m\u001b[0m\u001b[0;34m\u001b[0m\u001b[0m\n\u001b[1;32m      2\u001b[0m \u001b[0minference\u001b[0m \u001b[0;34m=\u001b[0m \u001b[0mInference\u001b[0m\u001b[0;34m(\u001b[0m\u001b[0;34m\"pyannote/embedding\"\u001b[0m\u001b[0;34m,\u001b[0m \u001b[0mwindow\u001b[0m\u001b[0;34m=\u001b[0m\u001b[0;34m\"whole\"\u001b[0m\u001b[0;34m)\u001b[0m\u001b[0;34m\u001b[0m\u001b[0;34m\u001b[0m\u001b[0m\n\u001b[0;32m----> 3\u001b[0;31m \u001b[0membedding1\u001b[0m \u001b[0;34m=\u001b[0m \u001b[0minference\u001b[0m\u001b[0;34m(\u001b[0m\u001b[0msub\u001b[0m\u001b[0;34m)\u001b[0m\u001b[0;34m\u001b[0m\u001b[0;34m\u001b[0m\u001b[0m\n\u001b[0m",
      "\u001b[0;32m~/opt/miniconda3/envs/infantvoicev2/lib/python3.9/site-packages/pyannote/audio/core/inference.py\u001b[0m in \u001b[0;36m__call__\u001b[0;34m(self, file)\u001b[0m\n\u001b[1;32m    326\u001b[0m         \"\"\"\n\u001b[1;32m    327\u001b[0m \u001b[0;34m\u001b[0m\u001b[0m\n\u001b[0;32m--> 328\u001b[0;31m         \u001b[0mwaveform\u001b[0m\u001b[0;34m,\u001b[0m \u001b[0msample_rate\u001b[0m \u001b[0;34m=\u001b[0m \u001b[0mself\u001b[0m\u001b[0;34m.\u001b[0m\u001b[0mmodel\u001b[0m\u001b[0;34m.\u001b[0m\u001b[0maudio\u001b[0m\u001b[0;34m(\u001b[0m\u001b[0mfile\u001b[0m\u001b[0;34m)\u001b[0m\u001b[0;34m\u001b[0m\u001b[0;34m\u001b[0m\u001b[0m\n\u001b[0m\u001b[1;32m    329\u001b[0m \u001b[0;34m\u001b[0m\u001b[0m\n\u001b[1;32m    330\u001b[0m         \u001b[0;32mif\u001b[0m \u001b[0mself\u001b[0m\u001b[0;34m.\u001b[0m\u001b[0mwindow\u001b[0m \u001b[0;34m==\u001b[0m \u001b[0;34m\"sliding\"\u001b[0m\u001b[0;34m:\u001b[0m\u001b[0;34m\u001b[0m\u001b[0;34m\u001b[0m\u001b[0m\n",
      "\u001b[0;32m~/opt/miniconda3/envs/infantvoicev2/lib/python3.9/site-packages/pyannote/audio/core/io.py\u001b[0m in \u001b[0;36m__call__\u001b[0;34m(self, file)\u001b[0m\n\u001b[1;32m    261\u001b[0m         \"\"\"\n\u001b[1;32m    262\u001b[0m \u001b[0;34m\u001b[0m\u001b[0m\n\u001b[0;32m--> 263\u001b[0;31m         \u001b[0mfile\u001b[0m \u001b[0;34m=\u001b[0m \u001b[0mself\u001b[0m\u001b[0;34m.\u001b[0m\u001b[0mvalidate_file\u001b[0m\u001b[0;34m(\u001b[0m\u001b[0mfile\u001b[0m\u001b[0;34m)\u001b[0m\u001b[0;34m\u001b[0m\u001b[0;34m\u001b[0m\u001b[0m\n\u001b[0m\u001b[1;32m    264\u001b[0m \u001b[0;34m\u001b[0m\u001b[0m\n\u001b[1;32m    265\u001b[0m         \u001b[0;32mif\u001b[0m \u001b[0;34m\"waveform\"\u001b[0m \u001b[0;32min\u001b[0m \u001b[0mfile\u001b[0m\u001b[0;34m:\u001b[0m\u001b[0;34m\u001b[0m\u001b[0;34m\u001b[0m\u001b[0m\n",
      "\u001b[0;32m~/opt/miniconda3/envs/infantvoicev2/lib/python3.9/site-packages/pyannote/audio/core/io.py\u001b[0m in \u001b[0;36mvalidate_file\u001b[0;34m(file)\u001b[0m\n\u001b[1;32m    134\u001b[0m \u001b[0;34m\u001b[0m\u001b[0m\n\u001b[1;32m    135\u001b[0m         \u001b[0;32melse\u001b[0m\u001b[0;34m:\u001b[0m\u001b[0;34m\u001b[0m\u001b[0;34m\u001b[0m\u001b[0m\n\u001b[0;32m--> 136\u001b[0;31m             \u001b[0;32mraise\u001b[0m \u001b[0mValueError\u001b[0m\u001b[0;34m(\u001b[0m\u001b[0mAudioFileDocString\u001b[0m\u001b[0;34m)\u001b[0m\u001b[0;34m\u001b[0m\u001b[0;34m\u001b[0m\u001b[0m\n\u001b[0m\u001b[1;32m    137\u001b[0m \u001b[0;34m\u001b[0m\u001b[0m\n\u001b[1;32m    138\u001b[0m         \u001b[0;32mif\u001b[0m \u001b[0;34m\"waveform\"\u001b[0m \u001b[0;32min\u001b[0m \u001b[0mfile\u001b[0m\u001b[0;34m:\u001b[0m\u001b[0;34m\u001b[0m\u001b[0;34m\u001b[0m\u001b[0m\n",
      "\u001b[0;31mValueError\u001b[0m: \nAudio files can be provided to the Audio class using different types:\n    - a \"str\" or \"Path\" instance: \"audio.wav\" or Path(\"audio.wav\")\n    - a \"IOBase\" instance with \"read\" and \"seek\" support: open(\"audio.wav\", \"rb\")\n    - a \"Mapping\" with any of the above as \"audio\" key: {\"audio\": ...}\n    - a \"Mapping\" with both \"waveform\" and \"sample_rate\" key:\n        {\"waveform\": (channel, time) numpy.ndarray or torch.Tensor, \"sample_rate\": 44100}\n\nFor last two options, an additional \"channel\" key can be provided as a zero-indexed\ninteger to load a specific channel: {\"audio\": \"stereo.wav\", \"channel\": 0}\n"
     ]
    }
   ],
   "source": [
    "from pyannote.audio import Inference\n",
    "inference = Inference(\"pyannote/embedding\", window=\"whole\")\n",
    "embedding1 = inference(sub)"
   ]
  },
  {
   "cell_type": "code",
   "execution_count": null,
   "id": "af9e337e-0990-4b30-8f30-ea81466a2882",
   "metadata": {},
   "outputs": [],
   "source": []
  }
 ],
 "metadata": {
  "kernelspec": {
   "display_name": "infantvoicev2",
   "language": "python",
   "name": "infantvoicev2"
  },
  "language_info": {
   "codemirror_mode": {
    "name": "ipython",
    "version": 3
   },
   "file_extension": ".py",
   "mimetype": "text/x-python",
   "name": "python",
   "nbconvert_exporter": "python",
   "pygments_lexer": "ipython3",
   "version": "3.9.7"
  }
 },
 "nbformat": 4,
 "nbformat_minor": 5
}
