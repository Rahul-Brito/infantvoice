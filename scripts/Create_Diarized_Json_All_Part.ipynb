{
 "cells": [
  {
   "cell_type": "code",
   "execution_count": 32,
   "id": "995194ab-c794-4fde-868d-ef54702d2f38",
   "metadata": {},
   "outputs": [],
   "source": [
    "import numpy as np\n",
    "from pyannote.core import json\n",
    "import json\n",
    "import os\n"
   ]
  },
  {
   "cell_type": "code",
   "execution_count": null,
   "id": "86c2c204-5cf6-4abc-a6b0-95ac9a1a7669",
   "metadata": {},
   "outputs": [],
   "source": [
    "## There were various json files with the diarization for each participant, batched by each new set of participants\n",
    "# here I combine into one json"
   ]
  },
  {
   "cell_type": "code",
   "execution_count": 25,
   "id": "83e07a47-892d-4b73-aa37-f6c8d53f7005",
   "metadata": {},
   "outputs": [],
   "source": [
    "# from https://github.com/Rahul-Brito/infantvoice/blob/06e9fa08f21364f9437f469acda68289ab24add8/scripts/Diarization_QC_PyAv2.ipynb\n",
    "# I see that all samples from 011 to 020 were just speaker 00\n",
    "\n",
    "original_keys = [str(n).zfill(3) for n in np.arange(11,21)]\n",
    "\n",
    "speaker_map_original = {key:'SPEAKER_00' for key in original_keys}"
   ]
  },
  {
   "cell_type": "code",
   "execution_count": 4,
   "id": "dd0c86b4-1b0e-44d4-923a-aaf41d050260",
   "metadata": {},
   "outputs": [
    {
     "data": {
      "text/plain": [
       "{'021': 'SPEAKER_01', '022': 'SPEAKER_00', 'BB003': 'SPEAKER_00'}"
      ]
     },
     "execution_count": 4,
     "metadata": {},
     "output_type": "execute_result"
    }
   ],
   "source": [
    "# from https://github.com/Rahul-Brito/infantvoice/blob/42c1353cdb6e4ab11d96563139e0d6c839953e96/scripts/Sohye%20Embedder.ipynb\n",
    "# i found speaker map for 021, 022, and BB003\n",
    "# for 053122_new_participants\n",
    "\n",
    "speaker_map_053122 = {'021':'SPEAKER_01', '022':'SPEAKER_00', 'BB003':'SPEAKER_00'}\n",
    "speaker_map_053122"
   ]
  },
  {
   "cell_type": "code",
   "execution_count": 6,
   "id": "d62da019-d456-476b-acb1-cb532d01c366",
   "metadata": {},
   "outputs": [
    {
     "data": {
      "text/plain": [
       "{'BB042': 'SPEAKER_00', 'BB002': 'SPEAKER_00', 'BB007': 'SPEAKER_00'}"
      ]
     },
     "execution_count": 6,
     "metadata": {},
     "output_type": "execute_result"
    }
   ],
   "source": [
    "# from https://github.com/Rahul-Brito/infantvoice/blob/fb494bde25305d5644a530b5d5443423d31dd0f7/scripts/Sohye%20Embedder.ipynb\n",
    "# i found speaker map for 'BB042', 'BB002', 'BB007'\n",
    "# for 060822_new_participants\n",
    "\n",
    "speaker_map_060822 = {'BB042':'SPEAKER_00', 'BB002':'SPEAKER_00', 'BB007':'SPEAKER_00'}\n",
    "speaker_map_060822"
   ]
  },
  {
   "cell_type": "code",
   "execution_count": 7,
   "id": "4356948b-4bef-40e3-b701-e54401f47a73",
   "metadata": {},
   "outputs": [],
   "source": [
    "# from https://github.com/Rahul-Brito/infantvoice/blob/edc841e997789f88d2132c301acd1d82e1e1aa88/scripts/Sohye%20Embedder.ipynb\n",
    "# i found the speaker map for 'BB019', 'BB038', 'BB014', 'BB022', 'BB013', 'BB005', 'BB008', 'BB012', 'BB006', 'BB021', 'BB016', 'BB020'\n",
    "# for 080222_new_participants\n",
    "\n",
    "#BB014 speaker 00 seems to be baby fussing\n",
    "speaker_map_080222 = {'BB019':['SPEAKER_00','SPEAKER_01','SPEAKER_02'],    \n",
    "                      'BB038':['SPEAKER_00','SPEAKER_01'],\n",
    "                      'BB014':['SPEAKER_01'],\n",
    "                      'BB022':['SPEAKER_00'],\n",
    "                      'BB013':['SPEAKER_00'],\n",
    "                      'BB005':['SPEAKER_00','SPEAKER_01'],\n",
    "                      'BB008':['SPEAKER_00','SPEAKER_01'],\n",
    "                      'BB012':['SPEAKER_00','SPEAKER_01','SPEAKER_02'],\n",
    "                      'BB006':['SPEAKER_00','SPEAKER_01', 'SPEAKER_02', \n",
    "                               'SPEAKER_03', 'SPEAKER_04', 'SPEAKER_05', \n",
    "                               'SPEAKER_06', 'SPEAKER_07', 'SPEAKER_08', 'SPEAKER_09'],\n",
    "                      'BB021':['SPEAKER_00','SPEAKER_01'],\n",
    "                      'BB016':['SPEAKER_00', 'SPEAKER_01', 'SPEAKER_02', 'SPEAKER_03', 'SPEAKER_04'],\n",
    "                      'BB020':['SPEAKER_00','SPEAKER_01'],\n",
    "                  }"
   ]
  },
  {
   "cell_type": "code",
   "execution_count": 31,
   "id": "f256ea7d-1035-490d-a2f3-981837108693",
   "metadata": {},
   "outputs": [
    {
     "data": {
      "text/plain": [
       "(dict_keys(['011', '012', '013', '014', '015', '016', '017', '018', '019', '020', '021', '022', 'BB003', 'BB042', 'BB002', 'BB007', 'BB019', 'BB038', 'BB014', 'BB022', 'BB013', 'BB005', 'BB008', 'BB012', 'BB006', 'BB021', 'BB016', 'BB020']),\n",
       " 28)"
      ]
     },
     "execution_count": 31,
     "metadata": {},
     "output_type": "execute_result"
    }
   ],
   "source": [
    "# combine all these into one dictionary\n",
    "speaker_map = {**speaker_map_original, **speaker_map_053122, **speaker_map_060822, **speaker_map_080222}\n",
    "speaker_map.keys(), len(speaker_map.keys())"
   ]
  },
  {
   "cell_type": "code",
   "execution_count": 33,
   "id": "5779a3f8-76c2-45c3-af23-79035587468d",
   "metadata": {},
   "outputs": [],
   "source": [
    "base_path='/Users/rahulbrito/Documents/projects/infantvoice/data/Full_Readings/Noise_Reduced/diarized'\n",
    "file = 'speaker_map.json'\n",
    "\n",
    "with open(os.path.join(base_path,file), \"w\") as outfile:\n",
    "    json.dump(speaker_map, outfile)"
   ]
  },
  {
   "cell_type": "code",
   "execution_count": 36,
   "id": "58d0ae10-c7a0-435e-9ff3-77e386c0a3bb",
   "metadata": {},
   "outputs": [
    {
     "name": "stdout",
     "output_type": "stream",
     "text": [
      "011.json         019.json         BB007.json       BB021.json\n",
      "012.json         020.json         BB008.json       BB022.json\n",
      "013.json         021.json         BB012.json       BB038.json\n",
      "014.json         022.json         BB013.json       BB042.json\n",
      "015.json         BB002.json       BB014.json       speaker_map.json\n",
      "016.json         BB003.json       BB016.json\n",
      "017.json         BB005.json       BB019.json\n",
      "018.json         BB006.json       BB020.json\n"
     ]
    }
   ],
   "source": [
    "!ls $base_path"
   ]
  },
  {
   "cell_type": "code",
   "execution_count": 37,
   "id": "483933bf-fa76-4d5a-a40b-897efa3fb3fa",
   "metadata": {},
   "outputs": [
    {
     "name": "stdout",
     "output_type": "stream",
     "text": [
      "/Users/rahulbrito/Documents/projects/infantvoice/data/Full_Readings/Noise_Reduced/diarized\n"
     ]
    }
   ],
   "source": [
    "!echo $base_path"
   ]
  },
  {
   "cell_type": "code",
   "execution_count": null,
   "id": "13c23d58-da94-4410-bad4-d001066beae0",
   "metadata": {},
   "outputs": [],
   "source": []
  }
 ],
 "metadata": {
  "kernelspec": {
   "display_name": "infantvoice",
   "language": "python",
   "name": "infantvoice"
  },
  "language_info": {
   "codemirror_mode": {
    "name": "ipython",
    "version": 3
   },
   "file_extension": ".py",
   "mimetype": "text/x-python",
   "name": "python",
   "nbconvert_exporter": "python",
   "pygments_lexer": "ipython3",
   "version": "3.9.7"
  }
 },
 "nbformat": 4,
 "nbformat_minor": 5
}
