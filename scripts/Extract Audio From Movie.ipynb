{
 "cells": [
  {
   "cell_type": "code",
   "execution_count": 2,
   "id": "4ec81e52-3ec2-4fd8-8b0a-14fb6bc2e197",
   "metadata": {},
   "outputs": [],
   "source": [
    "import moviepy.editor as mp\n"
   ]
  },
  {
   "cell_type": "code",
   "execution_count": 3,
   "id": "f9c23c19-906b-4a8a-8488-528d62ddffee",
   "metadata": {},
   "outputs": [],
   "source": [
    "my_clip = mp.VideoFileClip(r\"/Users/rahulbrito/Documents/projects/infantvoice/data/Full_Readings/053122_new_participants/video/BB003_BookReading.mp4\")"
   ]
  },
  {
   "cell_type": "code",
   "execution_count": 4,
   "id": "fc844008-8069-44a4-a572-9cddb659d172",
   "metadata": {},
   "outputs": [
    {
     "data": {
      "text/plain": [
       "<moviepy.video.io.VideoFileClip.VideoFileClip at 0x7f9630b841c0>"
      ]
     },
     "execution_count": 4,
     "metadata": {},
     "output_type": "execute_result"
    }
   ],
   "source": [
    "my_clip"
   ]
  },
  {
   "cell_type": "code",
   "execution_count": 7,
   "id": "557e0725-e97a-470c-93d6-750c78318970",
   "metadata": {},
   "outputs": [
    {
     "name": "stdout",
     "output_type": "stream",
     "text": [
      "MoviePy - Writing audio in /Users/rahulbrito/Documents/projects/infantvoice/data/Full_Readings/053122_new_participants/audio/023.wav\n"
     ]
    },
    {
     "name": "stderr",
     "output_type": "stream",
     "text": [
      "                                                                                                           "
     ]
    },
    {
     "name": "stdout",
     "output_type": "stream",
     "text": [
      "MoviePy - Done.\n"
     ]
    },
    {
     "name": "stderr",
     "output_type": "stream",
     "text": [
      "\r"
     ]
    }
   ],
   "source": [
    "my_clip.audio.write_audiofile(r\"/Users/rahulbrito/Documents/projects/infantvoice/data/Full_Readings/053122_new_participants/audio/023.wav\")"
   ]
  },
  {
   "cell_type": "code",
   "execution_count": null,
   "id": "0d7bf44e-050f-4efa-bc92-0b99dbca2bf4",
   "metadata": {},
   "outputs": [],
   "source": []
  }
 ],
 "metadata": {
  "kernelspec": {
   "display_name": "moviepy",
   "language": "python",
   "name": "moviepy"
  },
  "language_info": {
   "codemirror_mode": {
    "name": "ipython",
    "version": 3
   },
   "file_extension": ".py",
   "mimetype": "text/x-python",
   "name": "python",
   "nbconvert_exporter": "python",
   "pygments_lexer": "ipython3",
   "version": "3.10.4"
  }
 },
 "nbformat": 4,
 "nbformat_minor": 5
}
