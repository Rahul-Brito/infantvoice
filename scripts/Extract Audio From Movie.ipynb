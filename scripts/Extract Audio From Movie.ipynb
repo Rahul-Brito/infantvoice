{
 "cells": [
  {
   "cell_type": "code",
   "execution_count": 27,
   "id": "4ec81e52-3ec2-4fd8-8b0a-14fb6bc2e197",
   "metadata": {},
   "outputs": [],
   "source": [
    "import moviepy.editor as mp\n",
    "import glob as glob\n",
    "from pathlib import Path\n",
    "import os"
   ]
  },
  {
   "cell_type": "code",
   "execution_count": 24,
   "id": "817ccda5-48f3-4c8f-a992-3495b01bdcb8",
   "metadata": {},
   "outputs": [],
   "source": [
    "directory = '/Users/rahulbrito/Documents/projects/infantvoice/data/Full_Readings/060822_new_participants'\n",
    "vid_files = glob.glob(directory + '/video/*', recursive=True)"
   ]
  },
  {
   "cell_type": "code",
   "execution_count": 25,
   "id": "eb886e02-3d04-4408-87a0-e880612c79ce",
   "metadata": {},
   "outputs": [
    {
     "data": {
      "text/plain": [
       "['/Users/rahulbrito/Documents/projects/infantvoice/data/Full_Readings/060822_new_participants/video/BB007_BookReading.mp4',\n",
       " '/Users/rahulbrito/Documents/projects/infantvoice/data/Full_Readings/060822_new_participants/video/BB002_BookReading.mp4',\n",
       " '/Users/rahulbrito/Documents/projects/infantvoice/data/Full_Readings/060822_new_participants/video/BB042_BookReading.mp4']"
      ]
     },
     "execution_count": 25,
     "metadata": {},
     "output_type": "execute_result"
    }
   ],
   "source": [
    "vid_files"
   ]
  },
  {
   "cell_type": "code",
   "execution_count": 16,
   "id": "52747cfa-d801-4226-b65e-36474cba1218",
   "metadata": {},
   "outputs": [
    {
     "data": {
      "text/plain": [
       "'BB007'"
      ]
     },
     "execution_count": 16,
     "metadata": {},
     "output_type": "execute_result"
    }
   ],
   "source": [
    "Path(vid_files[0]).stem.split(\"_\")[0]"
   ]
  },
  {
   "cell_type": "code",
   "execution_count": 19,
   "id": "e39a486e-aab5-4638-b499-e4b3ec05b86a",
   "metadata": {},
   "outputs": [
    {
     "data": {
      "text/plain": [
       "{'BB007': '/Users/rahulbrito/Documents/projects/infantvoice/data/Full_Readings/060822_new_participants/video/BB007_BookReading.mp4',\n",
       " 'BB002': '/Users/rahulbrito/Documents/projects/infantvoice/data/Full_Readings/060822_new_participants/video/BB002_BookReading.mp4',\n",
       " 'BB042': '/Users/rahulbrito/Documents/projects/infantvoice/data/Full_Readings/060822_new_participants/video/BB042_BookReading.mp4'}"
      ]
     },
     "execution_count": 19,
     "metadata": {},
     "output_type": "execute_result"
    }
   ],
   "source": [
    "{Path(vid).stem.split(\"_\")[0]:\n",
    "           vid for vid in vid_files}"
   ]
  },
  {
   "cell_type": "code",
   "execution_count": 20,
   "id": "f9c23c19-906b-4a8a-8488-528d62ddffee",
   "metadata": {},
   "outputs": [],
   "source": [
    "my_clip = {Path(vid).stem.split(\"_\")[0]:\n",
    "           mp.VideoFileClip(vid) for vid in vid_files}"
   ]
  },
  {
   "cell_type": "code",
   "execution_count": 21,
   "id": "fc844008-8069-44a4-a572-9cddb659d172",
   "metadata": {},
   "outputs": [
    {
     "data": {
      "text/plain": [
       "{'BB007': <moviepy.video.io.VideoFileClip.VideoFileClip at 0x7ff119068250>,\n",
       " 'BB002': <moviepy.video.io.VideoFileClip.VideoFileClip at 0x7ff119068a30>,\n",
       " 'BB042': <moviepy.video.io.VideoFileClip.VideoFileClip at 0x7ff121153160>}"
      ]
     },
     "execution_count": 21,
     "metadata": {},
     "output_type": "execute_result"
    }
   ],
   "source": [
    "my_clip"
   ]
  },
  {
   "cell_type": "code",
   "execution_count": 30,
   "id": "59b0bd5b-75c4-4f72-b6b3-f2dfdeab4695",
   "metadata": {},
   "outputs": [],
   "source": [
    "aud_dir = os.path.join(directory,'audio')\n",
    "  \n",
    "if not os.path.exists(aud_dir):\n",
    "    os.mkdir(aud_dir)"
   ]
  },
  {
   "cell_type": "code",
   "execution_count": 34,
   "id": "557e0725-e97a-470c-93d6-750c78318970",
   "metadata": {},
   "outputs": [
    {
     "name": "stdout",
     "output_type": "stream",
     "text": [
      "MoviePy - Writing audio in /Users/rahulbrito/Documents/projects/infantvoice/data/Full_Readings/060822_new_participants/audio/BB007.wav\n"
     ]
    },
    {
     "name": "stderr",
     "output_type": "stream",
     "text": [
      "                                                                                \r"
     ]
    },
    {
     "name": "stdout",
     "output_type": "stream",
     "text": [
      "MoviePy - Done.\n",
      "MoviePy - Writing audio in /Users/rahulbrito/Documents/projects/infantvoice/data/Full_Readings/060822_new_participants/audio/BB002.wav\n"
     ]
    },
    {
     "name": "stderr",
     "output_type": "stream",
     "text": [
      "                                                                                \r"
     ]
    },
    {
     "name": "stdout",
     "output_type": "stream",
     "text": [
      "MoviePy - Done.\n",
      "MoviePy - Writing audio in /Users/rahulbrito/Documents/projects/infantvoice/data/Full_Readings/060822_new_participants/audio/BB042.wav\n"
     ]
    },
    {
     "name": "stderr",
     "output_type": "stream",
     "text": [
      "                                                                                "
     ]
    },
    {
     "name": "stdout",
     "output_type": "stream",
     "text": [
      "MoviePy - Done.\n"
     ]
    },
    {
     "name": "stderr",
     "output_type": "stream",
     "text": [
      "\r"
     ]
    },
    {
     "data": {
      "text/plain": [
       "[None, None, None]"
      ]
     },
     "execution_count": 34,
     "metadata": {},
     "output_type": "execute_result"
    }
   ],
   "source": [
    "[mov.audio.write_audiofile(os.path.join(aud_dir,part + '.wav')) for part,mov in my_clip.items()]"
   ]
  },
  {
   "cell_type": "code",
   "execution_count": null,
   "id": "0d7bf44e-050f-4efa-bc92-0b99dbca2bf4",
   "metadata": {},
   "outputs": [],
   "source": []
  }
 ],
 "metadata": {
  "kernelspec": {
   "display_name": "moviepy",
   "language": "python",
   "name": "moviepy"
  },
  "language_info": {
   "codemirror_mode": {
    "name": "ipython",
    "version": 3
   },
   "file_extension": ".py",
   "mimetype": "text/x-python",
   "name": "python",
   "nbconvert_exporter": "python",
   "pygments_lexer": "ipython3",
   "version": "3.10.4"
  }
 },
 "nbformat": 4,
 "nbformat_minor": 5
}
