{
 "cells": [
  {
   "cell_type": "code",
   "execution_count": 1,
   "id": "89426608-9c3a-462d-9499-8ddb3b907bd4",
   "metadata": {},
   "outputs": [],
   "source": [
    "%load_ext autoreload\n",
    "%autoreload 2\n",
    "import os\n",
    "from pyannote.core import json"
   ]
  },
  {
   "cell_type": "code",
   "execution_count": 3,
   "id": "bec2cf0c-681b-47ab-b87a-1761915ec99e",
   "metadata": {},
   "outputs": [],
   "source": [
    "timestamp_dir = '/Users/rahulbrito/Documents/projects/infantvoice/data/Full_Readings/032922_speaker_timestamps_diarized'\n",
    "timestamp = {(json.load_from(os.path.join(timestamp_dir,file)),file) for file in os.listdir(timestamp_dir)]"
   ]
  },
  {
   "cell_type": "code",
   "execution_count": 5,
   "id": "545185cb-f526-49d5-98f6-435faca455f9",
   "metadata": {},
   "outputs": [
    {
     "data": {
      "text/plain": [
       "(<Timeline(uri=020, segments=[<Segment(3.44719, 4.02094)>, <Segment(6.92344, 7.24406)>, <Segment(16.7953, 17.0822)>, <Segment(18.7022, 18.9722)>, <Segment(19.4784, 20.0016)>, <Segment(26.7009, 28.1353)>, <Segment(28.3209, 29.4009)>, <Segment(44.9428, 45.4153)>, <Segment(52.2328, 53.5322)>, <Segment(55.8778, 56.9747)>, <Segment(57.8522, 60.5859)>, <Segment(62.5941, 69.1416)>, <Segment(71.1666, 74.1703)>, <Segment(78.0516, 78.1697)>, <Segment(79.8572, 80.0091)>, <Segment(80.7178, 83.1816)>, <Segment(86.6916, 89.8809)>, <Segment(92.1422, 94.8591)>, <Segment(96.6816, 99.6009)>, <Segment(102.065, 102.453)>, <Segment(102.773, 106.182)>, <Segment(108.612, 111.717)>, <Segment(113.793, 116.138)>, <Segment(121.538, 128.052)>, <Segment(128.288, 130.752)>, <Segment(131.427, 134.954)>, <Segment(135.359, 136.557)>, <Segment(139.325, 142.497)>, <Segment(142.987, 147.256)>, <Segment(147.408, 149.365)>, <Segment(153.483, 155.795)>, <Segment(156.132, 158.309)>, <Segment(158.917, 167.371)>, <Segment(170.442, 171.995)>, <Segment(175.538, 180.652)>, <Segment(182.93, 189.646)>, <Segment(192.194, 194.978)>, <Segment(195.215, 204.665)>, <Segment(209.44, 217.81)>, <Segment(219.852, 221.624)>, <Segment(223.733, 228.256)>, <Segment(229.876, 232.812)>, <Segment(233.167, 234.702)>, <Segment(236.609, 241.334)>, <Segment(243.19, 248.455)>, <Segment(250.497, 255.982)>, <Segment(258.074, 259.103)>, <Segment(259.306, 261.517)>, <Segment(261.871, 264.503)>, <Segment(264.773, 266.36)>, <Segment(266.765, 268.216)>, <Segment(269.971, 270.983)>, <Segment(271.22, 274.561)>, <Segment(274.797, 275.573)>, <Segment(275.911, 277.514)>, <Segment(277.936, 280.096)>, <Segment(283.133, 284.281)>, <Segment(286.036, 287.977)>, <Segment(288.213, 290.744)>, <Segment(291.048, 298.709)>, <Segment(299.165, 301.072)>, <Segment(303.299, 306.758)>, <Segment(307.501, 310.623)>, <Segment(311.028, 324.123)>, <Segment(328.375, 330.282)>, <Segment(330.569, 332.527)>, <Segment(335.193, 342.618)>, <Segment(345.284, 349.553)>, <Segment(353.907, 359.088)>, <Segment(361.248, 363.712)>, <Segment(366.125, 368.268)>, <Segment(368.538, 370.09)>, <Segment(370.462, 373.111)>, <Segment(378.832, 382.73)>, <Segment(383, 384.367)>, <Segment(386.83, 390.205)>, <Segment(390.61, 392.112)>, <Segment(394.93, 403.621)>, <Segment(406.439, 413.965)>, <Segment(416.176, 420.884)>, <Segment(422.167, 423.685)>, <Segment(423.803, 425.525)>, <Segment(429.136, 433.085)>, <Segment(435.363, 439.328)>, <Segment(439.43, 441.995)>, <Segment(445.64, 452.778)>, <Segment(455.512, 459.477)>, <Segment(459.848, 463.544)>, <Segment(467.122, 471.307)>, <Segment(477.247, 480.908)>])>,\n",
       " '20.json')"
      ]
     },
     "execution_count": 5,
     "metadata": {},
     "output_type": "execute_result"
    }
   ],
   "source": [
    "timestamp[0]"
   ]
  },
  {
   "cell_type": "code",
   "execution_count": null,
   "id": "1c5d1da3-b65c-4cd0-a2e0-ea1c529f9b66",
   "metadata": {},
   "outputs": [],
   "source": [
    "from pydub import AudioSegment\n",
    "\n",
    "audio_file= \"your_wav_file.wav\"\n",
    "audio = AudioSegment.from_wav(audio_file)\n",
    "list_of_timestamps = [ 10, 20, 30, 40, 50 ,60, 70, 80, 90 ] #and so on in *seconds*\n",
    "\n",
    "start = 0\n",
    "for  idx,t in enumerate(list_of_timestamps):\n",
    "    #break loop if at last element of list\n",
    "    if idx == len(list_of_timestamps):\n",
    "        break\n",
    "\n",
    "    end = t * 1000 #pydub works in millisec\n",
    "    print \"split at [ {}:{}] ms\".format(start, end)\n",
    "    audio_chunk=audio[start:end]\n",
    "    audio_chunk.export( \"audio_chunk_{}.wav\".format(end), format=\"wav\")\n",
    "\n",
    "    start = end #pydub works in millisec"
   ]
  }
 ],
 "metadata": {
  "kernelspec": {
   "display_name": "infantvoice",
   "language": "python",
   "name": "infantvoice"
  },
  "language_info": {
   "codemirror_mode": {
    "name": "ipython",
    "version": 3
   },
   "file_extension": ".py",
   "mimetype": "text/x-python",
   "name": "python",
   "nbconvert_exporter": "python",
   "pygments_lexer": "ipython3",
   "version": "3.9.7"
  }
 },
 "nbformat": 4,
 "nbformat_minor": 5
}
