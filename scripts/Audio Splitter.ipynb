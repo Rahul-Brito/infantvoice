{
 "cells": [
  {
   "cell_type": "code",
   "execution_count": 78,
   "id": "3967b6a3-192a-4621-9504-59a94763d0be",
   "metadata": {},
   "outputs": [
    {
     "name": "stdout",
     "output_type": "stream",
     "text": [
      "The autoreload extension is already loaded. To reload it, use:\n",
      "  %reload_ext autoreload\n"
     ]
    }
   ],
   "source": [
    "%load_ext autoreload\n",
    "%autoreload 2\n",
    "import os\n",
    "from pyannote.core import json, Timeline\n",
    "import pandas as pd\n",
    "from pydub import AudioSegment\n",
    "from pathlib import Path\n",
    "\n",
    "diarized_dir = '/Users/rahulbrito/Documents/projects/infantvoice/data/Full_Readings/031622_diarized'\n",
    "diarized = [(json.load_from(os.path.join(diarized_dir,file)),file) for file in os.listdir(diarized_dir)]\n",
    "data_clean_lower = {int(Path(part).stem):data.label_timeline('SPEAKER_01') for data,part in diarized if int(Path(part).stem)<11}\n",
    "data_clean_upper = {int(Path(part).stem):data.label_timeline('SPEAKER_00') for data,part in diarized if int(Path(part).stem)>=11}\n",
    "data_clean = data_clean_lower|data_clean_upper\n",
    "wav_files = '/Users/rahulbrito/Documents/projects/infantvoice/data/Full_Readings/0300222_recordings_16khz'\n",
    "#wav_files = '/Users/rahulbrito/Documents/projects/infantvoice/data/Full_Readings/toy_chunk'\n"
   ]
  },
  {
   "cell_type": "code",
   "execution_count": 79,
   "id": "1d5ba1c2-dffc-4a7a-b733-9b82935a6c32",
   "metadata": {},
   "outputs": [],
   "source": [
    "segment_output = '/Users/rahulbrito/Documents/projects/infantvoice/data/Full_Readings/0300222_recordings_032922_segmented'\n",
    "\n",
    "for part, time in timestamps.items():\n",
    "    out_dir = os.path.join(segment_output,str(part))\n",
    "    for file in os.listdir(wav_files):\n",
    "        if file.endswith(\".wav\"):\n",
    "            if int(Path(file).stem) == part:\n",
    "                for seg in time:\n",
    "                    if seg[1]-seg[0]>2:\n",
    "                        audio = AudioSegment.from_wav(os.path.join(wav_files,file))\n",
    "                        audio_chunk=audio[seg[0]:seg[1]]\n",
    "                        audio_chunk.export(os.path.join(out_dir, 'part' + str(part) + \"_\" + str(int(seg[0])) + \"_\" + str(int(seg[1]))+'.wav'), format=\"wav\")\n",
    "\n",
    "            \n",
    "            "
   ]
  },
  {
   "cell_type": "code",
   "execution_count": 69,
   "id": "8fe5edd0-7927-4a70-a261-11f514d1388b",
   "metadata": {},
   "outputs": [
    {
     "data": {
      "image/png": "[encoded data removed]",
      "text/plain": [
       "<Timeline(uri=001, segments=[<Segment(33.2147, 33.5859)>, <Segment(44.0147, 44.4534)>, <Segment(44.8247, 45.0778)>, <Segment(45.5503, 47.0859)>, <Segment(49.9041, 51.1191)>, <Segment(51.5916, 54.4434)>, <Segment(56.9241, 59.5734)>, <Segment(60.5859, 61.8009)>, <Segment(62.1047, 63.5391)>, <Segment(65.6147, 68.3653)>, <Segment(71.1497, 73.5122)>, <Segment(77.7478, 79.1316)>, <Segment(79.5028, 81.0722)>, <Segment(82.6753, 83.0466)>, <Segment(83.5359, 84.7003)>, <Segment(85.2403, 86.7928)>, <Segment(88.9022, 91.8722)>, <Segment(93.0028, 93.1041)>, <Segment(94.4709, 97.5084)>, <Segment(100.208, 100.816)>, <Segment(101.339, 102.672)>, <Segment(102.925, 104.343)>, <Segment(106.857, 110.114)>, <Segment(110.907, 111.397)>, <Segment(113.05, 114.299)>, <Segment(115.362, 118.906)>, <Segment(119.243, 122.922)>, <Segment(123.496, 127.175)>, <Segment(127.917, 129.47)>, <Segment(132.187, 135.882)>, <Segment(136.827, 138.667)>, <Segment(139.072, 142.21)>, <Segment(143.965, 144.269)>, <Segment(146.429, 148.657)>, <Segment(149.129, 151.289)>, <Segment(151.812, 153.922)>, <Segment(154.242, 160.165)>, <Segment(162.427, 163.507)>, <Segment(166.24, 167.928)>, <Segment(168.147, 169.683)>, <Segment(169.835, 172.349)>, <Segment(174.593, 176.365)>, <Segment(176.602, 180.618)>, <Segment(181.647, 181.985)>, <Segment(182.542, 182.845)>, <Segment(183.436, 185.596)>, <Segment(185.883, 187.385)>, <Segment(188.195, 190.085)>, <Segment(190.473, 192.346)>, <Segment(193.207, 195.046)>, <Segment(195.569, 197.948)>, <Segment(199.754, 202.454)>, <Segment(203.078, 203.365)>, <Segment(203.872, 204.918)>, <Segment(205.407, 207.803)>, <Segment(209.018, 212.579)>, <Segment(213.912, 216.376)>, <Segment(218.452, 220.797)>, <Segment(221.084, 222.62)>, <Segment(224.493, 228.762)>, <Segment(230.72, 232.795)>, <Segment(233.268, 234.905)>, <Segment(237.436, 242.549)>, <Segment(245.232, 247.747)>, <Segment(248.168, 249.957)>, <Segment(252.623, 255.053)>, <Segment(255.34, 257.382)>, <Segment(257.77, 259.306)>, <Segment(259.762, 261.112)>, <Segment(262.647, 263.66)>, <Segment(263.828, 269.65)>, <Segment(270.629, 272.89)>, <Segment(278.054, 281.918)>, <Segment(282.138, 285.26)>, <Segment(285.749, 289.09)>, <Segment(289.816, 292.077)>, <Segment(294.946, 302.86)>, <Segment(303.248, 305.729)>, <Segment(306.32, 309.104)>, <Segment(309.593, 312.496)>, <Segment(315.854, 321.203)>, <Segment(324.005, 330.383)>, <Segment(331.261, 331.497)>, <Segment(332.763, 335.176)>, <Segment(335.311, 336.712)>, <Segment(336.88, 337.336)>, <Segment(339.58, 343.883)>, <Segment(345.807, 348.507)>, <Segment(350.87, 354.059)>, <Segment(354.211, 356.945)>, <Segment(361.771, 366.496)>, <Segment(367.171, 367.913)>, <Segment(368.622, 372.436)>, <Segment(373.246, 373.583)>, <Segment(374.883, 382.73)>, <Segment(385.784, 389.277)>, <Segment(390.003, 390.678)>, <Segment(390.847, 394.407)>, <Segment(394.627, 395.757)>, <Segment(396.297, 396.415)>, <Segment(396.989, 403.216)>, <Segment(403.503, 405.258)>, <Segment(409.46, 412.733)>, <Segment(413.037, 415.197)>, <Segment(415.45, 415.72)>, <Segment(417.053, 423.635)>, <Segment(424.023, 424.31)>, <Segment(425.103, 425.423)>, <Segment(425.744, 431.836)>, <Segment(434.688, 441.742)>, <Segment(444.34, 445.387)>, <Segment(445.724, 448.07)>, <Segment(456.811, 458.33)>, <Segment(466.025, 468.37)>, <Segment(468.742, 469.231)>, <Segment(469.788, 471.678)>, <Segment(471.998, 472.42)>, <Segment(472.893, 474.462)>, <Segment(475.238, 475.694)>])>"
      ]
     },
     "execution_count": 69,
     "metadata": {},
     "output_type": "execute_result"
    }
   ],
   "source": []
  },
  {
   "cell_type": "code",
   "execution_count": 52,
   "id": "b1e4a1b0-15e3-4ac9-b704-01869c295328",
   "metadata": {},
   "outputs": [
    {
     "ename": "TypeError",
     "evalue": "'float' object is not iterable",
     "output_type": "error",
     "traceback": [
      "\u001b[0;31m---------------------------------------------------------------------------\u001b[0m",
      "\u001b[0;31mTypeError\u001b[0m                                 Traceback (most recent call last)",
      "\u001b[0;32m/var/folders/fg/c6b2vcrx7wd1530hgxsj7z7w0000gn/T/ipykernel_18905/2654922578.py\u001b[0m in \u001b[0;36m<module>\u001b[0;34m\u001b[0m\n\u001b[1;32m      6\u001b[0m \u001b[0;34m\u001b[0m\u001b[0m\n\u001b[1;32m      7\u001b[0m \u001b[0;32mfor\u001b[0m \u001b[0mrm\u001b[0m\u001b[0;34m,\u001b[0m \u001b[0mtime\u001b[0m \u001b[0;32min\u001b[0m \u001b[0mtimestamps\u001b[0m\u001b[0;34m[\u001b[0m\u001b[0;36m1\u001b[0m\u001b[0;34m]\u001b[0m\u001b[0;34m:\u001b[0m\u001b[0;34m\u001b[0m\u001b[0;34m\u001b[0m\u001b[0m\n\u001b[0;32m----> 8\u001b[0;31m     \u001b[0;32mfor\u001b[0m \u001b[0mseg\u001b[0m \u001b[0;32min\u001b[0m \u001b[0mtime\u001b[0m\u001b[0;34m:\u001b[0m\u001b[0;34m\u001b[0m\u001b[0;34m\u001b[0m\u001b[0m\n\u001b[0m\u001b[1;32m      9\u001b[0m         \u001b[0;32mif\u001b[0m \u001b[0mseg\u001b[0m\u001b[0;34m[\u001b[0m\u001b[0;36m1\u001b[0m\u001b[0;34m]\u001b[0m\u001b[0;34m-\u001b[0m\u001b[0mseg\u001b[0m\u001b[0;34m[\u001b[0m\u001b[0;36m0\u001b[0m\u001b[0;34m]\u001b[0m\u001b[0;34m>\u001b[0m\u001b[0;36m2\u001b[0m\u001b[0;34m:\u001b[0m\u001b[0;34m\u001b[0m\u001b[0;34m\u001b[0m\u001b[0m\n\u001b[1;32m     10\u001b[0m             \u001b[0maudio_chunk\u001b[0m\u001b[0;34m=\u001b[0m\u001b[0maudio\u001b[0m\u001b[0;34m[\u001b[0m\u001b[0mseg\u001b[0m\u001b[0;34m[\u001b[0m\u001b[0;36m0\u001b[0m\u001b[0;34m]\u001b[0m\u001b[0;34m:\u001b[0m\u001b[0mseg\u001b[0m\u001b[0;34m[\u001b[0m\u001b[0;36m1\u001b[0m\u001b[0;34m]\u001b[0m\u001b[0;34m]\u001b[0m\u001b[0;34m\u001b[0m\u001b[0;34m\u001b[0m\u001b[0m\n",
      "\u001b[0;31mTypeError\u001b[0m: 'float' object is not iterable"
     ]
    }
   ],
   "source": [
    "#wav_files='/Users/rahulbrito/Documents/projects/infantvoice/data/Full_Readings/0300222_recordings_16khz'\n",
    "audio_file='/Users/rahulbrito/Documents/projects/infantvoice/data/Full_Readings/0300222_recordings_16khz/001.wav'\n",
    "segment_output = '/Users/rahulbrito/Documents/projects/infantvoice/data/Full_Readings/toy_chunk'\n",
    "\n",
    "audio = AudioSegment.from_wav(audio_file)\n",
    "\n",
    "for rm, time in timestamps[1]:\n",
    "    for seg in time:\n",
    "        if seg[1]-seg[0]>2:\n",
    "            audio_chunk=audio[seg[0]:seg[1]]\n",
    "            audio_chunk.export(os.path.join(segment_output,'001_' + str(int(seg[0])) + \"_\" + str(int(seg[1]))+'.wav'), format=\"wav\")"
   ]
  },
  {
   "cell_type": "code",
   "execution_count": 91,
   "id": "00ec22a2-c06e-48d7-ac32-2204e8f7ecd1",
   "metadata": {},
   "outputs": [
    {
     "data": {
      "text/plain": [
       "[33585,\n",
       " 44453,\n",
       " 45077,\n",
       " 47085,\n",
       " 51119,\n",
       " 54443,\n",
       " 59573,\n",
       " 61800,\n",
       " 63539,\n",
       " 68365,\n",
       " 73512,\n",
       " 79131,\n",
       " 81072,\n",
       " 83046,\n",
       " 84700,\n",
       " 86792,\n",
       " 91872,\n",
       " 93104,\n",
       " 97508,\n",
       " 100815,\n",
       " 102672,\n",
       " 104342,\n",
       " 110114,\n",
       " 111396,\n",
       " 114299,\n",
       " 118905,\n",
       " 122922,\n",
       " 127174,\n",
       " 129469,\n",
       " 135882,\n",
       " 138666,\n",
       " 142210,\n",
       " 144269,\n",
       " 148656,\n",
       " 151289,\n",
       " 153921,\n",
       " 160165,\n",
       " 163506,\n",
       " 167927,\n",
       " 169682,\n",
       " 172349,\n",
       " 176365,\n",
       " 180617,\n",
       " 181984,\n",
       " 182845,\n",
       " 185595,\n",
       " 187384,\n",
       " 190084,\n",
       " 192345,\n",
       " 195045,\n",
       " 197948,\n",
       " 202454,\n",
       " 203365,\n",
       " 204917,\n",
       " 207803,\n",
       " 212579,\n",
       " 216375,\n",
       " 220797,\n",
       " 222619,\n",
       " 228762,\n",
       " 232795,\n",
       " 234904,\n",
       " 242549,\n",
       " 247746,\n",
       " 249957,\n",
       " 255053,\n",
       " 257382,\n",
       " 259305,\n",
       " 261111,\n",
       " 263659,\n",
       " 269650,\n",
       " 272890,\n",
       " 281918,\n",
       " 285259,\n",
       " 289090,\n",
       " 292077,\n",
       " 302860,\n",
       " 305729,\n",
       " 309104,\n",
       " 312495,\n",
       " 321203,\n",
       " 330383,\n",
       " 331497,\n",
       " 335175,\n",
       " 336711,\n",
       " 337335,\n",
       " 343883,\n",
       " 348507,\n",
       " 354059,\n",
       " 356944,\n",
       " 366495,\n",
       " 367913,\n",
       " 372435,\n",
       " 373583,\n",
       " 382729,\n",
       " 389277,\n",
       " 390677,\n",
       " 394407,\n",
       " 395757,\n",
       " 396415,\n",
       " 403215,\n",
       " 405257,\n",
       " 412733,\n",
       " 415197,\n",
       " 415720,\n",
       " 423634,\n",
       " 424309,\n",
       " 425423,\n",
       " 431835,\n",
       " 441741,\n",
       " 445386,\n",
       " 448069,\n",
       " 458329,\n",
       " 468370,\n",
       " 469230,\n",
       " 471677,\n",
       " 472420,\n",
       " 474462,\n",
       " 475694]"
      ]
     },
     "execution_count": 91,
     "metadata": {},
     "output_type": "execute_result"
    }
   ],
   "source": [
    "[int(seg[1]) for seg in timestamps]"
   ]
  },
  {
   "cell_type": "code",
   "execution_count": null,
   "id": "d1514d6b-90d7-4a7c-8493-7e49e35982d3",
   "metadata": {},
   "outputs": [],
   "source": []
  }
 ],
 "metadata": {
  "kernelspec": {
   "display_name": "infantvoice",
   "language": "python",
   "name": "infantvoice"
  },
  "language_info": {
   "codemirror_mode": {
    "name": "ipython",
    "version": 3
   },
   "file_extension": ".py",
   "mimetype": "text/x-python",
   "name": "python",
   "nbconvert_exporter": "python",
   "pygments_lexer": "ipython3",
   "version": "3.9.7"
  }
 },
 "nbformat": 4,
 "nbformat_minor": 5
}
