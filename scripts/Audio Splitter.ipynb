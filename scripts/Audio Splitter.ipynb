{
 "cells": [
  {
   "cell_type": "code",
   "execution_count": 96,
   "id": "3967b6a3-192a-4621-9504-59a94763d0be",
   "metadata": {},
   "outputs": [
    {
     "name": "stdout",
     "output_type": "stream",
     "text": [
      "The autoreload extension is already loaded. To reload it, use:\n",
      "  %reload_ext autoreload\n"
     ]
    }
   ],
   "source": [
    "%load_ext autoreload\n",
    "%autoreload 2\n",
    "import os\n",
    "from pyannote.core import json, Timeline\n",
    "import pandas as pd\n",
    "from pydub import AudioSegment\n",
    "\n",
    "diarized_dir = '/Users/rahulbrito/Documents/projects/infantvoice/data/Full_Readings/031622_diarized'\n",
    "diarized = [(json.load_from(os.path.join(diarized_dir,file)),file) for file in os.listdir(diarized_dir)]\n",
    "data_clean_lower = {int(os.path.splitext(part)[0]):data.label_timeline('SPEAKER_01') for data,part in diarized if int(os.path.splitext(part)[0])<11}\n",
    "data_clean_upper = {int(os.path.splitext(part)[0]):data.label_timeline('SPEAKER_00') for data,part in diarized if int(os.path.splitext(part)[0])>=11}\n",
    "data_clean = data_clean_lower|data_clean_upper"
   ]
  },
  {
   "cell_type": "code",
   "execution_count": 108,
   "id": "17b43923-9e9c-4675-80f5-ab4aede9ccb1",
   "metadata": {},
   "outputs": [],
   "source": [
    "timestamps = {part:[[seg.start*1000,seg.end*1000] for seg in time] for part,time in data_clean.items()}     \n"
   ]
  },
  {
   "cell_type": "code",
   "execution_count": 115,
   "id": "76ff40d0-96f9-475d-a968-a7712bf4f9ee",
   "metadata": {},
   "outputs": [
    {
     "data": {
      "text/plain": [
       "0"
      ]
     },
     "execution_count": 115,
     "metadata": {},
     "output_type": "execute_result"
    }
   ],
   "source": [
    "10%2"
   ]
  },
  {
   "cell_type": "code",
   "execution_count": 112,
   "id": "1d5ba1c2-dffc-4a7a-b733-9b82935a6c32",
   "metadata": {},
   "outputs": [],
   "source": [
    "\n",
    "for part, time in timestamps.items():\n",
    "    for seg in time:\n",
    "        if seg[1]-seg[0]>2:\n",
    "            audio_chunk=audio[seg[0]:seg[1]]\n",
    "            audio_chunk.export(os.path.join(segment_output, 'part' + str(part), \"-\" + str(int(seg[0])) + \"_\" + str(int(seg[1]))+'.wav'), format=\"wav\")\n",
    "            \n",
    "            \n",
    "            "
   ]
  },
  {
   "cell_type": "code",
   "execution_count": 92,
   "id": "b1e4a1b0-15e3-4ac9-b704-01869c295328",
   "metadata": {},
   "outputs": [],
   "source": [
    "#wav_files='/Users/rahulbrito/Documents/projects/infantvoice/data/Full_Readings/0300222_recordings_16khz'\n",
    "audio_file='/Users/rahulbrito/Documents/projects/infantvoice/data/Full_Readings/0300222_recordings_16khz/001.wav'\n",
    "segment_output = '/Users/rahulbrito/Documents/projects/infantvoice/data/Full_Readings/toy_chunk'\n",
    "\n",
    "audio = AudioSegment.from_wav(audio_file)\n",
    "\n",
    "for rm, time in timestamps:\n",
    "    for seg in time:\n",
    "        if seg[1]-seg[0]>2:\n",
    "            audio_chunk=audio[seg[0]:seg[1]]\n",
    "            audio_chunk.export(os.path.join(segment_output,'001_' + str(int(seg[0])) + \"_\" + str(int(seg[1]))+'.wav'), format=\"wav\")"
   ]
  },
  {
   "cell_type": "code",
   "execution_count": 91,
   "id": "00ec22a2-c06e-48d7-ac32-2204e8f7ecd1",
   "metadata": {},
   "outputs": [
    {
     "data": {
      "text/plain": [
       "[33585,\n",
       " 44453,\n",
       " 45077,\n",
       " 47085,\n",
       " 51119,\n",
       " 54443,\n",
       " 59573,\n",
       " 61800,\n",
       " 63539,\n",
       " 68365,\n",
       " 73512,\n",
       " 79131,\n",
       " 81072,\n",
       " 83046,\n",
       " 84700,\n",
       " 86792,\n",
       " 91872,\n",
       " 93104,\n",
       " 97508,\n",
       " 100815,\n",
       " 102672,\n",
       " 104342,\n",
       " 110114,\n",
       " 111396,\n",
       " 114299,\n",
       " 118905,\n",
       " 122922,\n",
       " 127174,\n",
       " 129469,\n",
       " 135882,\n",
       " 138666,\n",
       " 142210,\n",
       " 144269,\n",
       " 148656,\n",
       " 151289,\n",
       " 153921,\n",
       " 160165,\n",
       " 163506,\n",
       " 167927,\n",
       " 169682,\n",
       " 172349,\n",
       " 176365,\n",
       " 180617,\n",
       " 181984,\n",
       " 182845,\n",
       " 185595,\n",
       " 187384,\n",
       " 190084,\n",
       " 192345,\n",
       " 195045,\n",
       " 197948,\n",
       " 202454,\n",
       " 203365,\n",
       " 204917,\n",
       " 207803,\n",
       " 212579,\n",
       " 216375,\n",
       " 220797,\n",
       " 222619,\n",
       " 228762,\n",
       " 232795,\n",
       " 234904,\n",
       " 242549,\n",
       " 247746,\n",
       " 249957,\n",
       " 255053,\n",
       " 257382,\n",
       " 259305,\n",
       " 261111,\n",
       " 263659,\n",
       " 269650,\n",
       " 272890,\n",
       " 281918,\n",
       " 285259,\n",
       " 289090,\n",
       " 292077,\n",
       " 302860,\n",
       " 305729,\n",
       " 309104,\n",
       " 312495,\n",
       " 321203,\n",
       " 330383,\n",
       " 331497,\n",
       " 335175,\n",
       " 336711,\n",
       " 337335,\n",
       " 343883,\n",
       " 348507,\n",
       " 354059,\n",
       " 356944,\n",
       " 366495,\n",
       " 367913,\n",
       " 372435,\n",
       " 373583,\n",
       " 382729,\n",
       " 389277,\n",
       " 390677,\n",
       " 394407,\n",
       " 395757,\n",
       " 396415,\n",
       " 403215,\n",
       " 405257,\n",
       " 412733,\n",
       " 415197,\n",
       " 415720,\n",
       " 423634,\n",
       " 424309,\n",
       " 425423,\n",
       " 431835,\n",
       " 441741,\n",
       " 445386,\n",
       " 448069,\n",
       " 458329,\n",
       " 468370,\n",
       " 469230,\n",
       " 471677,\n",
       " 472420,\n",
       " 474462,\n",
       " 475694]"
      ]
     },
     "execution_count": 91,
     "metadata": {},
     "output_type": "execute_result"
    }
   ],
   "source": [
    "[int(seg[1]) for seg in timestamps]"
   ]
  },
  {
   "cell_type": "code",
   "execution_count": null,
   "id": "d1514d6b-90d7-4a7c-8493-7e49e35982d3",
   "metadata": {},
   "outputs": [],
   "source": []
  }
 ],
 "metadata": {
  "kernelspec": {
   "display_name": "infantvoice",
   "language": "python",
   "name": "infantvoice"
  },
  "language_info": {
   "codemirror_mode": {
    "name": "ipython",
    "version": 3
   },
   "file_extension": ".py",
   "mimetype": "text/x-python",
   "name": "python",
   "nbconvert_exporter": "python",
   "pygments_lexer": "ipython3",
   "version": "3.9.7"
  }
 },
 "nbformat": 4,
 "nbformat_minor": 5
}
