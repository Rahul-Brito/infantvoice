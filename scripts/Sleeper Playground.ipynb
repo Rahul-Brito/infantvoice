{
 "cells": [
  {
   "cell_type": "code",
   "execution_count": 20,
   "id": "7aeb4a46-5026-4732-9559-a85e54a6b321",
   "metadata": {},
   "outputs": [],
   "source": [
    "from sleeper_wrapper import League\n",
    "from sleeper_wrapper import User\n",
    "\n",
    "#https://github.com/dtsong/sleeper-api-wrapper#league\n",
    "\n",
    "league = League(785958867661303808)"
   ]
  },
  {
   "cell_type": "code",
   "execution_count": 21,
   "id": "5ab561a2-e970-4b0e-92bc-20b91659cf81",
   "metadata": {},
   "outputs": [],
   "source": [
    "users = [User(user['user_id']) for user in league.get_users()]"
   ]
  },
  {
   "cell_type": "code",
   "execution_count": 66,
   "id": "060ef8bf-f95a-4ad3-90d6-30315a4cc6bc",
   "metadata": {},
   "outputs": [
    {
     "data": {
      "text/plain": [
       "[('watticusgg', '459030678789419008'),\n",
       " ('jwatts0723', '459137222545764352'),\n",
       " ('sweat91', '460151059155775488'),\n",
       " ('thejuggerknott', '460501853642158080'),\n",
       " ('patseyog', '460830759423307776'),\n",
       " ('briarpatch', '606651333520457728'),\n",
       " ('dbell0971', '725542804280897536'),\n",
       " ('cdbauer', '725858229485133824'),\n",
       " ('grampstheman', '727239598970937344'),\n",
       " ('bobrodge', '733116209922424832')]"
      ]
     },
     "execution_count": 66,
     "metadata": {},
     "output_type": "execute_result"
    }
   ],
   "source": [
    "[(u.get_user()['username'],u.get_user()['user_id']) for u in users]"
   ]
  },
  {
   "cell_type": "code",
   "execution_count": 56,
   "id": "7932fef9-8b23-4e2a-81cb-42bb6d987ac6",
   "metadata": {},
   "outputs": [
    {
     "data": {
      "text/plain": [
       "{1: '459030678789419008',\n",
       " 2: '459137222545764352',\n",
       " 3: '606651333520457728',\n",
       " 4: '460501853642158080',\n",
       " 5: '725542804280897536',\n",
       " 6: '725858229485133824',\n",
       " 7: '460151059155775488',\n",
       " 8: '460830759423307776',\n",
       " 9: '727239598970937344',\n",
       " 10: '733116209922424832'}"
      ]
     },
     "execution_count": 56,
     "metadata": {},
     "output_type": "execute_result"
    }
   ],
   "source": [
    "league.map_rosterid_to_ownerid(league.get_rosters())  "
   ]
  },
  {
   "cell_type": "code",
   "execution_count": 72,
   "id": "dcc96a12-e955-45f7-95df-b2543c12a08d",
   "metadata": {},
   "outputs": [
    {
     "data": {
      "text/plain": [
       "{'watticusgg': 1,\n",
       " 'jwatts0723': 2,\n",
       " 'sweat91': 7,\n",
       " 'thejuggerknott': 4,\n",
       " 'patseyog': 8,\n",
       " 'briarpatch': 3,\n",
       " 'dbell0971': 5,\n",
       " 'cdbauer': 6,\n",
       " 'grampstheman': 9,\n",
       " 'bobrodge': 10}"
      ]
     },
     "execution_count": 72,
     "metadata": {},
     "output_type": "execute_result"
    }
   ],
   "source": [
    "owner_id_user_id = league.map_rosterid_to_ownerid(league.get_rosters())\n",
    "\n",
    "username_owner_id = {}\n",
    "for u in users:\n",
    "    for owner_id, user_id in owner_id_user_id.items():\n",
    "        if u.get_user()['user_id'] == user_id:\n",
    "            username_owner_id[u.get_username()] = owner_id\n",
    "\n",
    "username_owner_id"
   ]
  },
  {
   "cell_type": "code",
   "execution_count": 57,
   "id": "a9248291-0a50-4818-9db3-73cc5313aaf5",
   "metadata": {},
   "outputs": [
    {
     "data": {
      "text/plain": [
       "[{'season': '2022',\n",
       "  'round': 1,\n",
       "  'roster_id': 1,\n",
       "  'previous_owner_id': 1,\n",
       "  'owner_id': 5},\n",
       " {'season': '2022',\n",
       "  'round': 2,\n",
       "  'roster_id': 1,\n",
       "  'previous_owner_id': 1,\n",
       "  'owner_id': 8},\n",
       " {'season': '2023',\n",
       "  'round': 1,\n",
       "  'roster_id': 1,\n",
       "  'previous_owner_id': 2,\n",
       "  'owner_id': 1},\n",
       " {'season': '2023',\n",
       "  'round': 2,\n",
       "  'roster_id': 1,\n",
       "  'previous_owner_id': 1,\n",
       "  'owner_id': 5},\n",
       " {'season': '2022',\n",
       "  'round': 1,\n",
       "  'roster_id': 2,\n",
       "  'previous_owner_id': 8,\n",
       "  'owner_id': 10},\n",
       " {'season': '2022',\n",
       "  'round': 1,\n",
       "  'roster_id': 3,\n",
       "  'previous_owner_id': 3,\n",
       "  'owner_id': 9},\n",
       " {'season': '2022',\n",
       "  'round': 2,\n",
       "  'roster_id': 3,\n",
       "  'previous_owner_id': 3,\n",
       "  'owner_id': 7},\n",
       " {'season': '2022',\n",
       "  'round': 1,\n",
       "  'roster_id': 5,\n",
       "  'previous_owner_id': 7,\n",
       "  'owner_id': 2},\n",
       " {'season': '2022',\n",
       "  'round': 2,\n",
       "  'roster_id': 5,\n",
       "  'previous_owner_id': 5,\n",
       "  'owner_id': 7},\n",
       " {'season': '2022',\n",
       "  'round': 1,\n",
       "  'roster_id': 7,\n",
       "  'previous_owner_id': 7,\n",
       "  'owner_id': 3},\n",
       " {'season': '2022',\n",
       "  'round': 2,\n",
       "  'roster_id': 7,\n",
       "  'previous_owner_id': 5,\n",
       "  'owner_id': 7},\n",
       " {'season': '2022',\n",
       "  'round': 3,\n",
       "  'roster_id': 7,\n",
       "  'previous_owner_id': 7,\n",
       "  'owner_id': 3},\n",
       " {'season': '2023',\n",
       "  'round': 1,\n",
       "  'roster_id': 7,\n",
       "  'previous_owner_id': 7,\n",
       "  'owner_id': 2},\n",
       " {'season': '2023',\n",
       "  'round': 3,\n",
       "  'roster_id': 7,\n",
       "  'previous_owner_id': 7,\n",
       "  'owner_id': 8},\n",
       " {'season': '2022',\n",
       "  'round': 1,\n",
       "  'roster_id': 8,\n",
       "  'previous_owner_id': 2,\n",
       "  'owner_id': 1},\n",
       " {'season': '2022',\n",
       "  'round': 3,\n",
       "  'roster_id': 8,\n",
       "  'previous_owner_id': 8,\n",
       "  'owner_id': 2},\n",
       " {'season': '2023',\n",
       "  'round': 1,\n",
       "  'roster_id': 8,\n",
       "  'previous_owner_id': 8,\n",
       "  'owner_id': 2},\n",
       " {'season': '2022',\n",
       "  'round': 1,\n",
       "  'roster_id': 9,\n",
       "  'previous_owner_id': 1,\n",
       "  'owner_id': 2}]"
      ]
     },
     "execution_count": 57,
     "metadata": {},
     "output_type": "execute_result"
    }
   ],
   "source": [
    "league.get_traded_picks()"
   ]
  },
  {
   "cell_type": "code",
   "execution_count": null,
   "id": "5006f54a-cb1b-4b4c-bcbf-6ed27417bbc6",
   "metadata": {},
   "outputs": [],
   "source": []
  }
 ],
 "metadata": {
  "kernelspec": {
   "display_name": "sleeper",
   "language": "python",
   "name": "sleeper"
  },
  "language_info": {
   "codemirror_mode": {
    "name": "ipython",
    "version": 3
   },
   "file_extension": ".py",
   "mimetype": "text/x-python",
   "name": "python",
   "nbconvert_exporter": "python",
   "pygments_lexer": "ipython3",
   "version": "3.9.12"
  }
 },
 "nbformat": 4,
 "nbformat_minor": 5
}
