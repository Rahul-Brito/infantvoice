{
 "cells": [
  {
   "cell_type": "code",
   "execution_count": 25,
   "id": "0cbb8d80-de64-4451-beaa-90133d714aa4",
   "metadata": {},
   "outputs": [
    {
     "name": "stdout",
     "output_type": "stream",
     "text": [
      "The autoreload extension is already loaded. To reload it, use:\n",
      "  %reload_ext autoreload\n"
     ]
    }
   ],
   "source": [
    "%load_ext autoreload\n",
    "%autoreload 2\n",
    "\n",
    "import numpy as np\n",
    "import pandas as pd\n",
    "from random import seed, shuffle\n",
    "import os\n",
    "import glob as glob\n",
    "from pathlib import Path\n",
    "from datetime import datetime\n",
    "\n",
    "from pyannote.audio import Pipeline\n",
    "from pyannote.core import json\n",
    "from pyannote.core.timeline import Timeline\n",
    "\n",
    "import moviepy.editor as mp\n",
    "\n",
    "from matplotlib import pyplot as plt, lines\n",
    "import seaborn as sns\n",
    "\n",
    "from sklearn.cluster import KMeans, SpectralClustering\n",
    "from sklearn.preprocessing import StandardScaler\n",
    "\n",
    "from scipy import stats\n",
    "from scipy.spatial.distance import directed_hausdorff, euclidean, cosine, pdist\n",
    "\n",
    "from src import (\n",
    "    downsample as downsamp_audio, \n",
    "    embedding_extractor as ee, \n",
    "    dimension_reducer as dr, \n",
    "    distance_metrics as dm, \n",
    "    downsample as ds,\n",
    "    emb_manipulator as em\n",
    ")\n",
    "\n",
    "from IPython.display import clear_output\n",
    "import warnings\n",
    "warnings.filterwarnings('ignore')"
   ]
  },
  {
   "cell_type": "code",
   "execution_count": 26,
   "id": "d8f370f8-d7b0-4594-9c9a-7a2573133983",
   "metadata": {},
   "outputs": [
    {
     "name": "stdout",
     "output_type": "stream",
     "text": [
      "BB005_BookReading.mp4 BB013_BookReading.mp4 BB020_BookReading.mp4\n",
      "BB006_BookReading.mp4 BB014_BookReading.mp4 BB021_BookReading.mp4\n",
      "BB008_BookReading.mp4 BB016_BookReading.mov BB022_BookReading.mov\n",
      "BB012_BookReading.mov BB019_BookReading.mp4 BB038_BookReading.mp4\n"
     ]
    }
   ],
   "source": [
    "##Downsample audio to 16kHz\n",
    "root_dir= \"/Users/rahulbrito/Documents/projects/infantvoice/data/Full_Readings/080222_new_participants\"\n",
    "!ls $root_dir/video"
   ]
  },
  {
   "cell_type": "code",
   "execution_count": 14,
   "id": "f48455d7-6ea5-499b-90e9-77a3a0956fba",
   "metadata": {},
   "outputs": [
    {
     "name": "stdout",
     "output_type": "stream",
     "text": [
      "MoviePy - Writing audio in /Users/rahulbrito/Documents/projects/infantvoice/data/Full_Readings/080222_new_participants/audio/BB006.wav\n"
     ]
    },
    {
     "name": "stderr",
     "output_type": "stream",
     "text": [
      "                                                                                    \r"
     ]
    },
    {
     "name": "stdout",
     "output_type": "stream",
     "text": [
      "MoviePy - Done.\n",
      "MoviePy - Writing audio in /Users/rahulbrito/Documents/projects/infantvoice/data/Full_Readings/080222_new_participants/audio/BB016.wav\n"
     ]
    },
    {
     "name": "stderr",
     "output_type": "stream",
     "text": [
      "                                                                                    \r"
     ]
    },
    {
     "name": "stdout",
     "output_type": "stream",
     "text": [
      "MoviePy - Done.\n",
      "MoviePy - Writing audio in /Users/rahulbrito/Documents/projects/infantvoice/data/Full_Readings/080222_new_participants/audio/BB022.wav\n"
     ]
    },
    {
     "name": "stderr",
     "output_type": "stream",
     "text": [
      "                                                                                    \r"
     ]
    },
    {
     "name": "stdout",
     "output_type": "stream",
     "text": [
      "MoviePy - Done.\n",
      "MoviePy - Writing audio in /Users/rahulbrito/Documents/projects/infantvoice/data/Full_Readings/080222_new_participants/audio/BB019.wav\n"
     ]
    },
    {
     "name": "stderr",
     "output_type": "stream",
     "text": [
      "                                                                                    \r"
     ]
    },
    {
     "name": "stdout",
     "output_type": "stream",
     "text": [
      "MoviePy - Done.\n",
      "MoviePy - Writing audio in /Users/rahulbrito/Documents/projects/infantvoice/data/Full_Readings/080222_new_participants/audio/BB008.wav\n"
     ]
    },
    {
     "name": "stderr",
     "output_type": "stream",
     "text": [
      "                                                                                    \r"
     ]
    },
    {
     "name": "stdout",
     "output_type": "stream",
     "text": [
      "MoviePy - Done.\n",
      "MoviePy - Writing audio in /Users/rahulbrito/Documents/projects/infantvoice/data/Full_Readings/080222_new_participants/audio/BB012.wav\n"
     ]
    },
    {
     "name": "stderr",
     "output_type": "stream",
     "text": [
      "                                                                                    \r"
     ]
    },
    {
     "name": "stdout",
     "output_type": "stream",
     "text": [
      "MoviePy - Done.\n",
      "MoviePy - Writing audio in /Users/rahulbrito/Documents/projects/infantvoice/data/Full_Readings/080222_new_participants/audio/BB014.wav\n"
     ]
    },
    {
     "name": "stderr",
     "output_type": "stream",
     "text": [
      "                                                                                    \r"
     ]
    },
    {
     "name": "stdout",
     "output_type": "stream",
     "text": [
      "MoviePy - Done.\n",
      "MoviePy - Writing audio in /Users/rahulbrito/Documents/projects/infantvoice/data/Full_Readings/080222_new_participants/audio/BB005.wav\n"
     ]
    },
    {
     "name": "stderr",
     "output_type": "stream",
     "text": [
      "                                                                                    \r"
     ]
    },
    {
     "name": "stdout",
     "output_type": "stream",
     "text": [
      "MoviePy - Done.\n",
      "MoviePy - Writing audio in /Users/rahulbrito/Documents/projects/infantvoice/data/Full_Readings/080222_new_participants/audio/BB038.wav\n"
     ]
    },
    {
     "name": "stderr",
     "output_type": "stream",
     "text": [
      "                                                                                    \r"
     ]
    },
    {
     "name": "stdout",
     "output_type": "stream",
     "text": [
      "MoviePy - Done.\n",
      "MoviePy - Writing audio in /Users/rahulbrito/Documents/projects/infantvoice/data/Full_Readings/080222_new_participants/audio/BB021.wav\n"
     ]
    },
    {
     "name": "stderr",
     "output_type": "stream",
     "text": [
      "                                                                                    \r"
     ]
    },
    {
     "name": "stdout",
     "output_type": "stream",
     "text": [
      "MoviePy - Done.\n",
      "MoviePy - Writing audio in /Users/rahulbrito/Documents/projects/infantvoice/data/Full_Readings/080222_new_participants/audio/BB013.wav\n"
     ]
    },
    {
     "name": "stderr",
     "output_type": "stream",
     "text": [
      "                                                                                    \r"
     ]
    },
    {
     "name": "stdout",
     "output_type": "stream",
     "text": [
      "MoviePy - Done.\n",
      "MoviePy - Writing audio in /Users/rahulbrito/Documents/projects/infantvoice/data/Full_Readings/080222_new_participants/audio/BB020.wav\n"
     ]
    },
    {
     "name": "stderr",
     "output_type": "stream",
     "text": [
      "                                                                                    "
     ]
    },
    {
     "name": "stdout",
     "output_type": "stream",
     "text": [
      "MoviePy - Done.\n"
     ]
    },
    {
     "name": "stderr",
     "output_type": "stream",
     "text": [
      "\r"
     ]
    },
    {
     "data": {
      "text/plain": [
       "[None, None, None, None, None, None, None, None, None, None, None, None]"
      ]
     },
     "execution_count": 14,
     "metadata": {},
     "output_type": "execute_result"
    }
   ],
   "source": [
    "# extract audio from video files\n",
    "vid_files = glob.glob(root_dir + '/video/*', recursive=True)\n",
    "{Path(vid).stem.split(\"_\")[0]:\n",
    "           vid for vid in vid_files}\n",
    "\n",
    "my_clip = {Path(vid).stem.split(\"_\")[0]:\n",
    "           mp.VideoFileClip(vid) for vid in vid_files}\n",
    "\n",
    "aud_files = os.path.join(root_dir,'audio')\n",
    "  \n",
    "if not os.path.exists(aud_files):\n",
    "    os.mkdir(aud_files)\n",
    "    \n",
    "[mov.audio.write_audiofile(os.path.join(aud_files,part + '.wav')) for part,mov in my_clip.items()]"
   ]
  },
  {
   "cell_type": "code",
   "execution_count": 15,
   "id": "d9d89174-ee8f-4541-b3f1-66c4d699ae80",
   "metadata": {},
   "outputs": [
    {
     "data": {
      "text/plain": [
       "'/Users/rahulbrito/Documents/projects/infantvoice/data/Full_Readings/080222_new_participants/audio_16kz'"
      ]
     },
     "execution_count": 15,
     "metadata": {},
     "output_type": "execute_result"
    }
   ],
   "source": [
    "#make a folder with today's date for the downsampled audio\n",
    "down_sample_dir = os.path.join(root_dir,\"audio_16kz\")\n",
    "\n",
    "if not os.path.exists(down_sample_dir):\n",
    "    os.mkdir(down_sample_dir)\n",
    "\n",
    "down_sample_dir"
   ]
  },
  {
   "cell_type": "code",
   "execution_count": 16,
   "id": "be5355f5-5824-4607-858a-05b97c22e061",
   "metadata": {
    "tags": []
   },
   "outputs": [
    {
     "name": "stdout",
     "output_type": "stream",
     "text": [
      "processingBB013.wav\n"
     ]
    }
   ],
   "source": [
    "ds.downsamp_audio(aud_files, down_sample_dir)"
   ]
  },
  {
   "cell_type": "code",
   "execution_count": 30,
   "id": "7d1a0c9d-8ff5-4972-a7fd-ed7c43314e1a",
   "metadata": {},
   "outputs": [
    {
     "data": {
      "text/plain": [
       "'/Users/rahulbrito/Documents/projects/infantvoice/data/Full_Readings/080222_new_participants/diarized'"
      ]
     },
     "execution_count": 30,
     "metadata": {},
     "output_type": "execute_result"
    }
   ],
   "source": [
    "##Diarize audio to find when mother is speaking and visualize it to choose label\n",
    "\n",
    "diar_dir = os.path.join(root_dir,'diarized')\n",
    "  \n",
    "if not os.path.exists(diar_dir):\n",
    "    os.mkdir(diar_dir)\n",
    "\n",
    "diar_dir"
   ]
  },
  {
   "cell_type": "code",
   "execution_count": 19,
   "id": "bcb929c5-fbb9-44b4-821d-8a0d711eefde",
   "metadata": {},
   "outputs": [],
   "source": [
    "## Runs speaker diariztion, but should run on openmind\n",
    "\n",
    "#pipeline = Pipeline.from_pretrained(\"pyannote/speaker-diarization@2022.07\")\n",
    "\n",
    "#for file in os.listdir(down_sample_dir):\n",
    "#    if file.endswith('wav'):\n",
    "#        diar = pipeline(os.path.join(down_sample_dir,file))\n",
    "#        json.dump_to(diar, os.path.join(diar_dir, os.path.splitext(file)[0]+'.json'))"
   ]
  },
  {
   "cell_type": "code",
   "execution_count": 31,
   "id": "db1ce740-7047-47cd-90df-4d500280f293",
   "metadata": {},
   "outputs": [],
   "source": [
    "diarized_raw = {os.path.splitext(file)[0]:\n",
    "            json.load_from(os.path.join(diar_dir,file)) for file in os.listdir(diar_dir)}"
   ]
  },
  {
   "cell_type": "code",
   "execution_count": 32,
   "id": "0fa16ed9-d609-4f9f-ae2d-2eada7dd30bd",
   "metadata": {},
   "outputs": [
    {
     "data": {
      "text/plain": [
       "dict_keys(['BB019', 'BB038', 'BB014', 'BB022', 'BB013', 'BB005', 'BB008', 'BB012', 'BB006', 'BB021', 'BB016', 'BB020'])"
      ]
     },
     "execution_count": 32,
     "metadata": {},
     "output_type": "execute_result"
    }
   ],
   "source": [
    "diarized_raw.keys()"
   ]
  },
  {
   "cell_type": "code",
   "execution_count": 135,
   "id": "8c380a77-e471-49a3-888b-ccef2a1aa134",
   "metadata": {},
   "outputs": [
    {
     "data": {
      "image/png": "[encoded data removed]",
      "text/plain": [
       "<pyannote.core.annotation.Annotation at 0x7fe8f3120d90>"
      ]
     },
     "execution_count": 135,
     "metadata": {},
     "output_type": "execute_result"
    }
   ],
   "source": [
    "diarized_raw['BB020']"
   ]
  },
  {
   "cell_type": "code",
   "execution_count": 116,
   "id": "b4b25bab-d3d7-4448-b29d-7cae3feeb80c",
   "metadata": {},
   "outputs": [],
   "source": [
    "# Based on output of diarization, manually make speaker map to set which speaker we want\n",
    "\n",
    "#BB014 speaker 00 seems to be baby fussing\n",
    "speaker_map = {'BB019':['SPEAKER_00','SPEAKER_01','SPEAKER_02'], \n",
    "               'BB038':['SPEAKER_00','SPEAKER_01'],\n",
    "               'BB014':['SPEAKER_01'],\n",
    "               'BB022':['SPEAKER_00'],\n",
    "               'BB013':['SPEAKER_00'],\n",
    "               'BB005':['SPEAKER_00','SPEAKER_01'],\n",
    "               'BB008':['SPEAKER_00','SPEAKER_01'],\n",
    "               'BB012':['SPEAKER_00','SPEAKER_01','SPEAKER_02'],\n",
    "               'BB006':['SPEAKER_00','SPEAKER_01', 'SPEAKER_02', \n",
    "                        'SPEAKER_03', 'SPEAKER_04', 'SPEAKER_05', \n",
    "                        'SPEAKER_06', 'SPEAKER_07', 'SPEAKER_08', 'SPEAKER_09'],\n",
    "               'BB021':['SPEAKER_00','SPEAKER_01'],\n",
    "               'BB016':['SPEAKER_00', 'SPEAKER_01', 'SPEAKER_02', 'SPEAKER_03', 'SPEAKER_04'],\n",
    "               'BB020':['SPEAKER_00','SPEAKER_01'],\n",
    "              }\n",
    "\n",
    "temp = {label:[diarized_raw[label].label_timeline(s) for s in s_list]\n",
    "        for label,s_list in speaker_map.items() \n",
    "       }\n",
    "\n",
    "diarized = {}\n",
    "\n",
    "for label, all_timelines in temp.items():\n",
    "    all_seg = Timeline()\n",
    "    for timeline in all_timelines:\n",
    "        all_seg = all_seg.union(timeline)\n",
    "    diarized[label] = all_seg"
   ]
  },
  {
   "cell_type": "code",
   "execution_count": 121,
   "id": "95c189ff-0d9f-4a7a-a3c3-8fd42b744b0c",
   "metadata": {},
   "outputs": [
    {
     "data": {
      "image/png": "[encoded data removed]",
      "text/plain": [
       "<Timeline(uri=None, segments=[<Segment(0.497812, 1.29094)>, <Segment(1.86469, 3.83906)>, <Segment(5.32406, 7.29844)>, <Segment(7.80469, 10.2684)>, <Segment(11.0278, 12.0234)>, <Segment(12.4284, 14.0822)>, <Segment(15.8709, 16.7653)>, <Segment(16.7822, 18.2841)>, <Segment(20.5453, 23.2453)>, <Segment(24.1228, 24.4434)>, <Segment(24.4434, 26.4178)>, <Segment(27.0253, 28.1053)>, <Segment(28.3247, 29.5397)>, <Segment(30.3159, 32.9147)>, <Segment(33.2184, 33.6909)>, <Segment(35.0916, 36.3572)>, <Segment(36.7284, 37.7072)>, <Segment(38.5509, 40.6266)>, <Segment(43.8497, 45.8578)>, <Segment(46.2797, 47.4609)>, <Segment(47.4609, 47.7647)>, <Segment(48.3553, 50.7684)>, <Segment(51.1059, 52.1184)>, <Segment(52.7766, 55.6453)>, <Segment(56.1009, 56.8434)>, <Segment(56.8434, 57.1472)>, <Segment(58.2272, 61.1972)>, <Segment(61.1972, 61.2647)>, <Segment(61.8891, 63.3234)>, <Segment(63.9647, 67.1372)>, <Segment(69.3309, 71.5416)>, <Segment(71.5416, 71.5584)>, <Segment(71.9803, 72.0816)>, <Segment(72.0816, 74.1234)>, <Segment(74.7141, 76.2834)>, <Segment(76.7559, 77.4478)>, <Segment(77.4478, 78.2578)>, <Segment(78.4941, 81.0591)>, <Segment(82.3922, 82.4091)>, <Segment(82.4091, 83.1009)>, <Segment(83.8603, 88.5853)>, <Segment(89.6991, 89.7328)>, <Segment(89.7328, 94.3903)>, <Segment(96.0441, 98.2716)>, <Segment(98.6934, 99.7903)>, <Segment(100.398, 101.495)>, <Segment(101.495, 103.385)>, <Segment(104.06, 105.747)>, <Segment(106.034, 107.705)>, <Segment(111.265, 114.353)>, <Segment(115.147, 115.4)>, <Segment(115.872, 118.37)>, <Segment(118.589, 119.247)>, <Segment(120.04, 120.445)>, <Segment(120.445, 120.496)>, <Segment(120.496, 122.2)>, <Segment(123.736, 126.115)>, <Segment(126.301, 127.364)>, <Segment(128.68, 131.178)>, <Segment(131.566, 132.747)>, <Segment(133.895, 138.333)>, <Segment(140.155, 140.172)>, <Segment(140.172, 144.982)>, <Segment(146.804, 148.795)>, <Segment(148.998, 150.466)>, <Segment(150.787, 152.204)>, <Segment(154.685, 157.452)>, <Segment(157.452, 158.077)>, <Segment(158.532, 159.005)>, <Segment(159.005, 160.034)>, <Segment(160.557, 161.502)>, <Segment(161.924, 166.295)>, <Segment(167.763, 169.012)>, <Segment(169.332, 171.087)>, <Segment(171.374, 172.589)>, <Segment(172.842, 173.855)>, <Segment(174.158, 175.947)>, <Segment(175.947, 176.352)>, <Segment(176.926, 178.765)>, <Segment(183.305, 184.739)>, <Segment(185.026, 186.123)>, <Segment(186.511, 190.021)>, <Segment(190.763, 191)>, <Segment(191, 193.767)>, <Segment(194.527, 196.113)>, <Segment(197.513, 200.939)>, <Segment(200.939, 201.007)>, <Segment(201.614, 206.778)>, <Segment(207.419, 209.832)>, <Segment(210.44, 210.457)>, <Segment(210.457, 212.819)>, <Segment(213.275, 213.46)>, <Segment(213.46, 216.447)>, <Segment(218.962, 222.809)>, <Segment(222.809, 223.096)>, <Segment(223.687, 225.796)>, <Segment(226.336, 230.656)>, <Segment(231.972, 234.655)>, <Segment(235.01, 235.499)>, <Segment(235.499, 237.001)>, <Segment(237.001, 237.136)>, <Segment(238.064, 242.57)>, <Segment(242.57, 242.587)>, <Segment(243.633, 246.518)>, <Segment(248.678, 251.834)>, <Segment(252.222, 254.737)>, <Segment(262.432, 263.242)>, <Segment(263.579, 265.52)>, <Segment(266.144, 267.19)>, <Segment(268.321, 268.338)>, <Segment(268.338, 271.055)>, <Segment(271.426, 272.81)>, <Segment(273.586, 274.497)>, <Segment(274.497, 280.792)>, <Segment(280.792, 280.808)>, <Segment(282.952, 284.15)>, <Segment(284.386, 290.123)>, <Segment(291.71, 291.727)>, <Segment(291.727, 293.38)>, <Segment(293.887, 295.439)>, <Segment(295.439, 296.367)>, <Segment(296.722, 299.438)>, <Segment(301.548, 304.822)>, <Segment(305.935, 308.568)>, <Segment(308.99, 311.909)>, <Segment(313.833, 319.688)>, <Segment(321.578, 324.515)>, <Segment(324.886, 328.042)>, <Segment(329.746, 329.999)>, <Segment(329.999, 330.742)>, <Segment(331.045, 333.188)>, <Segment(333.239, 333.998)>, <Segment(333.998, 334.032)>, <Segment(336.074, 336.513)>])>"
      ]
     },
     "execution_count": 121,
     "metadata": {},
     "output_type": "execute_result"
    }
   ],
   "source": [
    "diarized['BB006']"
   ]
  },
  {
   "cell_type": "code",
   "execution_count": 136,
   "id": "d3b351a8-c417-43fc-ac6a-bf2dcc7fc67e",
   "metadata": {},
   "outputs": [],
   "source": [
    "\n",
    "\n",
    "diarized2 = {os.path.splitext(file)[0]:\n",
    "            json.load_from(os.path.join(diar_dir,file)).label_timeline(\n",
    "                speaker_map[os.path.splitext(file)[0]]) \n",
    "            for file in os.listdir(diar_dir)}"
   ]
  },
  {
   "cell_type": "code",
   "execution_count": 137,
   "id": "d13c9a80-4c62-424c-8893-3d637b634fc8",
   "metadata": {},
   "outputs": [
    {
     "data": {
      "text/plain": [
       "{'BB019': <Timeline(uri=BB019, segments=[])>,\n",
       " 'BB038': <Timeline(uri=BB038, segments=[])>,\n",
       " 'BB014': <Timeline(uri=BB014, segments=[])>,\n",
       " 'BB022': <Timeline(uri=BB022, segments=[])>,\n",
       " 'BB013': <Timeline(uri=BB013, segments=[])>,\n",
       " 'BB005': <Timeline(uri=BB005, segments=[])>,\n",
       " 'BB008': <Timeline(uri=BB008, segments=[])>,\n",
       " 'BB012': <Timeline(uri=BB012, segments=[])>,\n",
       " 'BB006': <Timeline(uri=BB006, segments=[])>,\n",
       " 'BB021': <Timeline(uri=BB021, segments=[])>,\n",
       " 'BB016': <Timeline(uri=BB016, segments=[])>,\n",
       " 'BB020': <Timeline(uri=BB020, segments=[])>}"
      ]
     },
     "execution_count": 137,
     "metadata": {},
     "output_type": "execute_result"
    }
   ],
   "source": [
    "diarized2"
   ]
  },
  {
   "cell_type": "code",
   "execution_count": 16,
   "id": "4736129e-4b4d-4f31-b8ec-254e146684b1",
   "metadata": {},
   "outputs": [
    {
     "data": {
      "image/png": "[encoded data removed]",
      "text/plain": [
       "<Timeline(uri=BB042, segments=[<Segment(1.00031, 1.97906)>, <Segment(3.10969, 5.15156)>, <Segment(7.21031, 8.25656)>, <Segment(8.64469, 9.85969)>, <Segment(10.2478, 11.6822)>, <Segment(11.9859, 13.1503)>, <Segment(15.5972, 16.9472)>, <Segment(17.3016, 18.4659)>, <Segment(20.3559, 22.9378)>, <Segment(31.5609, 34.8684)>, <Segment(35.0709, 35.2566)>, <Segment(39.3403, 40.6397)>, <Segment(41.8378, 42.0066)>, <Segment(42.2597, 42.4959)>, <Segment(43.4578, 44.7066)>, <Segment(49.7016, 50.9672)>, <Segment(51.5578, 52.6547)>, <Segment(54.4434, 56.7553)>, <Segment(59.9278, 61.1934)>, <Segment(61.5309, 62.5603)>, <Segment(64.1803, 66.2053)>, <Segment(69.8672, 70.8459)>, <Segment(73.8834, 78.2034)>, <Segment(78.7772, 79.8909)>, <Segment(80.1947, 81.8653)>, <Segment(82.6416, 84.0253)>, <Segment(84.5991, 88.4466)>, <Segment(89.1891, 90.2691)>, <Segment(94.9434, 96.2766)>, <Segment(96.7491, 98.5378)>, <Segment(99.1453, 100.023)>, <Segment(100.445, 101.255)>, <Segment(101.845, 103.617)>, <Segment(104.242, 105.946)>, <Segment(109.675, 110.182)>, <Segment(111.43, 112.207)>, <Segment(112.477, 115.48)>, <Segment(115.868, 116.712)>, <Segment(117.472, 119.142)>, <Segment(119.497, 123.698)>, <Segment(125.673, 126.635)>, <Segment(129.47, 133.975)>, <Segment(137.165, 138.228)>, <Segment(138.903, 140.776)>, <Segment(141.029, 143.543)>, <Segment(145.18, 147.998)>, <Segment(148.572, 149.838)>, <Segment(150.108, 151.323)>, <Segment(152.352, 154.023)>, <Segment(154.242, 155.153)>, <Segment(155.457, 156.335)>, <Segment(156.689, 158.545)>, <Segment(165.076, 167.033)>, <Segment(172.788, 176.23)>, <Segment(176.602, 177.192)>, <Segment(177.715, 181.36)>, <Segment(183.841, 185.714)>, <Segment(188.566, 189.359)>, <Segment(189.68, 192.312)>, <Segment(193.358, 194.32)>, <Segment(194.54, 196.008)>, <Segment(196.733, 198.033)>, <Segment(199.501, 200.429)>, <Segment(200.885, 202.471)>, <Segment(203.146, 204.361)>, <Segment(205.542, 206.504)>, <Segment(207.28, 208.934)>, <Segment(209.592, 210.74)>, <Segment(211.853, 212.765)>, <Segment(213.237, 214.857)>, <Segment(215.195, 216.443)>, <Segment(218.03, 219.025)>, <Segment(219.582, 221.59)>, <Segment(222.08, 223.295)>, <Segment(223.615, 224.51)>, <Segment(224.695, 226.282)>, <Segment(226.906, 228.83)>, <Segment(230.551, 231.496)>, <Segment(231.935, 233.335)>, <Segment(233.723, 234.787)>, <Segment(235.141, 236.035)>, <Segment(236.812, 240.406)>, <Segment(243.443, 243.629)>, <Segment(245.519, 247.24)>, <Segment(248.405, 249.839)>, <Segment(250.649, 250.936)>, <Segment(251.138, 252.134)>, <Segment(252.573, 253.602)>, <Segment(254.446, 255.762)>, <Segment(256.37, 258.023)>, <Segment(258.513, 259.542)>, <Segment(260.251, 263.963)>, <Segment(264.166, 265.803)>, <Segment(268.655, 270.832)>, <Segment(271.287, 272.84)>, <Segment(273.987, 274.78)>, <Segment(275.337, 279.961)>, <Segment(280.889, 285.074)>, <Segment(285.58, 286.019)>, <Segment(286.576, 287.673)>, <Segment(288.179, 289.09)>, <Segment(289.833, 290.947)>, <Segment(292.246, 292.448)>, <Segment(295.992, 296.347)>, <Segment(297.342, 297.612)>, <Segment(299.063, 300.228)>, <Segment(301.78, 302.54)>, <Segment(303.282, 304.025)>, <Segment(307.754, 309.543)>, <Segment(310.167, 311.922)>, <Segment(312.682, 312.8)>, <Segment(314.183, 315.803)>, <Segment(316.613, 318.166)>, <Segment(318.757, 322.081)>, <Segment(323.802, 328.308)>, <Segment(330.772, 332.932)>, <Segment(333.269, 334.13)>, <Segment(334.501, 335.632)>, <Segment(335.986, 336.408)>, <Segment(338.213, 340.103)>, <Segment(344.356, 346.094)>, <Segment(346.448, 348.322)>, <Segment(348.794, 351.697)>, <Segment(354.802, 356.455)>, <Segment(358.227, 362.446)>, <Segment(365.618, 366.108)>, <Segment(366.293, 367.289)>, <Segment(367.593, 369.01)>, <Segment(369.449, 370.833)>, <Segment(373.145, 377.093)>, <Segment(377.583, 380.452)>, <Segment(382.24, 382.983)>, <Segment(383.506, 386.763)>, <Segment(386.999, 390.172)>, <Segment(392.467, 393.698)>, <Segment(395.2, 398.17)>, <Segment(398.491, 399.284)>, <Segment(399.689, 402.389)>, <Segment(406.76, 408.43)>, <Segment(408.616, 410.995)>, <Segment(412.852, 418.572)>, <Segment(420.547, 421.947)>, <Segment(422.42, 423.348)>, <Segment(423.753, 424.512)>, <Segment(424.833, 426.875)>, <Segment(427.28, 429.136)>, <Segment(433.574, 436.814)>, <Segment(437.219, 438.772)>, <Segment(439.109, 440.932)>, <Segment(441.775, 442.906)>, <Segment(443.48, 445.69)>, <Segment(447.175, 447.732)>])>"
      ]
     },
     "execution_count": 16,
     "metadata": {},
     "output_type": "execute_result"
    }
   ],
   "source": [
    "diarized['BB042']"
   ]
  },
  {
   "cell_type": "code",
   "execution_count": 139,
   "id": "b9f38e2f-1932-4e6b-9107-be7d1d68817c",
   "metadata": {},
   "outputs": [
    {
     "data": {
      "text/plain": [
       "('2022_08_03_12BBs.csv',\n",
       " ['/Users/rahulbrito/Documents/projects/infantvoice/data/Full_Readings/080222_new_participants/audio_16kz/BB022.wav',\n",
       "  '/Users/rahulbrito/Documents/projects/infantvoice/data/Full_Readings/080222_new_participants/audio_16kz/BB021.wav',\n",
       "  '/Users/rahulbrito/Documents/projects/infantvoice/data/Full_Readings/080222_new_participants/audio_16kz/BB008.wav',\n",
       "  '/Users/rahulbrito/Documents/projects/infantvoice/data/Full_Readings/080222_new_participants/audio_16kz/BB020.wav',\n",
       "  '/Users/rahulbrito/Documents/projects/infantvoice/data/Full_Readings/080222_new_participants/audio_16kz/BB019.wav',\n",
       "  '/Users/rahulbrito/Documents/projects/infantvoice/data/Full_Readings/080222_new_participants/audio_16kz/BB016.wav',\n",
       "  '/Users/rahulbrito/Documents/projects/infantvoice/data/Full_Readings/080222_new_participants/audio_16kz/BB014.wav',\n",
       "  '/Users/rahulbrito/Documents/projects/infantvoice/data/Full_Readings/080222_new_participants/audio_16kz/BB005.wav',\n",
       "  '/Users/rahulbrito/Documents/projects/infantvoice/data/Full_Readings/080222_new_participants/audio_16kz/BB038.wav',\n",
       "  '/Users/rahulbrito/Documents/projects/infantvoice/data/Full_Readings/080222_new_participants/audio_16kz/BB006.wav',\n",
       "  '/Users/rahulbrito/Documents/projects/infantvoice/data/Full_Readings/080222_new_participants/audio_16kz/BB012.wav',\n",
       "  '/Users/rahulbrito/Documents/projects/infantvoice/data/Full_Readings/080222_new_participants/audio_16kz/BB013.wav'])"
      ]
     },
     "execution_count": 139,
     "metadata": {},
     "output_type": "execute_result"
    }
   ],
   "source": [
    "emb_dir = '/Users/rahulbrito/Documents/projects/infantvoice/data/embeddings'\n",
    "save_name = datetime.now().strftime('%Y_%m_%d') + '_12BBs.csv'\n",
    "diarized = diarized\n",
    "\n",
    "import glob\n",
    "#all_files = glob.glob(down_sample_dir+'/*/*', recursive=True)\n",
    "#all_files = [file for file in all_files if 'script' in file]\n",
    "\n",
    "all_files = glob.glob(down_sample_dir+'/*', recursive=True)\n",
    "\n",
    "save_name, all_files"
   ]
  },
  {
   "cell_type": "code",
   "execution_count": 140,
   "id": "385dd292-3539-4f22-ab45-080403f306e0",
   "metadata": {},
   "outputs": [
    {
     "name": "stdout",
     "output_type": "stream",
     "text": [
      "Processing/Users/rahulbrito/Documents/projects/infantvoice/data/Full_Readings/080222_new_participants/audio_16kz/BB013.wav\n",
      "Done\n"
     ]
    },
    {
     "data": {
      "text/html": [
       "<div>\n",
       "<style scoped>\n",
       "    .dataframe tbody tr th:only-of-type {\n",
       "        vertical-align: middle;\n",
       "    }\n",
       "\n",
       "    .dataframe tbody tr th {\n",
       "        vertical-align: top;\n",
       "    }\n",
       "\n",
       "    .dataframe thead th {\n",
       "        text-align: right;\n",
       "    }\n",
       "</style>\n",
       "<table border=\"1\" class=\"dataframe\">\n",
       "  <thead>\n",
       "    <tr style=\"text-align: right;\">\n",
       "      <th></th>\n",
       "      <th>0</th>\n",
       "      <th>1</th>\n",
       "      <th>2</th>\n",
       "      <th>3</th>\n",
       "      <th>4</th>\n",
       "      <th>5</th>\n",
       "      <th>6</th>\n",
       "      <th>7</th>\n",
       "      <th>8</th>\n",
       "      <th>9</th>\n",
       "      <th>...</th>\n",
       "      <th>503</th>\n",
       "      <th>504</th>\n",
       "      <th>505</th>\n",
       "      <th>506</th>\n",
       "      <th>507</th>\n",
       "      <th>508</th>\n",
       "      <th>509</th>\n",
       "      <th>510</th>\n",
       "      <th>511</th>\n",
       "      <th>part_id</th>\n",
       "    </tr>\n",
       "  </thead>\n",
       "  <tbody>\n",
       "    <tr>\n",
       "      <th>0</th>\n",
       "      <td>-4.406202</td>\n",
       "      <td>-67.485840</td>\n",
       "      <td>-37.829342</td>\n",
       "      <td>-9.128765</td>\n",
       "      <td>-51.804512</td>\n",
       "      <td>58.935211</td>\n",
       "      <td>-8.892576</td>\n",
       "      <td>-15.760887</td>\n",
       "      <td>10.177029</td>\n",
       "      <td>5.072660</td>\n",
       "      <td>...</td>\n",
       "      <td>-60.274281</td>\n",
       "      <td>-0.820661</td>\n",
       "      <td>-0.406244</td>\n",
       "      <td>24.124588</td>\n",
       "      <td>-35.420895</td>\n",
       "      <td>4.064081</td>\n",
       "      <td>-17.303673</td>\n",
       "      <td>41.797432</td>\n",
       "      <td>-42.089180</td>\n",
       "      <td>BB022</td>\n",
       "    </tr>\n",
       "    <tr>\n",
       "      <th>1</th>\n",
       "      <td>-40.024433</td>\n",
       "      <td>-95.250328</td>\n",
       "      <td>-42.192551</td>\n",
       "      <td>-24.084930</td>\n",
       "      <td>-77.079323</td>\n",
       "      <td>-12.025150</td>\n",
       "      <td>-15.501102</td>\n",
       "      <td>23.396961</td>\n",
       "      <td>-16.820007</td>\n",
       "      <td>-10.302286</td>\n",
       "      <td>...</td>\n",
       "      <td>-87.619957</td>\n",
       "      <td>-13.567125</td>\n",
       "      <td>-23.401587</td>\n",
       "      <td>-8.024067</td>\n",
       "      <td>-40.295525</td>\n",
       "      <td>-13.316298</td>\n",
       "      <td>-59.617043</td>\n",
       "      <td>3.470016</td>\n",
       "      <td>-73.789963</td>\n",
       "      <td>BB022</td>\n",
       "    </tr>\n",
       "    <tr>\n",
       "      <th>2</th>\n",
       "      <td>4.597473</td>\n",
       "      <td>-31.503448</td>\n",
       "      <td>24.261417</td>\n",
       "      <td>-33.212387</td>\n",
       "      <td>-36.229469</td>\n",
       "      <td>18.378212</td>\n",
       "      <td>-62.295547</td>\n",
       "      <td>-14.799171</td>\n",
       "      <td>-23.762167</td>\n",
       "      <td>-50.631851</td>\n",
       "      <td>...</td>\n",
       "      <td>-42.960854</td>\n",
       "      <td>79.430382</td>\n",
       "      <td>-60.812157</td>\n",
       "      <td>25.384315</td>\n",
       "      <td>36.669449</td>\n",
       "      <td>-14.570815</td>\n",
       "      <td>-74.762756</td>\n",
       "      <td>10.190239</td>\n",
       "      <td>3.853316</td>\n",
       "      <td>BB022</td>\n",
       "    </tr>\n",
       "    <tr>\n",
       "      <th>3</th>\n",
       "      <td>-69.537056</td>\n",
       "      <td>-88.167351</td>\n",
       "      <td>-38.912643</td>\n",
       "      <td>-28.553596</td>\n",
       "      <td>-44.487045</td>\n",
       "      <td>-36.716045</td>\n",
       "      <td>43.535599</td>\n",
       "      <td>21.043612</td>\n",
       "      <td>-2.945155</td>\n",
       "      <td>-81.075974</td>\n",
       "      <td>...</td>\n",
       "      <td>21.426743</td>\n",
       "      <td>30.822914</td>\n",
       "      <td>-56.134010</td>\n",
       "      <td>29.063692</td>\n",
       "      <td>-13.498871</td>\n",
       "      <td>58.351696</td>\n",
       "      <td>-44.677361</td>\n",
       "      <td>-19.122536</td>\n",
       "      <td>-17.766455</td>\n",
       "      <td>BB022</td>\n",
       "    </tr>\n",
       "    <tr>\n",
       "      <th>4</th>\n",
       "      <td>-58.300331</td>\n",
       "      <td>-56.928734</td>\n",
       "      <td>48.829948</td>\n",
       "      <td>57.407642</td>\n",
       "      <td>-25.018295</td>\n",
       "      <td>-30.948965</td>\n",
       "      <td>-46.420174</td>\n",
       "      <td>19.716545</td>\n",
       "      <td>-60.264938</td>\n",
       "      <td>-6.729778</td>\n",
       "      <td>...</td>\n",
       "      <td>-13.241426</td>\n",
       "      <td>34.583488</td>\n",
       "      <td>-50.702774</td>\n",
       "      <td>13.746834</td>\n",
       "      <td>-60.041885</td>\n",
       "      <td>36.220501</td>\n",
       "      <td>21.908291</td>\n",
       "      <td>-19.559460</td>\n",
       "      <td>-75.602676</td>\n",
       "      <td>BB022</td>\n",
       "    </tr>\n",
       "    <tr>\n",
       "      <th>...</th>\n",
       "      <td>...</td>\n",
       "      <td>...</td>\n",
       "      <td>...</td>\n",
       "      <td>...</td>\n",
       "      <td>...</td>\n",
       "      <td>...</td>\n",
       "      <td>...</td>\n",
       "      <td>...</td>\n",
       "      <td>...</td>\n",
       "      <td>...</td>\n",
       "      <td>...</td>\n",
       "      <td>...</td>\n",
       "      <td>...</td>\n",
       "      <td>...</td>\n",
       "      <td>...</td>\n",
       "      <td>...</td>\n",
       "      <td>...</td>\n",
       "      <td>...</td>\n",
       "      <td>...</td>\n",
       "      <td>...</td>\n",
       "      <td>...</td>\n",
       "    </tr>\n",
       "    <tr>\n",
       "      <th>277</th>\n",
       "      <td>33.538929</td>\n",
       "      <td>-44.438747</td>\n",
       "      <td>-106.491867</td>\n",
       "      <td>-65.378723</td>\n",
       "      <td>29.767151</td>\n",
       "      <td>-43.519287</td>\n",
       "      <td>-13.560040</td>\n",
       "      <td>-9.681160</td>\n",
       "      <td>-38.563156</td>\n",
       "      <td>-3.602527</td>\n",
       "      <td>...</td>\n",
       "      <td>5.524525</td>\n",
       "      <td>34.089661</td>\n",
       "      <td>-7.352064</td>\n",
       "      <td>-18.993959</td>\n",
       "      <td>40.320835</td>\n",
       "      <td>57.431541</td>\n",
       "      <td>-17.455727</td>\n",
       "      <td>-13.301113</td>\n",
       "      <td>-20.623173</td>\n",
       "      <td>BB013</td>\n",
       "    </tr>\n",
       "    <tr>\n",
       "      <th>278</th>\n",
       "      <td>-18.915598</td>\n",
       "      <td>-49.348045</td>\n",
       "      <td>0.297806</td>\n",
       "      <td>2.940094</td>\n",
       "      <td>19.733189</td>\n",
       "      <td>-26.900269</td>\n",
       "      <td>10.687899</td>\n",
       "      <td>6.943342</td>\n",
       "      <td>4.721202</td>\n",
       "      <td>-3.530552</td>\n",
       "      <td>...</td>\n",
       "      <td>18.563042</td>\n",
       "      <td>-12.648318</td>\n",
       "      <td>-37.101151</td>\n",
       "      <td>-38.048378</td>\n",
       "      <td>-33.145611</td>\n",
       "      <td>-13.577005</td>\n",
       "      <td>-41.743767</td>\n",
       "      <td>-9.341431</td>\n",
       "      <td>69.514740</td>\n",
       "      <td>BB013</td>\n",
       "    </tr>\n",
       "    <tr>\n",
       "      <th>279</th>\n",
       "      <td>37.701382</td>\n",
       "      <td>-66.167702</td>\n",
       "      <td>3.902802</td>\n",
       "      <td>-89.714523</td>\n",
       "      <td>10.062946</td>\n",
       "      <td>55.052208</td>\n",
       "      <td>-29.008738</td>\n",
       "      <td>-35.160221</td>\n",
       "      <td>-5.282740</td>\n",
       "      <td>6.912895</td>\n",
       "      <td>...</td>\n",
       "      <td>47.874828</td>\n",
       "      <td>40.317169</td>\n",
       "      <td>-12.658104</td>\n",
       "      <td>-11.279747</td>\n",
       "      <td>-10.275951</td>\n",
       "      <td>20.313587</td>\n",
       "      <td>-87.196091</td>\n",
       "      <td>-20.242706</td>\n",
       "      <td>27.078608</td>\n",
       "      <td>BB013</td>\n",
       "    </tr>\n",
       "    <tr>\n",
       "      <th>280</th>\n",
       "      <td>-43.012554</td>\n",
       "      <td>-40.573753</td>\n",
       "      <td>-6.492107</td>\n",
       "      <td>-28.335197</td>\n",
       "      <td>14.953876</td>\n",
       "      <td>-10.177116</td>\n",
       "      <td>-27.849380</td>\n",
       "      <td>23.035198</td>\n",
       "      <td>7.829312</td>\n",
       "      <td>-55.054291</td>\n",
       "      <td>...</td>\n",
       "      <td>-52.515553</td>\n",
       "      <td>-22.686626</td>\n",
       "      <td>-60.317127</td>\n",
       "      <td>22.572422</td>\n",
       "      <td>19.650291</td>\n",
       "      <td>6.637623</td>\n",
       "      <td>-127.648521</td>\n",
       "      <td>-124.431931</td>\n",
       "      <td>2.610559</td>\n",
       "      <td>BB013</td>\n",
       "    </tr>\n",
       "    <tr>\n",
       "      <th>281</th>\n",
       "      <td>-20.754976</td>\n",
       "      <td>48.157684</td>\n",
       "      <td>-17.464283</td>\n",
       "      <td>10.673748</td>\n",
       "      <td>42.830631</td>\n",
       "      <td>44.684334</td>\n",
       "      <td>-16.952610</td>\n",
       "      <td>-23.940592</td>\n",
       "      <td>-33.648232</td>\n",
       "      <td>-31.610703</td>\n",
       "      <td>...</td>\n",
       "      <td>-2.225882</td>\n",
       "      <td>-68.817680</td>\n",
       "      <td>-3.064552</td>\n",
       "      <td>-25.455742</td>\n",
       "      <td>34.627342</td>\n",
       "      <td>0.774068</td>\n",
       "      <td>-31.594612</td>\n",
       "      <td>-3.303520</td>\n",
       "      <td>36.576595</td>\n",
       "      <td>BB013</td>\n",
       "    </tr>\n",
       "  </tbody>\n",
       "</table>\n",
       "<p>282 rows × 513 columns</p>\n",
       "</div>"
      ],
      "text/plain": [
       "             0          1           2          3          4          5  \\\n",
       "0    -4.406202 -67.485840  -37.829342  -9.128765 -51.804512  58.935211   \n",
       "1   -40.024433 -95.250328  -42.192551 -24.084930 -77.079323 -12.025150   \n",
       "2     4.597473 -31.503448   24.261417 -33.212387 -36.229469  18.378212   \n",
       "3   -69.537056 -88.167351  -38.912643 -28.553596 -44.487045 -36.716045   \n",
       "4   -58.300331 -56.928734   48.829948  57.407642 -25.018295 -30.948965   \n",
       "..         ...        ...         ...        ...        ...        ...   \n",
       "277  33.538929 -44.438747 -106.491867 -65.378723  29.767151 -43.519287   \n",
       "278 -18.915598 -49.348045    0.297806   2.940094  19.733189 -26.900269   \n",
       "279  37.701382 -66.167702    3.902802 -89.714523  10.062946  55.052208   \n",
       "280 -43.012554 -40.573753   -6.492107 -28.335197  14.953876 -10.177116   \n",
       "281 -20.754976  48.157684  -17.464283  10.673748  42.830631  44.684334   \n",
       "\n",
       "             6          7          8          9  ...        503        504  \\\n",
       "0    -8.892576 -15.760887  10.177029   5.072660  ... -60.274281  -0.820661   \n",
       "1   -15.501102  23.396961 -16.820007 -10.302286  ... -87.619957 -13.567125   \n",
       "2   -62.295547 -14.799171 -23.762167 -50.631851  ... -42.960854  79.430382   \n",
       "3    43.535599  21.043612  -2.945155 -81.075974  ...  21.426743  30.822914   \n",
       "4   -46.420174  19.716545 -60.264938  -6.729778  ... -13.241426  34.583488   \n",
       "..         ...        ...        ...        ...  ...        ...        ...   \n",
       "277 -13.560040  -9.681160 -38.563156  -3.602527  ...   5.524525  34.089661   \n",
       "278  10.687899   6.943342   4.721202  -3.530552  ...  18.563042 -12.648318   \n",
       "279 -29.008738 -35.160221  -5.282740   6.912895  ...  47.874828  40.317169   \n",
       "280 -27.849380  23.035198   7.829312 -55.054291  ... -52.515553 -22.686626   \n",
       "281 -16.952610 -23.940592 -33.648232 -31.610703  ...  -2.225882 -68.817680   \n",
       "\n",
       "           505        506        507        508         509         510  \\\n",
       "0    -0.406244  24.124588 -35.420895   4.064081  -17.303673   41.797432   \n",
       "1   -23.401587  -8.024067 -40.295525 -13.316298  -59.617043    3.470016   \n",
       "2   -60.812157  25.384315  36.669449 -14.570815  -74.762756   10.190239   \n",
       "3   -56.134010  29.063692 -13.498871  58.351696  -44.677361  -19.122536   \n",
       "4   -50.702774  13.746834 -60.041885  36.220501   21.908291  -19.559460   \n",
       "..         ...        ...        ...        ...         ...         ...   \n",
       "277  -7.352064 -18.993959  40.320835  57.431541  -17.455727  -13.301113   \n",
       "278 -37.101151 -38.048378 -33.145611 -13.577005  -41.743767   -9.341431   \n",
       "279 -12.658104 -11.279747 -10.275951  20.313587  -87.196091  -20.242706   \n",
       "280 -60.317127  22.572422  19.650291   6.637623 -127.648521 -124.431931   \n",
       "281  -3.064552 -25.455742  34.627342   0.774068  -31.594612   -3.303520   \n",
       "\n",
       "           511  part_id  \n",
       "0   -42.089180    BB022  \n",
       "1   -73.789963    BB022  \n",
       "2     3.853316    BB022  \n",
       "3   -17.766455    BB022  \n",
       "4   -75.602676    BB022  \n",
       "..         ...      ...  \n",
       "277 -20.623173    BB013  \n",
       "278  69.514740    BB013  \n",
       "279  27.078608    BB013  \n",
       "280   2.610559    BB013  \n",
       "281  36.576595    BB013  \n",
       "\n",
       "[282 rows x 513 columns]"
      ]
     },
     "execution_count": 140,
     "metadata": {},
     "output_type": "execute_result"
    }
   ],
   "source": [
    "pyannote_emb = ee.pyannote_extract_directory(all_files, diarized,emb_dir,save_name,window_type=\"sliding\",save=True)\n",
    "pyannote_emb"
   ]
  },
  {
   "cell_type": "code",
   "execution_count": 141,
   "id": "2a339ee7-4eb8-461c-8a13-3a9ef330ef9d",
   "metadata": {},
   "outputs": [
    {
     "data": {
      "text/plain": [
       "12"
      ]
     },
     "execution_count": 141,
     "metadata": {},
     "output_type": "execute_result"
    }
   ],
   "source": [
    "len(all_files)"
   ]
  },
  {
   "cell_type": "code",
   "execution_count": 142,
   "id": "882ddb42-9d04-4bf6-9e08-02c8f68325c9",
   "metadata": {},
   "outputs": [
    {
     "data": {
      "text/plain": [
       "(282, 513)"
      ]
     },
     "execution_count": 142,
     "metadata": {},
     "output_type": "execute_result"
    }
   ],
   "source": [
    "emb = pd.read_csv(os.path.join(emb_dir,save_name), index_col=0)\n",
    "emb.shape"
   ]
  },
  {
   "cell_type": "code",
   "execution_count": 145,
   "id": "704e651b-1984-4fa9-9de0-fa0b9abb0242",
   "metadata": {},
   "outputs": [
    {
     "data": {
      "text/plain": [
       "0      BB022\n",
       "1      BB022\n",
       "2      BB022\n",
       "3      BB022\n",
       "4      BB022\n",
       "       ...  \n",
       "277    BB013\n",
       "278    BB013\n",
       "279    BB013\n",
       "280    BB013\n",
       "281    BB013\n",
       "Name: part_id, Length: 282, dtype: object"
      ]
     },
     "execution_count": 145,
     "metadata": {},
     "output_type": "execute_result"
    }
   ],
   "source": [
    "emb.part_id"
   ]
  },
  {
   "cell_type": "code",
   "execution_count": 146,
   "id": "dc845777-5b7d-4b8e-8ef0-16f64bb20c68",
   "metadata": {},
   "outputs": [
    {
     "data": {
      "text/html": [
       "<div>\n",
       "<style scoped>\n",
       "    .dataframe tbody tr th:only-of-type {\n",
       "        vertical-align: middle;\n",
       "    }\n",
       "\n",
       "    .dataframe tbody tr th {\n",
       "        vertical-align: top;\n",
       "    }\n",
       "\n",
       "    .dataframe thead th {\n",
       "        text-align: right;\n",
       "    }\n",
       "</style>\n",
       "<table border=\"1\" class=\"dataframe\">\n",
       "  <thead>\n",
       "    <tr style=\"text-align: right;\">\n",
       "      <th></th>\n",
       "      <th>0</th>\n",
       "      <th>1</th>\n",
       "      <th>2</th>\n",
       "      <th>3</th>\n",
       "      <th>4</th>\n",
       "      <th>5</th>\n",
       "      <th>6</th>\n",
       "      <th>7</th>\n",
       "      <th>8</th>\n",
       "      <th>9</th>\n",
       "      <th>...</th>\n",
       "      <th>503</th>\n",
       "      <th>504</th>\n",
       "      <th>505</th>\n",
       "      <th>506</th>\n",
       "      <th>507</th>\n",
       "      <th>508</th>\n",
       "      <th>509</th>\n",
       "      <th>510</th>\n",
       "      <th>511</th>\n",
       "      <th>part_id</th>\n",
       "    </tr>\n",
       "  </thead>\n",
       "  <tbody>\n",
       "    <tr>\n",
       "      <th>0</th>\n",
       "      <td>-4.406202</td>\n",
       "      <td>-67.485840</td>\n",
       "      <td>-37.829342</td>\n",
       "      <td>-9.128765</td>\n",
       "      <td>-51.804512</td>\n",
       "      <td>58.935211</td>\n",
       "      <td>-8.892576</td>\n",
       "      <td>-15.760887</td>\n",
       "      <td>10.177029</td>\n",
       "      <td>5.072660</td>\n",
       "      <td>...</td>\n",
       "      <td>-60.274281</td>\n",
       "      <td>-0.820661</td>\n",
       "      <td>-0.406244</td>\n",
       "      <td>24.124588</td>\n",
       "      <td>-35.420895</td>\n",
       "      <td>4.064081</td>\n",
       "      <td>-17.303673</td>\n",
       "      <td>41.797432</td>\n",
       "      <td>-42.089180</td>\n",
       "      <td>BB022</td>\n",
       "    </tr>\n",
       "    <tr>\n",
       "      <th>1</th>\n",
       "      <td>-40.024433</td>\n",
       "      <td>-95.250328</td>\n",
       "      <td>-42.192551</td>\n",
       "      <td>-24.084930</td>\n",
       "      <td>-77.079323</td>\n",
       "      <td>-12.025150</td>\n",
       "      <td>-15.501102</td>\n",
       "      <td>23.396961</td>\n",
       "      <td>-16.820007</td>\n",
       "      <td>-10.302286</td>\n",
       "      <td>...</td>\n",
       "      <td>-87.619957</td>\n",
       "      <td>-13.567125</td>\n",
       "      <td>-23.401587</td>\n",
       "      <td>-8.024067</td>\n",
       "      <td>-40.295525</td>\n",
       "      <td>-13.316298</td>\n",
       "      <td>-59.617043</td>\n",
       "      <td>3.470016</td>\n",
       "      <td>-73.789963</td>\n",
       "      <td>BB022</td>\n",
       "    </tr>\n",
       "    <tr>\n",
       "      <th>2</th>\n",
       "      <td>4.597473</td>\n",
       "      <td>-31.503448</td>\n",
       "      <td>24.261417</td>\n",
       "      <td>-33.212387</td>\n",
       "      <td>-36.229469</td>\n",
       "      <td>18.378212</td>\n",
       "      <td>-62.295547</td>\n",
       "      <td>-14.799171</td>\n",
       "      <td>-23.762167</td>\n",
       "      <td>-50.631851</td>\n",
       "      <td>...</td>\n",
       "      <td>-42.960854</td>\n",
       "      <td>79.430382</td>\n",
       "      <td>-60.812157</td>\n",
       "      <td>25.384315</td>\n",
       "      <td>36.669449</td>\n",
       "      <td>-14.570815</td>\n",
       "      <td>-74.762756</td>\n",
       "      <td>10.190239</td>\n",
       "      <td>3.853316</td>\n",
       "      <td>BB022</td>\n",
       "    </tr>\n",
       "    <tr>\n",
       "      <th>3</th>\n",
       "      <td>-69.537056</td>\n",
       "      <td>-88.167351</td>\n",
       "      <td>-38.912643</td>\n",
       "      <td>-28.553596</td>\n",
       "      <td>-44.487045</td>\n",
       "      <td>-36.716045</td>\n",
       "      <td>43.535599</td>\n",
       "      <td>21.043612</td>\n",
       "      <td>-2.945155</td>\n",
       "      <td>-81.075974</td>\n",
       "      <td>...</td>\n",
       "      <td>21.426743</td>\n",
       "      <td>30.822914</td>\n",
       "      <td>-56.134010</td>\n",
       "      <td>29.063692</td>\n",
       "      <td>-13.498871</td>\n",
       "      <td>58.351696</td>\n",
       "      <td>-44.677361</td>\n",
       "      <td>-19.122536</td>\n",
       "      <td>-17.766455</td>\n",
       "      <td>BB022</td>\n",
       "    </tr>\n",
       "    <tr>\n",
       "      <th>4</th>\n",
       "      <td>-58.300331</td>\n",
       "      <td>-56.928734</td>\n",
       "      <td>48.829948</td>\n",
       "      <td>57.407642</td>\n",
       "      <td>-25.018295</td>\n",
       "      <td>-30.948965</td>\n",
       "      <td>-46.420174</td>\n",
       "      <td>19.716545</td>\n",
       "      <td>-60.264938</td>\n",
       "      <td>-6.729778</td>\n",
       "      <td>...</td>\n",
       "      <td>-13.241426</td>\n",
       "      <td>34.583488</td>\n",
       "      <td>-50.702774</td>\n",
       "      <td>13.746834</td>\n",
       "      <td>-60.041885</td>\n",
       "      <td>36.220501</td>\n",
       "      <td>21.908291</td>\n",
       "      <td>-19.559460</td>\n",
       "      <td>-75.602676</td>\n",
       "      <td>BB022</td>\n",
       "    </tr>\n",
       "    <tr>\n",
       "      <th>...</th>\n",
       "      <td>...</td>\n",
       "      <td>...</td>\n",
       "      <td>...</td>\n",
       "      <td>...</td>\n",
       "      <td>...</td>\n",
       "      <td>...</td>\n",
       "      <td>...</td>\n",
       "      <td>...</td>\n",
       "      <td>...</td>\n",
       "      <td>...</td>\n",
       "      <td>...</td>\n",
       "      <td>...</td>\n",
       "      <td>...</td>\n",
       "      <td>...</td>\n",
       "      <td>...</td>\n",
       "      <td>...</td>\n",
       "      <td>...</td>\n",
       "      <td>...</td>\n",
       "      <td>...</td>\n",
       "      <td>...</td>\n",
       "      <td>...</td>\n",
       "    </tr>\n",
       "    <tr>\n",
       "      <th>277</th>\n",
       "      <td>33.538929</td>\n",
       "      <td>-44.438747</td>\n",
       "      <td>-106.491867</td>\n",
       "      <td>-65.378723</td>\n",
       "      <td>29.767151</td>\n",
       "      <td>-43.519287</td>\n",
       "      <td>-13.560040</td>\n",
       "      <td>-9.681160</td>\n",
       "      <td>-38.563156</td>\n",
       "      <td>-3.602527</td>\n",
       "      <td>...</td>\n",
       "      <td>5.524525</td>\n",
       "      <td>34.089661</td>\n",
       "      <td>-7.352064</td>\n",
       "      <td>-18.993959</td>\n",
       "      <td>40.320835</td>\n",
       "      <td>57.431541</td>\n",
       "      <td>-17.455727</td>\n",
       "      <td>-13.301113</td>\n",
       "      <td>-20.623173</td>\n",
       "      <td>BB013</td>\n",
       "    </tr>\n",
       "    <tr>\n",
       "      <th>278</th>\n",
       "      <td>-18.915598</td>\n",
       "      <td>-49.348045</td>\n",
       "      <td>0.297806</td>\n",
       "      <td>2.940094</td>\n",
       "      <td>19.733189</td>\n",
       "      <td>-26.900269</td>\n",
       "      <td>10.687899</td>\n",
       "      <td>6.943342</td>\n",
       "      <td>4.721202</td>\n",
       "      <td>-3.530552</td>\n",
       "      <td>...</td>\n",
       "      <td>18.563042</td>\n",
       "      <td>-12.648318</td>\n",
       "      <td>-37.101151</td>\n",
       "      <td>-38.048378</td>\n",
       "      <td>-33.145611</td>\n",
       "      <td>-13.577005</td>\n",
       "      <td>-41.743767</td>\n",
       "      <td>-9.341431</td>\n",
       "      <td>69.514740</td>\n",
       "      <td>BB013</td>\n",
       "    </tr>\n",
       "    <tr>\n",
       "      <th>279</th>\n",
       "      <td>37.701382</td>\n",
       "      <td>-66.167702</td>\n",
       "      <td>3.902802</td>\n",
       "      <td>-89.714523</td>\n",
       "      <td>10.062946</td>\n",
       "      <td>55.052208</td>\n",
       "      <td>-29.008738</td>\n",
       "      <td>-35.160221</td>\n",
       "      <td>-5.282740</td>\n",
       "      <td>6.912895</td>\n",
       "      <td>...</td>\n",
       "      <td>47.874828</td>\n",
       "      <td>40.317169</td>\n",
       "      <td>-12.658104</td>\n",
       "      <td>-11.279747</td>\n",
       "      <td>-10.275951</td>\n",
       "      <td>20.313587</td>\n",
       "      <td>-87.196091</td>\n",
       "      <td>-20.242706</td>\n",
       "      <td>27.078608</td>\n",
       "      <td>BB013</td>\n",
       "    </tr>\n",
       "    <tr>\n",
       "      <th>280</th>\n",
       "      <td>-43.012554</td>\n",
       "      <td>-40.573753</td>\n",
       "      <td>-6.492107</td>\n",
       "      <td>-28.335197</td>\n",
       "      <td>14.953876</td>\n",
       "      <td>-10.177116</td>\n",
       "      <td>-27.849380</td>\n",
       "      <td>23.035198</td>\n",
       "      <td>7.829312</td>\n",
       "      <td>-55.054291</td>\n",
       "      <td>...</td>\n",
       "      <td>-52.515553</td>\n",
       "      <td>-22.686626</td>\n",
       "      <td>-60.317127</td>\n",
       "      <td>22.572422</td>\n",
       "      <td>19.650291</td>\n",
       "      <td>6.637623</td>\n",
       "      <td>-127.648521</td>\n",
       "      <td>-124.431931</td>\n",
       "      <td>2.610559</td>\n",
       "      <td>BB013</td>\n",
       "    </tr>\n",
       "    <tr>\n",
       "      <th>281</th>\n",
       "      <td>-20.754976</td>\n",
       "      <td>48.157684</td>\n",
       "      <td>-17.464283</td>\n",
       "      <td>10.673748</td>\n",
       "      <td>42.830631</td>\n",
       "      <td>44.684334</td>\n",
       "      <td>-16.952610</td>\n",
       "      <td>-23.940592</td>\n",
       "      <td>-33.648232</td>\n",
       "      <td>-31.610703</td>\n",
       "      <td>...</td>\n",
       "      <td>-2.225882</td>\n",
       "      <td>-68.817680</td>\n",
       "      <td>-3.064552</td>\n",
       "      <td>-25.455742</td>\n",
       "      <td>34.627342</td>\n",
       "      <td>0.774068</td>\n",
       "      <td>-31.594612</td>\n",
       "      <td>-3.303520</td>\n",
       "      <td>36.576595</td>\n",
       "      <td>BB013</td>\n",
       "    </tr>\n",
       "  </tbody>\n",
       "</table>\n",
       "<p>282 rows × 513 columns</p>\n",
       "</div>"
      ],
      "text/plain": [
       "             0          1           2          3          4          5  \\\n",
       "0    -4.406202 -67.485840  -37.829342  -9.128765 -51.804512  58.935211   \n",
       "1   -40.024433 -95.250328  -42.192551 -24.084930 -77.079323 -12.025150   \n",
       "2     4.597473 -31.503448   24.261417 -33.212387 -36.229469  18.378212   \n",
       "3   -69.537056 -88.167351  -38.912643 -28.553596 -44.487045 -36.716045   \n",
       "4   -58.300331 -56.928734   48.829948  57.407642 -25.018295 -30.948965   \n",
       "..         ...        ...         ...        ...        ...        ...   \n",
       "277  33.538929 -44.438747 -106.491867 -65.378723  29.767151 -43.519287   \n",
       "278 -18.915598 -49.348045    0.297806   2.940094  19.733189 -26.900269   \n",
       "279  37.701382 -66.167702    3.902802 -89.714523  10.062946  55.052208   \n",
       "280 -43.012554 -40.573753   -6.492107 -28.335197  14.953876 -10.177116   \n",
       "281 -20.754976  48.157684  -17.464283  10.673748  42.830631  44.684334   \n",
       "\n",
       "             6          7          8          9  ...        503        504  \\\n",
       "0    -8.892576 -15.760887  10.177029   5.072660  ... -60.274281  -0.820661   \n",
       "1   -15.501102  23.396961 -16.820007 -10.302286  ... -87.619957 -13.567125   \n",
       "2   -62.295547 -14.799171 -23.762167 -50.631851  ... -42.960854  79.430382   \n",
       "3    43.535599  21.043612  -2.945155 -81.075974  ...  21.426743  30.822914   \n",
       "4   -46.420174  19.716545 -60.264938  -6.729778  ... -13.241426  34.583488   \n",
       "..         ...        ...        ...        ...  ...        ...        ...   \n",
       "277 -13.560040  -9.681160 -38.563156  -3.602527  ...   5.524525  34.089661   \n",
       "278  10.687899   6.943342   4.721202  -3.530552  ...  18.563042 -12.648318   \n",
       "279 -29.008738 -35.160221  -5.282740   6.912895  ...  47.874828  40.317169   \n",
       "280 -27.849380  23.035198   7.829312 -55.054291  ... -52.515553 -22.686626   \n",
       "281 -16.952610 -23.940592 -33.648232 -31.610703  ...  -2.225882 -68.817680   \n",
       "\n",
       "           505        506        507        508         509         510  \\\n",
       "0    -0.406244  24.124588 -35.420895   4.064081  -17.303673   41.797432   \n",
       "1   -23.401587  -8.024067 -40.295525 -13.316298  -59.617043    3.470016   \n",
       "2   -60.812157  25.384315  36.669449 -14.570815  -74.762756   10.190239   \n",
       "3   -56.134010  29.063692 -13.498871  58.351696  -44.677361  -19.122536   \n",
       "4   -50.702774  13.746834 -60.041885  36.220501   21.908291  -19.559460   \n",
       "..         ...        ...        ...        ...         ...         ...   \n",
       "277  -7.352064 -18.993959  40.320835  57.431541  -17.455727  -13.301113   \n",
       "278 -37.101151 -38.048378 -33.145611 -13.577005  -41.743767   -9.341431   \n",
       "279 -12.658104 -11.279747 -10.275951  20.313587  -87.196091  -20.242706   \n",
       "280 -60.317127  22.572422  19.650291   6.637623 -127.648521 -124.431931   \n",
       "281  -3.064552 -25.455742  34.627342   0.774068  -31.594612   -3.303520   \n",
       "\n",
       "           511  part_id  \n",
       "0   -42.089180    BB022  \n",
       "1   -73.789963    BB022  \n",
       "2     3.853316    BB022  \n",
       "3   -17.766455    BB022  \n",
       "4   -75.602676    BB022  \n",
       "..         ...      ...  \n",
       "277 -20.623173    BB013  \n",
       "278  69.514740    BB013  \n",
       "279  27.078608    BB013  \n",
       "280   2.610559    BB013  \n",
       "281  36.576595    BB013  \n",
       "\n",
       "[282 rows x 513 columns]"
      ]
     },
     "execution_count": 146,
     "metadata": {},
     "output_type": "execute_result"
    }
   ],
   "source": [
    "emb"
   ]
  },
  {
   "cell_type": "code",
   "execution_count": null,
   "id": "48081423-fb06-4051-8ca3-9e9bba993bd9",
   "metadata": {},
   "outputs": [],
   "source": []
  }
 ],
 "metadata": {
  "kernelspec": {
   "display_name": "infantvoice",
   "language": "python",
   "name": "infantvoice"
  },
  "language_info": {
   "codemirror_mode": {
    "name": "ipython",
    "version": 3
   },
   "file_extension": ".py",
   "mimetype": "text/x-python",
   "name": "python",
   "nbconvert_exporter": "python",
   "pygments_lexer": "ipython3",
   "version": "3.9.7"
  }
 },
 "nbformat": 4,
 "nbformat_minor": 5
}
