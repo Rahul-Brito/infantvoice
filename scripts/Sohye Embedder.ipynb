{
 "cells": [
  {
   "cell_type": "code",
   "execution_count": 25,
   "id": "0cbb8d80-de64-4451-beaa-90133d714aa4",
   "metadata": {},
   "outputs": [
    {
     "name": "stdout",
     "output_type": "stream",
     "text": [
      "The autoreload extension is already loaded. To reload it, use:\n",
      "  %reload_ext autoreload\n"
     ]
    }
   ],
   "source": [
    "%load_ext autoreload\n",
    "%autoreload 2\n",
    "\n",
    "import numpy as np\n",
    "import pandas as pd\n",
    "from random import seed, shuffle\n",
    "import os\n",
    "import glob as glob\n",
    "from pathlib import Path\n",
    "from datetime import datetime\n",
    "\n",
    "from pyannote.audio import Pipeline\n",
    "from pyannote.core import json\n",
    "\n",
    "import moviepy.editor as mp\n",
    "\n",
    "from matplotlib import pyplot as plt, lines\n",
    "import seaborn as sns\n",
    "\n",
    "from sklearn.cluster import KMeans, SpectralClustering\n",
    "from sklearn.preprocessing import StandardScaler\n",
    "\n",
    "from scipy import stats\n",
    "from scipy.spatial.distance import directed_hausdorff, euclidean, cosine, pdist\n",
    "\n",
    "from src import (\n",
    "    downsample as downsamp_audio, \n",
    "    embedding_extractor as ee, \n",
    "    dimension_reducer as dr, \n",
    "    distance_metrics as dm, \n",
    "    downsample as ds,\n",
    "    emb_manipulator as em\n",
    ")\n",
    "\n",
    "from IPython.display import clear_output\n",
    "import warnings\n",
    "warnings.filterwarnings('ignore')"
   ]
  },
  {
   "cell_type": "code",
   "execution_count": 26,
   "id": "d8f370f8-d7b0-4594-9c9a-7a2573133983",
   "metadata": {},
   "outputs": [
    {
     "name": "stdout",
     "output_type": "stream",
     "text": [
      "BB005_BookReading.mp4 BB013_BookReading.mp4 BB020_BookReading.mp4\n",
      "BB006_BookReading.mp4 BB014_BookReading.mp4 BB021_BookReading.mp4\n",
      "BB008_BookReading.mp4 BB016_BookReading.mov BB022_BookReading.mov\n",
      "BB012_BookReading.mov BB019_BookReading.mp4 BB038_BookReading.mp4\n"
     ]
    }
   ],
   "source": [
    "##Downsample audio to 16kHz\n",
    "root_dir= \"/Users/rahulbrito/Documents/projects/infantvoice/data/Full_Readings/080222_new_participants\"\n",
    "!ls $root_dir/video"
   ]
  },
  {
   "cell_type": "code",
   "execution_count": 14,
   "id": "f48455d7-6ea5-499b-90e9-77a3a0956fba",
   "metadata": {},
   "outputs": [
    {
     "name": "stdout",
     "output_type": "stream",
     "text": [
      "MoviePy - Writing audio in /Users/rahulbrito/Documents/projects/infantvoice/data/Full_Readings/080222_new_participants/audio/BB006.wav\n"
     ]
    },
    {
     "name": "stderr",
     "output_type": "stream",
     "text": [
      "                                                                                    \r"
     ]
    },
    {
     "name": "stdout",
     "output_type": "stream",
     "text": [
      "MoviePy - Done.\n",
      "MoviePy - Writing audio in /Users/rahulbrito/Documents/projects/infantvoice/data/Full_Readings/080222_new_participants/audio/BB016.wav\n"
     ]
    },
    {
     "name": "stderr",
     "output_type": "stream",
     "text": [
      "                                                                                    \r"
     ]
    },
    {
     "name": "stdout",
     "output_type": "stream",
     "text": [
      "MoviePy - Done.\n",
      "MoviePy - Writing audio in /Users/rahulbrito/Documents/projects/infantvoice/data/Full_Readings/080222_new_participants/audio/BB022.wav\n"
     ]
    },
    {
     "name": "stderr",
     "output_type": "stream",
     "text": [
      "                                                                                    \r"
     ]
    },
    {
     "name": "stdout",
     "output_type": "stream",
     "text": [
      "MoviePy - Done.\n",
      "MoviePy - Writing audio in /Users/rahulbrito/Documents/projects/infantvoice/data/Full_Readings/080222_new_participants/audio/BB019.wav\n"
     ]
    },
    {
     "name": "stderr",
     "output_type": "stream",
     "text": [
      "                                                                                    \r"
     ]
    },
    {
     "name": "stdout",
     "output_type": "stream",
     "text": [
      "MoviePy - Done.\n",
      "MoviePy - Writing audio in /Users/rahulbrito/Documents/projects/infantvoice/data/Full_Readings/080222_new_participants/audio/BB008.wav\n"
     ]
    },
    {
     "name": "stderr",
     "output_type": "stream",
     "text": [
      "                                                                                    \r"
     ]
    },
    {
     "name": "stdout",
     "output_type": "stream",
     "text": [
      "MoviePy - Done.\n",
      "MoviePy - Writing audio in /Users/rahulbrito/Documents/projects/infantvoice/data/Full_Readings/080222_new_participants/audio/BB012.wav\n"
     ]
    },
    {
     "name": "stderr",
     "output_type": "stream",
     "text": [
      "                                                                                    \r"
     ]
    },
    {
     "name": "stdout",
     "output_type": "stream",
     "text": [
      "MoviePy - Done.\n",
      "MoviePy - Writing audio in /Users/rahulbrito/Documents/projects/infantvoice/data/Full_Readings/080222_new_participants/audio/BB014.wav\n"
     ]
    },
    {
     "name": "stderr",
     "output_type": "stream",
     "text": [
      "                                                                                    \r"
     ]
    },
    {
     "name": "stdout",
     "output_type": "stream",
     "text": [
      "MoviePy - Done.\n",
      "MoviePy - Writing audio in /Users/rahulbrito/Documents/projects/infantvoice/data/Full_Readings/080222_new_participants/audio/BB005.wav\n"
     ]
    },
    {
     "name": "stderr",
     "output_type": "stream",
     "text": [
      "                                                                                    \r"
     ]
    },
    {
     "name": "stdout",
     "output_type": "stream",
     "text": [
      "MoviePy - Done.\n",
      "MoviePy - Writing audio in /Users/rahulbrito/Documents/projects/infantvoice/data/Full_Readings/080222_new_participants/audio/BB038.wav\n"
     ]
    },
    {
     "name": "stderr",
     "output_type": "stream",
     "text": [
      "                                                                                    \r"
     ]
    },
    {
     "name": "stdout",
     "output_type": "stream",
     "text": [
      "MoviePy - Done.\n",
      "MoviePy - Writing audio in /Users/rahulbrito/Documents/projects/infantvoice/data/Full_Readings/080222_new_participants/audio/BB021.wav\n"
     ]
    },
    {
     "name": "stderr",
     "output_type": "stream",
     "text": [
      "                                                                                    \r"
     ]
    },
    {
     "name": "stdout",
     "output_type": "stream",
     "text": [
      "MoviePy - Done.\n",
      "MoviePy - Writing audio in /Users/rahulbrito/Documents/projects/infantvoice/data/Full_Readings/080222_new_participants/audio/BB013.wav\n"
     ]
    },
    {
     "name": "stderr",
     "output_type": "stream",
     "text": [
      "                                                                                    \r"
     ]
    },
    {
     "name": "stdout",
     "output_type": "stream",
     "text": [
      "MoviePy - Done.\n",
      "MoviePy - Writing audio in /Users/rahulbrito/Documents/projects/infantvoice/data/Full_Readings/080222_new_participants/audio/BB020.wav\n"
     ]
    },
    {
     "name": "stderr",
     "output_type": "stream",
     "text": [
      "                                                                                    "
     ]
    },
    {
     "name": "stdout",
     "output_type": "stream",
     "text": [
      "MoviePy - Done.\n"
     ]
    },
    {
     "name": "stderr",
     "output_type": "stream",
     "text": [
      "\r"
     ]
    },
    {
     "data": {
      "text/plain": [
       "[None, None, None, None, None, None, None, None, None, None, None, None]"
      ]
     },
     "execution_count": 14,
     "metadata": {},
     "output_type": "execute_result"
    }
   ],
   "source": [
    "# extract audio from video files\n",
    "vid_files = glob.glob(root_dir + '/video/*', recursive=True)\n",
    "{Path(vid).stem.split(\"_\")[0]:\n",
    "           vid for vid in vid_files}\n",
    "\n",
    "my_clip = {Path(vid).stem.split(\"_\")[0]:\n",
    "           mp.VideoFileClip(vid) for vid in vid_files}\n",
    "\n",
    "aud_files = os.path.join(root_dir,'audio')\n",
    "  \n",
    "if not os.path.exists(aud_files):\n",
    "    os.mkdir(aud_files)\n",
    "    \n",
    "[mov.audio.write_audiofile(os.path.join(aud_files,part + '.wav')) for part,mov in my_clip.items()]"
   ]
  },
  {
   "cell_type": "code",
   "execution_count": 15,
   "id": "d9d89174-ee8f-4541-b3f1-66c4d699ae80",
   "metadata": {},
   "outputs": [
    {
     "data": {
      "text/plain": [
       "'/Users/rahulbrito/Documents/projects/infantvoice/data/Full_Readings/080222_new_participants/audio_16kz'"
      ]
     },
     "execution_count": 15,
     "metadata": {},
     "output_type": "execute_result"
    }
   ],
   "source": [
    "#make a folder with today's date for the downsampled audio\n",
    "down_sample_dir = os.path.join(root_dir,\"audio_16kz\")\n",
    "\n",
    "if not os.path.exists(down_sample_dir):\n",
    "    os.mkdir(down_sample_dir)\n",
    "\n",
    "down_sample_dir"
   ]
  },
  {
   "cell_type": "code",
   "execution_count": 16,
   "id": "be5355f5-5824-4607-858a-05b97c22e061",
   "metadata": {
    "tags": []
   },
   "outputs": [
    {
     "name": "stdout",
     "output_type": "stream",
     "text": [
      "processingBB013.wav\n"
     ]
    }
   ],
   "source": [
    "ds.downsamp_audio(aud_files, down_sample_dir)"
   ]
  },
  {
   "cell_type": "code",
   "execution_count": 30,
   "id": "7d1a0c9d-8ff5-4972-a7fd-ed7c43314e1a",
   "metadata": {},
   "outputs": [
    {
     "data": {
      "text/plain": [
       "'/Users/rahulbrito/Documents/projects/infantvoice/data/Full_Readings/080222_new_participants/diarized'"
      ]
     },
     "execution_count": 30,
     "metadata": {},
     "output_type": "execute_result"
    }
   ],
   "source": [
    "##Diarize audio to find when mother is speaking and visualize it to choose label\n",
    "\n",
    "diar_dir = os.path.join(root_dir,'diarized')\n",
    "  \n",
    "if not os.path.exists(diar_dir):\n",
    "    os.mkdir(diar_dir)\n",
    "\n",
    "diar_dir"
   ]
  },
  {
   "cell_type": "code",
   "execution_count": 19,
   "id": "bcb929c5-fbb9-44b4-821d-8a0d711eefde",
   "metadata": {},
   "outputs": [],
   "source": [
    "## Runs speaker diariztion, but should run on openmind\n",
    "\n",
    "#pipeline = Pipeline.from_pretrained(\"pyannote/speaker-diarization@2022.07\")\n",
    "\n",
    "#for file in os.listdir(down_sample_dir):\n",
    "#    if file.endswith('wav'):\n",
    "#        diar = pipeline(os.path.join(down_sample_dir,file))\n",
    "#        json.dump_to(diar, os.path.join(diar_dir, os.path.splitext(file)[0]+'.json'))"
   ]
  },
  {
   "cell_type": "code",
   "execution_count": 31,
   "id": "db1ce740-7047-47cd-90df-4d500280f293",
   "metadata": {},
   "outputs": [],
   "source": [
    "diarized_raw = {os.path.splitext(file)[0]:\n",
    "            json.load_from(os.path.join(diar_dir,file)) for file in os.listdir(diar_dir)}"
   ]
  },
  {
   "cell_type": "code",
   "execution_count": 32,
   "id": "0fa16ed9-d609-4f9f-ae2d-2eada7dd30bd",
   "metadata": {},
   "outputs": [
    {
     "data": {
      "text/plain": [
       "dict_keys(['BB019', 'BB038', 'BB014', 'BB022', 'BB013', 'BB005', 'BB008', 'BB012', 'BB006', 'BB021', 'BB016', 'BB020'])"
      ]
     },
     "execution_count": 32,
     "metadata": {},
     "output_type": "execute_result"
    }
   ],
   "source": [
    "diarized_raw.keys()"
   ]
  },
  {
   "cell_type": "code",
   "execution_count": 34,
   "id": "8c380a77-e471-49a3-888b-ccef2a1aa134",
   "metadata": {},
   "outputs": [
    {
     "data": {
      "image/png": "[encoded data removed]",
      "text/plain": [
       "<pyannote.core.annotation.Annotation at 0x7fe92291e0d0>"
      ]
     },
     "execution_count": 34,
     "metadata": {},
     "output_type": "execute_result"
    }
   ],
   "source": [
    "diarized_raw['BB019']"
   ]
  },
  {
   "cell_type": "code",
   "execution_count": 56,
   "id": "b4b25bab-d3d7-4448-b29d-7cae3feeb80c",
   "metadata": {},
   "outputs": [
    {
     "ename": "SyntaxError",
     "evalue": "cannot assign to function call (521603340.py, line 3)",
     "output_type": "error",
     "traceback": [
      "\u001b[0;36m  File \u001b[0;32m\"/var/folders/fg/c6b2vcrx7wd1530hgxsj7z7w0000gn/T/ipykernel_24039/521603340.py\"\u001b[0;36m, line \u001b[0;32m3\u001b[0m\n\u001b[0;31m    [diarized_raw['BB019'].label_timeline(l) for l in ['SPEAKER_00', 'SPEAKER_01', 'SPEAKER_02'] for diarized_raw['BB019'].label_timeline(l) in l]\u001b[0m\n\u001b[0m                                                                                                     ^\u001b[0m\n\u001b[0;31mSyntaxError\u001b[0m\u001b[0;31m:\u001b[0m cannot assign to function call\n"
     ]
    }
   ],
   "source": [
    "#speaker_map = {'BB019':['SPEAKER_00','SPEAKER_01','SPEAKER_02']}\n",
    "speaker_map = {'BB019':'SPEAKER_00'}\n",
    "[diarized_raw['BB019'].label_timeline(l) for l in ['SPEAKER_00', 'SPEAKER_01', 'SPEAKER_02'] ]\n",
    "#diarized_raw['BB019'].labels()"
   ]
  },
  {
   "cell_type": "code",
   "execution_count": 36,
   "id": "d3b351a8-c417-43fc-ac6a-bf2dcc7fc67e",
   "metadata": {},
   "outputs": [
    {
     "ename": "KeyError",
     "evalue": "'BB038'",
     "output_type": "error",
     "traceback": [
      "\u001b[0;31m---------------------------------------------------------------------------\u001b[0m",
      "\u001b[0;31mKeyError\u001b[0m                                  Traceback (most recent call last)",
      "\u001b[0;32m/var/folders/fg/c6b2vcrx7wd1530hgxsj7z7w0000gn/T/ipykernel_24039/2546537714.py\u001b[0m in \u001b[0;36m<module>\u001b[0;34m\u001b[0m\n\u001b[1;32m      2\u001b[0m \u001b[0mspeaker_map\u001b[0m \u001b[0;34m=\u001b[0m \u001b[0;34m{\u001b[0m\u001b[0;34m'BB019'\u001b[0m\u001b[0;34m:\u001b[0m\u001b[0;34m[\u001b[0m\u001b[0;34m'SPEAKER_00'\u001b[0m\u001b[0;34m,\u001b[0m\u001b[0;34m'SPEAKER_01'\u001b[0m\u001b[0;34m,\u001b[0m\u001b[0;34m'SPEAKER_02'\u001b[0m\u001b[0;34m]\u001b[0m\u001b[0;34m}\u001b[0m\u001b[0;34m\u001b[0m\u001b[0;34m\u001b[0m\u001b[0m\n\u001b[1;32m      3\u001b[0m \u001b[0;34m\u001b[0m\u001b[0m\n\u001b[0;32m----> 4\u001b[0;31m diarized = {os.path.splitext(file)[0]:\n\u001b[0m\u001b[1;32m      5\u001b[0m             json.load_from(os.path.join(diar_dir,file)).label_timeline(\n\u001b[1;32m      6\u001b[0m                 speaker_map[os.path.splitext(file)[0]]) \n",
      "\u001b[0;32m/var/folders/fg/c6b2vcrx7wd1530hgxsj7z7w0000gn/T/ipykernel_24039/2546537714.py\u001b[0m in \u001b[0;36m<dictcomp>\u001b[0;34m(.0)\u001b[0m\n\u001b[1;32m      4\u001b[0m diarized = {os.path.splitext(file)[0]:\n\u001b[1;32m      5\u001b[0m             json.load_from(os.path.join(diar_dir,file)).label_timeline(\n\u001b[0;32m----> 6\u001b[0;31m                 speaker_map[os.path.splitext(file)[0]]) \n\u001b[0m\u001b[1;32m      7\u001b[0m             for file in os.listdir(diar_dir)}\n",
      "\u001b[0;31mKeyError\u001b[0m: 'BB038'"
     ]
    }
   ],
   "source": [
    "# Based on output of diarization, manually make speaker map to set which speaker we want\n",
    "speaker_map = {'BB019':['SPEAKER_00','SPEAKER_01','SPEAKER_02']}\n",
    "\n",
    "diarized = {os.path.splitext(file)[0]:\n",
    "            json.load_from(os.path.join(diar_dir,file)).label_timeline(\n",
    "                speaker_map[os.path.splitext(file)[0]]) \n",
    "            for file in os.listdir(diar_dir)}"
   ]
  },
  {
   "cell_type": "code",
   "execution_count": 16,
   "id": "4736129e-4b4d-4f31-b8ec-254e146684b1",
   "metadata": {},
   "outputs": [
    {
     "data": {
      "image/png": "[encoded data removed]",
      "text/plain": [
       "<Timeline(uri=BB042, segments=[<Segment(1.00031, 1.97906)>, <Segment(3.10969, 5.15156)>, <Segment(7.21031, 8.25656)>, <Segment(8.64469, 9.85969)>, <Segment(10.2478, 11.6822)>, <Segment(11.9859, 13.1503)>, <Segment(15.5972, 16.9472)>, <Segment(17.3016, 18.4659)>, <Segment(20.3559, 22.9378)>, <Segment(31.5609, 34.8684)>, <Segment(35.0709, 35.2566)>, <Segment(39.3403, 40.6397)>, <Segment(41.8378, 42.0066)>, <Segment(42.2597, 42.4959)>, <Segment(43.4578, 44.7066)>, <Segment(49.7016, 50.9672)>, <Segment(51.5578, 52.6547)>, <Segment(54.4434, 56.7553)>, <Segment(59.9278, 61.1934)>, <Segment(61.5309, 62.5603)>, <Segment(64.1803, 66.2053)>, <Segment(69.8672, 70.8459)>, <Segment(73.8834, 78.2034)>, <Segment(78.7772, 79.8909)>, <Segment(80.1947, 81.8653)>, <Segment(82.6416, 84.0253)>, <Segment(84.5991, 88.4466)>, <Segment(89.1891, 90.2691)>, <Segment(94.9434, 96.2766)>, <Segment(96.7491, 98.5378)>, <Segment(99.1453, 100.023)>, <Segment(100.445, 101.255)>, <Segment(101.845, 103.617)>, <Segment(104.242, 105.946)>, <Segment(109.675, 110.182)>, <Segment(111.43, 112.207)>, <Segment(112.477, 115.48)>, <Segment(115.868, 116.712)>, <Segment(117.472, 119.142)>, <Segment(119.497, 123.698)>, <Segment(125.673, 126.635)>, <Segment(129.47, 133.975)>, <Segment(137.165, 138.228)>, <Segment(138.903, 140.776)>, <Segment(141.029, 143.543)>, <Segment(145.18, 147.998)>, <Segment(148.572, 149.838)>, <Segment(150.108, 151.323)>, <Segment(152.352, 154.023)>, <Segment(154.242, 155.153)>, <Segment(155.457, 156.335)>, <Segment(156.689, 158.545)>, <Segment(165.076, 167.033)>, <Segment(172.788, 176.23)>, <Segment(176.602, 177.192)>, <Segment(177.715, 181.36)>, <Segment(183.841, 185.714)>, <Segment(188.566, 189.359)>, <Segment(189.68, 192.312)>, <Segment(193.358, 194.32)>, <Segment(194.54, 196.008)>, <Segment(196.733, 198.033)>, <Segment(199.501, 200.429)>, <Segment(200.885, 202.471)>, <Segment(203.146, 204.361)>, <Segment(205.542, 206.504)>, <Segment(207.28, 208.934)>, <Segment(209.592, 210.74)>, <Segment(211.853, 212.765)>, <Segment(213.237, 214.857)>, <Segment(215.195, 216.443)>, <Segment(218.03, 219.025)>, <Segment(219.582, 221.59)>, <Segment(222.08, 223.295)>, <Segment(223.615, 224.51)>, <Segment(224.695, 226.282)>, <Segment(226.906, 228.83)>, <Segment(230.551, 231.496)>, <Segment(231.935, 233.335)>, <Segment(233.723, 234.787)>, <Segment(235.141, 236.035)>, <Segment(236.812, 240.406)>, <Segment(243.443, 243.629)>, <Segment(245.519, 247.24)>, <Segment(248.405, 249.839)>, <Segment(250.649, 250.936)>, <Segment(251.138, 252.134)>, <Segment(252.573, 253.602)>, <Segment(254.446, 255.762)>, <Segment(256.37, 258.023)>, <Segment(258.513, 259.542)>, <Segment(260.251, 263.963)>, <Segment(264.166, 265.803)>, <Segment(268.655, 270.832)>, <Segment(271.287, 272.84)>, <Segment(273.987, 274.78)>, <Segment(275.337, 279.961)>, <Segment(280.889, 285.074)>, <Segment(285.58, 286.019)>, <Segment(286.576, 287.673)>, <Segment(288.179, 289.09)>, <Segment(289.833, 290.947)>, <Segment(292.246, 292.448)>, <Segment(295.992, 296.347)>, <Segment(297.342, 297.612)>, <Segment(299.063, 300.228)>, <Segment(301.78, 302.54)>, <Segment(303.282, 304.025)>, <Segment(307.754, 309.543)>, <Segment(310.167, 311.922)>, <Segment(312.682, 312.8)>, <Segment(314.183, 315.803)>, <Segment(316.613, 318.166)>, <Segment(318.757, 322.081)>, <Segment(323.802, 328.308)>, <Segment(330.772, 332.932)>, <Segment(333.269, 334.13)>, <Segment(334.501, 335.632)>, <Segment(335.986, 336.408)>, <Segment(338.213, 340.103)>, <Segment(344.356, 346.094)>, <Segment(346.448, 348.322)>, <Segment(348.794, 351.697)>, <Segment(354.802, 356.455)>, <Segment(358.227, 362.446)>, <Segment(365.618, 366.108)>, <Segment(366.293, 367.289)>, <Segment(367.593, 369.01)>, <Segment(369.449, 370.833)>, <Segment(373.145, 377.093)>, <Segment(377.583, 380.452)>, <Segment(382.24, 382.983)>, <Segment(383.506, 386.763)>, <Segment(386.999, 390.172)>, <Segment(392.467, 393.698)>, <Segment(395.2, 398.17)>, <Segment(398.491, 399.284)>, <Segment(399.689, 402.389)>, <Segment(406.76, 408.43)>, <Segment(408.616, 410.995)>, <Segment(412.852, 418.572)>, <Segment(420.547, 421.947)>, <Segment(422.42, 423.348)>, <Segment(423.753, 424.512)>, <Segment(424.833, 426.875)>, <Segment(427.28, 429.136)>, <Segment(433.574, 436.814)>, <Segment(437.219, 438.772)>, <Segment(439.109, 440.932)>, <Segment(441.775, 442.906)>, <Segment(443.48, 445.69)>, <Segment(447.175, 447.732)>])>"
      ]
     },
     "execution_count": 16,
     "metadata": {},
     "output_type": "execute_result"
    }
   ],
   "source": [
    "diarized['BB042']"
   ]
  },
  {
   "cell_type": "code",
   "execution_count": 23,
   "id": "b9f38e2f-1932-4e6b-9107-be7d1d68817c",
   "metadata": {},
   "outputs": [
    {
     "data": {
      "text/plain": [
       "('2022_06_24_BB042_BB002_BB007.csv',\n",
       " ['/Users/rahulbrito/Documents/projects/infantvoice/data/Full_Readings/060822_new_participants/audio_16kz/BB042.wav',\n",
       "  '/Users/rahulbrito/Documents/projects/infantvoice/data/Full_Readings/060822_new_participants/audio_16kz/BB002.wav',\n",
       "  '/Users/rahulbrito/Documents/projects/infantvoice/data/Full_Readings/060822_new_participants/audio_16kz/BB007.wav'])"
      ]
     },
     "execution_count": 23,
     "metadata": {},
     "output_type": "execute_result"
    }
   ],
   "source": [
    "emb_dir = '/Users/rahulbrito/Documents/projects/infantvoice/data/embeddings'\n",
    "save_name = datetime.now().strftime('%Y_%m_%d') + '_BB042_BB002_BB007.csv'\n",
    "diarized = diarized\n",
    "\n",
    "import glob\n",
    "#all_files = glob.glob(down_sample_dir+'/*/*', recursive=True)\n",
    "#all_files = [file for file in all_files if 'script' in file]\n",
    "\n",
    "all_files = glob.glob(down_sample_dir+'/*', recursive=True)\n",
    "\n",
    "save_name, all_files"
   ]
  },
  {
   "cell_type": "code",
   "execution_count": 36,
   "id": "385dd292-3539-4f22-ab45-080403f306e0",
   "metadata": {},
   "outputs": [
    {
     "name": "stdout",
     "output_type": "stream",
     "text": [
      "Processing/Users/rahulbrito/Documents/projects/infantvoice/data/Full_Readings/060822_new_participants/audio_16kz/BB007.wav\n",
      "Done\n"
     ]
    },
    {
     "data": {
      "text/html": [
       "<div>\n",
       "<style scoped>\n",
       "    .dataframe tbody tr th:only-of-type {\n",
       "        vertical-align: middle;\n",
       "    }\n",
       "\n",
       "    .dataframe tbody tr th {\n",
       "        vertical-align: top;\n",
       "    }\n",
       "\n",
       "    .dataframe thead th {\n",
       "        text-align: right;\n",
       "    }\n",
       "</style>\n",
       "<table border=\"1\" class=\"dataframe\">\n",
       "  <thead>\n",
       "    <tr style=\"text-align: right;\">\n",
       "      <th></th>\n",
       "      <th>0</th>\n",
       "      <th>1</th>\n",
       "      <th>2</th>\n",
       "      <th>3</th>\n",
       "      <th>4</th>\n",
       "      <th>5</th>\n",
       "      <th>6</th>\n",
       "      <th>7</th>\n",
       "      <th>8</th>\n",
       "      <th>9</th>\n",
       "      <th>...</th>\n",
       "      <th>503</th>\n",
       "      <th>504</th>\n",
       "      <th>505</th>\n",
       "      <th>506</th>\n",
       "      <th>507</th>\n",
       "      <th>508</th>\n",
       "      <th>509</th>\n",
       "      <th>510</th>\n",
       "      <th>511</th>\n",
       "      <th>part_id</th>\n",
       "    </tr>\n",
       "  </thead>\n",
       "  <tbody>\n",
       "    <tr>\n",
       "      <th>0</th>\n",
       "      <td>-42.254242</td>\n",
       "      <td>40.496063</td>\n",
       "      <td>35.850857</td>\n",
       "      <td>-8.541290</td>\n",
       "      <td>61.775925</td>\n",
       "      <td>83.132347</td>\n",
       "      <td>-0.511562</td>\n",
       "      <td>-39.462593</td>\n",
       "      <td>10.514980</td>\n",
       "      <td>-18.588795</td>\n",
       "      <td>...</td>\n",
       "      <td>-12.234371</td>\n",
       "      <td>-3.003146</td>\n",
       "      <td>-56.605003</td>\n",
       "      <td>-28.261778</td>\n",
       "      <td>-4.501404</td>\n",
       "      <td>70.157600</td>\n",
       "      <td>-76.075325</td>\n",
       "      <td>19.546452</td>\n",
       "      <td>-1.366459</td>\n",
       "      <td>BB042</td>\n",
       "    </tr>\n",
       "    <tr>\n",
       "      <th>1</th>\n",
       "      <td>-42.337677</td>\n",
       "      <td>57.827229</td>\n",
       "      <td>18.183645</td>\n",
       "      <td>54.150181</td>\n",
       "      <td>90.368996</td>\n",
       "      <td>55.771969</td>\n",
       "      <td>-34.856052</td>\n",
       "      <td>26.403709</td>\n",
       "      <td>-6.326351</td>\n",
       "      <td>-11.580591</td>\n",
       "      <td>...</td>\n",
       "      <td>-80.623505</td>\n",
       "      <td>-5.745472</td>\n",
       "      <td>-13.973362</td>\n",
       "      <td>-29.810352</td>\n",
       "      <td>-21.163677</td>\n",
       "      <td>25.515455</td>\n",
       "      <td>-93.013550</td>\n",
       "      <td>12.415493</td>\n",
       "      <td>28.169334</td>\n",
       "      <td>BB042</td>\n",
       "    </tr>\n",
       "    <tr>\n",
       "      <th>2</th>\n",
       "      <td>17.344902</td>\n",
       "      <td>65.836761</td>\n",
       "      <td>31.402449</td>\n",
       "      <td>-2.899883</td>\n",
       "      <td>20.198887</td>\n",
       "      <td>45.781471</td>\n",
       "      <td>69.000443</td>\n",
       "      <td>20.057606</td>\n",
       "      <td>37.159210</td>\n",
       "      <td>8.229515</td>\n",
       "      <td>...</td>\n",
       "      <td>-39.999855</td>\n",
       "      <td>-8.514196</td>\n",
       "      <td>36.634972</td>\n",
       "      <td>42.337780</td>\n",
       "      <td>19.342203</td>\n",
       "      <td>53.615757</td>\n",
       "      <td>-114.249611</td>\n",
       "      <td>62.810005</td>\n",
       "      <td>50.668621</td>\n",
       "      <td>BB042</td>\n",
       "    </tr>\n",
       "    <tr>\n",
       "      <th>3</th>\n",
       "      <td>24.152702</td>\n",
       "      <td>0.279526</td>\n",
       "      <td>16.586464</td>\n",
       "      <td>-30.188557</td>\n",
       "      <td>7.969314</td>\n",
       "      <td>39.880005</td>\n",
       "      <td>46.665520</td>\n",
       "      <td>-20.912886</td>\n",
       "      <td>-24.117851</td>\n",
       "      <td>35.974277</td>\n",
       "      <td>...</td>\n",
       "      <td>-29.153027</td>\n",
       "      <td>74.989731</td>\n",
       "      <td>-32.546253</td>\n",
       "      <td>33.339439</td>\n",
       "      <td>98.638748</td>\n",
       "      <td>40.131546</td>\n",
       "      <td>-69.611397</td>\n",
       "      <td>-38.543777</td>\n",
       "      <td>-0.166210</td>\n",
       "      <td>BB042</td>\n",
       "    </tr>\n",
       "    <tr>\n",
       "      <th>4</th>\n",
       "      <td>16.832216</td>\n",
       "      <td>88.067535</td>\n",
       "      <td>23.393536</td>\n",
       "      <td>45.572647</td>\n",
       "      <td>45.398563</td>\n",
       "      <td>-4.262129</td>\n",
       "      <td>15.973301</td>\n",
       "      <td>-10.459930</td>\n",
       "      <td>-36.715668</td>\n",
       "      <td>-32.176884</td>\n",
       "      <td>...</td>\n",
       "      <td>7.452633</td>\n",
       "      <td>25.606226</td>\n",
       "      <td>18.335854</td>\n",
       "      <td>-36.201790</td>\n",
       "      <td>9.568501</td>\n",
       "      <td>62.402542</td>\n",
       "      <td>-90.125885</td>\n",
       "      <td>-31.435696</td>\n",
       "      <td>-18.837374</td>\n",
       "      <td>BB042</td>\n",
       "    </tr>\n",
       "    <tr>\n",
       "      <th>...</th>\n",
       "      <td>...</td>\n",
       "      <td>...</td>\n",
       "      <td>...</td>\n",
       "      <td>...</td>\n",
       "      <td>...</td>\n",
       "      <td>...</td>\n",
       "      <td>...</td>\n",
       "      <td>...</td>\n",
       "      <td>...</td>\n",
       "      <td>...</td>\n",
       "      <td>...</td>\n",
       "      <td>...</td>\n",
       "      <td>...</td>\n",
       "      <td>...</td>\n",
       "      <td>...</td>\n",
       "      <td>...</td>\n",
       "      <td>...</td>\n",
       "      <td>...</td>\n",
       "      <td>...</td>\n",
       "      <td>...</td>\n",
       "      <td>...</td>\n",
       "    </tr>\n",
       "    <tr>\n",
       "      <th>102</th>\n",
       "      <td>14.755241</td>\n",
       "      <td>-15.235943</td>\n",
       "      <td>-40.419884</td>\n",
       "      <td>-13.381756</td>\n",
       "      <td>-70.104874</td>\n",
       "      <td>42.607315</td>\n",
       "      <td>3.986420</td>\n",
       "      <td>9.904509</td>\n",
       "      <td>47.631382</td>\n",
       "      <td>-15.809168</td>\n",
       "      <td>...</td>\n",
       "      <td>-20.238485</td>\n",
       "      <td>-18.611765</td>\n",
       "      <td>-11.909772</td>\n",
       "      <td>16.350708</td>\n",
       "      <td>13.834839</td>\n",
       "      <td>-110.933228</td>\n",
       "      <td>-78.712044</td>\n",
       "      <td>-0.166634</td>\n",
       "      <td>7.209244</td>\n",
       "      <td>BB007</td>\n",
       "    </tr>\n",
       "    <tr>\n",
       "      <th>103</th>\n",
       "      <td>69.482903</td>\n",
       "      <td>-33.655556</td>\n",
       "      <td>-109.029373</td>\n",
       "      <td>-27.717606</td>\n",
       "      <td>-105.176865</td>\n",
       "      <td>-1.697213</td>\n",
       "      <td>7.015273</td>\n",
       "      <td>-12.465357</td>\n",
       "      <td>33.933723</td>\n",
       "      <td>-44.167786</td>\n",
       "      <td>...</td>\n",
       "      <td>7.385422</td>\n",
       "      <td>-57.819473</td>\n",
       "      <td>-4.336439</td>\n",
       "      <td>55.176014</td>\n",
       "      <td>39.246326</td>\n",
       "      <td>-77.762894</td>\n",
       "      <td>-86.691940</td>\n",
       "      <td>-10.253365</td>\n",
       "      <td>-32.681141</td>\n",
       "      <td>BB007</td>\n",
       "    </tr>\n",
       "    <tr>\n",
       "      <th>104</th>\n",
       "      <td>63.897629</td>\n",
       "      <td>-52.660690</td>\n",
       "      <td>-99.690369</td>\n",
       "      <td>-66.938995</td>\n",
       "      <td>-26.520016</td>\n",
       "      <td>15.163946</td>\n",
       "      <td>7.515282</td>\n",
       "      <td>8.587060</td>\n",
       "      <td>53.968727</td>\n",
       "      <td>-29.954239</td>\n",
       "      <td>...</td>\n",
       "      <td>-22.096470</td>\n",
       "      <td>-57.894592</td>\n",
       "      <td>4.802193</td>\n",
       "      <td>-14.909480</td>\n",
       "      <td>65.997185</td>\n",
       "      <td>-28.792988</td>\n",
       "      <td>-78.082390</td>\n",
       "      <td>-67.726044</td>\n",
       "      <td>-27.222284</td>\n",
       "      <td>BB007</td>\n",
       "    </tr>\n",
       "    <tr>\n",
       "      <th>105</th>\n",
       "      <td>-27.118759</td>\n",
       "      <td>-130.961548</td>\n",
       "      <td>2.970074</td>\n",
       "      <td>8.459499</td>\n",
       "      <td>-38.350033</td>\n",
       "      <td>95.218750</td>\n",
       "      <td>2.799685</td>\n",
       "      <td>85.912857</td>\n",
       "      <td>-13.686878</td>\n",
       "      <td>11.296834</td>\n",
       "      <td>...</td>\n",
       "      <td>-71.475952</td>\n",
       "      <td>-63.916019</td>\n",
       "      <td>-27.231218</td>\n",
       "      <td>-49.924221</td>\n",
       "      <td>3.045948</td>\n",
       "      <td>45.995445</td>\n",
       "      <td>-4.531460</td>\n",
       "      <td>-31.791111</td>\n",
       "      <td>31.326408</td>\n",
       "      <td>BB007</td>\n",
       "    </tr>\n",
       "    <tr>\n",
       "      <th>106</th>\n",
       "      <td>-39.310730</td>\n",
       "      <td>-57.349064</td>\n",
       "      <td>-57.752602</td>\n",
       "      <td>46.468735</td>\n",
       "      <td>-32.117393</td>\n",
       "      <td>47.335892</td>\n",
       "      <td>-0.470268</td>\n",
       "      <td>92.578949</td>\n",
       "      <td>-41.786316</td>\n",
       "      <td>-26.775688</td>\n",
       "      <td>...</td>\n",
       "      <td>-10.463562</td>\n",
       "      <td>-85.688316</td>\n",
       "      <td>-4.958873</td>\n",
       "      <td>-34.302784</td>\n",
       "      <td>2.639687</td>\n",
       "      <td>14.175688</td>\n",
       "      <td>-25.155054</td>\n",
       "      <td>-34.671257</td>\n",
       "      <td>18.670597</td>\n",
       "      <td>BB007</td>\n",
       "    </tr>\n",
       "  </tbody>\n",
       "</table>\n",
       "<p>107 rows × 513 columns</p>\n",
       "</div>"
      ],
      "text/plain": [
       "             0           1           2          3           4          5  \\\n",
       "0   -42.254242   40.496063   35.850857  -8.541290   61.775925  83.132347   \n",
       "1   -42.337677   57.827229   18.183645  54.150181   90.368996  55.771969   \n",
       "2    17.344902   65.836761   31.402449  -2.899883   20.198887  45.781471   \n",
       "3    24.152702    0.279526   16.586464 -30.188557    7.969314  39.880005   \n",
       "4    16.832216   88.067535   23.393536  45.572647   45.398563  -4.262129   \n",
       "..         ...         ...         ...        ...         ...        ...   \n",
       "102  14.755241  -15.235943  -40.419884 -13.381756  -70.104874  42.607315   \n",
       "103  69.482903  -33.655556 -109.029373 -27.717606 -105.176865  -1.697213   \n",
       "104  63.897629  -52.660690  -99.690369 -66.938995  -26.520016  15.163946   \n",
       "105 -27.118759 -130.961548    2.970074   8.459499  -38.350033  95.218750   \n",
       "106 -39.310730  -57.349064  -57.752602  46.468735  -32.117393  47.335892   \n",
       "\n",
       "             6          7          8          9  ...        503        504  \\\n",
       "0    -0.511562 -39.462593  10.514980 -18.588795  ... -12.234371  -3.003146   \n",
       "1   -34.856052  26.403709  -6.326351 -11.580591  ... -80.623505  -5.745472   \n",
       "2    69.000443  20.057606  37.159210   8.229515  ... -39.999855  -8.514196   \n",
       "3    46.665520 -20.912886 -24.117851  35.974277  ... -29.153027  74.989731   \n",
       "4    15.973301 -10.459930 -36.715668 -32.176884  ...   7.452633  25.606226   \n",
       "..         ...        ...        ...        ...  ...        ...        ...   \n",
       "102   3.986420   9.904509  47.631382 -15.809168  ... -20.238485 -18.611765   \n",
       "103   7.015273 -12.465357  33.933723 -44.167786  ...   7.385422 -57.819473   \n",
       "104   7.515282   8.587060  53.968727 -29.954239  ... -22.096470 -57.894592   \n",
       "105   2.799685  85.912857 -13.686878  11.296834  ... -71.475952 -63.916019   \n",
       "106  -0.470268  92.578949 -41.786316 -26.775688  ... -10.463562 -85.688316   \n",
       "\n",
       "           505        506        507         508         509        510  \\\n",
       "0   -56.605003 -28.261778  -4.501404   70.157600  -76.075325  19.546452   \n",
       "1   -13.973362 -29.810352 -21.163677   25.515455  -93.013550  12.415493   \n",
       "2    36.634972  42.337780  19.342203   53.615757 -114.249611  62.810005   \n",
       "3   -32.546253  33.339439  98.638748   40.131546  -69.611397 -38.543777   \n",
       "4    18.335854 -36.201790   9.568501   62.402542  -90.125885 -31.435696   \n",
       "..         ...        ...        ...         ...         ...        ...   \n",
       "102 -11.909772  16.350708  13.834839 -110.933228  -78.712044  -0.166634   \n",
       "103  -4.336439  55.176014  39.246326  -77.762894  -86.691940 -10.253365   \n",
       "104   4.802193 -14.909480  65.997185  -28.792988  -78.082390 -67.726044   \n",
       "105 -27.231218 -49.924221   3.045948   45.995445   -4.531460 -31.791111   \n",
       "106  -4.958873 -34.302784   2.639687   14.175688  -25.155054 -34.671257   \n",
       "\n",
       "           511  part_id  \n",
       "0    -1.366459    BB042  \n",
       "1    28.169334    BB042  \n",
       "2    50.668621    BB042  \n",
       "3    -0.166210    BB042  \n",
       "4   -18.837374    BB042  \n",
       "..         ...      ...  \n",
       "102   7.209244    BB007  \n",
       "103 -32.681141    BB007  \n",
       "104 -27.222284    BB007  \n",
       "105  31.326408    BB007  \n",
       "106  18.670597    BB007  \n",
       "\n",
       "[107 rows x 513 columns]"
      ]
     },
     "execution_count": 36,
     "metadata": {},
     "output_type": "execute_result"
    }
   ],
   "source": [
    "pyannote_emb = ee.pyannote_extract_directory(all_files, diarized,emb_dir,save_name,window_type=\"sliding\",save=True)\n",
    "pyannote_emb"
   ]
  },
  {
   "cell_type": "code",
   "execution_count": 62,
   "id": "2a339ee7-4eb8-461c-8a13-3a9ef330ef9d",
   "metadata": {},
   "outputs": [
    {
     "data": {
      "text/plain": [
       "2912"
      ]
     },
     "execution_count": 62,
     "metadata": {},
     "output_type": "execute_result"
    }
   ],
   "source": [
    "len(all_files)"
   ]
  },
  {
   "cell_type": "code",
   "execution_count": 37,
   "id": "882ddb42-9d04-4bf6-9e08-02c8f68325c9",
   "metadata": {},
   "outputs": [
    {
     "data": {
      "text/plain": [
       "(107, 513)"
      ]
     },
     "execution_count": 37,
     "metadata": {},
     "output_type": "execute_result"
    }
   ],
   "source": [
    "emb = pd.read_csv(os.path.join(emb_dir,save_name), index_col=0)\n",
    "emb.shape"
   ]
  },
  {
   "cell_type": "code",
   "execution_count": 38,
   "id": "704e651b-1984-4fa9-9de0-fa0b9abb0242",
   "metadata": {},
   "outputs": [
    {
     "data": {
      "text/html": [
       "<div>\n",
       "<style scoped>\n",
       "    .dataframe tbody tr th:only-of-type {\n",
       "        vertical-align: middle;\n",
       "    }\n",
       "\n",
       "    .dataframe tbody tr th {\n",
       "        vertical-align: top;\n",
       "    }\n",
       "\n",
       "    .dataframe thead th {\n",
       "        text-align: right;\n",
       "    }\n",
       "</style>\n",
       "<table border=\"1\" class=\"dataframe\">\n",
       "  <thead>\n",
       "    <tr style=\"text-align: right;\">\n",
       "      <th></th>\n",
       "      <th>0</th>\n",
       "      <th>1</th>\n",
       "      <th>2</th>\n",
       "      <th>3</th>\n",
       "      <th>4</th>\n",
       "      <th>5</th>\n",
       "      <th>6</th>\n",
       "      <th>7</th>\n",
       "      <th>8</th>\n",
       "      <th>9</th>\n",
       "      <th>...</th>\n",
       "      <th>503</th>\n",
       "      <th>504</th>\n",
       "      <th>505</th>\n",
       "      <th>506</th>\n",
       "      <th>507</th>\n",
       "      <th>508</th>\n",
       "      <th>509</th>\n",
       "      <th>510</th>\n",
       "      <th>511</th>\n",
       "      <th>part_id</th>\n",
       "    </tr>\n",
       "  </thead>\n",
       "  <tbody>\n",
       "    <tr>\n",
       "      <th>0</th>\n",
       "      <td>-42.254242</td>\n",
       "      <td>40.496063</td>\n",
       "      <td>35.850857</td>\n",
       "      <td>-8.541290</td>\n",
       "      <td>61.775925</td>\n",
       "      <td>83.132347</td>\n",
       "      <td>-0.511562</td>\n",
       "      <td>-39.462593</td>\n",
       "      <td>10.514980</td>\n",
       "      <td>-18.588795</td>\n",
       "      <td>...</td>\n",
       "      <td>-12.234371</td>\n",
       "      <td>-3.003146</td>\n",
       "      <td>-56.605003</td>\n",
       "      <td>-28.261778</td>\n",
       "      <td>-4.501404</td>\n",
       "      <td>70.157600</td>\n",
       "      <td>-76.075325</td>\n",
       "      <td>19.546452</td>\n",
       "      <td>-1.366459</td>\n",
       "      <td>BB042</td>\n",
       "    </tr>\n",
       "    <tr>\n",
       "      <th>1</th>\n",
       "      <td>-42.337677</td>\n",
       "      <td>57.827229</td>\n",
       "      <td>18.183645</td>\n",
       "      <td>54.150181</td>\n",
       "      <td>90.368996</td>\n",
       "      <td>55.771969</td>\n",
       "      <td>-34.856052</td>\n",
       "      <td>26.403709</td>\n",
       "      <td>-6.326351</td>\n",
       "      <td>-11.580591</td>\n",
       "      <td>...</td>\n",
       "      <td>-80.623505</td>\n",
       "      <td>-5.745472</td>\n",
       "      <td>-13.973362</td>\n",
       "      <td>-29.810352</td>\n",
       "      <td>-21.163677</td>\n",
       "      <td>25.515455</td>\n",
       "      <td>-93.013550</td>\n",
       "      <td>12.415493</td>\n",
       "      <td>28.169334</td>\n",
       "      <td>BB042</td>\n",
       "    </tr>\n",
       "    <tr>\n",
       "      <th>2</th>\n",
       "      <td>17.344902</td>\n",
       "      <td>65.836761</td>\n",
       "      <td>31.402449</td>\n",
       "      <td>-2.899883</td>\n",
       "      <td>20.198887</td>\n",
       "      <td>45.781471</td>\n",
       "      <td>69.000443</td>\n",
       "      <td>20.057606</td>\n",
       "      <td>37.159210</td>\n",
       "      <td>8.229515</td>\n",
       "      <td>...</td>\n",
       "      <td>-39.999855</td>\n",
       "      <td>-8.514196</td>\n",
       "      <td>36.634972</td>\n",
       "      <td>42.337780</td>\n",
       "      <td>19.342203</td>\n",
       "      <td>53.615757</td>\n",
       "      <td>-114.249611</td>\n",
       "      <td>62.810005</td>\n",
       "      <td>50.668621</td>\n",
       "      <td>BB042</td>\n",
       "    </tr>\n",
       "    <tr>\n",
       "      <th>3</th>\n",
       "      <td>24.152702</td>\n",
       "      <td>0.279526</td>\n",
       "      <td>16.586464</td>\n",
       "      <td>-30.188557</td>\n",
       "      <td>7.969314</td>\n",
       "      <td>39.880005</td>\n",
       "      <td>46.665520</td>\n",
       "      <td>-20.912886</td>\n",
       "      <td>-24.117851</td>\n",
       "      <td>35.974277</td>\n",
       "      <td>...</td>\n",
       "      <td>-29.153027</td>\n",
       "      <td>74.989731</td>\n",
       "      <td>-32.546253</td>\n",
       "      <td>33.339439</td>\n",
       "      <td>98.638748</td>\n",
       "      <td>40.131546</td>\n",
       "      <td>-69.611397</td>\n",
       "      <td>-38.543777</td>\n",
       "      <td>-0.166210</td>\n",
       "      <td>BB042</td>\n",
       "    </tr>\n",
       "    <tr>\n",
       "      <th>4</th>\n",
       "      <td>16.832216</td>\n",
       "      <td>88.067535</td>\n",
       "      <td>23.393536</td>\n",
       "      <td>45.572647</td>\n",
       "      <td>45.398563</td>\n",
       "      <td>-4.262129</td>\n",
       "      <td>15.973301</td>\n",
       "      <td>-10.459930</td>\n",
       "      <td>-36.715668</td>\n",
       "      <td>-32.176884</td>\n",
       "      <td>...</td>\n",
       "      <td>7.452633</td>\n",
       "      <td>25.606226</td>\n",
       "      <td>18.335854</td>\n",
       "      <td>-36.201790</td>\n",
       "      <td>9.568501</td>\n",
       "      <td>62.402542</td>\n",
       "      <td>-90.125885</td>\n",
       "      <td>-31.435696</td>\n",
       "      <td>-18.837374</td>\n",
       "      <td>BB042</td>\n",
       "    </tr>\n",
       "    <tr>\n",
       "      <th>...</th>\n",
       "      <td>...</td>\n",
       "      <td>...</td>\n",
       "      <td>...</td>\n",
       "      <td>...</td>\n",
       "      <td>...</td>\n",
       "      <td>...</td>\n",
       "      <td>...</td>\n",
       "      <td>...</td>\n",
       "      <td>...</td>\n",
       "      <td>...</td>\n",
       "      <td>...</td>\n",
       "      <td>...</td>\n",
       "      <td>...</td>\n",
       "      <td>...</td>\n",
       "      <td>...</td>\n",
       "      <td>...</td>\n",
       "      <td>...</td>\n",
       "      <td>...</td>\n",
       "      <td>...</td>\n",
       "      <td>...</td>\n",
       "      <td>...</td>\n",
       "    </tr>\n",
       "    <tr>\n",
       "      <th>102</th>\n",
       "      <td>14.755241</td>\n",
       "      <td>-15.235943</td>\n",
       "      <td>-40.419884</td>\n",
       "      <td>-13.381756</td>\n",
       "      <td>-70.104874</td>\n",
       "      <td>42.607315</td>\n",
       "      <td>3.986420</td>\n",
       "      <td>9.904509</td>\n",
       "      <td>47.631382</td>\n",
       "      <td>-15.809168</td>\n",
       "      <td>...</td>\n",
       "      <td>-20.238485</td>\n",
       "      <td>-18.611765</td>\n",
       "      <td>-11.909772</td>\n",
       "      <td>16.350708</td>\n",
       "      <td>13.834839</td>\n",
       "      <td>-110.933228</td>\n",
       "      <td>-78.712044</td>\n",
       "      <td>-0.166634</td>\n",
       "      <td>7.209244</td>\n",
       "      <td>BB007</td>\n",
       "    </tr>\n",
       "    <tr>\n",
       "      <th>103</th>\n",
       "      <td>69.482903</td>\n",
       "      <td>-33.655556</td>\n",
       "      <td>-109.029373</td>\n",
       "      <td>-27.717606</td>\n",
       "      <td>-105.176865</td>\n",
       "      <td>-1.697213</td>\n",
       "      <td>7.015273</td>\n",
       "      <td>-12.465357</td>\n",
       "      <td>33.933723</td>\n",
       "      <td>-44.167786</td>\n",
       "      <td>...</td>\n",
       "      <td>7.385422</td>\n",
       "      <td>-57.819473</td>\n",
       "      <td>-4.336439</td>\n",
       "      <td>55.176014</td>\n",
       "      <td>39.246326</td>\n",
       "      <td>-77.762894</td>\n",
       "      <td>-86.691940</td>\n",
       "      <td>-10.253365</td>\n",
       "      <td>-32.681141</td>\n",
       "      <td>BB007</td>\n",
       "    </tr>\n",
       "    <tr>\n",
       "      <th>104</th>\n",
       "      <td>63.897629</td>\n",
       "      <td>-52.660690</td>\n",
       "      <td>-99.690369</td>\n",
       "      <td>-66.938995</td>\n",
       "      <td>-26.520016</td>\n",
       "      <td>15.163946</td>\n",
       "      <td>7.515282</td>\n",
       "      <td>8.587060</td>\n",
       "      <td>53.968727</td>\n",
       "      <td>-29.954239</td>\n",
       "      <td>...</td>\n",
       "      <td>-22.096470</td>\n",
       "      <td>-57.894592</td>\n",
       "      <td>4.802193</td>\n",
       "      <td>-14.909480</td>\n",
       "      <td>65.997185</td>\n",
       "      <td>-28.792988</td>\n",
       "      <td>-78.082390</td>\n",
       "      <td>-67.726044</td>\n",
       "      <td>-27.222284</td>\n",
       "      <td>BB007</td>\n",
       "    </tr>\n",
       "    <tr>\n",
       "      <th>105</th>\n",
       "      <td>-27.118759</td>\n",
       "      <td>-130.961548</td>\n",
       "      <td>2.970074</td>\n",
       "      <td>8.459499</td>\n",
       "      <td>-38.350033</td>\n",
       "      <td>95.218750</td>\n",
       "      <td>2.799685</td>\n",
       "      <td>85.912857</td>\n",
       "      <td>-13.686878</td>\n",
       "      <td>11.296834</td>\n",
       "      <td>...</td>\n",
       "      <td>-71.475952</td>\n",
       "      <td>-63.916019</td>\n",
       "      <td>-27.231218</td>\n",
       "      <td>-49.924221</td>\n",
       "      <td>3.045948</td>\n",
       "      <td>45.995445</td>\n",
       "      <td>-4.531460</td>\n",
       "      <td>-31.791111</td>\n",
       "      <td>31.326408</td>\n",
       "      <td>BB007</td>\n",
       "    </tr>\n",
       "    <tr>\n",
       "      <th>106</th>\n",
       "      <td>-39.310730</td>\n",
       "      <td>-57.349064</td>\n",
       "      <td>-57.752602</td>\n",
       "      <td>46.468735</td>\n",
       "      <td>-32.117393</td>\n",
       "      <td>47.335892</td>\n",
       "      <td>-0.470268</td>\n",
       "      <td>92.578949</td>\n",
       "      <td>-41.786316</td>\n",
       "      <td>-26.775688</td>\n",
       "      <td>...</td>\n",
       "      <td>-10.463562</td>\n",
       "      <td>-85.688316</td>\n",
       "      <td>-4.958873</td>\n",
       "      <td>-34.302784</td>\n",
       "      <td>2.639687</td>\n",
       "      <td>14.175688</td>\n",
       "      <td>-25.155054</td>\n",
       "      <td>-34.671257</td>\n",
       "      <td>18.670597</td>\n",
       "      <td>BB007</td>\n",
       "    </tr>\n",
       "  </tbody>\n",
       "</table>\n",
       "<p>107 rows × 513 columns</p>\n",
       "</div>"
      ],
      "text/plain": [
       "             0           1           2          3           4          5  \\\n",
       "0   -42.254242   40.496063   35.850857  -8.541290   61.775925  83.132347   \n",
       "1   -42.337677   57.827229   18.183645  54.150181   90.368996  55.771969   \n",
       "2    17.344902   65.836761   31.402449  -2.899883   20.198887  45.781471   \n",
       "3    24.152702    0.279526   16.586464 -30.188557    7.969314  39.880005   \n",
       "4    16.832216   88.067535   23.393536  45.572647   45.398563  -4.262129   \n",
       "..         ...         ...         ...        ...         ...        ...   \n",
       "102  14.755241  -15.235943  -40.419884 -13.381756  -70.104874  42.607315   \n",
       "103  69.482903  -33.655556 -109.029373 -27.717606 -105.176865  -1.697213   \n",
       "104  63.897629  -52.660690  -99.690369 -66.938995  -26.520016  15.163946   \n",
       "105 -27.118759 -130.961548    2.970074   8.459499  -38.350033  95.218750   \n",
       "106 -39.310730  -57.349064  -57.752602  46.468735  -32.117393  47.335892   \n",
       "\n",
       "             6          7          8          9  ...        503        504  \\\n",
       "0    -0.511562 -39.462593  10.514980 -18.588795  ... -12.234371  -3.003146   \n",
       "1   -34.856052  26.403709  -6.326351 -11.580591  ... -80.623505  -5.745472   \n",
       "2    69.000443  20.057606  37.159210   8.229515  ... -39.999855  -8.514196   \n",
       "3    46.665520 -20.912886 -24.117851  35.974277  ... -29.153027  74.989731   \n",
       "4    15.973301 -10.459930 -36.715668 -32.176884  ...   7.452633  25.606226   \n",
       "..         ...        ...        ...        ...  ...        ...        ...   \n",
       "102   3.986420   9.904509  47.631382 -15.809168  ... -20.238485 -18.611765   \n",
       "103   7.015273 -12.465357  33.933723 -44.167786  ...   7.385422 -57.819473   \n",
       "104   7.515282   8.587060  53.968727 -29.954239  ... -22.096470 -57.894592   \n",
       "105   2.799685  85.912857 -13.686878  11.296834  ... -71.475952 -63.916019   \n",
       "106  -0.470268  92.578949 -41.786316 -26.775688  ... -10.463562 -85.688316   \n",
       "\n",
       "           505        506        507         508         509        510  \\\n",
       "0   -56.605003 -28.261778  -4.501404   70.157600  -76.075325  19.546452   \n",
       "1   -13.973362 -29.810352 -21.163677   25.515455  -93.013550  12.415493   \n",
       "2    36.634972  42.337780  19.342203   53.615757 -114.249611  62.810005   \n",
       "3   -32.546253  33.339439  98.638748   40.131546  -69.611397 -38.543777   \n",
       "4    18.335854 -36.201790   9.568501   62.402542  -90.125885 -31.435696   \n",
       "..         ...        ...        ...         ...         ...        ...   \n",
       "102 -11.909772  16.350708  13.834839 -110.933228  -78.712044  -0.166634   \n",
       "103  -4.336439  55.176014  39.246326  -77.762894  -86.691940 -10.253365   \n",
       "104   4.802193 -14.909480  65.997185  -28.792988  -78.082390 -67.726044   \n",
       "105 -27.231218 -49.924221   3.045948   45.995445   -4.531460 -31.791111   \n",
       "106  -4.958873 -34.302784   2.639687   14.175688  -25.155054 -34.671257   \n",
       "\n",
       "           511  part_id  \n",
       "0    -1.366459    BB042  \n",
       "1    28.169334    BB042  \n",
       "2    50.668621    BB042  \n",
       "3    -0.166210    BB042  \n",
       "4   -18.837374    BB042  \n",
       "..         ...      ...  \n",
       "102   7.209244    BB007  \n",
       "103 -32.681141    BB007  \n",
       "104 -27.222284    BB007  \n",
       "105  31.326408    BB007  \n",
       "106  18.670597    BB007  \n",
       "\n",
       "[107 rows x 513 columns]"
      ]
     },
     "execution_count": 38,
     "metadata": {},
     "output_type": "execute_result"
    }
   ],
   "source": [
    "emb"
   ]
  },
  {
   "cell_type": "code",
   "execution_count": null,
   "id": "dc845777-5b7d-4b8e-8ef0-16f64bb20c68",
   "metadata": {},
   "outputs": [],
   "source": []
  }
 ],
 "metadata": {
  "kernelspec": {
   "display_name": "infantvoice",
   "language": "python",
   "name": "infantvoice"
  },
  "language_info": {
   "codemirror_mode": {
    "name": "ipython",
    "version": 3
   },
   "file_extension": ".py",
   "mimetype": "text/x-python",
   "name": "python",
   "nbconvert_exporter": "python",
   "pygments_lexer": "ipython3",
   "version": "3.9.7"
  }
 },
 "nbformat": 4,
 "nbformat_minor": 5
}
