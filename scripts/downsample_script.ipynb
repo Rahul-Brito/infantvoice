{
 "cells": [
  {
   "cell_type": "code",
   "execution_count": 5,
   "id": "ee58a004-a543-412e-8db4-bd9d76689755",
   "metadata": {},
   "outputs": [],
   "source": [
    "%load_ext autoreload\n",
    "%autoreload 2"
   ]
  },
  {
   "cell_type": "code",
   "execution_count": 1,
   "id": "b7589eff-2f08-450e-a3c6-914212d90d5d",
   "metadata": {},
   "outputs": [
    {
     "name": "stdout",
     "output_type": "stream",
     "text": [
      "processing019.wav\n"
     ]
    }
   ],
   "source": [
    "\n",
    "import src.downsample as ds\n",
    "\n",
    "#raw = '/Users/rahulbrito/Documents/projects/infantvoice/data/Full_Readings/test_020422_postpartum_moms'\n",
    "#contains 005.wav and 008.wav which were accidentally removed because they were in the toy folder\n",
    "#raw='/Users/rahulbrito/Documents/projects/infantvoice/data/Full_Readings/020422_postpartum_moms_two_samp_toy'\n",
    "\n",
    "raw = '/Users/rahulbrito/Documents/projects/infantvoice/data/Full_Readings/0300222_recordings_441khz'\n",
    "out = '/Users/rahulbrito/Documents/projects/infantvoice/data/Full_Readings/0300222_recordings_16khz'\n",
    "\n",
    "ds.downsamp_audio(raw,out)"
   ]
  }
 ],
 "metadata": {
  "kernelspec": {
   "display_name": "infantvoice",
   "language": "python",
   "name": "infantvoice"
  },
  "language_info": {
   "codemirror_mode": {
    "name": "ipython",
    "version": 3
   },
   "file_extension": ".py",
   "mimetype": "text/x-python",
   "name": "python",
   "nbconvert_exporter": "python",
   "pygments_lexer": "ipython3",
   "version": "3.9.7"
  }
 },
 "nbformat": 4,
 "nbformat_minor": 5
}
