{
 "cells": [
  {
   "cell_type": "code",
   "execution_count": 5,
   "id": "ee58a004-a543-412e-8db4-bd9d76689755",
   "metadata": {},
   "outputs": [],
   "source": [
    "%load_ext autoreload\n",
    "%autoreload 2"
   ]
  },
  {
   "cell_type": "code",
   "execution_count": 11,
   "id": "b7589eff-2f08-450e-a3c6-914212d90d5d",
   "metadata": {},
   "outputs": [
    {
     "name": "stdout",
     "output_type": "stream",
     "text": [
      "processing019.wav\n"
     ]
    }
   ],
   "source": [
    "\n",
    "import src.downsample as ds\n",
    "\n",
    "raw = '/Users/rahulbrito/Documents/projects/infantvoice/data/Full_Readings/test_020422_postpartum_moms'\n",
    "out = '/Users/rahulbrito/Documents/projects/infantvoice/data/Full_Readings/16khz_020422_postpartum_moms'\n",
    "\n",
    "ds.downsamp_audio(raw,out)"
   ]
  },
  {
   "cell_type": "code",
   "execution_count": null,
   "id": "806f20a4-54b4-4298-ba7d-6491d8c8eeeb",
   "metadata": {},
   "outputs": [],
   "source": []
  }
 ],
 "metadata": {
  "kernelspec": {
   "display_name": "infantvoice",
   "language": "python",
   "name": "infantvoice"
  },
  "language_info": {
   "codemirror_mode": {
    "name": "ipython",
    "version": 3
   },
   "file_extension": ".py",
   "mimetype": "text/x-python",
   "name": "python",
   "nbconvert_exporter": "python",
   "pygments_lexer": "ipython3",
   "version": "3.9.7"
  }
 },
 "nbformat": 4,
 "nbformat_minor": 5
}
