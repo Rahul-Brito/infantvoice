{
 "cells": [
  {
   "cell_type": "code",
   "execution_count": 22,
   "id": "97546a8a-8a79-4239-8e0a-595e5a51a8cb",
   "metadata": {},
   "outputs": [],
   "source": [
    "import numpy as np\n",
    "from numpy.random import choice\n",
    "\n",
    "list_of_candidates = ['matt', 'rahul', 'allen', 'brian']\n",
    "bids = np.array((3 , 2 , 2 , 2))\n",
    "probability_distribution = np.divide(bids, np.sum(bids)"
   ]
  },
  {
   "cell_type": "code",
   "execution_count": 55,
   "id": "43bb68f5-5c55-4782-87c6-bb134577d3d5",
   "metadata": {},
   "outputs": [
    {
     "data": {
      "text/plain": [
       "(array([3, 2, 2, 2]), array([0.33333333, 0.22222222, 0.22222222, 0.22222222]))"
      ]
     },
     "execution_count": 55,
     "metadata": {},
     "output_type": "execute_result"
    }
   ],
   "source": [
    "bids, probability_distribution"
   ]
  },
  {
   "cell_type": "code",
   "execution_count": 51,
   "id": "7b94b6f1-b040-4603-9636-27a67ec8f1df",
   "metadata": {},
   "outputs": [],
   "source": [
    "test = [choice(list_of_candidates,p=probability_distribution) for a in np.arange(1000000)]"
   ]
  },
  {
   "cell_type": "code",
   "execution_count": 54,
   "id": "7d7106f5-8bf3-4f27-9d33-464e734fb53a",
   "metadata": {},
   "outputs": [
    {
     "data": {
      "text/plain": [
       "{'matt': 0.333613, 'rahul': 0.222178, 'allen': 0.222465, 'brian': 0.221744}"
      ]
     },
     "execution_count": 54,
     "metadata": {},
     "output_type": "execute_result"
    }
   ],
   "source": [
    "proportions = {part:test.count(part)/len(test) for part in list_of_candidates}\n",
    "proportions"
   ]
  },
  {
   "cell_type": "code",
   "execution_count": 37,
   "id": "a5d9bcf8-ca3c-494a-924f-17a6b41bd1f0",
   "metadata": {},
   "outputs": [
    {
     "data": {
      "text/plain": [
       "'matt'"
      ]
     },
     "execution_count": 37,
     "metadata": {},
     "output_type": "execute_result"
    }
   ],
   "source": [
    "draw = choice(list_of_candidates,p=probability_distribution)"
   ]
  }
 ],
 "metadata": {
  "kernelspec": {
   "display_name": "infantvoice",
   "language": "python",
   "name": "infantvoice"
  },
  "language_info": {
   "codemirror_mode": {
    "name": "ipython",
    "version": 3
   },
   "file_extension": ".py",
   "mimetype": "text/x-python",
   "name": "python",
   "nbconvert_exporter": "python",
   "pygments_lexer": "ipython3",
   "version": "3.9.7"
  }
 },
 "nbformat": 4,
 "nbformat_minor": 5
}
