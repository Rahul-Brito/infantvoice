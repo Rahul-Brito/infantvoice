{
 "cells": [
  {
   "cell_type": "code",
   "execution_count": 165,
   "id": "eight-replication",
   "metadata": {},
   "outputs": [],
   "source": [
    "import numpy as np\n",
    "import pandas as pd\n",
    "from sklearn.decomposition import PCA\n",
    "from sklearn import metrics\n",
    "import matplotlib.pyplot as plt\n",
    "import matplotlib.cm as cm\n",
    "import seaborn as sns\n",
    "import umap\n",
    "\n",
    "np.set_printoptions(suppress=True)\n",
    "sns.set_theme(style=\"ticks\", color_codes=True)\n",
    "\n",
    "datapath = 'C:\\\\Users\\\\MrBrito\\\\Documents\\\\_Grad School\\\\Rotations\\\\Satra\\\\egemaps analysis\\\\egemaps_vector_both.csv'\n",
    "egm = pd.read_csv(datapath)#extract all the egemaps data from the csv\n"
   ]
  },
  {
   "cell_type": "code",
   "execution_count": 50,
   "id": "hungarian-pharmacy",
   "metadata": {},
   "outputs": [],
   "source": [
    "def extract_N_scale(dataframe,nFeatures):\n",
    "    data_unscaled = dataframe.iloc[:,0:nFeatures]#pull sample data for egemap features (there are 88 features)\n",
    "    labels = dataframe.iloc[:,nFeatures:]#pull metadata for all samples\n",
    "    data = (data_unscaled-data_unscaled.mean())/data_unscaled.std(ddof=0) #scale. subtract mean and divide by std for each feature\n",
    "    return data, labels"
   ]
  },
  {
   "cell_type": "code",
   "execution_count": 146,
   "id": "tough-earth",
   "metadata": {},
   "outputs": [],
   "source": [
    "#Split the data based on diagnosis. norm is 'target'= 0, VFP is 'target' = 1. Just extract vowel data too\n",
    "egm_Norm = egm[egm['target']== 0]\n",
    "#egm_VFP = egm[egm['target']== 1]\n",
    "\n",
    "#Just pull out Vowel data or Speech data using the \"token\" feature in the data\n",
    "#vow = egm_Norm[egm_Norm[\"token\"].apply(lambda x: 'Vowel' in x)]\n",
    "#spch = egm_Norm[egm_Norm[\"token\"].apply(lambda x: 'Speech' in x)]\n",
    "\n",
    "#separate metadata and normalize each dataset\n",
    "Norm, labels = extract_N_scale(egm_Norm, 88)\n",
    "#VFP = extract_N_scale(egm_VFP, 88)"
   ]
  },
  {
   "cell_type": "code",
   "execution_count": null,
   "id": "powered-sessions",
   "metadata": {},
   "outputs": [],
   "source": [
    "pca = PCA(n_components=88)\n",
    "\n",
    "#return scree plot showing % of variance of data explained by each PC\n",
    "screeNorm = pd.DataFrame(pca.fit(Norm).explained_variance_ratio_)\n",
    "#screeVFP = pd.DataFrame(pca.fit(VFP).explained_variance_ratio_)\n",
    "\n",
    "screeNorm['PCs']=['PC' + str(i) for i in np.arange(screeNorm.index.size)+1]\n",
    "screeNorm.columns= ['%variance', 'PCs']\n",
    "sns.barplot(x=\"PCs\", y=\"%variance\", data=screeNorm[0:10])\n",
    "\n",
    "#shows contribution of each feature to a particular PC\n",
    "#X = np.arange(88)+1\n",
    "#Y = pca.components_[:,0]\n",
    "#fig, ax = plt.subplots()\n",
    "#sc = plt.scatter(x=X, y=Y)"
   ]
  },
  {
   "cell_type": "code",
   "execution_count": null,
   "id": "geological-halloween",
   "metadata": {},
   "outputs": [],
   "source": [
    "#shift data onto PCs\n",
    "DataT = pd.DataFrame(pca.fit_transform(Norm))\n",
    "DataT.index = labels['sid']\n",
    "\n",
    "n=417\n",
    "PC1 = DataT.iloc[:,0]\n",
    "PC2 = DataT.iloc[:,1]\n",
    "fig, ax = plt.subplots(figsize=(7.5, 7.5))\n",
    "sns.scatterplot(x=PC1[n:], y=PC2[n:], hue=DataT.index[n:])\n",
    "plt.legend(loc='center left', bbox_to_anchor=(1.0, 0.75))\n",
    "clust=sns.jointplot(x=PC1[n:], y=PC2[n:], hue=DataT.index[n:],kind=\"kde\", height=7.5, legend=False)\n"
   ]
  },
  {
   "cell_type": "code",
   "execution_count": 153,
   "id": "noble-night",
   "metadata": {},
   "outputs": [
    {
     "data": {
      "text/plain": [
       "(462, 2)"
      ]
     },
     "execution_count": 153,
     "metadata": {},
     "output_type": "execute_result"
    }
   ],
   "source": [
    "reducer=umap.UMAP()\n",
    "embedding=reducer.fit_transform(Norm)\n",
    "embedding.shape"
   ]
  },
  {
   "cell_type": "code",
   "execution_count": null,
   "id": "domestic-heavy",
   "metadata": {},
   "outputs": [],
   "source": [
    "fig, ax = plt.subplots(figsize=(7.5, 7.5))\n",
    "sns.scatterplot(x=embedding[:, 0], y= embedding[:, 1], hue=DataT.index[:])\n",
    "plt.gca().set_aspect('equal', 'datalim')\n",
    "plt.title('UMAP projection of the egemaps dataset', fontsize=18)\n",
    "plt.legend(loc='center left', bbox_to_anchor=(1.0, 0.75))\n",
    "\n",
    "#d=318\n",
    "#fig, ax = plt.subplots(figsize=(7.5, 7.5))\n",
    "#sns.scatterplot(x=embedding[d:, 0], y= embedding[d:, 1], hue=DataT.index[d:])\n",
    "#plt.gca().set_aspect('equal', 'datalim')\n",
    "#plt.title('UMAP projection of the egemaps dataset', fontsize=18)\n",
    "#plt.legend(loc='center left', bbox_to_anchor=(1.0, 0.75))\n",
    "\n",
    "clust2=sns.jointplot(x=embedding[d:, 0], y= embedding[d:, 1], hue=DataT.index[d:],kind=\"kde\", height=7.5, legend=False)"
   ]
  },
  {
   "cell_type": "code",
   "execution_count": 168,
   "id": "trained-popularity",
   "metadata": {},
   "outputs": [
    {
     "data": {
      "text/plain": [
       "-0.41593364"
      ]
     },
     "execution_count": 168,
     "metadata": {},
     "output_type": "execute_result"
    }
   ],
   "source": [
    "metrics.silhouette_score(embedding,DataT.index)"
   ]
  }
 ],
 "metadata": {
  "kernelspec": {
   "display_name": "Python 3",
   "language": "python",
   "name": "python3"
  },
  "language_info": {
   "codemirror_mode": {
    "name": "ipython",
    "version": 3
   },
   "file_extension": ".py",
   "mimetype": "text/x-python",
   "name": "python",
   "nbconvert_exporter": "python",
   "pygments_lexer": "ipython3",
   "version": "3.8.5"
  },
  "toc-autonumbering": true,
  "toc-showcode": false,
  "toc-showmarkdowntxt": false
 },
 "nbformat": 4,
 "nbformat_minor": 5
}
