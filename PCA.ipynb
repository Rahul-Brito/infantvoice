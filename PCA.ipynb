{
 "cells": [
  {
   "cell_type": "code",
   "execution_count": 1,
   "id": "complex-reason",
   "metadata": {},
   "outputs": [],
   "source": [
    "import numpy as np\n",
    "import pandas as pd\n",
    "from sklearn.decomposition import PCA\n",
    "import matplotlib.pyplot as plt\n",
    "import seaborn as sns\n",
    "\n",
    "np.set_printoptions(suppress=True)\n",
    "sns.set_theme(style=\"ticks\", color_codes=True)\n",
    "\n",
    "datapath = 'C:\\\\Users\\\\MrBrito\\\\Documents\\\\_Grad School\\\\Rotations\\\\Satra\\\\egemaps analysis\\\\egemaps_vector_both.csv'\n",
    "egm = pd.read_csv(datapath)#extract all the egemaps data from the csv\n"
   ]
  },
  {
   "cell_type": "code",
   "execution_count": 10,
   "id": "administrative-floor",
   "metadata": {},
   "outputs": [],
   "source": [
    "def extract_N_scale(dataframe,nFeatures):\n",
    "    #pull just the numerical data from the number of features in egemaps (88), ignores metadata\n",
    "    data_unscaled = dataframe.iloc[:,0:nFeatures]\n",
    "    #scale data: feature data - mean of feature data/variance of feature data\n",
    "    data = (data_unscaled - data_unscaled.mean())/data_unscaled.std(ddof=0)\n",
    "    #data = np.divide((data_unscaled - np.mean(data_unscaled, axis=0)),np.std(data_unscaled, axis=0))\n",
    "    return data"
   ]
  },
  {
   "cell_type": "code",
   "execution_count": 128,
   "id": "settled-brighton",
   "metadata": {},
   "outputs": [],
   "source": [
    "#Split the data based on diagnosis. norm is 'target'= 0, VFP is 'target' = 1. Just extract vowel data too\n",
    "egm_Norm = egm[egm['target']== 0]\n",
    "vow = egm_Norm[egm_Norm[\"token\"].apply(lambda x: 'Vowel' in x)]\n",
    "#egm_VFP = egm[egm['target']== 1]\n",
    "\n",
    "#removes metadata and normalizes each dataset\n",
    "Norm = extract_N_scale(vow, 88)\n",
    "#VFP = extract_N_scale(egm_VFP, 88)\n"
   ]
  },
  {
   "cell_type": "code",
   "execution_count": 129,
   "id": "indonesian-straight",
   "metadata": {},
   "outputs": [
    {
     "data": {
      "text/plain": [
       "<AxesSubplot:xlabel='PCs', ylabel='%variance'>"
      ]
     },
     "execution_count": 129,
     "metadata": {},
     "output_type": "execute_result"
    },
    {
     "data": {
      "image/png": "[encoded data removed]",
      "text/plain": [
       "<Figure size 432x288 with 1 Axes>"
      ]
     },
     "metadata": {},
     "output_type": "display_data"
    }
   ],
   "source": [
    "pca = PCA(n_components=88)\n",
    "screeNorm = pd.DataFrame(pca.fit(Norm).explained_variance_ratio_)\n",
    "#screeVFP = pd.DataFrame(pca.fit(VFP).explained_variance_ratio_)\n",
    "\n",
    "screeNorm['PCs']=['PC' + str(i) for i in np.arange(screeNorm.index.size)+1]\n",
    "screeNorm.columns= ['%variance', 'PCs']\n",
    "sns.barplot(x=\"PCs\", y=\"%variance\", data=screeNorm[0:10])\n",
    "\n",
    "\n",
    "#X = np.arange(88)+1\n",
    "#Y = pca.components_[:,0]\n",
    "#fig, ax = plt.subplots()\n",
    "#sc = plt.scatter(x=X, y=Y)\n",
    "#egm_Norm.iloc[:,np.argmax(Y)]"
   ]
  }
 ],
 "metadata": {
  "kernelspec": {
   "display_name": "Python 3",
   "language": "python",
   "name": "python3"
  },
  "language_info": {
   "codemirror_mode": {
    "name": "ipython",
    "version": 3
   },
   "file_extension": ".py",
   "mimetype": "text/x-python",
   "name": "python",
   "nbconvert_exporter": "python",
   "pygments_lexer": "ipython3",
   "version": "3.8.5"
  },
  "toc-autonumbering": true,
  "toc-showcode": false,
  "toc-showmarkdowntxt": false
 },
 "nbformat": 4,
 "nbformat_minor": 5
}
